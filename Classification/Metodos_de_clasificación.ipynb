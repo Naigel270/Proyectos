{
  "cells": [
    {
      "cell_type": "markdown",
      "metadata": {
        "id": "70LH71VflnqF"
      },
      "source": [
        "<table>\n",
        "    <tr>\n",
        "        <td><img src=\"\" width=\"300\"/></td>\n",
        "        <td>&nbsp;</td>\n",
        "        <td>\n",
        "            <h1 style=\"font-size:200%;color:blue;text-align:center\">    <FONT COLOR=\"blue\">  Proyecto  </p> Métodos de Clasificación </FONT>         </h1></td>         \n",
        "        \n",
        "   \n",
        "</table>"
      ]
    },
    {
      "cell_type": "markdown",
      "metadata": {
        "id": "p74LzqZeagJP"
      },
      "source": [
        "# <FONT SIZE=5 COLOR=\"purple\"> **Caso de estudio: Cellphone Price Range** </FONT>\n",
        "\n",
        "En este estudio de caso se espera que el estudiante:\n",
        "\n",
        "- EDA.\n",
        "\n",
        "- Classification.\n",
        "\n",
        "- Evaluation.\n"
      ]
    },
    {
      "cell_type": "code",
      "execution_count": 1,
      "metadata": {
        "id": "m38JbmK9b6vr"
      },
      "outputs": [],
      "source": [
        "## Librerías para datos\n",
        "import pandas                 as pd\n",
        "import numpy                  as np\n",
        "\n",
        "# Librería de gráficos\n",
        "import matplotlib.pyplot      as plt\n",
        "import seaborn                as sns\n",
        "import plotly.express         as px\n",
        "import statsmodels.api        as sm\n",
        "from graphviz                 import Source\n",
        "from matplotlib               import cm\n",
        "from matplotlib.colors        import ListedColormap, LinearSegmentedColormap\n",
        "from matplotlib.patches       import Patch\n",
        "\n",
        "# Preprocesado y conjunto de entrenamiento y prueba (split)\n",
        "from sklearn.model_selection  import train_test_split\n",
        "from sklearn.preprocessing    import LabelEncoder\n",
        "from sklearn.model_selection  import GridSearchCV, RandomizedSearchCV\n",
        "from sklearn.preprocessing    import MinMaxScaler\n",
        "from sklearn.preprocessing    import StandardScaler\n",
        "\n",
        "# Para\n",
        "from sklearn                  import metrics\n",
        "from sklearn.metrics          import accuracy_score, precision_score, recall_score, f1_score\n",
        "from sklearn.metrics          import confusion_matrix, classification_report, ConfusionMatrixDisplay\n",
        "from sklearn.metrics          import roc_curve, auc, accuracy_score,roc_auc_score\n",
        "\n",
        "\n",
        "# Para los modelos de machine learning\n",
        "from sklearn.linear_model     import LogisticRegression\n",
        "from sklearn.naive_bayes      import GaussianNB, MultinomialNB\n",
        "from sklearn.tree             import DecisionTreeClassifier\n",
        "from sklearn.neighbors        import KNeighborsClassifier\n",
        "\n",
        "\n",
        "# Para graficar los árbolitos\n",
        "from sklearn.tree             import export_graphviz\n",
        "\n",
        "# Para la selección de características\n",
        "from sklearn.feature_selection import RFE\n",
        "\n",
        "# Para omitir los warnings\n",
        "import warnings\n",
        "warnings.filterwarnings(\"ignore\")\n"
      ]
    },
    {
      "cell_type": "markdown",
      "metadata": {
        "id": "uDTC5sZAdbCl"
      },
      "source": [
        "# Data introduction"
      ]
    },
    {
      "cell_type": "code",
      "execution_count": 2,
      "metadata": {
        "colab": {
          "base_uri": "https://localhost:8080/",
          "height": 255
        },
        "id": "08IICTLzdZAg",
        "outputId": "918fd0c3-af89-4618-d4c1-94f0673f6bc5"
      },
      "outputs": [
        {
          "output_type": "execute_result",
          "data": {
            "text/plain": [
              "   battery_power  blue  clock_speed  dual_sim  fc  four_g  int_memory  m_dep  \\\n",
              "0            842     0          2.2         0   1       0           7    0.6   \n",
              "1           1021     1          0.5         1   0       1          53    0.7   \n",
              "2            563     1          0.5         1   2       1          41    0.9   \n",
              "3            615     1          2.5         0   0       0          10    0.8   \n",
              "4           1821     1          1.2         0  13       1          44    0.6   \n",
              "\n",
              "   mobile_wt  n_cores  ...  px_height  px_width   ram  sc_h  sc_w  talk_time  \\\n",
              "0        188        2  ...         20       756  2549     9     7         19   \n",
              "1        136        3  ...        905      1988  2631    17     3          7   \n",
              "2        145        5  ...       1263      1716  2603    11     2          9   \n",
              "3        131        6  ...       1216      1786  2769    16     8         11   \n",
              "4        141        2  ...       1208      1212  1411     8     2         15   \n",
              "\n",
              "   three_g  touch_screen  wifi  price_range  \n",
              "0        0             0     1            1  \n",
              "1        1             1     0            2  \n",
              "2        1             1     0            2  \n",
              "3        1             0     0            2  \n",
              "4        1             1     0            1  \n",
              "\n",
              "[5 rows x 21 columns]"
            ],
            "text/html": [
              "\n",
              "  <div id=\"df-b02fda6c-ff41-4e32-92b4-3e90d8eaaadb\" class=\"colab-df-container\">\n",
              "    <div>\n",
              "<style scoped>\n",
              "    .dataframe tbody tr th:only-of-type {\n",
              "        vertical-align: middle;\n",
              "    }\n",
              "\n",
              "    .dataframe tbody tr th {\n",
              "        vertical-align: top;\n",
              "    }\n",
              "\n",
              "    .dataframe thead th {\n",
              "        text-align: right;\n",
              "    }\n",
              "</style>\n",
              "<table border=\"1\" class=\"dataframe\">\n",
              "  <thead>\n",
              "    <tr style=\"text-align: right;\">\n",
              "      <th></th>\n",
              "      <th>battery_power</th>\n",
              "      <th>blue</th>\n",
              "      <th>clock_speed</th>\n",
              "      <th>dual_sim</th>\n",
              "      <th>fc</th>\n",
              "      <th>four_g</th>\n",
              "      <th>int_memory</th>\n",
              "      <th>m_dep</th>\n",
              "      <th>mobile_wt</th>\n",
              "      <th>n_cores</th>\n",
              "      <th>...</th>\n",
              "      <th>px_height</th>\n",
              "      <th>px_width</th>\n",
              "      <th>ram</th>\n",
              "      <th>sc_h</th>\n",
              "      <th>sc_w</th>\n",
              "      <th>talk_time</th>\n",
              "      <th>three_g</th>\n",
              "      <th>touch_screen</th>\n",
              "      <th>wifi</th>\n",
              "      <th>price_range</th>\n",
              "    </tr>\n",
              "  </thead>\n",
              "  <tbody>\n",
              "    <tr>\n",
              "      <th>0</th>\n",
              "      <td>842</td>\n",
              "      <td>0</td>\n",
              "      <td>2.2</td>\n",
              "      <td>0</td>\n",
              "      <td>1</td>\n",
              "      <td>0</td>\n",
              "      <td>7</td>\n",
              "      <td>0.6</td>\n",
              "      <td>188</td>\n",
              "      <td>2</td>\n",
              "      <td>...</td>\n",
              "      <td>20</td>\n",
              "      <td>756</td>\n",
              "      <td>2549</td>\n",
              "      <td>9</td>\n",
              "      <td>7</td>\n",
              "      <td>19</td>\n",
              "      <td>0</td>\n",
              "      <td>0</td>\n",
              "      <td>1</td>\n",
              "      <td>1</td>\n",
              "    </tr>\n",
              "    <tr>\n",
              "      <th>1</th>\n",
              "      <td>1021</td>\n",
              "      <td>1</td>\n",
              "      <td>0.5</td>\n",
              "      <td>1</td>\n",
              "      <td>0</td>\n",
              "      <td>1</td>\n",
              "      <td>53</td>\n",
              "      <td>0.7</td>\n",
              "      <td>136</td>\n",
              "      <td>3</td>\n",
              "      <td>...</td>\n",
              "      <td>905</td>\n",
              "      <td>1988</td>\n",
              "      <td>2631</td>\n",
              "      <td>17</td>\n",
              "      <td>3</td>\n",
              "      <td>7</td>\n",
              "      <td>1</td>\n",
              "      <td>1</td>\n",
              "      <td>0</td>\n",
              "      <td>2</td>\n",
              "    </tr>\n",
              "    <tr>\n",
              "      <th>2</th>\n",
              "      <td>563</td>\n",
              "      <td>1</td>\n",
              "      <td>0.5</td>\n",
              "      <td>1</td>\n",
              "      <td>2</td>\n",
              "      <td>1</td>\n",
              "      <td>41</td>\n",
              "      <td>0.9</td>\n",
              "      <td>145</td>\n",
              "      <td>5</td>\n",
              "      <td>...</td>\n",
              "      <td>1263</td>\n",
              "      <td>1716</td>\n",
              "      <td>2603</td>\n",
              "      <td>11</td>\n",
              "      <td>2</td>\n",
              "      <td>9</td>\n",
              "      <td>1</td>\n",
              "      <td>1</td>\n",
              "      <td>0</td>\n",
              "      <td>2</td>\n",
              "    </tr>\n",
              "    <tr>\n",
              "      <th>3</th>\n",
              "      <td>615</td>\n",
              "      <td>1</td>\n",
              "      <td>2.5</td>\n",
              "      <td>0</td>\n",
              "      <td>0</td>\n",
              "      <td>0</td>\n",
              "      <td>10</td>\n",
              "      <td>0.8</td>\n",
              "      <td>131</td>\n",
              "      <td>6</td>\n",
              "      <td>...</td>\n",
              "      <td>1216</td>\n",
              "      <td>1786</td>\n",
              "      <td>2769</td>\n",
              "      <td>16</td>\n",
              "      <td>8</td>\n",
              "      <td>11</td>\n",
              "      <td>1</td>\n",
              "      <td>0</td>\n",
              "      <td>0</td>\n",
              "      <td>2</td>\n",
              "    </tr>\n",
              "    <tr>\n",
              "      <th>4</th>\n",
              "      <td>1821</td>\n",
              "      <td>1</td>\n",
              "      <td>1.2</td>\n",
              "      <td>0</td>\n",
              "      <td>13</td>\n",
              "      <td>1</td>\n",
              "      <td>44</td>\n",
              "      <td>0.6</td>\n",
              "      <td>141</td>\n",
              "      <td>2</td>\n",
              "      <td>...</td>\n",
              "      <td>1208</td>\n",
              "      <td>1212</td>\n",
              "      <td>1411</td>\n",
              "      <td>8</td>\n",
              "      <td>2</td>\n",
              "      <td>15</td>\n",
              "      <td>1</td>\n",
              "      <td>1</td>\n",
              "      <td>0</td>\n",
              "      <td>1</td>\n",
              "    </tr>\n",
              "  </tbody>\n",
              "</table>\n",
              "<p>5 rows × 21 columns</p>\n",
              "</div>\n",
              "    <div class=\"colab-df-buttons\">\n",
              "\n",
              "  <div class=\"colab-df-container\">\n",
              "    <button class=\"colab-df-convert\" onclick=\"convertToInteractive('df-b02fda6c-ff41-4e32-92b4-3e90d8eaaadb')\"\n",
              "            title=\"Convert this dataframe to an interactive table.\"\n",
              "            style=\"display:none;\">\n",
              "\n",
              "  <svg xmlns=\"http://www.w3.org/2000/svg\" height=\"24px\" viewBox=\"0 -960 960 960\">\n",
              "    <path d=\"M120-120v-720h720v720H120Zm60-500h600v-160H180v160Zm220 220h160v-160H400v160Zm0 220h160v-160H400v160ZM180-400h160v-160H180v160Zm440 0h160v-160H620v160ZM180-180h160v-160H180v160Zm440 0h160v-160H620v160Z\"/>\n",
              "  </svg>\n",
              "    </button>\n",
              "\n",
              "  <style>\n",
              "    .colab-df-container {\n",
              "      display:flex;\n",
              "      gap: 12px;\n",
              "    }\n",
              "\n",
              "    .colab-df-convert {\n",
              "      background-color: #E8F0FE;\n",
              "      border: none;\n",
              "      border-radius: 50%;\n",
              "      cursor: pointer;\n",
              "      display: none;\n",
              "      fill: #1967D2;\n",
              "      height: 32px;\n",
              "      padding: 0 0 0 0;\n",
              "      width: 32px;\n",
              "    }\n",
              "\n",
              "    .colab-df-convert:hover {\n",
              "      background-color: #E2EBFA;\n",
              "      box-shadow: 0px 1px 2px rgba(60, 64, 67, 0.3), 0px 1px 3px 1px rgba(60, 64, 67, 0.15);\n",
              "      fill: #174EA6;\n",
              "    }\n",
              "\n",
              "    .colab-df-buttons div {\n",
              "      margin-bottom: 4px;\n",
              "    }\n",
              "\n",
              "    [theme=dark] .colab-df-convert {\n",
              "      background-color: #3B4455;\n",
              "      fill: #D2E3FC;\n",
              "    }\n",
              "\n",
              "    [theme=dark] .colab-df-convert:hover {\n",
              "      background-color: #434B5C;\n",
              "      box-shadow: 0px 1px 3px 1px rgba(0, 0, 0, 0.15);\n",
              "      filter: drop-shadow(0px 1px 2px rgba(0, 0, 0, 0.3));\n",
              "      fill: #FFFFFF;\n",
              "    }\n",
              "  </style>\n",
              "\n",
              "    <script>\n",
              "      const buttonEl =\n",
              "        document.querySelector('#df-b02fda6c-ff41-4e32-92b4-3e90d8eaaadb button.colab-df-convert');\n",
              "      buttonEl.style.display =\n",
              "        google.colab.kernel.accessAllowed ? 'block' : 'none';\n",
              "\n",
              "      async function convertToInteractive(key) {\n",
              "        const element = document.querySelector('#df-b02fda6c-ff41-4e32-92b4-3e90d8eaaadb');\n",
              "        const dataTable =\n",
              "          await google.colab.kernel.invokeFunction('convertToInteractive',\n",
              "                                                    [key], {});\n",
              "        if (!dataTable) return;\n",
              "\n",
              "        const docLinkHtml = 'Like what you see? Visit the ' +\n",
              "          '<a target=\"_blank\" href=https://colab.research.google.com/notebooks/data_table.ipynb>data table notebook</a>'\n",
              "          + ' to learn more about interactive tables.';\n",
              "        element.innerHTML = '';\n",
              "        dataTable['output_type'] = 'display_data';\n",
              "        await google.colab.output.renderOutput(dataTable, element);\n",
              "        const docLink = document.createElement('div');\n",
              "        docLink.innerHTML = docLinkHtml;\n",
              "        element.appendChild(docLink);\n",
              "      }\n",
              "    </script>\n",
              "  </div>\n",
              "\n",
              "\n",
              "<div id=\"df-4a371496-b733-4edf-a8a0-ec34f4d21a14\">\n",
              "  <button class=\"colab-df-quickchart\" onclick=\"quickchart('df-4a371496-b733-4edf-a8a0-ec34f4d21a14')\"\n",
              "            title=\"Suggest charts\"\n",
              "            style=\"display:none;\">\n",
              "\n",
              "<svg xmlns=\"http://www.w3.org/2000/svg\" height=\"24px\"viewBox=\"0 0 24 24\"\n",
              "     width=\"24px\">\n",
              "    <g>\n",
              "        <path d=\"M19 3H5c-1.1 0-2 .9-2 2v14c0 1.1.9 2 2 2h14c1.1 0 2-.9 2-2V5c0-1.1-.9-2-2-2zM9 17H7v-7h2v7zm4 0h-2V7h2v10zm4 0h-2v-4h2v4z\"/>\n",
              "    </g>\n",
              "</svg>\n",
              "  </button>\n",
              "\n",
              "<style>\n",
              "  .colab-df-quickchart {\n",
              "      --bg-color: #E8F0FE;\n",
              "      --fill-color: #1967D2;\n",
              "      --hover-bg-color: #E2EBFA;\n",
              "      --hover-fill-color: #174EA6;\n",
              "      --disabled-fill-color: #AAA;\n",
              "      --disabled-bg-color: #DDD;\n",
              "  }\n",
              "\n",
              "  [theme=dark] .colab-df-quickchart {\n",
              "      --bg-color: #3B4455;\n",
              "      --fill-color: #D2E3FC;\n",
              "      --hover-bg-color: #434B5C;\n",
              "      --hover-fill-color: #FFFFFF;\n",
              "      --disabled-bg-color: #3B4455;\n",
              "      --disabled-fill-color: #666;\n",
              "  }\n",
              "\n",
              "  .colab-df-quickchart {\n",
              "    background-color: var(--bg-color);\n",
              "    border: none;\n",
              "    border-radius: 50%;\n",
              "    cursor: pointer;\n",
              "    display: none;\n",
              "    fill: var(--fill-color);\n",
              "    height: 32px;\n",
              "    padding: 0;\n",
              "    width: 32px;\n",
              "  }\n",
              "\n",
              "  .colab-df-quickchart:hover {\n",
              "    background-color: var(--hover-bg-color);\n",
              "    box-shadow: 0 1px 2px rgba(60, 64, 67, 0.3), 0 1px 3px 1px rgba(60, 64, 67, 0.15);\n",
              "    fill: var(--button-hover-fill-color);\n",
              "  }\n",
              "\n",
              "  .colab-df-quickchart-complete:disabled,\n",
              "  .colab-df-quickchart-complete:disabled:hover {\n",
              "    background-color: var(--disabled-bg-color);\n",
              "    fill: var(--disabled-fill-color);\n",
              "    box-shadow: none;\n",
              "  }\n",
              "\n",
              "  .colab-df-spinner {\n",
              "    border: 2px solid var(--fill-color);\n",
              "    border-color: transparent;\n",
              "    border-bottom-color: var(--fill-color);\n",
              "    animation:\n",
              "      spin 1s steps(1) infinite;\n",
              "  }\n",
              "\n",
              "  @keyframes spin {\n",
              "    0% {\n",
              "      border-color: transparent;\n",
              "      border-bottom-color: var(--fill-color);\n",
              "      border-left-color: var(--fill-color);\n",
              "    }\n",
              "    20% {\n",
              "      border-color: transparent;\n",
              "      border-left-color: var(--fill-color);\n",
              "      border-top-color: var(--fill-color);\n",
              "    }\n",
              "    30% {\n",
              "      border-color: transparent;\n",
              "      border-left-color: var(--fill-color);\n",
              "      border-top-color: var(--fill-color);\n",
              "      border-right-color: var(--fill-color);\n",
              "    }\n",
              "    40% {\n",
              "      border-color: transparent;\n",
              "      border-right-color: var(--fill-color);\n",
              "      border-top-color: var(--fill-color);\n",
              "    }\n",
              "    60% {\n",
              "      border-color: transparent;\n",
              "      border-right-color: var(--fill-color);\n",
              "    }\n",
              "    80% {\n",
              "      border-color: transparent;\n",
              "      border-right-color: var(--fill-color);\n",
              "      border-bottom-color: var(--fill-color);\n",
              "    }\n",
              "    90% {\n",
              "      border-color: transparent;\n",
              "      border-bottom-color: var(--fill-color);\n",
              "    }\n",
              "  }\n",
              "</style>\n",
              "\n",
              "  <script>\n",
              "    async function quickchart(key) {\n",
              "      const quickchartButtonEl =\n",
              "        document.querySelector('#' + key + ' button');\n",
              "      quickchartButtonEl.disabled = true;  // To prevent multiple clicks.\n",
              "      quickchartButtonEl.classList.add('colab-df-spinner');\n",
              "      try {\n",
              "        const charts = await google.colab.kernel.invokeFunction(\n",
              "            'suggestCharts', [key], {});\n",
              "      } catch (error) {\n",
              "        console.error('Error during call to suggestCharts:', error);\n",
              "      }\n",
              "      quickchartButtonEl.classList.remove('colab-df-spinner');\n",
              "      quickchartButtonEl.classList.add('colab-df-quickchart-complete');\n",
              "    }\n",
              "    (() => {\n",
              "      let quickchartButtonEl =\n",
              "        document.querySelector('#df-4a371496-b733-4edf-a8a0-ec34f4d21a14 button');\n",
              "      quickchartButtonEl.style.display =\n",
              "        google.colab.kernel.accessAllowed ? 'block' : 'none';\n",
              "    })();\n",
              "  </script>\n",
              "</div>\n",
              "\n",
              "    </div>\n",
              "  </div>\n"
            ],
            "application/vnd.google.colaboratory.intrinsic+json": {
              "type": "dataframe",
              "variable_name": "datos"
            }
          },
          "metadata": {},
          "execution_count": 2
        }
      ],
      "source": [
        "url = \"https://raw.githubusercontent.com/Fabian830348/Bases_Datos/master/mobile_price.csv\"\n",
        "datos= pd.read_csv(url)\n",
        "datos.head()"
      ]
    },
    {
      "cell_type": "markdown",
      "metadata": {
        "id": "89qFjEkreF9Q"
      },
      "source": [
        "# EDA"
      ]
    },
    {
      "cell_type": "code",
      "execution_count": null,
      "metadata": {
        "colab": {
          "base_uri": "https://localhost:8080/"
        },
        "id": "pIHTiCYEem96",
        "outputId": "a3962320-3680-45ba-8ca6-49a09b3fa45f"
      },
      "outputs": [
        {
          "data": {
            "text/plain": [
              "Index(['battery_power', 'blue', 'clock_speed', 'dual_sim', 'fc', 'four_g',\n",
              "       'int_memory', 'm_dep', 'mobile_wt', 'n_cores', 'pc', 'px_height',\n",
              "       'px_width', 'ram', 'sc_h', 'sc_w', 'talk_time', 'three_g',\n",
              "       'touch_screen', 'wifi', 'price_range'],\n",
              "      dtype='object')"
            ]
          },
          "execution_count": 12,
          "metadata": {},
          "output_type": "execute_result"
        }
      ],
      "source": [
        "datos.columns"
      ]
    },
    {
      "cell_type": "markdown",
      "metadata": {
        "id": "sTlzTWt3nGTp"
      },
      "source": [
        "- ***Id***: ID\n",
        "- ***Battery_Power***: Total energy a battery can store in one time measured in mAh\n",
        "- ***Blue***: Has bluethoot or not\n",
        "- ***Clock_speed***: speed at which microprocessor executes instructions\n",
        "- ***dual_sim***: Has dual sim support or not\n",
        "- ***fc***: Front camera megapixels\n",
        "- ***int_memory***: Internal Memory in Gigabytes\n",
        "- ***m_dep***: Mobile Depth in cm\n",
        "- ***mobile_wt***: Mobile weigth\n",
        "- ***ram***: Ram memory in Megabytes\n",
        "- ***wifi***: Has wifi or not\n",
        "- ***price_range***: Price range\n",
        "- ***n_cores***: Number of cores in the microprocessor\n",
        "- ***touch_screen***: Has touchscreen or not\n",
        "- ***Talk_time***: Calling time linked to battery duration\n",
        "- ***Three_g***: has 3g or not\n",
        "- ***Four_g***: has 4g or not\n",
        "\n",
        "\n"
      ]
    },
    {
      "cell_type": "code",
      "execution_count": null,
      "metadata": {
        "colab": {
          "base_uri": "https://localhost:8080/"
        },
        "id": "VXzUBK7JqDFO",
        "outputId": "95e108c6-aa79-453c-f395-6eb4b331df76"
      },
      "outputs": [
        {
          "name": "stdout",
          "output_type": "stream",
          "text": [
            "<class 'pandas.core.frame.DataFrame'>\n",
            "RangeIndex: 2000 entries, 0 to 1999\n",
            "Data columns (total 21 columns):\n",
            " #   Column         Non-Null Count  Dtype  \n",
            "---  ------         --------------  -----  \n",
            " 0   battery_power  2000 non-null   int64  \n",
            " 1   blue           2000 non-null   int64  \n",
            " 2   clock_speed    2000 non-null   float64\n",
            " 3   dual_sim       2000 non-null   int64  \n",
            " 4   fc             2000 non-null   int64  \n",
            " 5   four_g         2000 non-null   int64  \n",
            " 6   int_memory     2000 non-null   int64  \n",
            " 7   m_dep          2000 non-null   float64\n",
            " 8   mobile_wt      2000 non-null   int64  \n",
            " 9   n_cores        2000 non-null   int64  \n",
            " 10  pc             2000 non-null   int64  \n",
            " 11  px_height      2000 non-null   int64  \n",
            " 12  px_width       2000 non-null   int64  \n",
            " 13  ram            2000 non-null   int64  \n",
            " 14  sc_h           2000 non-null   int64  \n",
            " 15  sc_w           2000 non-null   int64  \n",
            " 16  talk_time      2000 non-null   int64  \n",
            " 17  three_g        2000 non-null   int64  \n",
            " 18  touch_screen   2000 non-null   int64  \n",
            " 19  wifi           2000 non-null   int64  \n",
            " 20  price_range    2000 non-null   int64  \n",
            "dtypes: float64(2), int64(19)\n",
            "memory usage: 328.2 KB\n"
          ]
        }
      ],
      "source": [
        "datos.info()"
      ]
    },
    {
      "cell_type": "markdown",
      "metadata": {
        "id": "a31k8VBZquXB"
      },
      "source": [
        "Podemos ver que solo existen datos de tipo int y float en el dataset, representando valoren cuantitativos como cualitativos, tenemos 20 variables las cuales detallamos anteriormente, las cuales no presentan valores nulos."
      ]
    },
    {
      "cell_type": "code",
      "execution_count": null,
      "metadata": {
        "colab": {
          "base_uri": "https://localhost:8080/"
        },
        "id": "ctk9Xp6rqbxr",
        "outputId": "91e390fb-3f21-44e2-bd1f-4776d848f2fb"
      },
      "outputs": [
        {
          "data": {
            "text/plain": [
              "battery_power    0\n",
              "blue             0\n",
              "clock_speed      0\n",
              "dual_sim         0\n",
              "fc               0\n",
              "four_g           0\n",
              "int_memory       0\n",
              "m_dep            0\n",
              "mobile_wt        0\n",
              "n_cores          0\n",
              "pc               0\n",
              "px_height        0\n",
              "px_width         0\n",
              "ram              0\n",
              "sc_h             0\n",
              "sc_w             0\n",
              "talk_time        0\n",
              "three_g          0\n",
              "touch_screen     0\n",
              "wifi             0\n",
              "price_range      0\n",
              "dtype: int64"
            ]
          },
          "execution_count": 18,
          "metadata": {},
          "output_type": "execute_result"
        }
      ],
      "source": [
        "datos.isna().sum()"
      ]
    },
    {
      "cell_type": "code",
      "execution_count": null,
      "metadata": {
        "colab": {
          "base_uri": "https://localhost:8080/",
          "height": 349
        },
        "id": "sR75q3x1qp5H",
        "outputId": "dd410767-54bb-4091-9e1c-fc3e87815aff"
      },
      "outputs": [
        {
          "data": {
            "application/vnd.google.colaboratory.intrinsic+json": {
              "type": "dataframe"
            },
            "text/html": [
              "\n",
              "  <div id=\"df-6e49da4e-e4a5-4b6d-bae1-7641f06eebf9\" class=\"colab-df-container\">\n",
              "    <div>\n",
              "<style scoped>\n",
              "    .dataframe tbody tr th:only-of-type {\n",
              "        vertical-align: middle;\n",
              "    }\n",
              "\n",
              "    .dataframe tbody tr th {\n",
              "        vertical-align: top;\n",
              "    }\n",
              "\n",
              "    .dataframe thead th {\n",
              "        text-align: right;\n",
              "    }\n",
              "</style>\n",
              "<table border=\"1\" class=\"dataframe\">\n",
              "  <thead>\n",
              "    <tr style=\"text-align: right;\">\n",
              "      <th></th>\n",
              "      <th>battery_power</th>\n",
              "      <th>blue</th>\n",
              "      <th>clock_speed</th>\n",
              "      <th>dual_sim</th>\n",
              "      <th>fc</th>\n",
              "      <th>four_g</th>\n",
              "      <th>int_memory</th>\n",
              "      <th>m_dep</th>\n",
              "      <th>mobile_wt</th>\n",
              "      <th>n_cores</th>\n",
              "      <th>...</th>\n",
              "      <th>px_height</th>\n",
              "      <th>px_width</th>\n",
              "      <th>ram</th>\n",
              "      <th>sc_h</th>\n",
              "      <th>sc_w</th>\n",
              "      <th>talk_time</th>\n",
              "      <th>three_g</th>\n",
              "      <th>touch_screen</th>\n",
              "      <th>wifi</th>\n",
              "      <th>price_range</th>\n",
              "    </tr>\n",
              "  </thead>\n",
              "  <tbody>\n",
              "    <tr>\n",
              "      <th>count</th>\n",
              "      <td>2000.000000</td>\n",
              "      <td>2000.0000</td>\n",
              "      <td>2000.000000</td>\n",
              "      <td>2000.000000</td>\n",
              "      <td>2000.000000</td>\n",
              "      <td>2000.000000</td>\n",
              "      <td>2000.000000</td>\n",
              "      <td>2000.000000</td>\n",
              "      <td>2000.000000</td>\n",
              "      <td>2000.000000</td>\n",
              "      <td>...</td>\n",
              "      <td>2000.000000</td>\n",
              "      <td>2000.000000</td>\n",
              "      <td>2000.000000</td>\n",
              "      <td>2000.000000</td>\n",
              "      <td>2000.000000</td>\n",
              "      <td>2000.000000</td>\n",
              "      <td>2000.000000</td>\n",
              "      <td>2000.000000</td>\n",
              "      <td>2000.000000</td>\n",
              "      <td>2000.000000</td>\n",
              "    </tr>\n",
              "    <tr>\n",
              "      <th>mean</th>\n",
              "      <td>1238.518500</td>\n",
              "      <td>0.4950</td>\n",
              "      <td>1.522250</td>\n",
              "      <td>0.509500</td>\n",
              "      <td>4.309500</td>\n",
              "      <td>0.521500</td>\n",
              "      <td>32.046500</td>\n",
              "      <td>0.501750</td>\n",
              "      <td>140.249000</td>\n",
              "      <td>4.520500</td>\n",
              "      <td>...</td>\n",
              "      <td>645.108000</td>\n",
              "      <td>1251.515500</td>\n",
              "      <td>2124.213000</td>\n",
              "      <td>12.306500</td>\n",
              "      <td>5.767000</td>\n",
              "      <td>11.011000</td>\n",
              "      <td>0.761500</td>\n",
              "      <td>0.503000</td>\n",
              "      <td>0.507000</td>\n",
              "      <td>1.500000</td>\n",
              "    </tr>\n",
              "    <tr>\n",
              "      <th>std</th>\n",
              "      <td>439.418206</td>\n",
              "      <td>0.5001</td>\n",
              "      <td>0.816004</td>\n",
              "      <td>0.500035</td>\n",
              "      <td>4.341444</td>\n",
              "      <td>0.499662</td>\n",
              "      <td>18.145715</td>\n",
              "      <td>0.288416</td>\n",
              "      <td>35.399655</td>\n",
              "      <td>2.287837</td>\n",
              "      <td>...</td>\n",
              "      <td>443.780811</td>\n",
              "      <td>432.199447</td>\n",
              "      <td>1084.732044</td>\n",
              "      <td>4.213245</td>\n",
              "      <td>4.356398</td>\n",
              "      <td>5.463955</td>\n",
              "      <td>0.426273</td>\n",
              "      <td>0.500116</td>\n",
              "      <td>0.500076</td>\n",
              "      <td>1.118314</td>\n",
              "    </tr>\n",
              "    <tr>\n",
              "      <th>min</th>\n",
              "      <td>501.000000</td>\n",
              "      <td>0.0000</td>\n",
              "      <td>0.500000</td>\n",
              "      <td>0.000000</td>\n",
              "      <td>0.000000</td>\n",
              "      <td>0.000000</td>\n",
              "      <td>2.000000</td>\n",
              "      <td>0.100000</td>\n",
              "      <td>80.000000</td>\n",
              "      <td>1.000000</td>\n",
              "      <td>...</td>\n",
              "      <td>0.000000</td>\n",
              "      <td>500.000000</td>\n",
              "      <td>256.000000</td>\n",
              "      <td>5.000000</td>\n",
              "      <td>0.000000</td>\n",
              "      <td>2.000000</td>\n",
              "      <td>0.000000</td>\n",
              "      <td>0.000000</td>\n",
              "      <td>0.000000</td>\n",
              "      <td>0.000000</td>\n",
              "    </tr>\n",
              "    <tr>\n",
              "      <th>25%</th>\n",
              "      <td>851.750000</td>\n",
              "      <td>0.0000</td>\n",
              "      <td>0.700000</td>\n",
              "      <td>0.000000</td>\n",
              "      <td>1.000000</td>\n",
              "      <td>0.000000</td>\n",
              "      <td>16.000000</td>\n",
              "      <td>0.200000</td>\n",
              "      <td>109.000000</td>\n",
              "      <td>3.000000</td>\n",
              "      <td>...</td>\n",
              "      <td>282.750000</td>\n",
              "      <td>874.750000</td>\n",
              "      <td>1207.500000</td>\n",
              "      <td>9.000000</td>\n",
              "      <td>2.000000</td>\n",
              "      <td>6.000000</td>\n",
              "      <td>1.000000</td>\n",
              "      <td>0.000000</td>\n",
              "      <td>0.000000</td>\n",
              "      <td>0.750000</td>\n",
              "    </tr>\n",
              "    <tr>\n",
              "      <th>50%</th>\n",
              "      <td>1226.000000</td>\n",
              "      <td>0.0000</td>\n",
              "      <td>1.500000</td>\n",
              "      <td>1.000000</td>\n",
              "      <td>3.000000</td>\n",
              "      <td>1.000000</td>\n",
              "      <td>32.000000</td>\n",
              "      <td>0.500000</td>\n",
              "      <td>141.000000</td>\n",
              "      <td>4.000000</td>\n",
              "      <td>...</td>\n",
              "      <td>564.000000</td>\n",
              "      <td>1247.000000</td>\n",
              "      <td>2146.500000</td>\n",
              "      <td>12.000000</td>\n",
              "      <td>5.000000</td>\n",
              "      <td>11.000000</td>\n",
              "      <td>1.000000</td>\n",
              "      <td>1.000000</td>\n",
              "      <td>1.000000</td>\n",
              "      <td>1.500000</td>\n",
              "    </tr>\n",
              "    <tr>\n",
              "      <th>75%</th>\n",
              "      <td>1615.250000</td>\n",
              "      <td>1.0000</td>\n",
              "      <td>2.200000</td>\n",
              "      <td>1.000000</td>\n",
              "      <td>7.000000</td>\n",
              "      <td>1.000000</td>\n",
              "      <td>48.000000</td>\n",
              "      <td>0.800000</td>\n",
              "      <td>170.000000</td>\n",
              "      <td>7.000000</td>\n",
              "      <td>...</td>\n",
              "      <td>947.250000</td>\n",
              "      <td>1633.000000</td>\n",
              "      <td>3064.500000</td>\n",
              "      <td>16.000000</td>\n",
              "      <td>9.000000</td>\n",
              "      <td>16.000000</td>\n",
              "      <td>1.000000</td>\n",
              "      <td>1.000000</td>\n",
              "      <td>1.000000</td>\n",
              "      <td>2.250000</td>\n",
              "    </tr>\n",
              "    <tr>\n",
              "      <th>max</th>\n",
              "      <td>1998.000000</td>\n",
              "      <td>1.0000</td>\n",
              "      <td>3.000000</td>\n",
              "      <td>1.000000</td>\n",
              "      <td>19.000000</td>\n",
              "      <td>1.000000</td>\n",
              "      <td>64.000000</td>\n",
              "      <td>1.000000</td>\n",
              "      <td>200.000000</td>\n",
              "      <td>8.000000</td>\n",
              "      <td>...</td>\n",
              "      <td>1960.000000</td>\n",
              "      <td>1998.000000</td>\n",
              "      <td>3998.000000</td>\n",
              "      <td>19.000000</td>\n",
              "      <td>18.000000</td>\n",
              "      <td>20.000000</td>\n",
              "      <td>1.000000</td>\n",
              "      <td>1.000000</td>\n",
              "      <td>1.000000</td>\n",
              "      <td>3.000000</td>\n",
              "    </tr>\n",
              "  </tbody>\n",
              "</table>\n",
              "<p>8 rows × 21 columns</p>\n",
              "</div>\n",
              "    <div class=\"colab-df-buttons\">\n",
              "\n",
              "  <div class=\"colab-df-container\">\n",
              "    <button class=\"colab-df-convert\" onclick=\"convertToInteractive('df-6e49da4e-e4a5-4b6d-bae1-7641f06eebf9')\"\n",
              "            title=\"Convert this dataframe to an interactive table.\"\n",
              "            style=\"display:none;\">\n",
              "\n",
              "  <svg xmlns=\"http://www.w3.org/2000/svg\" height=\"24px\" viewBox=\"0 -960 960 960\">\n",
              "    <path d=\"M120-120v-720h720v720H120Zm60-500h600v-160H180v160Zm220 220h160v-160H400v160Zm0 220h160v-160H400v160ZM180-400h160v-160H180v160Zm440 0h160v-160H620v160ZM180-180h160v-160H180v160Zm440 0h160v-160H620v160Z\"/>\n",
              "  </svg>\n",
              "    </button>\n",
              "\n",
              "  <style>\n",
              "    .colab-df-container {\n",
              "      display:flex;\n",
              "      gap: 12px;\n",
              "    }\n",
              "\n",
              "    .colab-df-convert {\n",
              "      background-color: #E8F0FE;\n",
              "      border: none;\n",
              "      border-radius: 50%;\n",
              "      cursor: pointer;\n",
              "      display: none;\n",
              "      fill: #1967D2;\n",
              "      height: 32px;\n",
              "      padding: 0 0 0 0;\n",
              "      width: 32px;\n",
              "    }\n",
              "\n",
              "    .colab-df-convert:hover {\n",
              "      background-color: #E2EBFA;\n",
              "      box-shadow: 0px 1px 2px rgba(60, 64, 67, 0.3), 0px 1px 3px 1px rgba(60, 64, 67, 0.15);\n",
              "      fill: #174EA6;\n",
              "    }\n",
              "\n",
              "    .colab-df-buttons div {\n",
              "      margin-bottom: 4px;\n",
              "    }\n",
              "\n",
              "    [theme=dark] .colab-df-convert {\n",
              "      background-color: #3B4455;\n",
              "      fill: #D2E3FC;\n",
              "    }\n",
              "\n",
              "    [theme=dark] .colab-df-convert:hover {\n",
              "      background-color: #434B5C;\n",
              "      box-shadow: 0px 1px 3px 1px rgba(0, 0, 0, 0.15);\n",
              "      filter: drop-shadow(0px 1px 2px rgba(0, 0, 0, 0.3));\n",
              "      fill: #FFFFFF;\n",
              "    }\n",
              "  </style>\n",
              "\n",
              "    <script>\n",
              "      const buttonEl =\n",
              "        document.querySelector('#df-6e49da4e-e4a5-4b6d-bae1-7641f06eebf9 button.colab-df-convert');\n",
              "      buttonEl.style.display =\n",
              "        google.colab.kernel.accessAllowed ? 'block' : 'none';\n",
              "\n",
              "      async function convertToInteractive(key) {\n",
              "        const element = document.querySelector('#df-6e49da4e-e4a5-4b6d-bae1-7641f06eebf9');\n",
              "        const dataTable =\n",
              "          await google.colab.kernel.invokeFunction('convertToInteractive',\n",
              "                                                    [key], {});\n",
              "        if (!dataTable) return;\n",
              "\n",
              "        const docLinkHtml = 'Like what you see? Visit the ' +\n",
              "          '<a target=\"_blank\" href=https://colab.research.google.com/notebooks/data_table.ipynb>data table notebook</a>'\n",
              "          + ' to learn more about interactive tables.';\n",
              "        element.innerHTML = '';\n",
              "        dataTable['output_type'] = 'display_data';\n",
              "        await google.colab.output.renderOutput(dataTable, element);\n",
              "        const docLink = document.createElement('div');\n",
              "        docLink.innerHTML = docLinkHtml;\n",
              "        element.appendChild(docLink);\n",
              "      }\n",
              "    </script>\n",
              "  </div>\n",
              "\n",
              "\n",
              "<div id=\"df-518b23d5-9f2a-48a2-9a14-ba32cd70ad19\">\n",
              "  <button class=\"colab-df-quickchart\" onclick=\"quickchart('df-518b23d5-9f2a-48a2-9a14-ba32cd70ad19')\"\n",
              "            title=\"Suggest charts\"\n",
              "            style=\"display:none;\">\n",
              "\n",
              "<svg xmlns=\"http://www.w3.org/2000/svg\" height=\"24px\"viewBox=\"0 0 24 24\"\n",
              "     width=\"24px\">\n",
              "    <g>\n",
              "        <path d=\"M19 3H5c-1.1 0-2 .9-2 2v14c0 1.1.9 2 2 2h14c1.1 0 2-.9 2-2V5c0-1.1-.9-2-2-2zM9 17H7v-7h2v7zm4 0h-2V7h2v10zm4 0h-2v-4h2v4z\"/>\n",
              "    </g>\n",
              "</svg>\n",
              "  </button>\n",
              "\n",
              "<style>\n",
              "  .colab-df-quickchart {\n",
              "      --bg-color: #E8F0FE;\n",
              "      --fill-color: #1967D2;\n",
              "      --hover-bg-color: #E2EBFA;\n",
              "      --hover-fill-color: #174EA6;\n",
              "      --disabled-fill-color: #AAA;\n",
              "      --disabled-bg-color: #DDD;\n",
              "  }\n",
              "\n",
              "  [theme=dark] .colab-df-quickchart {\n",
              "      --bg-color: #3B4455;\n",
              "      --fill-color: #D2E3FC;\n",
              "      --hover-bg-color: #434B5C;\n",
              "      --hover-fill-color: #FFFFFF;\n",
              "      --disabled-bg-color: #3B4455;\n",
              "      --disabled-fill-color: #666;\n",
              "  }\n",
              "\n",
              "  .colab-df-quickchart {\n",
              "    background-color: var(--bg-color);\n",
              "    border: none;\n",
              "    border-radius: 50%;\n",
              "    cursor: pointer;\n",
              "    display: none;\n",
              "    fill: var(--fill-color);\n",
              "    height: 32px;\n",
              "    padding: 0;\n",
              "    width: 32px;\n",
              "  }\n",
              "\n",
              "  .colab-df-quickchart:hover {\n",
              "    background-color: var(--hover-bg-color);\n",
              "    box-shadow: 0 1px 2px rgba(60, 64, 67, 0.3), 0 1px 3px 1px rgba(60, 64, 67, 0.15);\n",
              "    fill: var(--button-hover-fill-color);\n",
              "  }\n",
              "\n",
              "  .colab-df-quickchart-complete:disabled,\n",
              "  .colab-df-quickchart-complete:disabled:hover {\n",
              "    background-color: var(--disabled-bg-color);\n",
              "    fill: var(--disabled-fill-color);\n",
              "    box-shadow: none;\n",
              "  }\n",
              "\n",
              "  .colab-df-spinner {\n",
              "    border: 2px solid var(--fill-color);\n",
              "    border-color: transparent;\n",
              "    border-bottom-color: var(--fill-color);\n",
              "    animation:\n",
              "      spin 1s steps(1) infinite;\n",
              "  }\n",
              "\n",
              "  @keyframes spin {\n",
              "    0% {\n",
              "      border-color: transparent;\n",
              "      border-bottom-color: var(--fill-color);\n",
              "      border-left-color: var(--fill-color);\n",
              "    }\n",
              "    20% {\n",
              "      border-color: transparent;\n",
              "      border-left-color: var(--fill-color);\n",
              "      border-top-color: var(--fill-color);\n",
              "    }\n",
              "    30% {\n",
              "      border-color: transparent;\n",
              "      border-left-color: var(--fill-color);\n",
              "      border-top-color: var(--fill-color);\n",
              "      border-right-color: var(--fill-color);\n",
              "    }\n",
              "    40% {\n",
              "      border-color: transparent;\n",
              "      border-right-color: var(--fill-color);\n",
              "      border-top-color: var(--fill-color);\n",
              "    }\n",
              "    60% {\n",
              "      border-color: transparent;\n",
              "      border-right-color: var(--fill-color);\n",
              "    }\n",
              "    80% {\n",
              "      border-color: transparent;\n",
              "      border-right-color: var(--fill-color);\n",
              "      border-bottom-color: var(--fill-color);\n",
              "    }\n",
              "    90% {\n",
              "      border-color: transparent;\n",
              "      border-bottom-color: var(--fill-color);\n",
              "    }\n",
              "  }\n",
              "</style>\n",
              "\n",
              "  <script>\n",
              "    async function quickchart(key) {\n",
              "      const quickchartButtonEl =\n",
              "        document.querySelector('#' + key + ' button');\n",
              "      quickchartButtonEl.disabled = true;  // To prevent multiple clicks.\n",
              "      quickchartButtonEl.classList.add('colab-df-spinner');\n",
              "      try {\n",
              "        const charts = await google.colab.kernel.invokeFunction(\n",
              "            'suggestCharts', [key], {});\n",
              "      } catch (error) {\n",
              "        console.error('Error during call to suggestCharts:', error);\n",
              "      }\n",
              "      quickchartButtonEl.classList.remove('colab-df-spinner');\n",
              "      quickchartButtonEl.classList.add('colab-df-quickchart-complete');\n",
              "    }\n",
              "    (() => {\n",
              "      let quickchartButtonEl =\n",
              "        document.querySelector('#df-518b23d5-9f2a-48a2-9a14-ba32cd70ad19 button');\n",
              "      quickchartButtonEl.style.display =\n",
              "        google.colab.kernel.accessAllowed ? 'block' : 'none';\n",
              "    })();\n",
              "  </script>\n",
              "</div>\n",
              "\n",
              "    </div>\n",
              "  </div>\n"
            ],
            "text/plain": [
              "       battery_power       blue  clock_speed     dual_sim           fc  \\\n",
              "count    2000.000000  2000.0000  2000.000000  2000.000000  2000.000000   \n",
              "mean     1238.518500     0.4950     1.522250     0.509500     4.309500   \n",
              "std       439.418206     0.5001     0.816004     0.500035     4.341444   \n",
              "min       501.000000     0.0000     0.500000     0.000000     0.000000   \n",
              "25%       851.750000     0.0000     0.700000     0.000000     1.000000   \n",
              "50%      1226.000000     0.0000     1.500000     1.000000     3.000000   \n",
              "75%      1615.250000     1.0000     2.200000     1.000000     7.000000   \n",
              "max      1998.000000     1.0000     3.000000     1.000000    19.000000   \n",
              "\n",
              "            four_g   int_memory        m_dep    mobile_wt      n_cores  ...  \\\n",
              "count  2000.000000  2000.000000  2000.000000  2000.000000  2000.000000  ...   \n",
              "mean      0.521500    32.046500     0.501750   140.249000     4.520500  ...   \n",
              "std       0.499662    18.145715     0.288416    35.399655     2.287837  ...   \n",
              "min       0.000000     2.000000     0.100000    80.000000     1.000000  ...   \n",
              "25%       0.000000    16.000000     0.200000   109.000000     3.000000  ...   \n",
              "50%       1.000000    32.000000     0.500000   141.000000     4.000000  ...   \n",
              "75%       1.000000    48.000000     0.800000   170.000000     7.000000  ...   \n",
              "max       1.000000    64.000000     1.000000   200.000000     8.000000  ...   \n",
              "\n",
              "         px_height     px_width          ram         sc_h         sc_w  \\\n",
              "count  2000.000000  2000.000000  2000.000000  2000.000000  2000.000000   \n",
              "mean    645.108000  1251.515500  2124.213000    12.306500     5.767000   \n",
              "std     443.780811   432.199447  1084.732044     4.213245     4.356398   \n",
              "min       0.000000   500.000000   256.000000     5.000000     0.000000   \n",
              "25%     282.750000   874.750000  1207.500000     9.000000     2.000000   \n",
              "50%     564.000000  1247.000000  2146.500000    12.000000     5.000000   \n",
              "75%     947.250000  1633.000000  3064.500000    16.000000     9.000000   \n",
              "max    1960.000000  1998.000000  3998.000000    19.000000    18.000000   \n",
              "\n",
              "         talk_time      three_g  touch_screen         wifi  price_range  \n",
              "count  2000.000000  2000.000000   2000.000000  2000.000000  2000.000000  \n",
              "mean     11.011000     0.761500      0.503000     0.507000     1.500000  \n",
              "std       5.463955     0.426273      0.500116     0.500076     1.118314  \n",
              "min       2.000000     0.000000      0.000000     0.000000     0.000000  \n",
              "25%       6.000000     1.000000      0.000000     0.000000     0.750000  \n",
              "50%      11.000000     1.000000      1.000000     1.000000     1.500000  \n",
              "75%      16.000000     1.000000      1.000000     1.000000     2.250000  \n",
              "max      20.000000     1.000000      1.000000     1.000000     3.000000  \n",
              "\n",
              "[8 rows x 21 columns]"
            ]
          },
          "execution_count": 19,
          "metadata": {},
          "output_type": "execute_result"
        }
      ],
      "source": [
        "datos.describe()"
      ]
    },
    {
      "cell_type": "code",
      "execution_count": null,
      "metadata": {
        "colab": {
          "base_uri": "https://localhost:8080/",
          "height": 542
        },
        "id": "eUKD9ldEyYZQ",
        "outputId": "093c4602-811e-46b9-d193-b5f41fb23343"
      },
      "outputs": [
        {
          "data": {
            "text/html": [
              "<html>\n",
              "<head><meta charset=\"utf-8\" /></head>\n",
              "<body>\n",
              "    <div>            <script src=\"https://cdnjs.cloudflare.com/ajax/libs/mathjax/2.7.5/MathJax.js?config=TeX-AMS-MML_SVG\"></script><script type=\"text/javascript\">if (window.MathJax && window.MathJax.Hub && window.MathJax.Hub.Config) {window.MathJax.Hub.Config({SVG: {font: \"STIX-Web\"}});}</script>                <script type=\"text/javascript\">window.PlotlyConfig = {MathJaxConfig: 'local'};</script>\n",
              "        <script charset=\"utf-8\" src=\"https://cdn.plot.ly/plotly-2.24.1.min.js\"></script>                <div id=\"832d7550-150e-4556-ab3f-2e738ce9dc31\" class=\"plotly-graph-div\" style=\"height:525px; width:100%;\"></div>            <script type=\"text/javascript\">                                    window.PLOTLYENV=window.PLOTLYENV || {};                                    if (document.getElementById(\"832d7550-150e-4556-ab3f-2e738ce9dc31\")) {                    Plotly.newPlot(                        \"832d7550-150e-4556-ab3f-2e738ce9dc31\",                        [{\"alignmentgroup\":\"True\",\"hovertemplate\":\"variable=count\\u003cbr\\u003eprice_range=%{x}\\u003cbr\\u003evalue=%{y}\\u003cextra\\u003e\\u003c\\u002fextra\\u003e\",\"legendgroup\":\"count\",\"marker\":{\"color\":\"#636efa\",\"pattern\":{\"shape\":\"\"}},\"name\":\"count\",\"offsetgroup\":\"count\",\"orientation\":\"v\",\"showlegend\":true,\"textposition\":\"auto\",\"x\":[1,2,3,0],\"xaxis\":\"x\",\"y\":[500,500,500,500],\"yaxis\":\"y\",\"type\":\"bar\"}],                        {\"template\":{\"data\":{\"histogram2dcontour\":[{\"type\":\"histogram2dcontour\",\"colorbar\":{\"outlinewidth\":0,\"ticks\":\"\"},\"colorscale\":[[0.0,\"#0d0887\"],[0.1111111111111111,\"#46039f\"],[0.2222222222222222,\"#7201a8\"],[0.3333333333333333,\"#9c179e\"],[0.4444444444444444,\"#bd3786\"],[0.5555555555555556,\"#d8576b\"],[0.6666666666666666,\"#ed7953\"],[0.7777777777777778,\"#fb9f3a\"],[0.8888888888888888,\"#fdca26\"],[1.0,\"#f0f921\"]]}],\"choropleth\":[{\"type\":\"choropleth\",\"colorbar\":{\"outlinewidth\":0,\"ticks\":\"\"}}],\"histogram2d\":[{\"type\":\"histogram2d\",\"colorbar\":{\"outlinewidth\":0,\"ticks\":\"\"},\"colorscale\":[[0.0,\"#0d0887\"],[0.1111111111111111,\"#46039f\"],[0.2222222222222222,\"#7201a8\"],[0.3333333333333333,\"#9c179e\"],[0.4444444444444444,\"#bd3786\"],[0.5555555555555556,\"#d8576b\"],[0.6666666666666666,\"#ed7953\"],[0.7777777777777778,\"#fb9f3a\"],[0.8888888888888888,\"#fdca26\"],[1.0,\"#f0f921\"]]}],\"heatmap\":[{\"type\":\"heatmap\",\"colorbar\":{\"outlinewidth\":0,\"ticks\":\"\"},\"colorscale\":[[0.0,\"#0d0887\"],[0.1111111111111111,\"#46039f\"],[0.2222222222222222,\"#7201a8\"],[0.3333333333333333,\"#9c179e\"],[0.4444444444444444,\"#bd3786\"],[0.5555555555555556,\"#d8576b\"],[0.6666666666666666,\"#ed7953\"],[0.7777777777777778,\"#fb9f3a\"],[0.8888888888888888,\"#fdca26\"],[1.0,\"#f0f921\"]]}],\"heatmapgl\":[{\"type\":\"heatmapgl\",\"colorbar\":{\"outlinewidth\":0,\"ticks\":\"\"},\"colorscale\":[[0.0,\"#0d0887\"],[0.1111111111111111,\"#46039f\"],[0.2222222222222222,\"#7201a8\"],[0.3333333333333333,\"#9c179e\"],[0.4444444444444444,\"#bd3786\"],[0.5555555555555556,\"#d8576b\"],[0.6666666666666666,\"#ed7953\"],[0.7777777777777778,\"#fb9f3a\"],[0.8888888888888888,\"#fdca26\"],[1.0,\"#f0f921\"]]}],\"contourcarpet\":[{\"type\":\"contourcarpet\",\"colorbar\":{\"outlinewidth\":0,\"ticks\":\"\"}}],\"contour\":[{\"type\":\"contour\",\"colorbar\":{\"outlinewidth\":0,\"ticks\":\"\"},\"colorscale\":[[0.0,\"#0d0887\"],[0.1111111111111111,\"#46039f\"],[0.2222222222222222,\"#7201a8\"],[0.3333333333333333,\"#9c179e\"],[0.4444444444444444,\"#bd3786\"],[0.5555555555555556,\"#d8576b\"],[0.6666666666666666,\"#ed7953\"],[0.7777777777777778,\"#fb9f3a\"],[0.8888888888888888,\"#fdca26\"],[1.0,\"#f0f921\"]]}],\"surface\":[{\"type\":\"surface\",\"colorbar\":{\"outlinewidth\":0,\"ticks\":\"\"},\"colorscale\":[[0.0,\"#0d0887\"],[0.1111111111111111,\"#46039f\"],[0.2222222222222222,\"#7201a8\"],[0.3333333333333333,\"#9c179e\"],[0.4444444444444444,\"#bd3786\"],[0.5555555555555556,\"#d8576b\"],[0.6666666666666666,\"#ed7953\"],[0.7777777777777778,\"#fb9f3a\"],[0.8888888888888888,\"#fdca26\"],[1.0,\"#f0f921\"]]}],\"mesh3d\":[{\"type\":\"mesh3d\",\"colorbar\":{\"outlinewidth\":0,\"ticks\":\"\"}}],\"scatter\":[{\"fillpattern\":{\"fillmode\":\"overlay\",\"size\":10,\"solidity\":0.2},\"type\":\"scatter\"}],\"parcoords\":[{\"type\":\"parcoords\",\"line\":{\"colorbar\":{\"outlinewidth\":0,\"ticks\":\"\"}}}],\"scatterpolargl\":[{\"type\":\"scatterpolargl\",\"marker\":{\"colorbar\":{\"outlinewidth\":0,\"ticks\":\"\"}}}],\"bar\":[{\"error_x\":{\"color\":\"#2a3f5f\"},\"error_y\":{\"color\":\"#2a3f5f\"},\"marker\":{\"line\":{\"color\":\"#E5ECF6\",\"width\":0.5},\"pattern\":{\"fillmode\":\"overlay\",\"size\":10,\"solidity\":0.2}},\"type\":\"bar\"}],\"scattergeo\":[{\"type\":\"scattergeo\",\"marker\":{\"colorbar\":{\"outlinewidth\":0,\"ticks\":\"\"}}}],\"scatterpolar\":[{\"type\":\"scatterpolar\",\"marker\":{\"colorbar\":{\"outlinewidth\":0,\"ticks\":\"\"}}}],\"histogram\":[{\"marker\":{\"pattern\":{\"fillmode\":\"overlay\",\"size\":10,\"solidity\":0.2}},\"type\":\"histogram\"}],\"scattergl\":[{\"type\":\"scattergl\",\"marker\":{\"colorbar\":{\"outlinewidth\":0,\"ticks\":\"\"}}}],\"scatter3d\":[{\"type\":\"scatter3d\",\"line\":{\"colorbar\":{\"outlinewidth\":0,\"ticks\":\"\"}},\"marker\":{\"colorbar\":{\"outlinewidth\":0,\"ticks\":\"\"}}}],\"scattermapbox\":[{\"type\":\"scattermapbox\",\"marker\":{\"colorbar\":{\"outlinewidth\":0,\"ticks\":\"\"}}}],\"scatterternary\":[{\"type\":\"scatterternary\",\"marker\":{\"colorbar\":{\"outlinewidth\":0,\"ticks\":\"\"}}}],\"scattercarpet\":[{\"type\":\"scattercarpet\",\"marker\":{\"colorbar\":{\"outlinewidth\":0,\"ticks\":\"\"}}}],\"carpet\":[{\"aaxis\":{\"endlinecolor\":\"#2a3f5f\",\"gridcolor\":\"white\",\"linecolor\":\"white\",\"minorgridcolor\":\"white\",\"startlinecolor\":\"#2a3f5f\"},\"baxis\":{\"endlinecolor\":\"#2a3f5f\",\"gridcolor\":\"white\",\"linecolor\":\"white\",\"minorgridcolor\":\"white\",\"startlinecolor\":\"#2a3f5f\"},\"type\":\"carpet\"}],\"table\":[{\"cells\":{\"fill\":{\"color\":\"#EBF0F8\"},\"line\":{\"color\":\"white\"}},\"header\":{\"fill\":{\"color\":\"#C8D4E3\"},\"line\":{\"color\":\"white\"}},\"type\":\"table\"}],\"barpolar\":[{\"marker\":{\"line\":{\"color\":\"#E5ECF6\",\"width\":0.5},\"pattern\":{\"fillmode\":\"overlay\",\"size\":10,\"solidity\":0.2}},\"type\":\"barpolar\"}],\"pie\":[{\"automargin\":true,\"type\":\"pie\"}]},\"layout\":{\"autotypenumbers\":\"strict\",\"colorway\":[\"#636efa\",\"#EF553B\",\"#00cc96\",\"#ab63fa\",\"#FFA15A\",\"#19d3f3\",\"#FF6692\",\"#B6E880\",\"#FF97FF\",\"#FECB52\"],\"font\":{\"color\":\"#2a3f5f\"},\"hovermode\":\"closest\",\"hoverlabel\":{\"align\":\"left\"},\"paper_bgcolor\":\"white\",\"plot_bgcolor\":\"#E5ECF6\",\"polar\":{\"bgcolor\":\"#E5ECF6\",\"angularaxis\":{\"gridcolor\":\"white\",\"linecolor\":\"white\",\"ticks\":\"\"},\"radialaxis\":{\"gridcolor\":\"white\",\"linecolor\":\"white\",\"ticks\":\"\"}},\"ternary\":{\"bgcolor\":\"#E5ECF6\",\"aaxis\":{\"gridcolor\":\"white\",\"linecolor\":\"white\",\"ticks\":\"\"},\"baxis\":{\"gridcolor\":\"white\",\"linecolor\":\"white\",\"ticks\":\"\"},\"caxis\":{\"gridcolor\":\"white\",\"linecolor\":\"white\",\"ticks\":\"\"}},\"coloraxis\":{\"colorbar\":{\"outlinewidth\":0,\"ticks\":\"\"}},\"colorscale\":{\"sequential\":[[0.0,\"#0d0887\"],[0.1111111111111111,\"#46039f\"],[0.2222222222222222,\"#7201a8\"],[0.3333333333333333,\"#9c179e\"],[0.4444444444444444,\"#bd3786\"],[0.5555555555555556,\"#d8576b\"],[0.6666666666666666,\"#ed7953\"],[0.7777777777777778,\"#fb9f3a\"],[0.8888888888888888,\"#fdca26\"],[1.0,\"#f0f921\"]],\"sequentialminus\":[[0.0,\"#0d0887\"],[0.1111111111111111,\"#46039f\"],[0.2222222222222222,\"#7201a8\"],[0.3333333333333333,\"#9c179e\"],[0.4444444444444444,\"#bd3786\"],[0.5555555555555556,\"#d8576b\"],[0.6666666666666666,\"#ed7953\"],[0.7777777777777778,\"#fb9f3a\"],[0.8888888888888888,\"#fdca26\"],[1.0,\"#f0f921\"]],\"diverging\":[[0,\"#8e0152\"],[0.1,\"#c51b7d\"],[0.2,\"#de77ae\"],[0.3,\"#f1b6da\"],[0.4,\"#fde0ef\"],[0.5,\"#f7f7f7\"],[0.6,\"#e6f5d0\"],[0.7,\"#b8e186\"],[0.8,\"#7fbc41\"],[0.9,\"#4d9221\"],[1,\"#276419\"]]},\"xaxis\":{\"gridcolor\":\"white\",\"linecolor\":\"white\",\"ticks\":\"\",\"title\":{\"standoff\":15},\"zerolinecolor\":\"white\",\"automargin\":true,\"zerolinewidth\":2},\"yaxis\":{\"gridcolor\":\"white\",\"linecolor\":\"white\",\"ticks\":\"\",\"title\":{\"standoff\":15},\"zerolinecolor\":\"white\",\"automargin\":true,\"zerolinewidth\":2},\"scene\":{\"xaxis\":{\"backgroundcolor\":\"#E5ECF6\",\"gridcolor\":\"white\",\"linecolor\":\"white\",\"showbackground\":true,\"ticks\":\"\",\"zerolinecolor\":\"white\",\"gridwidth\":2},\"yaxis\":{\"backgroundcolor\":\"#E5ECF6\",\"gridcolor\":\"white\",\"linecolor\":\"white\",\"showbackground\":true,\"ticks\":\"\",\"zerolinecolor\":\"white\",\"gridwidth\":2},\"zaxis\":{\"backgroundcolor\":\"#E5ECF6\",\"gridcolor\":\"white\",\"linecolor\":\"white\",\"showbackground\":true,\"ticks\":\"\",\"zerolinecolor\":\"white\",\"gridwidth\":2}},\"shapedefaults\":{\"line\":{\"color\":\"#2a3f5f\"}},\"annotationdefaults\":{\"arrowcolor\":\"#2a3f5f\",\"arrowhead\":0,\"arrowwidth\":1},\"geo\":{\"bgcolor\":\"white\",\"landcolor\":\"#E5ECF6\",\"subunitcolor\":\"white\",\"showland\":true,\"showlakes\":true,\"lakecolor\":\"white\"},\"title\":{\"x\":0.05},\"mapbox\":{\"style\":\"light\"}}},\"xaxis\":{\"anchor\":\"y\",\"domain\":[0.0,1.0],\"title\":{\"text\":\"price_range\"}},\"yaxis\":{\"anchor\":\"x\",\"domain\":[0.0,1.0],\"title\":{\"text\":\"value\"}},\"legend\":{\"title\":{\"text\":\"variable\"},\"tracegroupgap\":0},\"margin\":{\"t\":60},\"barmode\":\"relative\"},                        {\"responsive\": true}                    ).then(function(){\n",
              "                            \n",
              "var gd = document.getElementById('832d7550-150e-4556-ab3f-2e738ce9dc31');\n",
              "var x = new MutationObserver(function (mutations, observer) {{\n",
              "        var display = window.getComputedStyle(gd).display;\n",
              "        if (!display || display === 'none') {{\n",
              "            console.log([gd, 'removed!']);\n",
              "            Plotly.purge(gd);\n",
              "            observer.disconnect();\n",
              "        }}\n",
              "}});\n",
              "\n",
              "// Listen for the removal of the full notebook cells\n",
              "var notebookContainer = gd.closest('#notebook-container');\n",
              "if (notebookContainer) {{\n",
              "    x.observe(notebookContainer, {childList: true});\n",
              "}}\n",
              "\n",
              "// Listen for the clearing of the current output cell\n",
              "var outputEl = gd.closest('.output');\n",
              "if (outputEl) {{\n",
              "    x.observe(outputEl, {childList: true});\n",
              "}}\n",
              "\n",
              "                        })                };                            </script>        </div>\n",
              "</body>\n",
              "</html>"
            ]
          },
          "metadata": {},
          "output_type": "display_data"
        }
      ],
      "source": [
        "px.bar(datos.price_range.value_counts())"
      ]
    },
    {
      "cell_type": "code",
      "execution_count": null,
      "metadata": {
        "colab": {
          "base_uri": "https://localhost:8080/",
          "height": 542
        },
        "id": "2dpJLnwMy5Tq",
        "outputId": "632e2333-f0c1-40f1-be36-2a634410c187"
      },
      "outputs": [
        {
          "data": {
            "text/html": [
              "<html>\n",
              "<head><meta charset=\"utf-8\" /></head>\n",
              "<body>\n",
              "    <div>            <script src=\"https://cdnjs.cloudflare.com/ajax/libs/mathjax/2.7.5/MathJax.js?config=TeX-AMS-MML_SVG\"></script><script type=\"text/javascript\">if (window.MathJax && window.MathJax.Hub && window.MathJax.Hub.Config) {window.MathJax.Hub.Config({SVG: {font: \"STIX-Web\"}});}</script>                <script type=\"text/javascript\">window.PlotlyConfig = {MathJaxConfig: 'local'};</script>\n",
              "        <script charset=\"utf-8\" src=\"https://cdn.plot.ly/plotly-2.24.1.min.js\"></script>                <div id=\"b27b5d21-f12e-4b4e-99f9-7265e13fdfeb\" class=\"plotly-graph-div\" style=\"height:525px; width:100%;\"></div>            <script type=\"text/javascript\">                                    window.PLOTLYENV=window.PLOTLYENV || {};                                    if (document.getElementById(\"b27b5d21-f12e-4b4e-99f9-7265e13fdfeb\")) {                    Plotly.newPlot(                        \"b27b5d21-f12e-4b4e-99f9-7265e13fdfeb\",                        [{\"alignmentgroup\":\"True\",\"hovertemplate\":\"variable=count\\u003cbr\\u003eint_memory=%{x}\\u003cbr\\u003evalue=%{y}\\u003cextra\\u003e\\u003c\\u002fextra\\u003e\",\"legendgroup\":\"count\",\"marker\":{\"color\":\"#636efa\",\"pattern\":{\"shape\":\"\"}},\"name\":\"count\",\"offsetgroup\":\"count\",\"orientation\":\"v\",\"showlegend\":true,\"textposition\":\"auto\",\"x\":[27,16,14,57,2,42,7,44,30,6,8,21,58,12,23,10,33,5,41,50,9,52,46,11,20,19,35,45,54,49,34,40,13,32,51,64,63,39,24,31,17,55,26,18,53,56,15,36,61,60,47,28,3,48,25,29,37,43,22,38,62,4,59],\"xaxis\":\"x\",\"y\":[47,45,45,42,42,40,40,39,39,37,37,36,36,36,36,36,36,36,35,35,35,35,34,34,34,34,33,33,32,32,32,32,31,31,31,31,30,30,30,29,29,29,29,28,28,27,27,27,27,27,26,26,25,25,24,24,24,24,24,23,21,20,18],\"yaxis\":\"y\",\"type\":\"bar\"}],                        {\"template\":{\"data\":{\"histogram2dcontour\":[{\"type\":\"histogram2dcontour\",\"colorbar\":{\"outlinewidth\":0,\"ticks\":\"\"},\"colorscale\":[[0.0,\"#0d0887\"],[0.1111111111111111,\"#46039f\"],[0.2222222222222222,\"#7201a8\"],[0.3333333333333333,\"#9c179e\"],[0.4444444444444444,\"#bd3786\"],[0.5555555555555556,\"#d8576b\"],[0.6666666666666666,\"#ed7953\"],[0.7777777777777778,\"#fb9f3a\"],[0.8888888888888888,\"#fdca26\"],[1.0,\"#f0f921\"]]}],\"choropleth\":[{\"type\":\"choropleth\",\"colorbar\":{\"outlinewidth\":0,\"ticks\":\"\"}}],\"histogram2d\":[{\"type\":\"histogram2d\",\"colorbar\":{\"outlinewidth\":0,\"ticks\":\"\"},\"colorscale\":[[0.0,\"#0d0887\"],[0.1111111111111111,\"#46039f\"],[0.2222222222222222,\"#7201a8\"],[0.3333333333333333,\"#9c179e\"],[0.4444444444444444,\"#bd3786\"],[0.5555555555555556,\"#d8576b\"],[0.6666666666666666,\"#ed7953\"],[0.7777777777777778,\"#fb9f3a\"],[0.8888888888888888,\"#fdca26\"],[1.0,\"#f0f921\"]]}],\"heatmap\":[{\"type\":\"heatmap\",\"colorbar\":{\"outlinewidth\":0,\"ticks\":\"\"},\"colorscale\":[[0.0,\"#0d0887\"],[0.1111111111111111,\"#46039f\"],[0.2222222222222222,\"#7201a8\"],[0.3333333333333333,\"#9c179e\"],[0.4444444444444444,\"#bd3786\"],[0.5555555555555556,\"#d8576b\"],[0.6666666666666666,\"#ed7953\"],[0.7777777777777778,\"#fb9f3a\"],[0.8888888888888888,\"#fdca26\"],[1.0,\"#f0f921\"]]}],\"heatmapgl\":[{\"type\":\"heatmapgl\",\"colorbar\":{\"outlinewidth\":0,\"ticks\":\"\"},\"colorscale\":[[0.0,\"#0d0887\"],[0.1111111111111111,\"#46039f\"],[0.2222222222222222,\"#7201a8\"],[0.3333333333333333,\"#9c179e\"],[0.4444444444444444,\"#bd3786\"],[0.5555555555555556,\"#d8576b\"],[0.6666666666666666,\"#ed7953\"],[0.7777777777777778,\"#fb9f3a\"],[0.8888888888888888,\"#fdca26\"],[1.0,\"#f0f921\"]]}],\"contourcarpet\":[{\"type\":\"contourcarpet\",\"colorbar\":{\"outlinewidth\":0,\"ticks\":\"\"}}],\"contour\":[{\"type\":\"contour\",\"colorbar\":{\"outlinewidth\":0,\"ticks\":\"\"},\"colorscale\":[[0.0,\"#0d0887\"],[0.1111111111111111,\"#46039f\"],[0.2222222222222222,\"#7201a8\"],[0.3333333333333333,\"#9c179e\"],[0.4444444444444444,\"#bd3786\"],[0.5555555555555556,\"#d8576b\"],[0.6666666666666666,\"#ed7953\"],[0.7777777777777778,\"#fb9f3a\"],[0.8888888888888888,\"#fdca26\"],[1.0,\"#f0f921\"]]}],\"surface\":[{\"type\":\"surface\",\"colorbar\":{\"outlinewidth\":0,\"ticks\":\"\"},\"colorscale\":[[0.0,\"#0d0887\"],[0.1111111111111111,\"#46039f\"],[0.2222222222222222,\"#7201a8\"],[0.3333333333333333,\"#9c179e\"],[0.4444444444444444,\"#bd3786\"],[0.5555555555555556,\"#d8576b\"],[0.6666666666666666,\"#ed7953\"],[0.7777777777777778,\"#fb9f3a\"],[0.8888888888888888,\"#fdca26\"],[1.0,\"#f0f921\"]]}],\"mesh3d\":[{\"type\":\"mesh3d\",\"colorbar\":{\"outlinewidth\":0,\"ticks\":\"\"}}],\"scatter\":[{\"fillpattern\":{\"fillmode\":\"overlay\",\"size\":10,\"solidity\":0.2},\"type\":\"scatter\"}],\"parcoords\":[{\"type\":\"parcoords\",\"line\":{\"colorbar\":{\"outlinewidth\":0,\"ticks\":\"\"}}}],\"scatterpolargl\":[{\"type\":\"scatterpolargl\",\"marker\":{\"colorbar\":{\"outlinewidth\":0,\"ticks\":\"\"}}}],\"bar\":[{\"error_x\":{\"color\":\"#2a3f5f\"},\"error_y\":{\"color\":\"#2a3f5f\"},\"marker\":{\"line\":{\"color\":\"#E5ECF6\",\"width\":0.5},\"pattern\":{\"fillmode\":\"overlay\",\"size\":10,\"solidity\":0.2}},\"type\":\"bar\"}],\"scattergeo\":[{\"type\":\"scattergeo\",\"marker\":{\"colorbar\":{\"outlinewidth\":0,\"ticks\":\"\"}}}],\"scatterpolar\":[{\"type\":\"scatterpolar\",\"marker\":{\"colorbar\":{\"outlinewidth\":0,\"ticks\":\"\"}}}],\"histogram\":[{\"marker\":{\"pattern\":{\"fillmode\":\"overlay\",\"size\":10,\"solidity\":0.2}},\"type\":\"histogram\"}],\"scattergl\":[{\"type\":\"scattergl\",\"marker\":{\"colorbar\":{\"outlinewidth\":0,\"ticks\":\"\"}}}],\"scatter3d\":[{\"type\":\"scatter3d\",\"line\":{\"colorbar\":{\"outlinewidth\":0,\"ticks\":\"\"}},\"marker\":{\"colorbar\":{\"outlinewidth\":0,\"ticks\":\"\"}}}],\"scattermapbox\":[{\"type\":\"scattermapbox\",\"marker\":{\"colorbar\":{\"outlinewidth\":0,\"ticks\":\"\"}}}],\"scatterternary\":[{\"type\":\"scatterternary\",\"marker\":{\"colorbar\":{\"outlinewidth\":0,\"ticks\":\"\"}}}],\"scattercarpet\":[{\"type\":\"scattercarpet\",\"marker\":{\"colorbar\":{\"outlinewidth\":0,\"ticks\":\"\"}}}],\"carpet\":[{\"aaxis\":{\"endlinecolor\":\"#2a3f5f\",\"gridcolor\":\"white\",\"linecolor\":\"white\",\"minorgridcolor\":\"white\",\"startlinecolor\":\"#2a3f5f\"},\"baxis\":{\"endlinecolor\":\"#2a3f5f\",\"gridcolor\":\"white\",\"linecolor\":\"white\",\"minorgridcolor\":\"white\",\"startlinecolor\":\"#2a3f5f\"},\"type\":\"carpet\"}],\"table\":[{\"cells\":{\"fill\":{\"color\":\"#EBF0F8\"},\"line\":{\"color\":\"white\"}},\"header\":{\"fill\":{\"color\":\"#C8D4E3\"},\"line\":{\"color\":\"white\"}},\"type\":\"table\"}],\"barpolar\":[{\"marker\":{\"line\":{\"color\":\"#E5ECF6\",\"width\":0.5},\"pattern\":{\"fillmode\":\"overlay\",\"size\":10,\"solidity\":0.2}},\"type\":\"barpolar\"}],\"pie\":[{\"automargin\":true,\"type\":\"pie\"}]},\"layout\":{\"autotypenumbers\":\"strict\",\"colorway\":[\"#636efa\",\"#EF553B\",\"#00cc96\",\"#ab63fa\",\"#FFA15A\",\"#19d3f3\",\"#FF6692\",\"#B6E880\",\"#FF97FF\",\"#FECB52\"],\"font\":{\"color\":\"#2a3f5f\"},\"hovermode\":\"closest\",\"hoverlabel\":{\"align\":\"left\"},\"paper_bgcolor\":\"white\",\"plot_bgcolor\":\"#E5ECF6\",\"polar\":{\"bgcolor\":\"#E5ECF6\",\"angularaxis\":{\"gridcolor\":\"white\",\"linecolor\":\"white\",\"ticks\":\"\"},\"radialaxis\":{\"gridcolor\":\"white\",\"linecolor\":\"white\",\"ticks\":\"\"}},\"ternary\":{\"bgcolor\":\"#E5ECF6\",\"aaxis\":{\"gridcolor\":\"white\",\"linecolor\":\"white\",\"ticks\":\"\"},\"baxis\":{\"gridcolor\":\"white\",\"linecolor\":\"white\",\"ticks\":\"\"},\"caxis\":{\"gridcolor\":\"white\",\"linecolor\":\"white\",\"ticks\":\"\"}},\"coloraxis\":{\"colorbar\":{\"outlinewidth\":0,\"ticks\":\"\"}},\"colorscale\":{\"sequential\":[[0.0,\"#0d0887\"],[0.1111111111111111,\"#46039f\"],[0.2222222222222222,\"#7201a8\"],[0.3333333333333333,\"#9c179e\"],[0.4444444444444444,\"#bd3786\"],[0.5555555555555556,\"#d8576b\"],[0.6666666666666666,\"#ed7953\"],[0.7777777777777778,\"#fb9f3a\"],[0.8888888888888888,\"#fdca26\"],[1.0,\"#f0f921\"]],\"sequentialminus\":[[0.0,\"#0d0887\"],[0.1111111111111111,\"#46039f\"],[0.2222222222222222,\"#7201a8\"],[0.3333333333333333,\"#9c179e\"],[0.4444444444444444,\"#bd3786\"],[0.5555555555555556,\"#d8576b\"],[0.6666666666666666,\"#ed7953\"],[0.7777777777777778,\"#fb9f3a\"],[0.8888888888888888,\"#fdca26\"],[1.0,\"#f0f921\"]],\"diverging\":[[0,\"#8e0152\"],[0.1,\"#c51b7d\"],[0.2,\"#de77ae\"],[0.3,\"#f1b6da\"],[0.4,\"#fde0ef\"],[0.5,\"#f7f7f7\"],[0.6,\"#e6f5d0\"],[0.7,\"#b8e186\"],[0.8,\"#7fbc41\"],[0.9,\"#4d9221\"],[1,\"#276419\"]]},\"xaxis\":{\"gridcolor\":\"white\",\"linecolor\":\"white\",\"ticks\":\"\",\"title\":{\"standoff\":15},\"zerolinecolor\":\"white\",\"automargin\":true,\"zerolinewidth\":2},\"yaxis\":{\"gridcolor\":\"white\",\"linecolor\":\"white\",\"ticks\":\"\",\"title\":{\"standoff\":15},\"zerolinecolor\":\"white\",\"automargin\":true,\"zerolinewidth\":2},\"scene\":{\"xaxis\":{\"backgroundcolor\":\"#E5ECF6\",\"gridcolor\":\"white\",\"linecolor\":\"white\",\"showbackground\":true,\"ticks\":\"\",\"zerolinecolor\":\"white\",\"gridwidth\":2},\"yaxis\":{\"backgroundcolor\":\"#E5ECF6\",\"gridcolor\":\"white\",\"linecolor\":\"white\",\"showbackground\":true,\"ticks\":\"\",\"zerolinecolor\":\"white\",\"gridwidth\":2},\"zaxis\":{\"backgroundcolor\":\"#E5ECF6\",\"gridcolor\":\"white\",\"linecolor\":\"white\",\"showbackground\":true,\"ticks\":\"\",\"zerolinecolor\":\"white\",\"gridwidth\":2}},\"shapedefaults\":{\"line\":{\"color\":\"#2a3f5f\"}},\"annotationdefaults\":{\"arrowcolor\":\"#2a3f5f\",\"arrowhead\":0,\"arrowwidth\":1},\"geo\":{\"bgcolor\":\"white\",\"landcolor\":\"#E5ECF6\",\"subunitcolor\":\"white\",\"showland\":true,\"showlakes\":true,\"lakecolor\":\"white\"},\"title\":{\"x\":0.05},\"mapbox\":{\"style\":\"light\"}}},\"xaxis\":{\"anchor\":\"y\",\"domain\":[0.0,1.0],\"title\":{\"text\":\"int_memory\"}},\"yaxis\":{\"anchor\":\"x\",\"domain\":[0.0,1.0],\"title\":{\"text\":\"value\"}},\"legend\":{\"title\":{\"text\":\"variable\"},\"tracegroupgap\":0},\"margin\":{\"t\":60},\"barmode\":\"relative\"},                        {\"responsive\": true}                    ).then(function(){\n",
              "                            \n",
              "var gd = document.getElementById('b27b5d21-f12e-4b4e-99f9-7265e13fdfeb');\n",
              "var x = new MutationObserver(function (mutations, observer) {{\n",
              "        var display = window.getComputedStyle(gd).display;\n",
              "        if (!display || display === 'none') {{\n",
              "            console.log([gd, 'removed!']);\n",
              "            Plotly.purge(gd);\n",
              "            observer.disconnect();\n",
              "        }}\n",
              "}});\n",
              "\n",
              "// Listen for the removal of the full notebook cells\n",
              "var notebookContainer = gd.closest('#notebook-container');\n",
              "if (notebookContainer) {{\n",
              "    x.observe(notebookContainer, {childList: true});\n",
              "}}\n",
              "\n",
              "// Listen for the clearing of the current output cell\n",
              "var outputEl = gd.closest('.output');\n",
              "if (outputEl) {{\n",
              "    x.observe(outputEl, {childList: true});\n",
              "}}\n",
              "\n",
              "                        })                };                            </script>        </div>\n",
              "</body>\n",
              "</html>"
            ]
          },
          "metadata": {},
          "output_type": "display_data"
        }
      ],
      "source": [
        "px.bar(datos.int_memory.value_counts())"
      ]
    },
    {
      "cell_type": "code",
      "execution_count": null,
      "metadata": {
        "colab": {
          "base_uri": "https://localhost:8080/",
          "height": 542
        },
        "id": "JgxzMnx8zDbY",
        "outputId": "8dea132b-f758-443e-f846-8bf238ec40dc"
      },
      "outputs": [
        {
          "data": {
            "text/html": [
              "<html>\n",
              "<head><meta charset=\"utf-8\" /></head>\n",
              "<body>\n",
              "    <div>            <script src=\"https://cdnjs.cloudflare.com/ajax/libs/mathjax/2.7.5/MathJax.js?config=TeX-AMS-MML_SVG\"></script><script type=\"text/javascript\">if (window.MathJax && window.MathJax.Hub && window.MathJax.Hub.Config) {window.MathJax.Hub.Config({SVG: {font: \"STIX-Web\"}});}</script>                <script type=\"text/javascript\">window.PlotlyConfig = {MathJaxConfig: 'local'};</script>\n",
              "        <script charset=\"utf-8\" src=\"https://cdn.plot.ly/plotly-2.24.1.min.js\"></script>                <div id=\"29cd1706-c2f4-4562-aa67-3bb3cb07233a\" class=\"plotly-graph-div\" style=\"height:525px; width:100%;\"></div>            <script type=\"text/javascript\">                                    window.PLOTLYENV=window.PLOTLYENV || {};                                    if (document.getElementById(\"29cd1706-c2f4-4562-aa67-3bb3cb07233a\")) {                    Plotly.newPlot(                        \"29cd1706-c2f4-4562-aa67-3bb3cb07233a\",                        [{\"alignmentgroup\":\"True\",\"hovertemplate\":\"variable=count\\u003cbr\\u003en_cores=%{x}\\u003cbr\\u003evalue=%{y}\\u003cextra\\u003e\\u003c\\u002fextra\\u003e\",\"legendgroup\":\"count\",\"marker\":{\"color\":\"#636efa\",\"pattern\":{\"shape\":\"\"}},\"name\":\"count\",\"offsetgroup\":\"count\",\"orientation\":\"v\",\"showlegend\":true,\"textposition\":\"auto\",\"x\":[4,7,8,2,3,5,1,6],\"xaxis\":\"x\",\"y\":[274,259,256,247,246,246,242,230],\"yaxis\":\"y\",\"type\":\"bar\"}],                        {\"template\":{\"data\":{\"histogram2dcontour\":[{\"type\":\"histogram2dcontour\",\"colorbar\":{\"outlinewidth\":0,\"ticks\":\"\"},\"colorscale\":[[0.0,\"#0d0887\"],[0.1111111111111111,\"#46039f\"],[0.2222222222222222,\"#7201a8\"],[0.3333333333333333,\"#9c179e\"],[0.4444444444444444,\"#bd3786\"],[0.5555555555555556,\"#d8576b\"],[0.6666666666666666,\"#ed7953\"],[0.7777777777777778,\"#fb9f3a\"],[0.8888888888888888,\"#fdca26\"],[1.0,\"#f0f921\"]]}],\"choropleth\":[{\"type\":\"choropleth\",\"colorbar\":{\"outlinewidth\":0,\"ticks\":\"\"}}],\"histogram2d\":[{\"type\":\"histogram2d\",\"colorbar\":{\"outlinewidth\":0,\"ticks\":\"\"},\"colorscale\":[[0.0,\"#0d0887\"],[0.1111111111111111,\"#46039f\"],[0.2222222222222222,\"#7201a8\"],[0.3333333333333333,\"#9c179e\"],[0.4444444444444444,\"#bd3786\"],[0.5555555555555556,\"#d8576b\"],[0.6666666666666666,\"#ed7953\"],[0.7777777777777778,\"#fb9f3a\"],[0.8888888888888888,\"#fdca26\"],[1.0,\"#f0f921\"]]}],\"heatmap\":[{\"type\":\"heatmap\",\"colorbar\":{\"outlinewidth\":0,\"ticks\":\"\"},\"colorscale\":[[0.0,\"#0d0887\"],[0.1111111111111111,\"#46039f\"],[0.2222222222222222,\"#7201a8\"],[0.3333333333333333,\"#9c179e\"],[0.4444444444444444,\"#bd3786\"],[0.5555555555555556,\"#d8576b\"],[0.6666666666666666,\"#ed7953\"],[0.7777777777777778,\"#fb9f3a\"],[0.8888888888888888,\"#fdca26\"],[1.0,\"#f0f921\"]]}],\"heatmapgl\":[{\"type\":\"heatmapgl\",\"colorbar\":{\"outlinewidth\":0,\"ticks\":\"\"},\"colorscale\":[[0.0,\"#0d0887\"],[0.1111111111111111,\"#46039f\"],[0.2222222222222222,\"#7201a8\"],[0.3333333333333333,\"#9c179e\"],[0.4444444444444444,\"#bd3786\"],[0.5555555555555556,\"#d8576b\"],[0.6666666666666666,\"#ed7953\"],[0.7777777777777778,\"#fb9f3a\"],[0.8888888888888888,\"#fdca26\"],[1.0,\"#f0f921\"]]}],\"contourcarpet\":[{\"type\":\"contourcarpet\",\"colorbar\":{\"outlinewidth\":0,\"ticks\":\"\"}}],\"contour\":[{\"type\":\"contour\",\"colorbar\":{\"outlinewidth\":0,\"ticks\":\"\"},\"colorscale\":[[0.0,\"#0d0887\"],[0.1111111111111111,\"#46039f\"],[0.2222222222222222,\"#7201a8\"],[0.3333333333333333,\"#9c179e\"],[0.4444444444444444,\"#bd3786\"],[0.5555555555555556,\"#d8576b\"],[0.6666666666666666,\"#ed7953\"],[0.7777777777777778,\"#fb9f3a\"],[0.8888888888888888,\"#fdca26\"],[1.0,\"#f0f921\"]]}],\"surface\":[{\"type\":\"surface\",\"colorbar\":{\"outlinewidth\":0,\"ticks\":\"\"},\"colorscale\":[[0.0,\"#0d0887\"],[0.1111111111111111,\"#46039f\"],[0.2222222222222222,\"#7201a8\"],[0.3333333333333333,\"#9c179e\"],[0.4444444444444444,\"#bd3786\"],[0.5555555555555556,\"#d8576b\"],[0.6666666666666666,\"#ed7953\"],[0.7777777777777778,\"#fb9f3a\"],[0.8888888888888888,\"#fdca26\"],[1.0,\"#f0f921\"]]}],\"mesh3d\":[{\"type\":\"mesh3d\",\"colorbar\":{\"outlinewidth\":0,\"ticks\":\"\"}}],\"scatter\":[{\"fillpattern\":{\"fillmode\":\"overlay\",\"size\":10,\"solidity\":0.2},\"type\":\"scatter\"}],\"parcoords\":[{\"type\":\"parcoords\",\"line\":{\"colorbar\":{\"outlinewidth\":0,\"ticks\":\"\"}}}],\"scatterpolargl\":[{\"type\":\"scatterpolargl\",\"marker\":{\"colorbar\":{\"outlinewidth\":0,\"ticks\":\"\"}}}],\"bar\":[{\"error_x\":{\"color\":\"#2a3f5f\"},\"error_y\":{\"color\":\"#2a3f5f\"},\"marker\":{\"line\":{\"color\":\"#E5ECF6\",\"width\":0.5},\"pattern\":{\"fillmode\":\"overlay\",\"size\":10,\"solidity\":0.2}},\"type\":\"bar\"}],\"scattergeo\":[{\"type\":\"scattergeo\",\"marker\":{\"colorbar\":{\"outlinewidth\":0,\"ticks\":\"\"}}}],\"scatterpolar\":[{\"type\":\"scatterpolar\",\"marker\":{\"colorbar\":{\"outlinewidth\":0,\"ticks\":\"\"}}}],\"histogram\":[{\"marker\":{\"pattern\":{\"fillmode\":\"overlay\",\"size\":10,\"solidity\":0.2}},\"type\":\"histogram\"}],\"scattergl\":[{\"type\":\"scattergl\",\"marker\":{\"colorbar\":{\"outlinewidth\":0,\"ticks\":\"\"}}}],\"scatter3d\":[{\"type\":\"scatter3d\",\"line\":{\"colorbar\":{\"outlinewidth\":0,\"ticks\":\"\"}},\"marker\":{\"colorbar\":{\"outlinewidth\":0,\"ticks\":\"\"}}}],\"scattermapbox\":[{\"type\":\"scattermapbox\",\"marker\":{\"colorbar\":{\"outlinewidth\":0,\"ticks\":\"\"}}}],\"scatterternary\":[{\"type\":\"scatterternary\",\"marker\":{\"colorbar\":{\"outlinewidth\":0,\"ticks\":\"\"}}}],\"scattercarpet\":[{\"type\":\"scattercarpet\",\"marker\":{\"colorbar\":{\"outlinewidth\":0,\"ticks\":\"\"}}}],\"carpet\":[{\"aaxis\":{\"endlinecolor\":\"#2a3f5f\",\"gridcolor\":\"white\",\"linecolor\":\"white\",\"minorgridcolor\":\"white\",\"startlinecolor\":\"#2a3f5f\"},\"baxis\":{\"endlinecolor\":\"#2a3f5f\",\"gridcolor\":\"white\",\"linecolor\":\"white\",\"minorgridcolor\":\"white\",\"startlinecolor\":\"#2a3f5f\"},\"type\":\"carpet\"}],\"table\":[{\"cells\":{\"fill\":{\"color\":\"#EBF0F8\"},\"line\":{\"color\":\"white\"}},\"header\":{\"fill\":{\"color\":\"#C8D4E3\"},\"line\":{\"color\":\"white\"}},\"type\":\"table\"}],\"barpolar\":[{\"marker\":{\"line\":{\"color\":\"#E5ECF6\",\"width\":0.5},\"pattern\":{\"fillmode\":\"overlay\",\"size\":10,\"solidity\":0.2}},\"type\":\"barpolar\"}],\"pie\":[{\"automargin\":true,\"type\":\"pie\"}]},\"layout\":{\"autotypenumbers\":\"strict\",\"colorway\":[\"#636efa\",\"#EF553B\",\"#00cc96\",\"#ab63fa\",\"#FFA15A\",\"#19d3f3\",\"#FF6692\",\"#B6E880\",\"#FF97FF\",\"#FECB52\"],\"font\":{\"color\":\"#2a3f5f\"},\"hovermode\":\"closest\",\"hoverlabel\":{\"align\":\"left\"},\"paper_bgcolor\":\"white\",\"plot_bgcolor\":\"#E5ECF6\",\"polar\":{\"bgcolor\":\"#E5ECF6\",\"angularaxis\":{\"gridcolor\":\"white\",\"linecolor\":\"white\",\"ticks\":\"\"},\"radialaxis\":{\"gridcolor\":\"white\",\"linecolor\":\"white\",\"ticks\":\"\"}},\"ternary\":{\"bgcolor\":\"#E5ECF6\",\"aaxis\":{\"gridcolor\":\"white\",\"linecolor\":\"white\",\"ticks\":\"\"},\"baxis\":{\"gridcolor\":\"white\",\"linecolor\":\"white\",\"ticks\":\"\"},\"caxis\":{\"gridcolor\":\"white\",\"linecolor\":\"white\",\"ticks\":\"\"}},\"coloraxis\":{\"colorbar\":{\"outlinewidth\":0,\"ticks\":\"\"}},\"colorscale\":{\"sequential\":[[0.0,\"#0d0887\"],[0.1111111111111111,\"#46039f\"],[0.2222222222222222,\"#7201a8\"],[0.3333333333333333,\"#9c179e\"],[0.4444444444444444,\"#bd3786\"],[0.5555555555555556,\"#d8576b\"],[0.6666666666666666,\"#ed7953\"],[0.7777777777777778,\"#fb9f3a\"],[0.8888888888888888,\"#fdca26\"],[1.0,\"#f0f921\"]],\"sequentialminus\":[[0.0,\"#0d0887\"],[0.1111111111111111,\"#46039f\"],[0.2222222222222222,\"#7201a8\"],[0.3333333333333333,\"#9c179e\"],[0.4444444444444444,\"#bd3786\"],[0.5555555555555556,\"#d8576b\"],[0.6666666666666666,\"#ed7953\"],[0.7777777777777778,\"#fb9f3a\"],[0.8888888888888888,\"#fdca26\"],[1.0,\"#f0f921\"]],\"diverging\":[[0,\"#8e0152\"],[0.1,\"#c51b7d\"],[0.2,\"#de77ae\"],[0.3,\"#f1b6da\"],[0.4,\"#fde0ef\"],[0.5,\"#f7f7f7\"],[0.6,\"#e6f5d0\"],[0.7,\"#b8e186\"],[0.8,\"#7fbc41\"],[0.9,\"#4d9221\"],[1,\"#276419\"]]},\"xaxis\":{\"gridcolor\":\"white\",\"linecolor\":\"white\",\"ticks\":\"\",\"title\":{\"standoff\":15},\"zerolinecolor\":\"white\",\"automargin\":true,\"zerolinewidth\":2},\"yaxis\":{\"gridcolor\":\"white\",\"linecolor\":\"white\",\"ticks\":\"\",\"title\":{\"standoff\":15},\"zerolinecolor\":\"white\",\"automargin\":true,\"zerolinewidth\":2},\"scene\":{\"xaxis\":{\"backgroundcolor\":\"#E5ECF6\",\"gridcolor\":\"white\",\"linecolor\":\"white\",\"showbackground\":true,\"ticks\":\"\",\"zerolinecolor\":\"white\",\"gridwidth\":2},\"yaxis\":{\"backgroundcolor\":\"#E5ECF6\",\"gridcolor\":\"white\",\"linecolor\":\"white\",\"showbackground\":true,\"ticks\":\"\",\"zerolinecolor\":\"white\",\"gridwidth\":2},\"zaxis\":{\"backgroundcolor\":\"#E5ECF6\",\"gridcolor\":\"white\",\"linecolor\":\"white\",\"showbackground\":true,\"ticks\":\"\",\"zerolinecolor\":\"white\",\"gridwidth\":2}},\"shapedefaults\":{\"line\":{\"color\":\"#2a3f5f\"}},\"annotationdefaults\":{\"arrowcolor\":\"#2a3f5f\",\"arrowhead\":0,\"arrowwidth\":1},\"geo\":{\"bgcolor\":\"white\",\"landcolor\":\"#E5ECF6\",\"subunitcolor\":\"white\",\"showland\":true,\"showlakes\":true,\"lakecolor\":\"white\"},\"title\":{\"x\":0.05},\"mapbox\":{\"style\":\"light\"}}},\"xaxis\":{\"anchor\":\"y\",\"domain\":[0.0,1.0],\"title\":{\"text\":\"n_cores\"}},\"yaxis\":{\"anchor\":\"x\",\"domain\":[0.0,1.0],\"title\":{\"text\":\"value\"}},\"legend\":{\"title\":{\"text\":\"variable\"},\"tracegroupgap\":0},\"margin\":{\"t\":60},\"barmode\":\"relative\"},                        {\"responsive\": true}                    ).then(function(){\n",
              "                            \n",
              "var gd = document.getElementById('29cd1706-c2f4-4562-aa67-3bb3cb07233a');\n",
              "var x = new MutationObserver(function (mutations, observer) {{\n",
              "        var display = window.getComputedStyle(gd).display;\n",
              "        if (!display || display === 'none') {{\n",
              "            console.log([gd, 'removed!']);\n",
              "            Plotly.purge(gd);\n",
              "            observer.disconnect();\n",
              "        }}\n",
              "}});\n",
              "\n",
              "// Listen for the removal of the full notebook cells\n",
              "var notebookContainer = gd.closest('#notebook-container');\n",
              "if (notebookContainer) {{\n",
              "    x.observe(notebookContainer, {childList: true});\n",
              "}}\n",
              "\n",
              "// Listen for the clearing of the current output cell\n",
              "var outputEl = gd.closest('.output');\n",
              "if (outputEl) {{\n",
              "    x.observe(outputEl, {childList: true});\n",
              "}}\n",
              "\n",
              "                        })                };                            </script>        </div>\n",
              "</body>\n",
              "</html>"
            ]
          },
          "metadata": {},
          "output_type": "display_data"
        }
      ],
      "source": [
        "px.bar(datos.n_cores.value_counts())"
      ]
    },
    {
      "cell_type": "code",
      "execution_count": null,
      "metadata": {
        "colab": {
          "base_uri": "https://localhost:8080/",
          "height": 542
        },
        "id": "xk6j2OYvzwr2",
        "outputId": "cc35a83e-e56d-49cc-ffe8-c1de3b873aa6"
      },
      "outputs": [
        {
          "data": {
            "text/html": [
              "<html>\n",
              "<head><meta charset=\"utf-8\" /></head>\n",
              "<body>\n",
              "    <div>            <script src=\"https://cdnjs.cloudflare.com/ajax/libs/mathjax/2.7.5/MathJax.js?config=TeX-AMS-MML_SVG\"></script><script type=\"text/javascript\">if (window.MathJax && window.MathJax.Hub && window.MathJax.Hub.Config) {window.MathJax.Hub.Config({SVG: {font: \"STIX-Web\"}});}</script>                <script type=\"text/javascript\">window.PlotlyConfig = {MathJaxConfig: 'local'};</script>\n",
              "        <script charset=\"utf-8\" src=\"https://cdn.plot.ly/plotly-2.24.1.min.js\"></script>                <div id=\"d22fff25-c356-4777-a77e-7e5ef3c480f5\" class=\"plotly-graph-div\" style=\"height:525px; width:100%;\"></div>            <script type=\"text/javascript\">                                    window.PLOTLYENV=window.PLOTLYENV || {};                                    if (document.getElementById(\"d22fff25-c356-4777-a77e-7e5ef3c480f5\")) {                    Plotly.newPlot(                        \"d22fff25-c356-4777-a77e-7e5ef3c480f5\",                        [{\"alignmentgroup\":\"True\",\"bingroup\":\"x\",\"hovertemplate\":\"variable=battery_power\\u003cbr\\u003evalue=%{x}\\u003cbr\\u003ecount=%{y}\\u003cextra\\u003e\\u003c\\u002fextra\\u003e\",\"legendgroup\":\"battery_power\",\"marker\":{\"color\":\"#636efa\",\"pattern\":{\"shape\":\"\"}},\"name\":\"battery_power\",\"offsetgroup\":\"battery_power\",\"orientation\":\"v\",\"showlegend\":true,\"x\":[842,1021,563,615,1821,1859,1821,1954,1445,509,769,1520,1815,803,1866,775,838,595,1131,682,772,1709,1949,1602,503,961,519,956,1453,851,1579,1568,1319,1310,644,725,589,1725,790,560,1347,1646,1253,1656,1195,1514,1723,1054,578,596,1547,1760,1654,1457,1073,1936,823,987,1757,1063,1484,799,1156,1720,702,616,1358,1866,1242,1166,1448,1407,605,1038,797,819,1114,1234,1199,1103,1589,999,1510,1008,1127,1412,1496,1083,668,1309,1724,1977,885,879,1322,1137,1355,1665,657,593,1883,1732,543,1939,553,832,1661,1657,1135,1775,783,617,867,1310,1804,1900,909,1084,1308,1778,1701,772,825,1379,1166,1659,826,1564,1957,1571,1414,1790,645,668,1652,1213,1272,866,536,523,1753,1218,1537,786,1678,1814,1101,1461,1216,506,843,742,1692,1485,1547,1692,637,1224,1356,1840,1481,961,1296,1193,1441,517,748,1126,1572,1569,1270,1854,625,1577,534,946,685,1949,947,801,703,1165,1082,959,1502,1380,1266,1934,1905,1831,596,1562,1490,1523,640,1526,1989,1308,609,1905,1703,1445,1087,671,1472,765,1642,1265,664,1277,1395,1539,1049,1827,903,1987,1154,1336,1886,1551,850,660,1225,1452,1686,1634,1708,1151,1578,1689,1488,1313,1715,1442,528,1523,1133,1718,1330,1799,633,724,822,1918,1891,1373,862,1273,957,1617,893,1210,708,835,1450,973,601,507,564,1559,754,728,1431,767,1722,1992,1876,1054,1283,1281,1066,730,1053,1611,793,1220,1662,1281,538,823,1733,1429,1839,659,1953,1172,612,1563,1191,615,1893,1563,1995,1517,832,1162,1595,1329,928,1656,1937,977,768,1464,1177,1348,1956,1751,1530,1997,1414,1707,894,645,1163,1126,1648,1170,508,1097,728,1980,1504,1379,1698,920,1144,1995,1430,972,662,1867,1730,1723,1882,803,580,668,1391,1560,821,811,1989,1034,618,654,576,667,869,635,609,1557,1604,1182,848,1610,1828,880,1394,1960,809,899,1976,879,916,763,508,825,1864,1725,1108,1011,1703,1067,1334,775,1899,930,1058,1187,1874,1482,1809,864,625,1880,1138,560,1117,1712,1836,1036,1860,1375,1945,1896,788,880,1323,1868,1266,1042,1479,1476,1552,1454,1007,652,1504,1726,1029,1582,1478,1178,707,755,912,651,1483,914,1456,1178,1503,1681,715,1876,1190,1755,1197,1048,1887,1772,1421,1464,728,954,685,1472,853,1469,1310,1654,902,1448,1631,1608,1991,1349,1589,1844,712,972,1406,1289,932,1747,1172,1128,664,513,1742,1512,1986,965,1067,1583,1653,1433,765,1845,752,1948,1077,932,1968,1122,1588,601,1615,1589,1417,1697,1330,1476,1579,1277,1089,1663,1949,1138,685,1889,857,1902,1225,1066,1554,1337,1926,869,1278,1773,1661,1438,1661,1846,1260,512,581,1872,687,1062,1678,1417,1074,1832,1039,1059,1606,1928,1875,1128,1748,1413,825,1589,535,1780,1671,1821,1076,532,777,1217,1656,1185,577,737,704,525,504,793,569,1590,707,767,1350,1117,641,1002,1408,1900,726,1544,1454,1230,1552,1519,723,1191,1168,1229,1758,1290,574,1271,1170,1269,1288,1366,1572,1627,1701,1900,1974,1197,587,934,1195,1853,1164,1512,1232,1813,946,739,704,1663,1966,1219,612,1658,1263,1395,621,652,1175,561,1137,1835,1170,1595,1719,1770,1312,1878,1871,922,1975,1212,1430,1958,1836,557,539,880,1369,1109,843,598,972,1944,1225,644,1919,501,1620,1227,1359,1914,1645,1063,946,1231,1397,701,570,1993,955,924,600,518,1063,920,1715,1841,543,1762,1112,709,1315,1762,1462,571,666,1994,1583,1778,1926,966,568,1897,1695,1623,914,1721,890,600,1677,723,638,852,1979,710,1034,600,1027,1260,1793,675,658,1694,804,1713,706,1362,1527,768,1314,705,1403,1486,781,986,1310,560,1348,1567,1940,1979,561,1717,535,1413,1358,1519,1254,1591,977,1640,663,1744,1624,1108,1188,817,863,1397,1108,1068,1702,808,1156,1271,696,1981,614,1590,1945,1135,1049,1807,984,720,1536,771,503,675,1936,1303,1004,1972,1822,1159,1782,894,1884,1648,798,802,1276,1331,1620,1996,1092,1018,545,554,1264,1030,1432,558,829,1741,1849,733,1872,1853,1149,891,1911,550,576,1760,969,1160,827,1786,774,819,1042,1368,1592,1067,1892,915,774,1848,1501,1614,911,1520,1647,1347,967,1442,1204,1320,1800,1567,1439,1422,1591,880,1929,1642,1511,1312,1852,972,691,807,1113,721,1188,1512,805,918,1320,1236,1387,1883,839,1593,1722,1954,1788,1628,1965,833,571,1808,1860,1368,1161,1224,902,787,854,1184,1973,510,966,1438,1986,1907,1489,1843,825,1286,840,757,814,1195,767,1068,994,1550,1878,623,1829,525,1065,1425,1296,642,1664,1498,981,1236,1673,712,569,603,1332,1413,1064,1444,1366,906,1554,1187,1156,1918,841,730,878,1059,1578,1829,1132,1652,912,1181,1497,1790,1742,1549,1372,1112,1005,783,1698,899,1062,989,1983,1800,1254,868,1205,1284,626,1763,694,1265,816,904,979,1531,934,1624,874,1027,1966,1048,1496,959,1349,1689,1558,582,1485,1991,553,1231,805,764,894,1589,1456,743,1061,1428,674,832,1625,907,1631,1584,1382,633,1444,852,922,1745,862,1754,1008,1569,1596,1807,1660,1861,648,1379,1910,1807,1923,1345,904,1239,1330,516,672,892,1778,1130,1359,1866,1597,1046,1035,1175,1261,1068,1713,1688,1413,559,1483,860,1090,686,818,1456,774,1068,1373,1777,594,1524,511,1402,965,1270,919,1963,1977,1881,683,772,536,1694,1633,1371,551,1221,1000,1986,1119,1699,1099,1576,950,1081,606,502,957,1658,1681,1983,1753,1632,1949,1696,688,1104,1122,504,1154,1727,1674,1948,1218,531,1057,576,1960,673,718,864,547,623,1793,1720,812,980,643,1925,1408,1522,587,1959,1872,1043,1809,1703,1095,1414,1659,1540,1342,1189,518,1449,516,1569,1312,1893,1076,530,1044,1330,1836,1741,1869,1331,1655,605,1245,1709,846,1403,688,775,1154,1375,1827,1697,741,1672,514,1375,989,1510,1266,1396,808,1542,745,1735,586,1341,781,501,1224,1970,618,1537,1018,1545,1871,1729,680,1106,635,618,1671,1562,1975,831,1524,1528,1447,1344,564,921,1413,831,802,1923,1193,904,1285,1635,1923,1851,727,1396,877,696,1009,1526,987,1414,1732,1587,1097,504,1159,1910,865,1930,860,1268,999,622,1250,763,1100,815,618,553,673,563,1590,1031,909,1880,1479,1271,709,1744,1314,1136,1039,1300,732,511,1092,921,1030,1130,1299,1009,1735,1129,708,894,530,1481,1068,1487,1524,1093,1816,627,989,1895,805,713,864,1177,582,1898,1158,1451,1820,984,580,1263,1237,514,1515,721,603,1426,1820,1215,697,717,1348,1164,578,1971,1794,1558,1597,1240,1994,1221,989,1180,718,1670,534,1566,1935,504,913,1317,917,712,1083,1039,1747,1449,1872,1796,1097,1562,1433,740,676,503,1020,896,1824,1512,1053,1944,1174,627,1602,1733,586,1528,875,1602,1426,1370,609,840,991,1724,584,860,1541,615,912,1278,1365,1702,589,1347,1644,956,1089,871,664,1874,1928,888,1077,1023,1426,831,1496,1433,1095,643,1142,730,1901,1510,1924,1825,1275,987,1538,1965,808,712,1507,912,769,948,507,1384,1766,1407,614,1972,1039,511,1811,1159,1848,1988,1469,1423,1974,835,1429,947,1446,1332,1498,1576,1398,1885,798,1436,1998,1321,1021,1339,1210,1949,882,1549,1991,796,1012,1318,1708,598,541,818,1414,601,561,1616,1263,1604,539,1071,826,771,1811,1842,1420,1763,1163,1805,610,1533,1924,1801,1726,794,1686,1444,1004,1242,539,717,1540,672,1325,950,948,1328,1447,1973,1731,1617,1791,851,856,714,951,1303,1550,1759,1448,1987,908,820,904,667,1109,1333,1352,1600,1454,1489,1823,1581,1672,1283,630,659,1811,688,514,1933,915,1006,1134,599,973,1180,1237,659,1142,1002,1392,602,1249,531,1450,1342,832,867,1404,840,1368,1927,1714,1201,1796,1147,776,510,1045,1497,1425,726,1576,714,1595,541,1617,1154,1638,1150,1254,1806,603,1834,520,565,1689,742,1143,761,959,772,1015,1824,1130,1183,574,1472,1868,1375,881,1742,1225,1970,1186,1762,1731,852,848,1575,1554,1972,827,1063,1695,1343,834,595,1081,911,844,1335,1883,1128,826,1650,1162,1517,963,1837,1028,1831,571,1770,970,642,622,600,1412,733,1070,875,1994,823,1908,790,1330,1660,1776,1611,1410,1772,1280,1712,1562,891,1957,1110,875,1211,769,671,1872,1076,1325,911,1273,1062,1317,940,729,1494,1546,1253,895,793,1628,625,1110,999,1856,1715,1897,1202,1171,964,1973,1992,546,1093,1880,1765,1640,1830,826,1864,586,1206,832,848,1851,1166,1776,1254,1494,984,1179,513,557,744,1129,1148,1793,1310,1604,1676,1001,1086,1986,634,502,1641,623,962,1057,1862,555,1000,841,865,999,1232,1194,612,1362,1469,986,1843,1561,1695,667,1768,1269,1109,936,1713,1175,1940,855,771,645,1307,1948,1509,626,1190,1727,1670,1150,1208,1812,770,1559,1902,1751,1416,1288,1003,1715,1967,962,1487,1569,1146,1379,1504,1945,1630,1125,614,854,1470,1826,807,1996,1083,1035,1521,1314,535,673,1219,1606,1603,1958,695,1441,1470,1890,1152,1619,1002,742,1306,1424,942,1934,1290,930,1699,1849,1922,548,916,1783,1083,1698,1969,869,1337,637,833,1248,1174,1831,1002,1010,1117,990,1564,1065,1982,1607,1066,681,1163,1285,753,1779,987,511,1044,1855,946,657,1673,731,926,1261,618,936,1485,1339,508,1938,995,1086,1322,1864,1944,581,1020,1936,1329,808,994,1811,765,993,1136,719,733,1946,1230,1577,1514,579,574,1072,843,1492,1807,909,1876,1436,1251,636,1354,930,1830,1424,583,648,1203,1777,1299,1494,527,793,873,722,1250,1358,1035,1289,1445,1702,534,628,713,1207,683,594,537,1565,1052,713,1766,584,1541,837,935,665,680,877,1493,1762,842,925,1692,1576,1065,958,623,897,1110,616,1680,1715,983,720,1660,1564,592,969,1356,504,1546,689,1685,1792,1786,1944,1077,648,1702,1571,856,1786,914,1615,649,1646,1189,1043,1920,1220,1748,907,1193,1766,1278,1234,1961,1745,1442,1083,868,864,1142,608,983,1720,1802,591,1205,1369,713,1082,1719,1544,1090,1991,1367,1179,721,1549,1349,1799,1075,684,1837,1619,965,730,1361,1494,1027,1807,709,689,955,1872,1259,695,1969,759,936,1176,1802,772,1318,591,569,764,1056,1982,1830,1122,1023,1283,1602,732,1854,718,897,1405,798,1035,1396,1749,1588,1600,1522,1279,719,544,1007,590,1788,748,757,1561,1327,797,727,686,1515,555,1589,1976,1884,1063,672,635,1906,1753,659,1583,1783,1667,640,1913,538,1191,816,915,1157,1201,1379,1483,1614,930,1454,1784,1262,797,1829,1139,618,1547,586,1617,1882,674,1467,858,794,1965,1911,1512,510],\"xaxis\":\"x\",\"yaxis\":\"y\",\"type\":\"histogram\"}],                        {\"template\":{\"data\":{\"histogram2dcontour\":[{\"type\":\"histogram2dcontour\",\"colorbar\":{\"outlinewidth\":0,\"ticks\":\"\"},\"colorscale\":[[0.0,\"#0d0887\"],[0.1111111111111111,\"#46039f\"],[0.2222222222222222,\"#7201a8\"],[0.3333333333333333,\"#9c179e\"],[0.4444444444444444,\"#bd3786\"],[0.5555555555555556,\"#d8576b\"],[0.6666666666666666,\"#ed7953\"],[0.7777777777777778,\"#fb9f3a\"],[0.8888888888888888,\"#fdca26\"],[1.0,\"#f0f921\"]]}],\"choropleth\":[{\"type\":\"choropleth\",\"colorbar\":{\"outlinewidth\":0,\"ticks\":\"\"}}],\"histogram2d\":[{\"type\":\"histogram2d\",\"colorbar\":{\"outlinewidth\":0,\"ticks\":\"\"},\"colorscale\":[[0.0,\"#0d0887\"],[0.1111111111111111,\"#46039f\"],[0.2222222222222222,\"#7201a8\"],[0.3333333333333333,\"#9c179e\"],[0.4444444444444444,\"#bd3786\"],[0.5555555555555556,\"#d8576b\"],[0.6666666666666666,\"#ed7953\"],[0.7777777777777778,\"#fb9f3a\"],[0.8888888888888888,\"#fdca26\"],[1.0,\"#f0f921\"]]}],\"heatmap\":[{\"type\":\"heatmap\",\"colorbar\":{\"outlinewidth\":0,\"ticks\":\"\"},\"colorscale\":[[0.0,\"#0d0887\"],[0.1111111111111111,\"#46039f\"],[0.2222222222222222,\"#7201a8\"],[0.3333333333333333,\"#9c179e\"],[0.4444444444444444,\"#bd3786\"],[0.5555555555555556,\"#d8576b\"],[0.6666666666666666,\"#ed7953\"],[0.7777777777777778,\"#fb9f3a\"],[0.8888888888888888,\"#fdca26\"],[1.0,\"#f0f921\"]]}],\"heatmapgl\":[{\"type\":\"heatmapgl\",\"colorbar\":{\"outlinewidth\":0,\"ticks\":\"\"},\"colorscale\":[[0.0,\"#0d0887\"],[0.1111111111111111,\"#46039f\"],[0.2222222222222222,\"#7201a8\"],[0.3333333333333333,\"#9c179e\"],[0.4444444444444444,\"#bd3786\"],[0.5555555555555556,\"#d8576b\"],[0.6666666666666666,\"#ed7953\"],[0.7777777777777778,\"#fb9f3a\"],[0.8888888888888888,\"#fdca26\"],[1.0,\"#f0f921\"]]}],\"contourcarpet\":[{\"type\":\"contourcarpet\",\"colorbar\":{\"outlinewidth\":0,\"ticks\":\"\"}}],\"contour\":[{\"type\":\"contour\",\"colorbar\":{\"outlinewidth\":0,\"ticks\":\"\"},\"colorscale\":[[0.0,\"#0d0887\"],[0.1111111111111111,\"#46039f\"],[0.2222222222222222,\"#7201a8\"],[0.3333333333333333,\"#9c179e\"],[0.4444444444444444,\"#bd3786\"],[0.5555555555555556,\"#d8576b\"],[0.6666666666666666,\"#ed7953\"],[0.7777777777777778,\"#fb9f3a\"],[0.8888888888888888,\"#fdca26\"],[1.0,\"#f0f921\"]]}],\"surface\":[{\"type\":\"surface\",\"colorbar\":{\"outlinewidth\":0,\"ticks\":\"\"},\"colorscale\":[[0.0,\"#0d0887\"],[0.1111111111111111,\"#46039f\"],[0.2222222222222222,\"#7201a8\"],[0.3333333333333333,\"#9c179e\"],[0.4444444444444444,\"#bd3786\"],[0.5555555555555556,\"#d8576b\"],[0.6666666666666666,\"#ed7953\"],[0.7777777777777778,\"#fb9f3a\"],[0.8888888888888888,\"#fdca26\"],[1.0,\"#f0f921\"]]}],\"mesh3d\":[{\"type\":\"mesh3d\",\"colorbar\":{\"outlinewidth\":0,\"ticks\":\"\"}}],\"scatter\":[{\"fillpattern\":{\"fillmode\":\"overlay\",\"size\":10,\"solidity\":0.2},\"type\":\"scatter\"}],\"parcoords\":[{\"type\":\"parcoords\",\"line\":{\"colorbar\":{\"outlinewidth\":0,\"ticks\":\"\"}}}],\"scatterpolargl\":[{\"type\":\"scatterpolargl\",\"marker\":{\"colorbar\":{\"outlinewidth\":0,\"ticks\":\"\"}}}],\"bar\":[{\"error_x\":{\"color\":\"#2a3f5f\"},\"error_y\":{\"color\":\"#2a3f5f\"},\"marker\":{\"line\":{\"color\":\"#E5ECF6\",\"width\":0.5},\"pattern\":{\"fillmode\":\"overlay\",\"size\":10,\"solidity\":0.2}},\"type\":\"bar\"}],\"scattergeo\":[{\"type\":\"scattergeo\",\"marker\":{\"colorbar\":{\"outlinewidth\":0,\"ticks\":\"\"}}}],\"scatterpolar\":[{\"type\":\"scatterpolar\",\"marker\":{\"colorbar\":{\"outlinewidth\":0,\"ticks\":\"\"}}}],\"histogram\":[{\"marker\":{\"pattern\":{\"fillmode\":\"overlay\",\"size\":10,\"solidity\":0.2}},\"type\":\"histogram\"}],\"scattergl\":[{\"type\":\"scattergl\",\"marker\":{\"colorbar\":{\"outlinewidth\":0,\"ticks\":\"\"}}}],\"scatter3d\":[{\"type\":\"scatter3d\",\"line\":{\"colorbar\":{\"outlinewidth\":0,\"ticks\":\"\"}},\"marker\":{\"colorbar\":{\"outlinewidth\":0,\"ticks\":\"\"}}}],\"scattermapbox\":[{\"type\":\"scattermapbox\",\"marker\":{\"colorbar\":{\"outlinewidth\":0,\"ticks\":\"\"}}}],\"scatterternary\":[{\"type\":\"scatterternary\",\"marker\":{\"colorbar\":{\"outlinewidth\":0,\"ticks\":\"\"}}}],\"scattercarpet\":[{\"type\":\"scattercarpet\",\"marker\":{\"colorbar\":{\"outlinewidth\":0,\"ticks\":\"\"}}}],\"carpet\":[{\"aaxis\":{\"endlinecolor\":\"#2a3f5f\",\"gridcolor\":\"white\",\"linecolor\":\"white\",\"minorgridcolor\":\"white\",\"startlinecolor\":\"#2a3f5f\"},\"baxis\":{\"endlinecolor\":\"#2a3f5f\",\"gridcolor\":\"white\",\"linecolor\":\"white\",\"minorgridcolor\":\"white\",\"startlinecolor\":\"#2a3f5f\"},\"type\":\"carpet\"}],\"table\":[{\"cells\":{\"fill\":{\"color\":\"#EBF0F8\"},\"line\":{\"color\":\"white\"}},\"header\":{\"fill\":{\"color\":\"#C8D4E3\"},\"line\":{\"color\":\"white\"}},\"type\":\"table\"}],\"barpolar\":[{\"marker\":{\"line\":{\"color\":\"#E5ECF6\",\"width\":0.5},\"pattern\":{\"fillmode\":\"overlay\",\"size\":10,\"solidity\":0.2}},\"type\":\"barpolar\"}],\"pie\":[{\"automargin\":true,\"type\":\"pie\"}]},\"layout\":{\"autotypenumbers\":\"strict\",\"colorway\":[\"#636efa\",\"#EF553B\",\"#00cc96\",\"#ab63fa\",\"#FFA15A\",\"#19d3f3\",\"#FF6692\",\"#B6E880\",\"#FF97FF\",\"#FECB52\"],\"font\":{\"color\":\"#2a3f5f\"},\"hovermode\":\"closest\",\"hoverlabel\":{\"align\":\"left\"},\"paper_bgcolor\":\"white\",\"plot_bgcolor\":\"#E5ECF6\",\"polar\":{\"bgcolor\":\"#E5ECF6\",\"angularaxis\":{\"gridcolor\":\"white\",\"linecolor\":\"white\",\"ticks\":\"\"},\"radialaxis\":{\"gridcolor\":\"white\",\"linecolor\":\"white\",\"ticks\":\"\"}},\"ternary\":{\"bgcolor\":\"#E5ECF6\",\"aaxis\":{\"gridcolor\":\"white\",\"linecolor\":\"white\",\"ticks\":\"\"},\"baxis\":{\"gridcolor\":\"white\",\"linecolor\":\"white\",\"ticks\":\"\"},\"caxis\":{\"gridcolor\":\"white\",\"linecolor\":\"white\",\"ticks\":\"\"}},\"coloraxis\":{\"colorbar\":{\"outlinewidth\":0,\"ticks\":\"\"}},\"colorscale\":{\"sequential\":[[0.0,\"#0d0887\"],[0.1111111111111111,\"#46039f\"],[0.2222222222222222,\"#7201a8\"],[0.3333333333333333,\"#9c179e\"],[0.4444444444444444,\"#bd3786\"],[0.5555555555555556,\"#d8576b\"],[0.6666666666666666,\"#ed7953\"],[0.7777777777777778,\"#fb9f3a\"],[0.8888888888888888,\"#fdca26\"],[1.0,\"#f0f921\"]],\"sequentialminus\":[[0.0,\"#0d0887\"],[0.1111111111111111,\"#46039f\"],[0.2222222222222222,\"#7201a8\"],[0.3333333333333333,\"#9c179e\"],[0.4444444444444444,\"#bd3786\"],[0.5555555555555556,\"#d8576b\"],[0.6666666666666666,\"#ed7953\"],[0.7777777777777778,\"#fb9f3a\"],[0.8888888888888888,\"#fdca26\"],[1.0,\"#f0f921\"]],\"diverging\":[[0,\"#8e0152\"],[0.1,\"#c51b7d\"],[0.2,\"#de77ae\"],[0.3,\"#f1b6da\"],[0.4,\"#fde0ef\"],[0.5,\"#f7f7f7\"],[0.6,\"#e6f5d0\"],[0.7,\"#b8e186\"],[0.8,\"#7fbc41\"],[0.9,\"#4d9221\"],[1,\"#276419\"]]},\"xaxis\":{\"gridcolor\":\"white\",\"linecolor\":\"white\",\"ticks\":\"\",\"title\":{\"standoff\":15},\"zerolinecolor\":\"white\",\"automargin\":true,\"zerolinewidth\":2},\"yaxis\":{\"gridcolor\":\"white\",\"linecolor\":\"white\",\"ticks\":\"\",\"title\":{\"standoff\":15},\"zerolinecolor\":\"white\",\"automargin\":true,\"zerolinewidth\":2},\"scene\":{\"xaxis\":{\"backgroundcolor\":\"#E5ECF6\",\"gridcolor\":\"white\",\"linecolor\":\"white\",\"showbackground\":true,\"ticks\":\"\",\"zerolinecolor\":\"white\",\"gridwidth\":2},\"yaxis\":{\"backgroundcolor\":\"#E5ECF6\",\"gridcolor\":\"white\",\"linecolor\":\"white\",\"showbackground\":true,\"ticks\":\"\",\"zerolinecolor\":\"white\",\"gridwidth\":2},\"zaxis\":{\"backgroundcolor\":\"#E5ECF6\",\"gridcolor\":\"white\",\"linecolor\":\"white\",\"showbackground\":true,\"ticks\":\"\",\"zerolinecolor\":\"white\",\"gridwidth\":2}},\"shapedefaults\":{\"line\":{\"color\":\"#2a3f5f\"}},\"annotationdefaults\":{\"arrowcolor\":\"#2a3f5f\",\"arrowhead\":0,\"arrowwidth\":1},\"geo\":{\"bgcolor\":\"white\",\"landcolor\":\"#E5ECF6\",\"subunitcolor\":\"white\",\"showland\":true,\"showlakes\":true,\"lakecolor\":\"white\"},\"title\":{\"x\":0.05},\"mapbox\":{\"style\":\"light\"}}},\"xaxis\":{\"anchor\":\"y\",\"domain\":[0.0,1.0],\"title\":{\"text\":\"value\"}},\"yaxis\":{\"anchor\":\"x\",\"domain\":[0.0,1.0],\"title\":{\"text\":\"count\"}},\"legend\":{\"title\":{\"text\":\"variable\"},\"tracegroupgap\":0},\"margin\":{\"t\":60},\"barmode\":\"relative\"},                        {\"responsive\": true}                    ).then(function(){\n",
              "                            \n",
              "var gd = document.getElementById('d22fff25-c356-4777-a77e-7e5ef3c480f5');\n",
              "var x = new MutationObserver(function (mutations, observer) {{\n",
              "        var display = window.getComputedStyle(gd).display;\n",
              "        if (!display || display === 'none') {{\n",
              "            console.log([gd, 'removed!']);\n",
              "            Plotly.purge(gd);\n",
              "            observer.disconnect();\n",
              "        }}\n",
              "}});\n",
              "\n",
              "// Listen for the removal of the full notebook cells\n",
              "var notebookContainer = gd.closest('#notebook-container');\n",
              "if (notebookContainer) {{\n",
              "    x.observe(notebookContainer, {childList: true});\n",
              "}}\n",
              "\n",
              "// Listen for the clearing of the current output cell\n",
              "var outputEl = gd.closest('.output');\n",
              "if (outputEl) {{\n",
              "    x.observe(outputEl, {childList: true});\n",
              "}}\n",
              "\n",
              "                        })                };                            </script>        </div>\n",
              "</body>\n",
              "</html>"
            ]
          },
          "metadata": {},
          "output_type": "display_data"
        }
      ],
      "source": [
        "px.histogram(datos.battery_power)"
      ]
    },
    {
      "cell_type": "code",
      "execution_count": null,
      "metadata": {
        "colab": {
          "base_uri": "https://localhost:8080/",
          "height": 542
        },
        "id": "mtcmwtdW0Hsf",
        "outputId": "f84ecd0d-2e82-4f8b-a0fe-2ad6a530e573"
      },
      "outputs": [
        {
          "data": {
            "text/html": [
              "<html>\n",
              "<head><meta charset=\"utf-8\" /></head>\n",
              "<body>\n",
              "    <div>            <script src=\"https://cdnjs.cloudflare.com/ajax/libs/mathjax/2.7.5/MathJax.js?config=TeX-AMS-MML_SVG\"></script><script type=\"text/javascript\">if (window.MathJax && window.MathJax.Hub && window.MathJax.Hub.Config) {window.MathJax.Hub.Config({SVG: {font: \"STIX-Web\"}});}</script>                <script type=\"text/javascript\">window.PlotlyConfig = {MathJaxConfig: 'local'};</script>\n",
              "        <script charset=\"utf-8\" src=\"https://cdn.plot.ly/plotly-2.24.1.min.js\"></script>                <div id=\"f16fcc74-0e94-4d0d-a34c-2bc76360b1c9\" class=\"plotly-graph-div\" style=\"height:525px; width:100%;\"></div>            <script type=\"text/javascript\">                                    window.PLOTLYENV=window.PLOTLYENV || {};                                    if (document.getElementById(\"f16fcc74-0e94-4d0d-a34c-2bc76360b1c9\")) {                    Plotly.newPlot(                        \"f16fcc74-0e94-4d0d-a34c-2bc76360b1c9\",                        [{\"alignmentgroup\":\"True\",\"hovertemplate\":\"color=1\\u003cbr\\u003evariable=%{x}\\u003cbr\\u003evalue=%{y}\\u003cextra\\u003e\\u003c\\u002fextra\\u003e\",\"legendgroup\":\"1\",\"marker\":{\"color\":\"#636efa\"},\"name\":\"1\",\"notched\":false,\"offsetgroup\":\"1\",\"orientation\":\"v\",\"showlegend\":true,\"x\":[\"clock_speed\",\"clock_speed\",\"clock_speed\",\"clock_speed\",\"clock_speed\",\"clock_speed\",\"clock_speed\",\"clock_speed\",\"clock_speed\",\"clock_speed\",\"clock_speed\",\"clock_speed\",\"clock_speed\",\"clock_speed\",\"clock_speed\",\"clock_speed\",\"clock_speed\",\"clock_speed\",\"clock_speed\",\"clock_speed\",\"clock_speed\",\"clock_speed\",\"clock_speed\",\"clock_speed\",\"clock_speed\",\"clock_speed\",\"clock_speed\",\"clock_speed\",\"clock_speed\",\"clock_speed\",\"clock_speed\",\"clock_speed\",\"clock_speed\",\"clock_speed\",\"clock_speed\",\"clock_speed\",\"clock_speed\",\"clock_speed\",\"clock_speed\",\"clock_speed\",\"clock_speed\",\"clock_speed\",\"clock_speed\",\"clock_speed\",\"clock_speed\",\"clock_speed\",\"clock_speed\",\"clock_speed\",\"clock_speed\",\"clock_speed\",\"clock_speed\",\"clock_speed\",\"clock_speed\",\"clock_speed\",\"clock_speed\",\"clock_speed\",\"clock_speed\",\"clock_speed\",\"clock_speed\",\"clock_speed\",\"clock_speed\",\"clock_speed\",\"clock_speed\",\"clock_speed\",\"clock_speed\",\"clock_speed\",\"clock_speed\",\"clock_speed\",\"clock_speed\",\"clock_speed\",\"clock_speed\",\"clock_speed\",\"clock_speed\",\"clock_speed\",\"clock_speed\",\"clock_speed\",\"clock_speed\",\"clock_speed\",\"clock_speed\",\"clock_speed\",\"clock_speed\",\"clock_speed\",\"clock_speed\",\"clock_speed\",\"clock_speed\",\"clock_speed\",\"clock_speed\",\"clock_speed\",\"clock_speed\",\"clock_speed\",\"clock_speed\",\"clock_speed\",\"clock_speed\",\"clock_speed\",\"clock_speed\",\"clock_speed\",\"clock_speed\",\"clock_speed\",\"clock_speed\",\"clock_speed\",\"clock_speed\",\"clock_speed\",\"clock_speed\",\"clock_speed\",\"clock_speed\",\"clock_speed\",\"clock_speed\",\"clock_speed\",\"clock_speed\",\"clock_speed\",\"clock_speed\",\"clock_speed\",\"clock_speed\",\"clock_speed\",\"clock_speed\",\"clock_speed\",\"clock_speed\",\"clock_speed\",\"clock_speed\",\"clock_speed\",\"clock_speed\",\"clock_speed\",\"clock_speed\",\"clock_speed\",\"clock_speed\",\"clock_speed\",\"clock_speed\",\"clock_speed\",\"clock_speed\",\"clock_speed\",\"clock_speed\",\"clock_speed\",\"clock_speed\",\"clock_speed\",\"clock_speed\",\"clock_speed\",\"clock_speed\",\"clock_speed\",\"clock_speed\",\"clock_speed\",\"clock_speed\",\"clock_speed\",\"clock_speed\",\"clock_speed\",\"clock_speed\",\"clock_speed\",\"clock_speed\",\"clock_speed\",\"clock_speed\",\"clock_speed\",\"clock_speed\",\"clock_speed\",\"clock_speed\",\"clock_speed\",\"clock_speed\",\"clock_speed\",\"clock_speed\",\"clock_speed\",\"clock_speed\",\"clock_speed\",\"clock_speed\",\"clock_speed\",\"clock_speed\",\"clock_speed\",\"clock_speed\",\"clock_speed\",\"clock_speed\",\"clock_speed\",\"clock_speed\",\"clock_speed\",\"clock_speed\",\"clock_speed\",\"clock_speed\",\"clock_speed\",\"clock_speed\",\"clock_speed\",\"clock_speed\",\"clock_speed\",\"clock_speed\",\"clock_speed\",\"clock_speed\",\"clock_speed\",\"clock_speed\",\"clock_speed\",\"clock_speed\",\"clock_speed\",\"clock_speed\",\"clock_speed\",\"clock_speed\",\"clock_speed\",\"clock_speed\",\"clock_speed\",\"clock_speed\",\"clock_speed\",\"clock_speed\",\"clock_speed\",\"clock_speed\",\"clock_speed\",\"clock_speed\",\"clock_speed\",\"clock_speed\",\"clock_speed\",\"clock_speed\",\"clock_speed\",\"clock_speed\",\"clock_speed\",\"clock_speed\",\"clock_speed\",\"clock_speed\",\"clock_speed\",\"clock_speed\",\"clock_speed\",\"clock_speed\",\"clock_speed\",\"clock_speed\",\"clock_speed\",\"clock_speed\",\"clock_speed\",\"clock_speed\",\"clock_speed\",\"clock_speed\",\"clock_speed\",\"clock_speed\",\"clock_speed\",\"clock_speed\",\"clock_speed\",\"clock_speed\",\"clock_speed\",\"clock_speed\",\"clock_speed\",\"clock_speed\",\"clock_speed\",\"clock_speed\",\"clock_speed\",\"clock_speed\",\"clock_speed\",\"clock_speed\",\"clock_speed\",\"clock_speed\",\"clock_speed\",\"clock_speed\",\"clock_speed\",\"clock_speed\",\"clock_speed\",\"clock_speed\",\"clock_speed\",\"clock_speed\",\"clock_speed\",\"clock_speed\",\"clock_speed\",\"clock_speed\",\"clock_speed\",\"clock_speed\",\"clock_speed\",\"clock_speed\",\"clock_speed\",\"clock_speed\",\"clock_speed\",\"clock_speed\",\"clock_speed\",\"clock_speed\",\"clock_speed\",\"clock_speed\",\"clock_speed\",\"clock_speed\",\"clock_speed\",\"clock_speed\",\"clock_speed\",\"clock_speed\",\"clock_speed\",\"clock_speed\",\"clock_speed\",\"clock_speed\",\"clock_speed\",\"clock_speed\",\"clock_speed\",\"clock_speed\",\"clock_speed\",\"clock_speed\",\"clock_speed\",\"clock_speed\",\"clock_speed\",\"clock_speed\",\"clock_speed\",\"clock_speed\",\"clock_speed\",\"clock_speed\",\"clock_speed\",\"clock_speed\",\"clock_speed\",\"clock_speed\",\"clock_speed\",\"clock_speed\",\"clock_speed\",\"clock_speed\",\"clock_speed\",\"clock_speed\",\"clock_speed\",\"clock_speed\",\"clock_speed\",\"clock_speed\",\"clock_speed\",\"clock_speed\",\"clock_speed\",\"clock_speed\",\"clock_speed\",\"clock_speed\",\"clock_speed\",\"clock_speed\",\"clock_speed\",\"clock_speed\",\"clock_speed\",\"clock_speed\",\"clock_speed\",\"clock_speed\",\"clock_speed\",\"clock_speed\",\"clock_speed\",\"clock_speed\",\"clock_speed\",\"clock_speed\",\"clock_speed\",\"clock_speed\",\"clock_speed\",\"clock_speed\",\"clock_speed\",\"clock_speed\",\"clock_speed\",\"clock_speed\",\"clock_speed\",\"clock_speed\",\"clock_speed\",\"clock_speed\",\"clock_speed\",\"clock_speed\",\"clock_speed\",\"clock_speed\",\"clock_speed\",\"clock_speed\",\"clock_speed\",\"clock_speed\",\"clock_speed\",\"clock_speed\",\"clock_speed\",\"clock_speed\",\"clock_speed\",\"clock_speed\",\"clock_speed\",\"clock_speed\",\"clock_speed\",\"clock_speed\",\"clock_speed\",\"clock_speed\",\"clock_speed\",\"clock_speed\",\"clock_speed\",\"clock_speed\",\"clock_speed\",\"clock_speed\",\"clock_speed\",\"clock_speed\",\"clock_speed\",\"clock_speed\",\"clock_speed\",\"clock_speed\",\"clock_speed\",\"clock_speed\",\"clock_speed\",\"clock_speed\",\"clock_speed\",\"clock_speed\",\"clock_speed\",\"clock_speed\",\"clock_speed\",\"clock_speed\",\"clock_speed\",\"clock_speed\",\"clock_speed\",\"clock_speed\",\"clock_speed\",\"clock_speed\",\"clock_speed\",\"clock_speed\",\"clock_speed\",\"clock_speed\",\"clock_speed\",\"clock_speed\",\"clock_speed\",\"clock_speed\",\"clock_speed\",\"clock_speed\",\"clock_speed\",\"clock_speed\",\"clock_speed\",\"clock_speed\",\"clock_speed\",\"clock_speed\",\"clock_speed\",\"clock_speed\",\"clock_speed\",\"clock_speed\",\"clock_speed\",\"clock_speed\",\"clock_speed\",\"clock_speed\",\"clock_speed\",\"clock_speed\",\"clock_speed\",\"clock_speed\",\"clock_speed\",\"clock_speed\",\"clock_speed\",\"clock_speed\",\"clock_speed\",\"clock_speed\",\"clock_speed\",\"clock_speed\",\"clock_speed\",\"clock_speed\",\"clock_speed\",\"clock_speed\",\"clock_speed\",\"clock_speed\",\"clock_speed\",\"clock_speed\",\"clock_speed\",\"clock_speed\",\"clock_speed\",\"clock_speed\",\"clock_speed\",\"clock_speed\",\"clock_speed\",\"clock_speed\",\"clock_speed\",\"clock_speed\",\"clock_speed\",\"clock_speed\",\"clock_speed\",\"clock_speed\",\"clock_speed\",\"clock_speed\",\"clock_speed\",\"clock_speed\",\"clock_speed\",\"clock_speed\",\"clock_speed\",\"clock_speed\",\"clock_speed\",\"clock_speed\",\"clock_speed\",\"clock_speed\",\"clock_speed\",\"clock_speed\",\"clock_speed\",\"clock_speed\",\"clock_speed\",\"clock_speed\",\"clock_speed\",\"clock_speed\",\"clock_speed\",\"clock_speed\",\"clock_speed\",\"clock_speed\",\"clock_speed\",\"clock_speed\",\"clock_speed\",\"clock_speed\",\"clock_speed\",\"clock_speed\",\"clock_speed\",\"clock_speed\",\"clock_speed\",\"clock_speed\",\"clock_speed\",\"clock_speed\",\"clock_speed\",\"clock_speed\",\"clock_speed\",\"clock_speed\",\"clock_speed\",\"clock_speed\",\"clock_speed\",\"clock_speed\",\"clock_speed\",\"clock_speed\",\"clock_speed\",\"clock_speed\",\"clock_speed\",\"clock_speed\",\"clock_speed\",\"clock_speed\",\"clock_speed\",\"clock_speed\",\"clock_speed\",\"clock_speed\",\"clock_speed\",\"clock_speed\",\"clock_speed\",\"clock_speed\",\"clock_speed\"],\"x0\":\" \",\"xaxis\":\"x\",\"y\":[2.2,1.2,0.5,2.8,0.5,0.5,2.6,1.2,0.9,1.3,2.3,0.5,1.0,2.9,1.8,1.9,0.5,3.0,0.6,1.0,0.8,2.9,2.4,1.7,0.5,1.1,0.5,0.7,1.8,2.3,2.6,0.5,2.3,2.5,2.9,2.5,1.8,0.5,2.1,2.3,0.5,1.7,2.8,3.0,2.2,0.5,1.4,0.5,0.6,2.4,1.5,0.9,0.5,1.0,1.4,0.5,1.0,2.5,2.7,0.5,0.5,2.7,1.6,1.1,2.3,0.5,2.8,1.2,2.7,1.9,1.3,0.5,2.0,1.0,0.5,2.0,2.2,0.7,2.1,0.5,0.5,0.5,2.3,2.0,1.0,2.4,1.3,3.0,2.9,0.8,0.5,1.1,1.3,2.7,0.5,2.4,1.6,2.5,0.8,2.0,0.8,2.1,0.5,1.3,0.9,0.5,0.5,2.8,1.8,1.4,2.3,0.5,1.7,2.1,1.2,0.5,0.5,2.5,1.5,1.8,2.4,0.5,0.8,0.6,0.5,2.4,1.3,1.1,0.5,0.5,0.6,1.9,0.5,1.9,0.5,0.8,2.0,2.3,0.5,0.5,1.3,0.5,0.5,2.9,2.3,0.5,1.9,2.7,0.5,1.5,2.3,1.1,0.7,2.1,1.2,0.7,0.5,0.5,2.7,2.0,1.6,1.4,0.5,0.5,1.0,0.8,0.5,0.5,1.5,1.4,2.0,1.0,1.3,2.4,2.0,0.5,0.5,1.9,0.6,1.9,2.8,0.5,1.6,2.6,2.7,0.5,0.8,2.1,2.6,0.9,0.5,1.3,0.9,1.0,2.2,0.6,1.7,1.1,1.3,0.5,0.5,0.8,2.8,1.7,1.0,2.3,1.7,1.7,2.8,2.9,0.6,2.6,2.2,1.5,1.9,1.8,1.6,1.3,0.5,1.4,0.7,2.5,2.8,0.9,0.5,3.0,1.6,0.5,2.5,1.3,0.5,2.6,1.6,1.3,1.0,2.2,2.7,0.5,1.5,0.7,1.2,2.8,0.5,2.8,1.7,0.7,1.7,1.9,0.7,0.7,1.0,0.7,0.5,0.7,2.4,0.8,2.5,2.8,2.6,0.5,1.5,2.5,0.5,0.5,1.8,0.6,2.1,2.1,0.6,1.8,1.5,3.0,2.4,1.5,1.5,2.4,1.0,2.2,1.4,0.5,1.5,2.8,2.8,2.7,2.5,1.9,0.7,0.5,0.9,0.7,1.7,1.2,2.8,1.6,0.5,1.7,0.5,1.6,2.2,1.5,1.0,1.6,2.7,1.6,0.5,2.8,0.5,0.6,2.3,0.8,2.3,0.7,1.1,0.6,2.3,0.5,0.9,1.2,1.9,2.8,1.8,2.9,2.9,0.5,0.6,0.5,0.6,2.4,1.3,1.3,1.6,0.5,1.9,0.8,1.9,2.9,1.9,0.5,2.5,0.5,2.3,1.9,0.5,1.9,2.4,2.5,1.4,2.1,1.0,1.7,2.5,0.5,0.5,2.5,0.5,2.1,0.5,1.5,2.1,0.5,2.6,2.0,2.1,1.9,1.0,1.1,1.5,2.3,0.6,1.2,0.8,1.0,0.5,0.7,1.5,0.6,1.5,0.5,1.9,0.5,2.4,1.0,2.8,2.2,0.6,1.6,1.3,0.9,1.2,2.2,2.9,2.4,1.7,2.6,2.6,0.5,0.6,0.6,2.1,2.2,0.5,0.8,2.7,1.5,3.0,1.2,1.7,0.5,2.0,1.7,1.0,0.5,1.8,0.6,0.5,2.9,1.3,0.5,2.5,2.9,0.5,1.0,1.5,1.9,2.7,0.5,2.8,2.0,0.5,0.6,0.5,0.5,0.5,2.8,2.6,0.9,1.8,0.5,0.5,2.3,1.3,1.3,1.7,1.3,0.7,0.5,0.9,2.2,2.8,2.8,1.1,1.9,2.3,1.8,2.1,2.0,1.6,1.5,1.5,1.8,0.8,1.2,0.6,2.9,1.2,0.5,1.8,2.3,2.8,2.1,1.9,0.8,0.5,1.2,2.1,2.5,1.6,0.5,0.9,1.6,2.0,0.6,2.5,1.4,1.6,1.5,1.0,1.9,0.7,2.9,1.1,0.5,2.2,1.2,1.0,2.6,2.2,0.9,2.9,2.8],\"y0\":\" \",\"yaxis\":\"y\",\"type\":\"box\"},{\"alignmentgroup\":\"True\",\"hovertemplate\":\"color=2\\u003cbr\\u003evariable=%{x}\\u003cbr\\u003evalue=%{y}\\u003cextra\\u003e\\u003c\\u002fextra\\u003e\",\"legendgroup\":\"2\",\"marker\":{\"color\":\"#EF553B\"},\"name\":\"2\",\"notched\":false,\"offsetgroup\":\"2\",\"orientation\":\"v\",\"showlegend\":true,\"x\":[\"clock_speed\",\"clock_speed\",\"clock_speed\",\"clock_speed\",\"clock_speed\",\"clock_speed\",\"clock_speed\",\"clock_speed\",\"clock_speed\",\"clock_speed\",\"clock_speed\",\"clock_speed\",\"clock_speed\",\"clock_speed\",\"clock_speed\",\"clock_speed\",\"clock_speed\",\"clock_speed\",\"clock_speed\",\"clock_speed\",\"clock_speed\",\"clock_speed\",\"clock_speed\",\"clock_speed\",\"clock_speed\",\"clock_speed\",\"clock_speed\",\"clock_speed\",\"clock_speed\",\"clock_speed\",\"clock_speed\",\"clock_speed\",\"clock_speed\",\"clock_speed\",\"clock_speed\",\"clock_speed\",\"clock_speed\",\"clock_speed\",\"clock_speed\",\"clock_speed\",\"clock_speed\",\"clock_speed\",\"clock_speed\",\"clock_speed\",\"clock_speed\",\"clock_speed\",\"clock_speed\",\"clock_speed\",\"clock_speed\",\"clock_speed\",\"clock_speed\",\"clock_speed\",\"clock_speed\",\"clock_speed\",\"clock_speed\",\"clock_speed\",\"clock_speed\",\"clock_speed\",\"clock_speed\",\"clock_speed\",\"clock_speed\",\"clock_speed\",\"clock_speed\",\"clock_speed\",\"clock_speed\",\"clock_speed\",\"clock_speed\",\"clock_speed\",\"clock_speed\",\"clock_speed\",\"clock_speed\",\"clock_speed\",\"clock_speed\",\"clock_speed\",\"clock_speed\",\"clock_speed\",\"clock_speed\",\"clock_speed\",\"clock_speed\",\"clock_speed\",\"clock_speed\",\"clock_speed\",\"clock_speed\",\"clock_speed\",\"clock_speed\",\"clock_speed\",\"clock_speed\",\"clock_speed\",\"clock_speed\",\"clock_speed\",\"clock_speed\",\"clock_speed\",\"clock_speed\",\"clock_speed\",\"clock_speed\",\"clock_speed\",\"clock_speed\",\"clock_speed\",\"clock_speed\",\"clock_speed\",\"clock_speed\",\"clock_speed\",\"clock_speed\",\"clock_speed\",\"clock_speed\",\"clock_speed\",\"clock_speed\",\"clock_speed\",\"clock_speed\",\"clock_speed\",\"clock_speed\",\"clock_speed\",\"clock_speed\",\"clock_speed\",\"clock_speed\",\"clock_speed\",\"clock_speed\",\"clock_speed\",\"clock_speed\",\"clock_speed\",\"clock_speed\",\"clock_speed\",\"clock_speed\",\"clock_speed\",\"clock_speed\",\"clock_speed\",\"clock_speed\",\"clock_speed\",\"clock_speed\",\"clock_speed\",\"clock_speed\",\"clock_speed\",\"clock_speed\",\"clock_speed\",\"clock_speed\",\"clock_speed\",\"clock_speed\",\"clock_speed\",\"clock_speed\",\"clock_speed\",\"clock_speed\",\"clock_speed\",\"clock_speed\",\"clock_speed\",\"clock_speed\",\"clock_speed\",\"clock_speed\",\"clock_speed\",\"clock_speed\",\"clock_speed\",\"clock_speed\",\"clock_speed\",\"clock_speed\",\"clock_speed\",\"clock_speed\",\"clock_speed\",\"clock_speed\",\"clock_speed\",\"clock_speed\",\"clock_speed\",\"clock_speed\",\"clock_speed\",\"clock_speed\",\"clock_speed\",\"clock_speed\",\"clock_speed\",\"clock_speed\",\"clock_speed\",\"clock_speed\",\"clock_speed\",\"clock_speed\",\"clock_speed\",\"clock_speed\",\"clock_speed\",\"clock_speed\",\"clock_speed\",\"clock_speed\",\"clock_speed\",\"clock_speed\",\"clock_speed\",\"clock_speed\",\"clock_speed\",\"clock_speed\",\"clock_speed\",\"clock_speed\",\"clock_speed\",\"clock_speed\",\"clock_speed\",\"clock_speed\",\"clock_speed\",\"clock_speed\",\"clock_speed\",\"clock_speed\",\"clock_speed\",\"clock_speed\",\"clock_speed\",\"clock_speed\",\"clock_speed\",\"clock_speed\",\"clock_speed\",\"clock_speed\",\"clock_speed\",\"clock_speed\",\"clock_speed\",\"clock_speed\",\"clock_speed\",\"clock_speed\",\"clock_speed\",\"clock_speed\",\"clock_speed\",\"clock_speed\",\"clock_speed\",\"clock_speed\",\"clock_speed\",\"clock_speed\",\"clock_speed\",\"clock_speed\",\"clock_speed\",\"clock_speed\",\"clock_speed\",\"clock_speed\",\"clock_speed\",\"clock_speed\",\"clock_speed\",\"clock_speed\",\"clock_speed\",\"clock_speed\",\"clock_speed\",\"clock_speed\",\"clock_speed\",\"clock_speed\",\"clock_speed\",\"clock_speed\",\"clock_speed\",\"clock_speed\",\"clock_speed\",\"clock_speed\",\"clock_speed\",\"clock_speed\",\"clock_speed\",\"clock_speed\",\"clock_speed\",\"clock_speed\",\"clock_speed\",\"clock_speed\",\"clock_speed\",\"clock_speed\",\"clock_speed\",\"clock_speed\",\"clock_speed\",\"clock_speed\",\"clock_speed\",\"clock_speed\",\"clock_speed\",\"clock_speed\",\"clock_speed\",\"clock_speed\",\"clock_speed\",\"clock_speed\",\"clock_speed\",\"clock_speed\",\"clock_speed\",\"clock_speed\",\"clock_speed\",\"clock_speed\",\"clock_speed\",\"clock_speed\",\"clock_speed\",\"clock_speed\",\"clock_speed\",\"clock_speed\",\"clock_speed\",\"clock_speed\",\"clock_speed\",\"clock_speed\",\"clock_speed\",\"clock_speed\",\"clock_speed\",\"clock_speed\",\"clock_speed\",\"clock_speed\",\"clock_speed\",\"clock_speed\",\"clock_speed\",\"clock_speed\",\"clock_speed\",\"clock_speed\",\"clock_speed\",\"clock_speed\",\"clock_speed\",\"clock_speed\",\"clock_speed\",\"clock_speed\",\"clock_speed\",\"clock_speed\",\"clock_speed\",\"clock_speed\",\"clock_speed\",\"clock_speed\",\"clock_speed\",\"clock_speed\",\"clock_speed\",\"clock_speed\",\"clock_speed\",\"clock_speed\",\"clock_speed\",\"clock_speed\",\"clock_speed\",\"clock_speed\",\"clock_speed\",\"clock_speed\",\"clock_speed\",\"clock_speed\",\"clock_speed\",\"clock_speed\",\"clock_speed\",\"clock_speed\",\"clock_speed\",\"clock_speed\",\"clock_speed\",\"clock_speed\",\"clock_speed\",\"clock_speed\",\"clock_speed\",\"clock_speed\",\"clock_speed\",\"clock_speed\",\"clock_speed\",\"clock_speed\",\"clock_speed\",\"clock_speed\",\"clock_speed\",\"clock_speed\",\"clock_speed\",\"clock_speed\",\"clock_speed\",\"clock_speed\",\"clock_speed\",\"clock_speed\",\"clock_speed\",\"clock_speed\",\"clock_speed\",\"clock_speed\",\"clock_speed\",\"clock_speed\",\"clock_speed\",\"clock_speed\",\"clock_speed\",\"clock_speed\",\"clock_speed\",\"clock_speed\",\"clock_speed\",\"clock_speed\",\"clock_speed\",\"clock_speed\",\"clock_speed\",\"clock_speed\",\"clock_speed\",\"clock_speed\",\"clock_speed\",\"clock_speed\",\"clock_speed\",\"clock_speed\",\"clock_speed\",\"clock_speed\",\"clock_speed\",\"clock_speed\",\"clock_speed\",\"clock_speed\",\"clock_speed\",\"clock_speed\",\"clock_speed\",\"clock_speed\",\"clock_speed\",\"clock_speed\",\"clock_speed\",\"clock_speed\",\"clock_speed\",\"clock_speed\",\"clock_speed\",\"clock_speed\",\"clock_speed\",\"clock_speed\",\"clock_speed\",\"clock_speed\",\"clock_speed\",\"clock_speed\",\"clock_speed\",\"clock_speed\",\"clock_speed\",\"clock_speed\",\"clock_speed\",\"clock_speed\",\"clock_speed\",\"clock_speed\",\"clock_speed\",\"clock_speed\",\"clock_speed\",\"clock_speed\",\"clock_speed\",\"clock_speed\",\"clock_speed\",\"clock_speed\",\"clock_speed\",\"clock_speed\",\"clock_speed\",\"clock_speed\",\"clock_speed\",\"clock_speed\",\"clock_speed\",\"clock_speed\",\"clock_speed\",\"clock_speed\",\"clock_speed\",\"clock_speed\",\"clock_speed\",\"clock_speed\",\"clock_speed\",\"clock_speed\",\"clock_speed\",\"clock_speed\",\"clock_speed\",\"clock_speed\",\"clock_speed\",\"clock_speed\",\"clock_speed\",\"clock_speed\",\"clock_speed\",\"clock_speed\",\"clock_speed\",\"clock_speed\",\"clock_speed\",\"clock_speed\",\"clock_speed\",\"clock_speed\",\"clock_speed\",\"clock_speed\",\"clock_speed\",\"clock_speed\",\"clock_speed\",\"clock_speed\",\"clock_speed\",\"clock_speed\",\"clock_speed\",\"clock_speed\",\"clock_speed\",\"clock_speed\",\"clock_speed\",\"clock_speed\",\"clock_speed\",\"clock_speed\",\"clock_speed\",\"clock_speed\",\"clock_speed\",\"clock_speed\",\"clock_speed\",\"clock_speed\",\"clock_speed\",\"clock_speed\",\"clock_speed\",\"clock_speed\",\"clock_speed\",\"clock_speed\",\"clock_speed\",\"clock_speed\",\"clock_speed\",\"clock_speed\",\"clock_speed\",\"clock_speed\",\"clock_speed\",\"clock_speed\",\"clock_speed\",\"clock_speed\",\"clock_speed\",\"clock_speed\",\"clock_speed\",\"clock_speed\",\"clock_speed\",\"clock_speed\",\"clock_speed\",\"clock_speed\",\"clock_speed\",\"clock_speed\",\"clock_speed\",\"clock_speed\",\"clock_speed\",\"clock_speed\",\"clock_speed\",\"clock_speed\",\"clock_speed\",\"clock_speed\",\"clock_speed\",\"clock_speed\",\"clock_speed\",\"clock_speed\",\"clock_speed\",\"clock_speed\",\"clock_speed\",\"clock_speed\",\"clock_speed\"],\"x0\":\" \",\"xaxis\":\"x\",\"y\":[0.5,0.5,2.5,2.1,1.4,1.6,2.0,0.5,2.9,3.0,1.4,0.5,2.1,1.4,2.0,2.6,2.4,2.9,0.5,1.1,2.0,0.5,1.1,1.4,1.6,2.0,2.4,0.5,1.1,0.5,0.5,2.2,3.0,1.6,1.0,0.7,1.5,2.1,2.4,1.2,0.5,1.7,0.8,0.8,0.5,1.3,0.6,2.1,2.5,0.9,2.3,0.5,0.5,1.8,2.6,1.7,0.5,2.9,1.9,1.7,2.2,2.7,1.9,2.5,0.5,1.5,1.6,1.0,2.9,2.1,1.9,0.5,1.8,1.4,2.8,1.5,0.5,1.3,0.8,1.4,2.3,1.8,2.9,2.8,0.6,1.0,0.5,0.5,2.1,2.1,1.5,1.6,1.4,2.6,0.5,1.7,3.0,1.9,0.5,1.9,1.2,2.2,1.5,0.9,1.3,2.8,2.2,0.7,2.3,2.8,2.7,2.0,2.5,0.9,2.3,1.7,0.9,1.2,0.9,2.5,1.1,2.0,1.6,1.7,2.0,0.5,2.2,2.3,0.7,0.5,0.6,0.9,1.6,1.9,2.4,2.2,0.6,1.1,1.2,2.1,1.9,0.5,2.8,0.5,2.3,1.4,0.7,2.7,0.6,1.0,1.5,2.0,1.5,2.6,0.6,0.5,2.3,2.7,0.7,1.3,0.5,0.8,0.5,1.3,2.6,2.5,2.1,0.6,1.2,0.5,1.7,2.5,0.6,0.6,2.5,2.7,0.5,0.9,2.9,0.8,1.6,1.7,2.1,0.8,2.4,1.0,1.2,2.8,2.1,2.4,2.5,0.7,1.3,0.9,0.5,1.9,0.6,2.2,3.0,0.7,1.1,1.4,1.6,2.2,1.7,1.6,0.5,0.5,0.5,0.5,0.5,1.6,1.8,2.3,0.8,2.8,2.5,2.0,0.5,0.5,1.4,2.8,2.9,2.3,2.7,0.5,1.3,1.3,0.7,1.6,0.5,2.5,2.7,0.7,2.0,0.8,1.7,2.2,0.5,0.5,1.2,0.9,2.6,0.5,2.9,1.9,0.7,0.5,0.8,0.5,0.7,1.8,0.5,1.4,2.5,0.5,1.4,2.8,1.1,1.2,0.5,0.5,3.0,2.5,0.5,1.1,1.1,0.5,0.6,0.8,2.6,2.4,0.5,1.6,2.2,2.1,1.9,0.6,1.2,0.7,1.8,1.7,0.5,1.3,3.0,1.2,2.6,1.0,1.3,0.8,2.7,1.4,1.2,2.0,1.3,0.7,0.5,2.2,2.0,2.1,0.5,2.7,0.7,0.5,2.8,1.8,0.7,2.0,0.5,1.7,0.5,1.8,1.4,2.1,2.0,0.5,2.5,1.0,2.0,0.5,0.9,2.3,1.6,2.5,2.8,0.6,0.8,1.4,1.2,2.0,1.0,1.5,2.8,1.4,0.5,1.3,3.0,2.5,1.5,0.5,0.8,0.5,1.3,0.5,1.2,2.3,0.5,0.8,0.5,1.7,2.8,1.1,1.9,1.5,0.5,1.5,2.1,2.7,1.4,1.3,2.1,2.8,2.9,2.5,0.9,2.8,0.9,0.8,1.2,1.0,2.3,0.5,0.5,0.5,0.7,0.5,2.5,2.8,2.5,0.5,1.9,1.8,0.8,3.0,0.7,1.8,0.5,0.5,0.5,0.7,1.2,2.9,0.5,2.3,1.9,2.0,0.5,2.7,0.5,2.0,2.0,0.5,2.2,3.0,2.9,1.9,1.7,2.3,2.3,1.6,0.8,1.1,1.4,2.6,0.5,2.6,2.8,2.8,2.5,0.5,1.5,2.8,0.7,1.0,0.5,1.6,0.5,2.2,2.1,2.9,2.7,2.1,0.5,2.8,1.9,2.7,0.8,2.4,2.3,2.0,2.7,0.5,2.1,1.9,1.6,1.1,1.7,0.5,1.2,2.0,2.5,1.6,2.5,2.2,2.4,0.5,0.5,1.5,0.5,0.5,1.5,0.6,2.1,1.4,1.5,2.2,1.3,0.6,2.8,0.5,2.3,1.7,2.9,1.6,1.2,2.1,1.4,1.5,1.4,1.0,1.0,2.1,0.5,1.6,1.7,0.6,0.5,2.5,0.5,0.5,0.9,2.0,0.5,1.2,1.3,1.8,1.1,1.6,1.8,2.6],\"y0\":\" \",\"yaxis\":\"y\",\"type\":\"box\"},{\"alignmentgroup\":\"True\",\"hovertemplate\":\"color=3\\u003cbr\\u003evariable=%{x}\\u003cbr\\u003evalue=%{y}\\u003cextra\\u003e\\u003c\\u002fextra\\u003e\",\"legendgroup\":\"3\",\"marker\":{\"color\":\"#00cc96\"},\"name\":\"3\",\"notched\":false,\"offsetgroup\":\"3\",\"orientation\":\"v\",\"showlegend\":true,\"x\":[\"clock_speed\",\"clock_speed\",\"clock_speed\",\"clock_speed\",\"clock_speed\",\"clock_speed\",\"clock_speed\",\"clock_speed\",\"clock_speed\",\"clock_speed\",\"clock_speed\",\"clock_speed\",\"clock_speed\",\"clock_speed\",\"clock_speed\",\"clock_speed\",\"clock_speed\",\"clock_speed\",\"clock_speed\",\"clock_speed\",\"clock_speed\",\"clock_speed\",\"clock_speed\",\"clock_speed\",\"clock_speed\",\"clock_speed\",\"clock_speed\",\"clock_speed\",\"clock_speed\",\"clock_speed\",\"clock_speed\",\"clock_speed\",\"clock_speed\",\"clock_speed\",\"clock_speed\",\"clock_speed\",\"clock_speed\",\"clock_speed\",\"clock_speed\",\"clock_speed\",\"clock_speed\",\"clock_speed\",\"clock_speed\",\"clock_speed\",\"clock_speed\",\"clock_speed\",\"clock_speed\",\"clock_speed\",\"clock_speed\",\"clock_speed\",\"clock_speed\",\"clock_speed\",\"clock_speed\",\"clock_speed\",\"clock_speed\",\"clock_speed\",\"clock_speed\",\"clock_speed\",\"clock_speed\",\"clock_speed\",\"clock_speed\",\"clock_speed\",\"clock_speed\",\"clock_speed\",\"clock_speed\",\"clock_speed\",\"clock_speed\",\"clock_speed\",\"clock_speed\",\"clock_speed\",\"clock_speed\",\"clock_speed\",\"clock_speed\",\"clock_speed\",\"clock_speed\",\"clock_speed\",\"clock_speed\",\"clock_speed\",\"clock_speed\",\"clock_speed\",\"clock_speed\",\"clock_speed\",\"clock_speed\",\"clock_speed\",\"clock_speed\",\"clock_speed\",\"clock_speed\",\"clock_speed\",\"clock_speed\",\"clock_speed\",\"clock_speed\",\"clock_speed\",\"clock_speed\",\"clock_speed\",\"clock_speed\",\"clock_speed\",\"clock_speed\",\"clock_speed\",\"clock_speed\",\"clock_speed\",\"clock_speed\",\"clock_speed\",\"clock_speed\",\"clock_speed\",\"clock_speed\",\"clock_speed\",\"clock_speed\",\"clock_speed\",\"clock_speed\",\"clock_speed\",\"clock_speed\",\"clock_speed\",\"clock_speed\",\"clock_speed\",\"clock_speed\",\"clock_speed\",\"clock_speed\",\"clock_speed\",\"clock_speed\",\"clock_speed\",\"clock_speed\",\"clock_speed\",\"clock_speed\",\"clock_speed\",\"clock_speed\",\"clock_speed\",\"clock_speed\",\"clock_speed\",\"clock_speed\",\"clock_speed\",\"clock_speed\",\"clock_speed\",\"clock_speed\",\"clock_speed\",\"clock_speed\",\"clock_speed\",\"clock_speed\",\"clock_speed\",\"clock_speed\",\"clock_speed\",\"clock_speed\",\"clock_speed\",\"clock_speed\",\"clock_speed\",\"clock_speed\",\"clock_speed\",\"clock_speed\",\"clock_speed\",\"clock_speed\",\"clock_speed\",\"clock_speed\",\"clock_speed\",\"clock_speed\",\"clock_speed\",\"clock_speed\",\"clock_speed\",\"clock_speed\",\"clock_speed\",\"clock_speed\",\"clock_speed\",\"clock_speed\",\"clock_speed\",\"clock_speed\",\"clock_speed\",\"clock_speed\",\"clock_speed\",\"clock_speed\",\"clock_speed\",\"clock_speed\",\"clock_speed\",\"clock_speed\",\"clock_speed\",\"clock_speed\",\"clock_speed\",\"clock_speed\",\"clock_speed\",\"clock_speed\",\"clock_speed\",\"clock_speed\",\"clock_speed\",\"clock_speed\",\"clock_speed\",\"clock_speed\",\"clock_speed\",\"clock_speed\",\"clock_speed\",\"clock_speed\",\"clock_speed\",\"clock_speed\",\"clock_speed\",\"clock_speed\",\"clock_speed\",\"clock_speed\",\"clock_speed\",\"clock_speed\",\"clock_speed\",\"clock_speed\",\"clock_speed\",\"clock_speed\",\"clock_speed\",\"clock_speed\",\"clock_speed\",\"clock_speed\",\"clock_speed\",\"clock_speed\",\"clock_speed\",\"clock_speed\",\"clock_speed\",\"clock_speed\",\"clock_speed\",\"clock_speed\",\"clock_speed\",\"clock_speed\",\"clock_speed\",\"clock_speed\",\"clock_speed\",\"clock_speed\",\"clock_speed\",\"clock_speed\",\"clock_speed\",\"clock_speed\",\"clock_speed\",\"clock_speed\",\"clock_speed\",\"clock_speed\",\"clock_speed\",\"clock_speed\",\"clock_speed\",\"clock_speed\",\"clock_speed\",\"clock_speed\",\"clock_speed\",\"clock_speed\",\"clock_speed\",\"clock_speed\",\"clock_speed\",\"clock_speed\",\"clock_speed\",\"clock_speed\",\"clock_speed\",\"clock_speed\",\"clock_speed\",\"clock_speed\",\"clock_speed\",\"clock_speed\",\"clock_speed\",\"clock_speed\",\"clock_speed\",\"clock_speed\",\"clock_speed\",\"clock_speed\",\"clock_speed\",\"clock_speed\",\"clock_speed\",\"clock_speed\",\"clock_speed\",\"clock_speed\",\"clock_speed\",\"clock_speed\",\"clock_speed\",\"clock_speed\",\"clock_speed\",\"clock_speed\",\"clock_speed\",\"clock_speed\",\"clock_speed\",\"clock_speed\",\"clock_speed\",\"clock_speed\",\"clock_speed\",\"clock_speed\",\"clock_speed\",\"clock_speed\",\"clock_speed\",\"clock_speed\",\"clock_speed\",\"clock_speed\",\"clock_speed\",\"clock_speed\",\"clock_speed\",\"clock_speed\",\"clock_speed\",\"clock_speed\",\"clock_speed\",\"clock_speed\",\"clock_speed\",\"clock_speed\",\"clock_speed\",\"clock_speed\",\"clock_speed\",\"clock_speed\",\"clock_speed\",\"clock_speed\",\"clock_speed\",\"clock_speed\",\"clock_speed\",\"clock_speed\",\"clock_speed\",\"clock_speed\",\"clock_speed\",\"clock_speed\",\"clock_speed\",\"clock_speed\",\"clock_speed\",\"clock_speed\",\"clock_speed\",\"clock_speed\",\"clock_speed\",\"clock_speed\",\"clock_speed\",\"clock_speed\",\"clock_speed\",\"clock_speed\",\"clock_speed\",\"clock_speed\",\"clock_speed\",\"clock_speed\",\"clock_speed\",\"clock_speed\",\"clock_speed\",\"clock_speed\",\"clock_speed\",\"clock_speed\",\"clock_speed\",\"clock_speed\",\"clock_speed\",\"clock_speed\",\"clock_speed\",\"clock_speed\",\"clock_speed\",\"clock_speed\",\"clock_speed\",\"clock_speed\",\"clock_speed\",\"clock_speed\",\"clock_speed\",\"clock_speed\",\"clock_speed\",\"clock_speed\",\"clock_speed\",\"clock_speed\",\"clock_speed\",\"clock_speed\",\"clock_speed\",\"clock_speed\",\"clock_speed\",\"clock_speed\",\"clock_speed\",\"clock_speed\",\"clock_speed\",\"clock_speed\",\"clock_speed\",\"clock_speed\",\"clock_speed\",\"clock_speed\",\"clock_speed\",\"clock_speed\",\"clock_speed\",\"clock_speed\",\"clock_speed\",\"clock_speed\",\"clock_speed\",\"clock_speed\",\"clock_speed\",\"clock_speed\",\"clock_speed\",\"clock_speed\",\"clock_speed\",\"clock_speed\",\"clock_speed\",\"clock_speed\",\"clock_speed\",\"clock_speed\",\"clock_speed\",\"clock_speed\",\"clock_speed\",\"clock_speed\",\"clock_speed\",\"clock_speed\",\"clock_speed\",\"clock_speed\",\"clock_speed\",\"clock_speed\",\"clock_speed\",\"clock_speed\",\"clock_speed\",\"clock_speed\",\"clock_speed\",\"clock_speed\",\"clock_speed\",\"clock_speed\",\"clock_speed\",\"clock_speed\",\"clock_speed\",\"clock_speed\",\"clock_speed\",\"clock_speed\",\"clock_speed\",\"clock_speed\",\"clock_speed\",\"clock_speed\",\"clock_speed\",\"clock_speed\",\"clock_speed\",\"clock_speed\",\"clock_speed\",\"clock_speed\",\"clock_speed\",\"clock_speed\",\"clock_speed\",\"clock_speed\",\"clock_speed\",\"clock_speed\",\"clock_speed\",\"clock_speed\",\"clock_speed\",\"clock_speed\",\"clock_speed\",\"clock_speed\",\"clock_speed\",\"clock_speed\",\"clock_speed\",\"clock_speed\",\"clock_speed\",\"clock_speed\",\"clock_speed\",\"clock_speed\",\"clock_speed\",\"clock_speed\",\"clock_speed\",\"clock_speed\",\"clock_speed\",\"clock_speed\",\"clock_speed\",\"clock_speed\",\"clock_speed\",\"clock_speed\",\"clock_speed\",\"clock_speed\",\"clock_speed\",\"clock_speed\",\"clock_speed\",\"clock_speed\",\"clock_speed\",\"clock_speed\",\"clock_speed\",\"clock_speed\",\"clock_speed\",\"clock_speed\",\"clock_speed\",\"clock_speed\",\"clock_speed\",\"clock_speed\",\"clock_speed\",\"clock_speed\",\"clock_speed\",\"clock_speed\",\"clock_speed\",\"clock_speed\",\"clock_speed\",\"clock_speed\",\"clock_speed\",\"clock_speed\",\"clock_speed\",\"clock_speed\",\"clock_speed\",\"clock_speed\",\"clock_speed\",\"clock_speed\",\"clock_speed\",\"clock_speed\",\"clock_speed\",\"clock_speed\",\"clock_speed\",\"clock_speed\",\"clock_speed\",\"clock_speed\",\"clock_speed\",\"clock_speed\",\"clock_speed\",\"clock_speed\",\"clock_speed\",\"clock_speed\",\"clock_speed\",\"clock_speed\",\"clock_speed\",\"clock_speed\",\"clock_speed\",\"clock_speed\",\"clock_speed\",\"clock_speed\",\"clock_speed\",\"clock_speed\",\"clock_speed\",\"clock_speed\",\"clock_speed\",\"clock_speed\",\"clock_speed\",\"clock_speed\",\"clock_speed\"],\"x0\":\" \",\"xaxis\":\"x\",\"y\":[1.7,2.9,2.2,0.5,0.9,1.1,2.1,1.6,0.5,0.5,2.2,1.6,2.3,1.1,2.1,1.5,1.3,1.9,0.5,1.4,1.5,0.5,1.2,2.5,0.6,0.9,2.9,2.0,1.0,0.5,1.9,2.4,2.0,1.5,0.5,2.3,2.4,0.5,1.1,2.8,0.9,2.0,0.5,2.5,1.4,2.4,2.2,2.8,1.4,0.6,0.6,0.5,1.3,2.6,1.2,2.6,1.4,0.5,2.4,1.9,1.1,0.5,0.5,1.1,2.1,2.8,1.4,2.4,1.8,0.5,1.8,2.5,0.5,2.8,1.0,1.6,2.6,0.5,0.8,0.5,2.8,1.5,1.9,2.4,2.1,1.7,0.5,2.6,1.7,0.5,1.5,0.5,0.7,0.5,2.3,1.2,2.7,2.8,2.3,0.7,2.9,2.9,1.5,2.4,2.2,1.8,1.4,1.4,1.7,2.3,1.1,0.5,2.5,2.0,2.7,0.5,0.5,2.0,2.8,2.1,1.3,3.0,2.8,0.5,2.0,0.7,0.5,1.3,1.4,1.6,0.5,0.5,2.8,0.5,0.5,2.2,0.7,0.5,2.8,0.5,1.3,2.5,1.3,2.5,2.4,1.4,1.8,0.5,1.7,0.5,0.5,1.4,0.5,2.6,1.2,2.1,1.3,2.8,0.7,0.8,0.9,0.5,0.5,1.0,1.0,0.5,2.6,1.4,2.8,0.8,2.1,1.8,1.8,1.1,2.9,0.5,0.5,1.5,1.1,1.8,0.5,1.8,2.7,2.7,1.1,1.3,1.3,0.5,2.5,1.2,2.2,2.8,1.4,1.0,2.3,0.5,1.6,2.8,1.4,2.9,1.2,2.1,2.4,2.9,1.6,1.8,2.3,2.2,2.0,0.5,2.8,1.4,1.9,0.5,0.9,0.7,2.1,2.5,1.3,1.4,1.3,2.7,2.0,1.0,0.6,0.5,0.5,0.5,1.6,1.3,1.6,0.6,1.5,2.0,0.5,1.8,0.6,0.7,2.8,1.6,0.6,1.7,2.1,2.9,0.6,0.5,2.3,0.5,0.5,2.0,1.2,1.8,0.5,2.4,2.8,0.7,0.8,1.6,1.1,2.1,1.5,2.3,2.1,0.5,0.5,0.5,0.9,0.5,0.6,2.8,0.6,2.5,0.5,1.6,1.9,3.0,2.3,1.3,0.5,0.5,0.5,0.5,2.5,2.1,2.1,2.1,0.9,2.5,0.5,1.0,0.8,0.8,2.0,0.8,1.3,2.3,2.3,1.9,0.5,1.3,2.9,2.2,1.3,2.1,1.9,1.1,0.8,2.0,2.2,1.5,0.5,1.8,2.2,2.3,2.2,1.6,2.5,0.5,1.6,2.5,2.6,1.6,1.8,0.5,0.5,0.5,0.5,2.3,1.8,0.6,1.8,1.5,0.6,1.4,1.8,1.3,1.2,1.9,1.5,2.6,1.7,1.3,2.6,2.6,1.1,0.5,2.3,0.5,2.3,1.3,0.5,2.8,0.9,1.6,2.5,1.4,2.6,2.9,2.2,1.6,0.5,1.5,0.5,2.1,1.4,0.7,2.2,0.9,0.9,0.5,2.3,0.9,0.6,2.6,2.0,2.1,1.3,1.9,2.9,1.4,1.6,2.3,1.4,2.2,3.0,1.6,1.0,2.3,1.3,1.0,0.5,0.5,2.2,1.4,0.7,1.8,0.6,1.1,0.5,0.5,0.5,1.6,2.7,1.2,2.8,2.7,0.5,0.8,1.1,2.9,0.5,2.9,2.8,2.0,0.5,2.0,3.0,1.3,1.5,1.8,0.5,1.6,1.2,1.7,0.5,1.6,2.8,1.9,0.5,0.5,1.1,2.1,0.5,0.5,1.4,1.1,0.8,0.5,0.5,0.9,0.5,2.3,1.9,0.7,1.6,0.5,2.7,1.0,1.5,2.9,1.3,1.0,0.5,1.9,0.8,2.2,0.5,1.7,2.4,2.1,2.2,1.5,0.5,0.5,1.0,1.2,2.5,2.6,0.7,0.6,2.6,0.5,1.0,1.5,1.7,2.3,2.7,0.5,0.9,1.6,2.4,1.4,1.9,0.5,0.7,1.3,2.7,2.2,2.5,2.1,0.6,2.6,3.0,0.8,2.1,2.0,0.5,2.2,0.9,2.0],\"y0\":\" \",\"yaxis\":\"y\",\"type\":\"box\"},{\"alignmentgroup\":\"True\",\"hovertemplate\":\"color=0\\u003cbr\\u003evariable=%{x}\\u003cbr\\u003evalue=%{y}\\u003cextra\\u003e\\u003c\\u002fextra\\u003e\",\"legendgroup\":\"0\",\"marker\":{\"color\":\"#ab63fa\"},\"name\":\"0\",\"notched\":false,\"offsetgroup\":\"0\",\"orientation\":\"v\",\"showlegend\":true,\"x\":[\"clock_speed\",\"clock_speed\",\"clock_speed\",\"clock_speed\",\"clock_speed\",\"clock_speed\",\"clock_speed\",\"clock_speed\",\"clock_speed\",\"clock_speed\",\"clock_speed\",\"clock_speed\",\"clock_speed\",\"clock_speed\",\"clock_speed\",\"clock_speed\",\"clock_speed\",\"clock_speed\",\"clock_speed\",\"clock_speed\",\"clock_speed\",\"clock_speed\",\"clock_speed\",\"clock_speed\",\"clock_speed\",\"clock_speed\",\"clock_speed\",\"clock_speed\",\"clock_speed\",\"clock_speed\",\"clock_speed\",\"clock_speed\",\"clock_speed\",\"clock_speed\",\"clock_speed\",\"clock_speed\",\"clock_speed\",\"clock_speed\",\"clock_speed\",\"clock_speed\",\"clock_speed\",\"clock_speed\",\"clock_speed\",\"clock_speed\",\"clock_speed\",\"clock_speed\",\"clock_speed\",\"clock_speed\",\"clock_speed\",\"clock_speed\",\"clock_speed\",\"clock_speed\",\"clock_speed\",\"clock_speed\",\"clock_speed\",\"clock_speed\",\"clock_speed\",\"clock_speed\",\"clock_speed\",\"clock_speed\",\"clock_speed\",\"clock_speed\",\"clock_speed\",\"clock_speed\",\"clock_speed\",\"clock_speed\",\"clock_speed\",\"clock_speed\",\"clock_speed\",\"clock_speed\",\"clock_speed\",\"clock_speed\",\"clock_speed\",\"clock_speed\",\"clock_speed\",\"clock_speed\",\"clock_speed\",\"clock_speed\",\"clock_speed\",\"clock_speed\",\"clock_speed\",\"clock_speed\",\"clock_speed\",\"clock_speed\",\"clock_speed\",\"clock_speed\",\"clock_speed\",\"clock_speed\",\"clock_speed\",\"clock_speed\",\"clock_speed\",\"clock_speed\",\"clock_speed\",\"clock_speed\",\"clock_speed\",\"clock_speed\",\"clock_speed\",\"clock_speed\",\"clock_speed\",\"clock_speed\",\"clock_speed\",\"clock_speed\",\"clock_speed\",\"clock_speed\",\"clock_speed\",\"clock_speed\",\"clock_speed\",\"clock_speed\",\"clock_speed\",\"clock_speed\",\"clock_speed\",\"clock_speed\",\"clock_speed\",\"clock_speed\",\"clock_speed\",\"clock_speed\",\"clock_speed\",\"clock_speed\",\"clock_speed\",\"clock_speed\",\"clock_speed\",\"clock_speed\",\"clock_speed\",\"clock_speed\",\"clock_speed\",\"clock_speed\",\"clock_speed\",\"clock_speed\",\"clock_speed\",\"clock_speed\",\"clock_speed\",\"clock_speed\",\"clock_speed\",\"clock_speed\",\"clock_speed\",\"clock_speed\",\"clock_speed\",\"clock_speed\",\"clock_speed\",\"clock_speed\",\"clock_speed\",\"clock_speed\",\"clock_speed\",\"clock_speed\",\"clock_speed\",\"clock_speed\",\"clock_speed\",\"clock_speed\",\"clock_speed\",\"clock_speed\",\"clock_speed\",\"clock_speed\",\"clock_speed\",\"clock_speed\",\"clock_speed\",\"clock_speed\",\"clock_speed\",\"clock_speed\",\"clock_speed\",\"clock_speed\",\"clock_speed\",\"clock_speed\",\"clock_speed\",\"clock_speed\",\"clock_speed\",\"clock_speed\",\"clock_speed\",\"clock_speed\",\"clock_speed\",\"clock_speed\",\"clock_speed\",\"clock_speed\",\"clock_speed\",\"clock_speed\",\"clock_speed\",\"clock_speed\",\"clock_speed\",\"clock_speed\",\"clock_speed\",\"clock_speed\",\"clock_speed\",\"clock_speed\",\"clock_speed\",\"clock_speed\",\"clock_speed\",\"clock_speed\",\"clock_speed\",\"clock_speed\",\"clock_speed\",\"clock_speed\",\"clock_speed\",\"clock_speed\",\"clock_speed\",\"clock_speed\",\"clock_speed\",\"clock_speed\",\"clock_speed\",\"clock_speed\",\"clock_speed\",\"clock_speed\",\"clock_speed\",\"clock_speed\",\"clock_speed\",\"clock_speed\",\"clock_speed\",\"clock_speed\",\"clock_speed\",\"clock_speed\",\"clock_speed\",\"clock_speed\",\"clock_speed\",\"clock_speed\",\"clock_speed\",\"clock_speed\",\"clock_speed\",\"clock_speed\",\"clock_speed\",\"clock_speed\",\"clock_speed\",\"clock_speed\",\"clock_speed\",\"clock_speed\",\"clock_speed\",\"clock_speed\",\"clock_speed\",\"clock_speed\",\"clock_speed\",\"clock_speed\",\"clock_speed\",\"clock_speed\",\"clock_speed\",\"clock_speed\",\"clock_speed\",\"clock_speed\",\"clock_speed\",\"clock_speed\",\"clock_speed\",\"clock_speed\",\"clock_speed\",\"clock_speed\",\"clock_speed\",\"clock_speed\",\"clock_speed\",\"clock_speed\",\"clock_speed\",\"clock_speed\",\"clock_speed\",\"clock_speed\",\"clock_speed\",\"clock_speed\",\"clock_speed\",\"clock_speed\",\"clock_speed\",\"clock_speed\",\"clock_speed\",\"clock_speed\",\"clock_speed\",\"clock_speed\",\"clock_speed\",\"clock_speed\",\"clock_speed\",\"clock_speed\",\"clock_speed\",\"clock_speed\",\"clock_speed\",\"clock_speed\",\"clock_speed\",\"clock_speed\",\"clock_speed\",\"clock_speed\",\"clock_speed\",\"clock_speed\",\"clock_speed\",\"clock_speed\",\"clock_speed\",\"clock_speed\",\"clock_speed\",\"clock_speed\",\"clock_speed\",\"clock_speed\",\"clock_speed\",\"clock_speed\",\"clock_speed\",\"clock_speed\",\"clock_speed\",\"clock_speed\",\"clock_speed\",\"clock_speed\",\"clock_speed\",\"clock_speed\",\"clock_speed\",\"clock_speed\",\"clock_speed\",\"clock_speed\",\"clock_speed\",\"clock_speed\",\"clock_speed\",\"clock_speed\",\"clock_speed\",\"clock_speed\",\"clock_speed\",\"clock_speed\",\"clock_speed\",\"clock_speed\",\"clock_speed\",\"clock_speed\",\"clock_speed\",\"clock_speed\",\"clock_speed\",\"clock_speed\",\"clock_speed\",\"clock_speed\",\"clock_speed\",\"clock_speed\",\"clock_speed\",\"clock_speed\",\"clock_speed\",\"clock_speed\",\"clock_speed\",\"clock_speed\",\"clock_speed\",\"clock_speed\",\"clock_speed\",\"clock_speed\",\"clock_speed\",\"clock_speed\",\"clock_speed\",\"clock_speed\",\"clock_speed\",\"clock_speed\",\"clock_speed\",\"clock_speed\",\"clock_speed\",\"clock_speed\",\"clock_speed\",\"clock_speed\",\"clock_speed\",\"clock_speed\",\"clock_speed\",\"clock_speed\",\"clock_speed\",\"clock_speed\",\"clock_speed\",\"clock_speed\",\"clock_speed\",\"clock_speed\",\"clock_speed\",\"clock_speed\",\"clock_speed\",\"clock_speed\",\"clock_speed\",\"clock_speed\",\"clock_speed\",\"clock_speed\",\"clock_speed\",\"clock_speed\",\"clock_speed\",\"clock_speed\",\"clock_speed\",\"clock_speed\",\"clock_speed\",\"clock_speed\",\"clock_speed\",\"clock_speed\",\"clock_speed\",\"clock_speed\",\"clock_speed\",\"clock_speed\",\"clock_speed\",\"clock_speed\",\"clock_speed\",\"clock_speed\",\"clock_speed\",\"clock_speed\",\"clock_speed\",\"clock_speed\",\"clock_speed\",\"clock_speed\",\"clock_speed\",\"clock_speed\",\"clock_speed\",\"clock_speed\",\"clock_speed\",\"clock_speed\",\"clock_speed\",\"clock_speed\",\"clock_speed\",\"clock_speed\",\"clock_speed\",\"clock_speed\",\"clock_speed\",\"clock_speed\",\"clock_speed\",\"clock_speed\",\"clock_speed\",\"clock_speed\",\"clock_speed\",\"clock_speed\",\"clock_speed\",\"clock_speed\",\"clock_speed\",\"clock_speed\",\"clock_speed\",\"clock_speed\",\"clock_speed\",\"clock_speed\",\"clock_speed\",\"clock_speed\",\"clock_speed\",\"clock_speed\",\"clock_speed\",\"clock_speed\",\"clock_speed\",\"clock_speed\",\"clock_speed\",\"clock_speed\",\"clock_speed\",\"clock_speed\",\"clock_speed\",\"clock_speed\",\"clock_speed\",\"clock_speed\",\"clock_speed\",\"clock_speed\",\"clock_speed\",\"clock_speed\",\"clock_speed\",\"clock_speed\",\"clock_speed\",\"clock_speed\",\"clock_speed\",\"clock_speed\",\"clock_speed\",\"clock_speed\",\"clock_speed\",\"clock_speed\",\"clock_speed\",\"clock_speed\",\"clock_speed\",\"clock_speed\",\"clock_speed\",\"clock_speed\",\"clock_speed\",\"clock_speed\",\"clock_speed\",\"clock_speed\",\"clock_speed\",\"clock_speed\",\"clock_speed\",\"clock_speed\",\"clock_speed\",\"clock_speed\",\"clock_speed\",\"clock_speed\",\"clock_speed\",\"clock_speed\",\"clock_speed\",\"clock_speed\",\"clock_speed\",\"clock_speed\",\"clock_speed\",\"clock_speed\",\"clock_speed\",\"clock_speed\",\"clock_speed\",\"clock_speed\",\"clock_speed\",\"clock_speed\",\"clock_speed\",\"clock_speed\",\"clock_speed\",\"clock_speed\",\"clock_speed\",\"clock_speed\",\"clock_speed\",\"clock_speed\",\"clock_speed\",\"clock_speed\",\"clock_speed\",\"clock_speed\",\"clock_speed\",\"clock_speed\",\"clock_speed\",\"clock_speed\",\"clock_speed\",\"clock_speed\",\"clock_speed\",\"clock_speed\",\"clock_speed\",\"clock_speed\",\"clock_speed\",\"clock_speed\",\"clock_speed\",\"clock_speed\",\"clock_speed\",\"clock_speed\",\"clock_speed\",\"clock_speed\",\"clock_speed\",\"clock_speed\"],\"x0\":\" \",\"xaxis\":\"x\",\"y\":[0.5,0.5,0.6,0.5,1.0,2.8,0.5,0.5,2.7,2.8,2.6,2.7,2.3,1.2,1.1,1.0,2.9,2.8,1.6,2.0,2.3,2.5,2.3,2.5,2.8,2.4,1.4,1.3,1.4,2.4,2.6,1.8,2.1,2.9,2.3,0.5,0.9,0.9,0.5,2.7,2.4,2.1,0.5,1.3,2.2,1.0,1.2,1.6,0.5,1.0,1.8,0.5,0.8,1.3,1.1,2.7,1.4,1.8,0.5,1.5,0.6,2.1,0.8,0.5,1.6,0.5,1.1,0.9,0.9,2.0,1.2,0.9,0.8,1.7,2.1,2.1,2.1,2.3,2.1,1.7,2.0,0.9,0.5,2.6,1.7,1.7,0.6,1.5,1.7,2.4,1.9,0.9,2.5,2.2,2.3,0.5,2.1,2.3,0.9,1.8,0.9,0.5,1.5,2.4,1.6,2.9,0.5,2.1,2.7,1.3,3.0,2.7,2.8,0.5,2.2,1.4,2.3,2.6,0.8,2.4,0.5,2.9,1.6,2.2,2.4,0.5,1.2,1.0,1.1,2.0,2.9,0.6,2.3,2.7,1.0,0.5,2.2,2.3,2.0,1.5,0.9,1.6,2.2,0.5,1.8,0.5,2.5,1.9,0.5,1.7,0.5,2.0,3.0,0.5,0.5,2.2,1.6,0.5,2.6,2.3,0.5,0.5,2.9,2.6,2.9,2.1,1.5,0.7,1.3,1.6,0.5,0.6,0.5,0.5,2.5,0.5,2.9,1.7,2.8,0.5,2.1,0.5,2.4,1.1,1.1,2.5,1.8,1.1,2.9,2.1,1.0,2.2,2.7,0.5,0.6,1.5,0.7,0.9,0.5,0.5,2.0,2.4,1.5,2.3,1.1,2.4,1.2,1.9,2.8,0.7,0.6,2.9,2.7,0.5,2.7,1.7,1.5,3.0,0.5,0.5,1.8,2.0,1.3,2.4,0.5,2.1,2.8,0.5,1.4,1.6,1.7,2.0,1.2,0.5,2.5,2.3,0.5,0.7,3.0,0.5,1.3,0.5,2.6,0.6,0.6,0.5,2.6,1.4,1.7,2.8,2.6,0.5,2.5,2.5,1.4,1.7,1.7,0.5,2.8,0.5,0.5,0.5,0.5,2.6,2.5,2.3,1.1,2.6,0.5,2.5,1.5,0.5,1.5,0.7,2.5,2.6,1.8,0.5,2.5,0.6,2.4,1.9,2.0,0.5,2.8,2.9,1.8,1.6,0.5,1.9,2.8,0.5,0.5,1.8,1.9,2.4,1.8,1.6,0.5,2.6,0.5,2.7,0.5,0.5,0.5,2.5,0.8,0.5,2.5,1.0,1.4,1.8,2.9,0.7,2.4,0.7,1.8,2.8,0.6,0.5,0.6,2.6,1.7,0.5,1.9,0.7,1.2,0.7,1.5,2.2,0.5,2.3,0.5,2.3,2.0,0.5,2.8,0.5,0.5,0.5,2.1,1.6,2.4,1.1,0.7,0.5,0.5,0.5,0.5,2.3,0.5,0.5,0.5,2.7,2.0,0.5,2.9,2.8,2.0,2.2,2.5,1.4,2.7,0.5,0.5,1.7,2.2,2.7,2.3,1.2,0.5,0.5,2.0,3.0,0.5,1.8,2.4,2.6,2.3,2.0,0.5,0.7,1.9,0.6,0.5,0.7,0.5,1.5,1.6,1.9,1.5,1.9,2.4,1.7,2.4,2.8,1.2,0.8,2.7,0.5,2.3,0.8,0.5,2.9,2.8,2.1,3.0,1.9,0.9,1.8,0.5,1.4,1.4,1.0,1.4,0.8,0.6,0.9,2.6,1.1,3.0,1.4,1.9,0.8,0.5,1.3,0.6,0.5,2.3,0.6,1.4,3.0,0.7,0.5,0.5,0.7,0.5,1.7,1.4,0.5,2.6,0.5,0.9,2.4,0.7,1.7,1.6,0.9,0.8,1.8,1.0,2.9,0.6,0.6,1.8,0.5,2.9,1.1,1.4,2.5,1.9,2.7,2.8,0.6,0.9,1.6,2.1,2.7,0.9,2.4,2.9,0.5,1.8,1.0,0.5,0.8,1.2,1.2,2.5,2.7,2.4,1.0,2.4,2.9,0.5,2.9,1.2,2.8,2.7,0.5,0.6,1.4,1.0,0.8,0.5,1.0,2.4,2.9,0.5,0.9],\"y0\":\" \",\"yaxis\":\"y\",\"type\":\"box\"}],                        {\"template\":{\"data\":{\"histogram2dcontour\":[{\"type\":\"histogram2dcontour\",\"colorbar\":{\"outlinewidth\":0,\"ticks\":\"\"},\"colorscale\":[[0.0,\"#0d0887\"],[0.1111111111111111,\"#46039f\"],[0.2222222222222222,\"#7201a8\"],[0.3333333333333333,\"#9c179e\"],[0.4444444444444444,\"#bd3786\"],[0.5555555555555556,\"#d8576b\"],[0.6666666666666666,\"#ed7953\"],[0.7777777777777778,\"#fb9f3a\"],[0.8888888888888888,\"#fdca26\"],[1.0,\"#f0f921\"]]}],\"choropleth\":[{\"type\":\"choropleth\",\"colorbar\":{\"outlinewidth\":0,\"ticks\":\"\"}}],\"histogram2d\":[{\"type\":\"histogram2d\",\"colorbar\":{\"outlinewidth\":0,\"ticks\":\"\"},\"colorscale\":[[0.0,\"#0d0887\"],[0.1111111111111111,\"#46039f\"],[0.2222222222222222,\"#7201a8\"],[0.3333333333333333,\"#9c179e\"],[0.4444444444444444,\"#bd3786\"],[0.5555555555555556,\"#d8576b\"],[0.6666666666666666,\"#ed7953\"],[0.7777777777777778,\"#fb9f3a\"],[0.8888888888888888,\"#fdca26\"],[1.0,\"#f0f921\"]]}],\"heatmap\":[{\"type\":\"heatmap\",\"colorbar\":{\"outlinewidth\":0,\"ticks\":\"\"},\"colorscale\":[[0.0,\"#0d0887\"],[0.1111111111111111,\"#46039f\"],[0.2222222222222222,\"#7201a8\"],[0.3333333333333333,\"#9c179e\"],[0.4444444444444444,\"#bd3786\"],[0.5555555555555556,\"#d8576b\"],[0.6666666666666666,\"#ed7953\"],[0.7777777777777778,\"#fb9f3a\"],[0.8888888888888888,\"#fdca26\"],[1.0,\"#f0f921\"]]}],\"heatmapgl\":[{\"type\":\"heatmapgl\",\"colorbar\":{\"outlinewidth\":0,\"ticks\":\"\"},\"colorscale\":[[0.0,\"#0d0887\"],[0.1111111111111111,\"#46039f\"],[0.2222222222222222,\"#7201a8\"],[0.3333333333333333,\"#9c179e\"],[0.4444444444444444,\"#bd3786\"],[0.5555555555555556,\"#d8576b\"],[0.6666666666666666,\"#ed7953\"],[0.7777777777777778,\"#fb9f3a\"],[0.8888888888888888,\"#fdca26\"],[1.0,\"#f0f921\"]]}],\"contourcarpet\":[{\"type\":\"contourcarpet\",\"colorbar\":{\"outlinewidth\":0,\"ticks\":\"\"}}],\"contour\":[{\"type\":\"contour\",\"colorbar\":{\"outlinewidth\":0,\"ticks\":\"\"},\"colorscale\":[[0.0,\"#0d0887\"],[0.1111111111111111,\"#46039f\"],[0.2222222222222222,\"#7201a8\"],[0.3333333333333333,\"#9c179e\"],[0.4444444444444444,\"#bd3786\"],[0.5555555555555556,\"#d8576b\"],[0.6666666666666666,\"#ed7953\"],[0.7777777777777778,\"#fb9f3a\"],[0.8888888888888888,\"#fdca26\"],[1.0,\"#f0f921\"]]}],\"surface\":[{\"type\":\"surface\",\"colorbar\":{\"outlinewidth\":0,\"ticks\":\"\"},\"colorscale\":[[0.0,\"#0d0887\"],[0.1111111111111111,\"#46039f\"],[0.2222222222222222,\"#7201a8\"],[0.3333333333333333,\"#9c179e\"],[0.4444444444444444,\"#bd3786\"],[0.5555555555555556,\"#d8576b\"],[0.6666666666666666,\"#ed7953\"],[0.7777777777777778,\"#fb9f3a\"],[0.8888888888888888,\"#fdca26\"],[1.0,\"#f0f921\"]]}],\"mesh3d\":[{\"type\":\"mesh3d\",\"colorbar\":{\"outlinewidth\":0,\"ticks\":\"\"}}],\"scatter\":[{\"fillpattern\":{\"fillmode\":\"overlay\",\"size\":10,\"solidity\":0.2},\"type\":\"scatter\"}],\"parcoords\":[{\"type\":\"parcoords\",\"line\":{\"colorbar\":{\"outlinewidth\":0,\"ticks\":\"\"}}}],\"scatterpolargl\":[{\"type\":\"scatterpolargl\",\"marker\":{\"colorbar\":{\"outlinewidth\":0,\"ticks\":\"\"}}}],\"bar\":[{\"error_x\":{\"color\":\"#2a3f5f\"},\"error_y\":{\"color\":\"#2a3f5f\"},\"marker\":{\"line\":{\"color\":\"#E5ECF6\",\"width\":0.5},\"pattern\":{\"fillmode\":\"overlay\",\"size\":10,\"solidity\":0.2}},\"type\":\"bar\"}],\"scattergeo\":[{\"type\":\"scattergeo\",\"marker\":{\"colorbar\":{\"outlinewidth\":0,\"ticks\":\"\"}}}],\"scatterpolar\":[{\"type\":\"scatterpolar\",\"marker\":{\"colorbar\":{\"outlinewidth\":0,\"ticks\":\"\"}}}],\"histogram\":[{\"marker\":{\"pattern\":{\"fillmode\":\"overlay\",\"size\":10,\"solidity\":0.2}},\"type\":\"histogram\"}],\"scattergl\":[{\"type\":\"scattergl\",\"marker\":{\"colorbar\":{\"outlinewidth\":0,\"ticks\":\"\"}}}],\"scatter3d\":[{\"type\":\"scatter3d\",\"line\":{\"colorbar\":{\"outlinewidth\":0,\"ticks\":\"\"}},\"marker\":{\"colorbar\":{\"outlinewidth\":0,\"ticks\":\"\"}}}],\"scattermapbox\":[{\"type\":\"scattermapbox\",\"marker\":{\"colorbar\":{\"outlinewidth\":0,\"ticks\":\"\"}}}],\"scatterternary\":[{\"type\":\"scatterternary\",\"marker\":{\"colorbar\":{\"outlinewidth\":0,\"ticks\":\"\"}}}],\"scattercarpet\":[{\"type\":\"scattercarpet\",\"marker\":{\"colorbar\":{\"outlinewidth\":0,\"ticks\":\"\"}}}],\"carpet\":[{\"aaxis\":{\"endlinecolor\":\"#2a3f5f\",\"gridcolor\":\"white\",\"linecolor\":\"white\",\"minorgridcolor\":\"white\",\"startlinecolor\":\"#2a3f5f\"},\"baxis\":{\"endlinecolor\":\"#2a3f5f\",\"gridcolor\":\"white\",\"linecolor\":\"white\",\"minorgridcolor\":\"white\",\"startlinecolor\":\"#2a3f5f\"},\"type\":\"carpet\"}],\"table\":[{\"cells\":{\"fill\":{\"color\":\"#EBF0F8\"},\"line\":{\"color\":\"white\"}},\"header\":{\"fill\":{\"color\":\"#C8D4E3\"},\"line\":{\"color\":\"white\"}},\"type\":\"table\"}],\"barpolar\":[{\"marker\":{\"line\":{\"color\":\"#E5ECF6\",\"width\":0.5},\"pattern\":{\"fillmode\":\"overlay\",\"size\":10,\"solidity\":0.2}},\"type\":\"barpolar\"}],\"pie\":[{\"automargin\":true,\"type\":\"pie\"}]},\"layout\":{\"autotypenumbers\":\"strict\",\"colorway\":[\"#636efa\",\"#EF553B\",\"#00cc96\",\"#ab63fa\",\"#FFA15A\",\"#19d3f3\",\"#FF6692\",\"#B6E880\",\"#FF97FF\",\"#FECB52\"],\"font\":{\"color\":\"#2a3f5f\"},\"hovermode\":\"closest\",\"hoverlabel\":{\"align\":\"left\"},\"paper_bgcolor\":\"white\",\"plot_bgcolor\":\"#E5ECF6\",\"polar\":{\"bgcolor\":\"#E5ECF6\",\"angularaxis\":{\"gridcolor\":\"white\",\"linecolor\":\"white\",\"ticks\":\"\"},\"radialaxis\":{\"gridcolor\":\"white\",\"linecolor\":\"white\",\"ticks\":\"\"}},\"ternary\":{\"bgcolor\":\"#E5ECF6\",\"aaxis\":{\"gridcolor\":\"white\",\"linecolor\":\"white\",\"ticks\":\"\"},\"baxis\":{\"gridcolor\":\"white\",\"linecolor\":\"white\",\"ticks\":\"\"},\"caxis\":{\"gridcolor\":\"white\",\"linecolor\":\"white\",\"ticks\":\"\"}},\"coloraxis\":{\"colorbar\":{\"outlinewidth\":0,\"ticks\":\"\"}},\"colorscale\":{\"sequential\":[[0.0,\"#0d0887\"],[0.1111111111111111,\"#46039f\"],[0.2222222222222222,\"#7201a8\"],[0.3333333333333333,\"#9c179e\"],[0.4444444444444444,\"#bd3786\"],[0.5555555555555556,\"#d8576b\"],[0.6666666666666666,\"#ed7953\"],[0.7777777777777778,\"#fb9f3a\"],[0.8888888888888888,\"#fdca26\"],[1.0,\"#f0f921\"]],\"sequentialminus\":[[0.0,\"#0d0887\"],[0.1111111111111111,\"#46039f\"],[0.2222222222222222,\"#7201a8\"],[0.3333333333333333,\"#9c179e\"],[0.4444444444444444,\"#bd3786\"],[0.5555555555555556,\"#d8576b\"],[0.6666666666666666,\"#ed7953\"],[0.7777777777777778,\"#fb9f3a\"],[0.8888888888888888,\"#fdca26\"],[1.0,\"#f0f921\"]],\"diverging\":[[0,\"#8e0152\"],[0.1,\"#c51b7d\"],[0.2,\"#de77ae\"],[0.3,\"#f1b6da\"],[0.4,\"#fde0ef\"],[0.5,\"#f7f7f7\"],[0.6,\"#e6f5d0\"],[0.7,\"#b8e186\"],[0.8,\"#7fbc41\"],[0.9,\"#4d9221\"],[1,\"#276419\"]]},\"xaxis\":{\"gridcolor\":\"white\",\"linecolor\":\"white\",\"ticks\":\"\",\"title\":{\"standoff\":15},\"zerolinecolor\":\"white\",\"automargin\":true,\"zerolinewidth\":2},\"yaxis\":{\"gridcolor\":\"white\",\"linecolor\":\"white\",\"ticks\":\"\",\"title\":{\"standoff\":15},\"zerolinecolor\":\"white\",\"automargin\":true,\"zerolinewidth\":2},\"scene\":{\"xaxis\":{\"backgroundcolor\":\"#E5ECF6\",\"gridcolor\":\"white\",\"linecolor\":\"white\",\"showbackground\":true,\"ticks\":\"\",\"zerolinecolor\":\"white\",\"gridwidth\":2},\"yaxis\":{\"backgroundcolor\":\"#E5ECF6\",\"gridcolor\":\"white\",\"linecolor\":\"white\",\"showbackground\":true,\"ticks\":\"\",\"zerolinecolor\":\"white\",\"gridwidth\":2},\"zaxis\":{\"backgroundcolor\":\"#E5ECF6\",\"gridcolor\":\"white\",\"linecolor\":\"white\",\"showbackground\":true,\"ticks\":\"\",\"zerolinecolor\":\"white\",\"gridwidth\":2}},\"shapedefaults\":{\"line\":{\"color\":\"#2a3f5f\"}},\"annotationdefaults\":{\"arrowcolor\":\"#2a3f5f\",\"arrowhead\":0,\"arrowwidth\":1},\"geo\":{\"bgcolor\":\"white\",\"landcolor\":\"#E5ECF6\",\"subunitcolor\":\"white\",\"showland\":true,\"showlakes\":true,\"lakecolor\":\"white\"},\"title\":{\"x\":0.05},\"mapbox\":{\"style\":\"light\"}}},\"xaxis\":{\"anchor\":\"y\",\"domain\":[0.0,1.0],\"title\":{\"text\":\"variable\"}},\"yaxis\":{\"anchor\":\"x\",\"domain\":[0.0,1.0],\"title\":{\"text\":\"value\"}},\"legend\":{\"title\":{\"text\":\"color\"},\"tracegroupgap\":0},\"margin\":{\"t\":60},\"boxmode\":\"group\"},                        {\"responsive\": true}                    ).then(function(){\n",
              "                            \n",
              "var gd = document.getElementById('f16fcc74-0e94-4d0d-a34c-2bc76360b1c9');\n",
              "var x = new MutationObserver(function (mutations, observer) {{\n",
              "        var display = window.getComputedStyle(gd).display;\n",
              "        if (!display || display === 'none') {{\n",
              "            console.log([gd, 'removed!']);\n",
              "            Plotly.purge(gd);\n",
              "            observer.disconnect();\n",
              "        }}\n",
              "}});\n",
              "\n",
              "// Listen for the removal of the full notebook cells\n",
              "var notebookContainer = gd.closest('#notebook-container');\n",
              "if (notebookContainer) {{\n",
              "    x.observe(notebookContainer, {childList: true});\n",
              "}}\n",
              "\n",
              "// Listen for the clearing of the current output cell\n",
              "var outputEl = gd.closest('.output');\n",
              "if (outputEl) {{\n",
              "    x.observe(outputEl, {childList: true});\n",
              "}}\n",
              "\n",
              "                        })                };                            </script>        </div>\n",
              "</body>\n",
              "</html>"
            ]
          },
          "metadata": {},
          "output_type": "display_data"
        }
      ],
      "source": [
        "px.box(datos.clock_speed,\n",
        "       color = datos.price_range)"
      ]
    },
    {
      "cell_type": "code",
      "execution_count": null,
      "metadata": {
        "colab": {
          "base_uri": "https://localhost:8080/",
          "height": 542
        },
        "id": "Pu-xt1nM0bFm",
        "outputId": "7dd7eea3-03b9-4e12-f611-60829d01be10"
      },
      "outputs": [
        {
          "data": {
            "text/html": [
              "<html>\n",
              "<head><meta charset=\"utf-8\" /></head>\n",
              "<body>\n",
              "    <div>            <script src=\"https://cdnjs.cloudflare.com/ajax/libs/mathjax/2.7.5/MathJax.js?config=TeX-AMS-MML_SVG\"></script><script type=\"text/javascript\">if (window.MathJax && window.MathJax.Hub && window.MathJax.Hub.Config) {window.MathJax.Hub.Config({SVG: {font: \"STIX-Web\"}});}</script>                <script type=\"text/javascript\">window.PlotlyConfig = {MathJaxConfig: 'local'};</script>\n",
              "        <script charset=\"utf-8\" src=\"https://cdn.plot.ly/plotly-2.24.1.min.js\"></script>                <div id=\"bd90261e-b280-440c-a543-b415735cb61a\" class=\"plotly-graph-div\" style=\"height:525px; width:100%;\"></div>            <script type=\"text/javascript\">                                    window.PLOTLYENV=window.PLOTLYENV || {};                                    if (document.getElementById(\"bd90261e-b280-440c-a543-b415735cb61a\")) {                    Plotly.newPlot(                        \"bd90261e-b280-440c-a543-b415735cb61a\",                        [{\"alignmentgroup\":\"True\",\"hovertemplate\":\"color=1\\u003cbr\\u003evariable=%{x}\\u003cbr\\u003evalue=%{y}\\u003cextra\\u003e\\u003c\\u002fextra\\u003e\",\"legendgroup\":\"1\",\"marker\":{\"color\":\"#636efa\"},\"name\":\"1\",\"notched\":false,\"offsetgroup\":\"1\",\"orientation\":\"v\",\"showlegend\":true,\"x\":[\"int_memory\",\"int_memory\",\"int_memory\",\"int_memory\",\"int_memory\",\"int_memory\",\"int_memory\",\"int_memory\",\"int_memory\",\"int_memory\",\"int_memory\",\"int_memory\",\"int_memory\",\"int_memory\",\"int_memory\",\"int_memory\",\"int_memory\",\"int_memory\",\"int_memory\",\"int_memory\",\"int_memory\",\"int_memory\",\"int_memory\",\"int_memory\",\"int_memory\",\"int_memory\",\"int_memory\",\"int_memory\",\"int_memory\",\"int_memory\",\"int_memory\",\"int_memory\",\"int_memory\",\"int_memory\",\"int_memory\",\"int_memory\",\"int_memory\",\"int_memory\",\"int_memory\",\"int_memory\",\"int_memory\",\"int_memory\",\"int_memory\",\"int_memory\",\"int_memory\",\"int_memory\",\"int_memory\",\"int_memory\",\"int_memory\",\"int_memory\",\"int_memory\",\"int_memory\",\"int_memory\",\"int_memory\",\"int_memory\",\"int_memory\",\"int_memory\",\"int_memory\",\"int_memory\",\"int_memory\",\"int_memory\",\"int_memory\",\"int_memory\",\"int_memory\",\"int_memory\",\"int_memory\",\"int_memory\",\"int_memory\",\"int_memory\",\"int_memory\",\"int_memory\",\"int_memory\",\"int_memory\",\"int_memory\",\"int_memory\",\"int_memory\",\"int_memory\",\"int_memory\",\"int_memory\",\"int_memory\",\"int_memory\",\"int_memory\",\"int_memory\",\"int_memory\",\"int_memory\",\"int_memory\",\"int_memory\",\"int_memory\",\"int_memory\",\"int_memory\",\"int_memory\",\"int_memory\",\"int_memory\",\"int_memory\",\"int_memory\",\"int_memory\",\"int_memory\",\"int_memory\",\"int_memory\",\"int_memory\",\"int_memory\",\"int_memory\",\"int_memory\",\"int_memory\",\"int_memory\",\"int_memory\",\"int_memory\",\"int_memory\",\"int_memory\",\"int_memory\",\"int_memory\",\"int_memory\",\"int_memory\",\"int_memory\",\"int_memory\",\"int_memory\",\"int_memory\",\"int_memory\",\"int_memory\",\"int_memory\",\"int_memory\",\"int_memory\",\"int_memory\",\"int_memory\",\"int_memory\",\"int_memory\",\"int_memory\",\"int_memory\",\"int_memory\",\"int_memory\",\"int_memory\",\"int_memory\",\"int_memory\",\"int_memory\",\"int_memory\",\"int_memory\",\"int_memory\",\"int_memory\",\"int_memory\",\"int_memory\",\"int_memory\",\"int_memory\",\"int_memory\",\"int_memory\",\"int_memory\",\"int_memory\",\"int_memory\",\"int_memory\",\"int_memory\",\"int_memory\",\"int_memory\",\"int_memory\",\"int_memory\",\"int_memory\",\"int_memory\",\"int_memory\",\"int_memory\",\"int_memory\",\"int_memory\",\"int_memory\",\"int_memory\",\"int_memory\",\"int_memory\",\"int_memory\",\"int_memory\",\"int_memory\",\"int_memory\",\"int_memory\",\"int_memory\",\"int_memory\",\"int_memory\",\"int_memory\",\"int_memory\",\"int_memory\",\"int_memory\",\"int_memory\",\"int_memory\",\"int_memory\",\"int_memory\",\"int_memory\",\"int_memory\",\"int_memory\",\"int_memory\",\"int_memory\",\"int_memory\",\"int_memory\",\"int_memory\",\"int_memory\",\"int_memory\",\"int_memory\",\"int_memory\",\"int_memory\",\"int_memory\",\"int_memory\",\"int_memory\",\"int_memory\",\"int_memory\",\"int_memory\",\"int_memory\",\"int_memory\",\"int_memory\",\"int_memory\",\"int_memory\",\"int_memory\",\"int_memory\",\"int_memory\",\"int_memory\",\"int_memory\",\"int_memory\",\"int_memory\",\"int_memory\",\"int_memory\",\"int_memory\",\"int_memory\",\"int_memory\",\"int_memory\",\"int_memory\",\"int_memory\",\"int_memory\",\"int_memory\",\"int_memory\",\"int_memory\",\"int_memory\",\"int_memory\",\"int_memory\",\"int_memory\",\"int_memory\",\"int_memory\",\"int_memory\",\"int_memory\",\"int_memory\",\"int_memory\",\"int_memory\",\"int_memory\",\"int_memory\",\"int_memory\",\"int_memory\",\"int_memory\",\"int_memory\",\"int_memory\",\"int_memory\",\"int_memory\",\"int_memory\",\"int_memory\",\"int_memory\",\"int_memory\",\"int_memory\",\"int_memory\",\"int_memory\",\"int_memory\",\"int_memory\",\"int_memory\",\"int_memory\",\"int_memory\",\"int_memory\",\"int_memory\",\"int_memory\",\"int_memory\",\"int_memory\",\"int_memory\",\"int_memory\",\"int_memory\",\"int_memory\",\"int_memory\",\"int_memory\",\"int_memory\",\"int_memory\",\"int_memory\",\"int_memory\",\"int_memory\",\"int_memory\",\"int_memory\",\"int_memory\",\"int_memory\",\"int_memory\",\"int_memory\",\"int_memory\",\"int_memory\",\"int_memory\",\"int_memory\",\"int_memory\",\"int_memory\",\"int_memory\",\"int_memory\",\"int_memory\",\"int_memory\",\"int_memory\",\"int_memory\",\"int_memory\",\"int_memory\",\"int_memory\",\"int_memory\",\"int_memory\",\"int_memory\",\"int_memory\",\"int_memory\",\"int_memory\",\"int_memory\",\"int_memory\",\"int_memory\",\"int_memory\",\"int_memory\",\"int_memory\",\"int_memory\",\"int_memory\",\"int_memory\",\"int_memory\",\"int_memory\",\"int_memory\",\"int_memory\",\"int_memory\",\"int_memory\",\"int_memory\",\"int_memory\",\"int_memory\",\"int_memory\",\"int_memory\",\"int_memory\",\"int_memory\",\"int_memory\",\"int_memory\",\"int_memory\",\"int_memory\",\"int_memory\",\"int_memory\",\"int_memory\",\"int_memory\",\"int_memory\",\"int_memory\",\"int_memory\",\"int_memory\",\"int_memory\",\"int_memory\",\"int_memory\",\"int_memory\",\"int_memory\",\"int_memory\",\"int_memory\",\"int_memory\",\"int_memory\",\"int_memory\",\"int_memory\",\"int_memory\",\"int_memory\",\"int_memory\",\"int_memory\",\"int_memory\",\"int_memory\",\"int_memory\",\"int_memory\",\"int_memory\",\"int_memory\",\"int_memory\",\"int_memory\",\"int_memory\",\"int_memory\",\"int_memory\",\"int_memory\",\"int_memory\",\"int_memory\",\"int_memory\",\"int_memory\",\"int_memory\",\"int_memory\",\"int_memory\",\"int_memory\",\"int_memory\",\"int_memory\",\"int_memory\",\"int_memory\",\"int_memory\",\"int_memory\",\"int_memory\",\"int_memory\",\"int_memory\",\"int_memory\",\"int_memory\",\"int_memory\",\"int_memory\",\"int_memory\",\"int_memory\",\"int_memory\",\"int_memory\",\"int_memory\",\"int_memory\",\"int_memory\",\"int_memory\",\"int_memory\",\"int_memory\",\"int_memory\",\"int_memory\",\"int_memory\",\"int_memory\",\"int_memory\",\"int_memory\",\"int_memory\",\"int_memory\",\"int_memory\",\"int_memory\",\"int_memory\",\"int_memory\",\"int_memory\",\"int_memory\",\"int_memory\",\"int_memory\",\"int_memory\",\"int_memory\",\"int_memory\",\"int_memory\",\"int_memory\",\"int_memory\",\"int_memory\",\"int_memory\",\"int_memory\",\"int_memory\",\"int_memory\",\"int_memory\",\"int_memory\",\"int_memory\",\"int_memory\",\"int_memory\",\"int_memory\",\"int_memory\",\"int_memory\",\"int_memory\",\"int_memory\",\"int_memory\",\"int_memory\",\"int_memory\",\"int_memory\",\"int_memory\",\"int_memory\",\"int_memory\",\"int_memory\",\"int_memory\",\"int_memory\",\"int_memory\",\"int_memory\",\"int_memory\",\"int_memory\",\"int_memory\",\"int_memory\",\"int_memory\",\"int_memory\",\"int_memory\",\"int_memory\",\"int_memory\",\"int_memory\",\"int_memory\",\"int_memory\",\"int_memory\",\"int_memory\",\"int_memory\",\"int_memory\",\"int_memory\",\"int_memory\",\"int_memory\",\"int_memory\",\"int_memory\",\"int_memory\",\"int_memory\",\"int_memory\",\"int_memory\",\"int_memory\",\"int_memory\",\"int_memory\",\"int_memory\",\"int_memory\",\"int_memory\",\"int_memory\",\"int_memory\",\"int_memory\",\"int_memory\",\"int_memory\",\"int_memory\",\"int_memory\",\"int_memory\",\"int_memory\",\"int_memory\",\"int_memory\",\"int_memory\",\"int_memory\",\"int_memory\",\"int_memory\",\"int_memory\",\"int_memory\",\"int_memory\",\"int_memory\",\"int_memory\",\"int_memory\",\"int_memory\",\"int_memory\",\"int_memory\",\"int_memory\",\"int_memory\",\"int_memory\",\"int_memory\",\"int_memory\",\"int_memory\",\"int_memory\"],\"x0\":\" \",\"xaxis\":\"x\",\"y\":[7,44,22,33,49,19,47,8,41,60,61,5,34,27,40,16,49,12,42,29,61,57,25,7,31,12,57,39,43,32,40,15,25,2,30,22,31,56,61,46,34,27,44,8,63,6,46,26,36,20,49,17,24,27,42,38,48,7,63,32,59,25,57,38,28,3,8,54,6,27,26,42,56,52,38,52,37,64,64,26,13,20,9,20,7,2,52,44,64,21,52,36,14,8,23,39,57,28,48,54,63,54,7,20,28,64,17,36,11,26,51,35,54,41,28,51,61,45,27,20,15,31,6,19,45,9,12,46,17,51,39,21,16,19,50,35,41,45,14,3,52,40,64,40,7,28,4,39,36,48,54,34,35,19,54,15,43,47,25,35,35,45,46,3,62,41,31,57,23,33,57,20,11,3,37,61,51,45,7,34,18,17,16,5,45,25,27,50,10,20,19,16,8,52,27,43,35,41,52,29,4,11,22,36,8,61,45,30,10,53,49,58,63,29,38,9,7,41,13,46,47,36,7,55,46,38,14,47,47,19,11,19,48,27,34,51,64,61,37,4,12,28,46,39,22,21,35,37,27,19,18,28,17,60,62,10,14,33,30,55,18,10,35,32,55,35,36,12,50,55,14,8,51,32,44,35,2,49,44,57,2,60,49,45,41,22,51,5,11,29,64,50,59,47,20,41,52,7,39,7,4,12,46,12,10,28,58,19,30,42,5,23,6,32,13,27,42,17,39,60,16,24,14,47,44,10,42,14,63,9,57,31,11,14,63,62,2,29,14,21,60,14,30,50,6,19,37,9,41,44,40,53,5,44,12,31,22,57,44,42,33,20,11,63,10,5,12,31,50,22,12,64,21,60,36,35,3,27,42,33,57,50,30,55,57,45,39,23,36,28,16,3,49,15,26,31,62,42,35,39,17,21,41,62,38,30,44,47,5,45,5,59,7,50,27,16,10,13,4,16,46,2,9,25,23,37,7,41,17,53,21,47,21,21,5,24,12,28,52,57,50,44,23,16,26,23,51,15,64,64,12,11,47,60,30,55,63,5,17,57,26,37,45,3,2,64,53,2,15,46,21,38,2,41,62,41,12,40,33,30,2,21,7,25,27,18,24,55,40,42,25,33,53,9,4,6,37,58,57,15],\"y0\":\" \",\"yaxis\":\"y\",\"type\":\"box\"},{\"alignmentgroup\":\"True\",\"hovertemplate\":\"color=2\\u003cbr\\u003evariable=%{x}\\u003cbr\\u003evalue=%{y}\\u003cextra\\u003e\\u003c\\u002fextra\\u003e\",\"legendgroup\":\"2\",\"marker\":{\"color\":\"#EF553B\"},\"name\":\"2\",\"notched\":false,\"offsetgroup\":\"2\",\"orientation\":\"v\",\"showlegend\":true,\"x\":[\"int_memory\",\"int_memory\",\"int_memory\",\"int_memory\",\"int_memory\",\"int_memory\",\"int_memory\",\"int_memory\",\"int_memory\",\"int_memory\",\"int_memory\",\"int_memory\",\"int_memory\",\"int_memory\",\"int_memory\",\"int_memory\",\"int_memory\",\"int_memory\",\"int_memory\",\"int_memory\",\"int_memory\",\"int_memory\",\"int_memory\",\"int_memory\",\"int_memory\",\"int_memory\",\"int_memory\",\"int_memory\",\"int_memory\",\"int_memory\",\"int_memory\",\"int_memory\",\"int_memory\",\"int_memory\",\"int_memory\",\"int_memory\",\"int_memory\",\"int_memory\",\"int_memory\",\"int_memory\",\"int_memory\",\"int_memory\",\"int_memory\",\"int_memory\",\"int_memory\",\"int_memory\",\"int_memory\",\"int_memory\",\"int_memory\",\"int_memory\",\"int_memory\",\"int_memory\",\"int_memory\",\"int_memory\",\"int_memory\",\"int_memory\",\"int_memory\",\"int_memory\",\"int_memory\",\"int_memory\",\"int_memory\",\"int_memory\",\"int_memory\",\"int_memory\",\"int_memory\",\"int_memory\",\"int_memory\",\"int_memory\",\"int_memory\",\"int_memory\",\"int_memory\",\"int_memory\",\"int_memory\",\"int_memory\",\"int_memory\",\"int_memory\",\"int_memory\",\"int_memory\",\"int_memory\",\"int_memory\",\"int_memory\",\"int_memory\",\"int_memory\",\"int_memory\",\"int_memory\",\"int_memory\",\"int_memory\",\"int_memory\",\"int_memory\",\"int_memory\",\"int_memory\",\"int_memory\",\"int_memory\",\"int_memory\",\"int_memory\",\"int_memory\",\"int_memory\",\"int_memory\",\"int_memory\",\"int_memory\",\"int_memory\",\"int_memory\",\"int_memory\",\"int_memory\",\"int_memory\",\"int_memory\",\"int_memory\",\"int_memory\",\"int_memory\",\"int_memory\",\"int_memory\",\"int_memory\",\"int_memory\",\"int_memory\",\"int_memory\",\"int_memory\",\"int_memory\",\"int_memory\",\"int_memory\",\"int_memory\",\"int_memory\",\"int_memory\",\"int_memory\",\"int_memory\",\"int_memory\",\"int_memory\",\"int_memory\",\"int_memory\",\"int_memory\",\"int_memory\",\"int_memory\",\"int_memory\",\"int_memory\",\"int_memory\",\"int_memory\",\"int_memory\",\"int_memory\",\"int_memory\",\"int_memory\",\"int_memory\",\"int_memory\",\"int_memory\",\"int_memory\",\"int_memory\",\"int_memory\",\"int_memory\",\"int_memory\",\"int_memory\",\"int_memory\",\"int_memory\",\"int_memory\",\"int_memory\",\"int_memory\",\"int_memory\",\"int_memory\",\"int_memory\",\"int_memory\",\"int_memory\",\"int_memory\",\"int_memory\",\"int_memory\",\"int_memory\",\"int_memory\",\"int_memory\",\"int_memory\",\"int_memory\",\"int_memory\",\"int_memory\",\"int_memory\",\"int_memory\",\"int_memory\",\"int_memory\",\"int_memory\",\"int_memory\",\"int_memory\",\"int_memory\",\"int_memory\",\"int_memory\",\"int_memory\",\"int_memory\",\"int_memory\",\"int_memory\",\"int_memory\",\"int_memory\",\"int_memory\",\"int_memory\",\"int_memory\",\"int_memory\",\"int_memory\",\"int_memory\",\"int_memory\",\"int_memory\",\"int_memory\",\"int_memory\",\"int_memory\",\"int_memory\",\"int_memory\",\"int_memory\",\"int_memory\",\"int_memory\",\"int_memory\",\"int_memory\",\"int_memory\",\"int_memory\",\"int_memory\",\"int_memory\",\"int_memory\",\"int_memory\",\"int_memory\",\"int_memory\",\"int_memory\",\"int_memory\",\"int_memory\",\"int_memory\",\"int_memory\",\"int_memory\",\"int_memory\",\"int_memory\",\"int_memory\",\"int_memory\",\"int_memory\",\"int_memory\",\"int_memory\",\"int_memory\",\"int_memory\",\"int_memory\",\"int_memory\",\"int_memory\",\"int_memory\",\"int_memory\",\"int_memory\",\"int_memory\",\"int_memory\",\"int_memory\",\"int_memory\",\"int_memory\",\"int_memory\",\"int_memory\",\"int_memory\",\"int_memory\",\"int_memory\",\"int_memory\",\"int_memory\",\"int_memory\",\"int_memory\",\"int_memory\",\"int_memory\",\"int_memory\",\"int_memory\",\"int_memory\",\"int_memory\",\"int_memory\",\"int_memory\",\"int_memory\",\"int_memory\",\"int_memory\",\"int_memory\",\"int_memory\",\"int_memory\",\"int_memory\",\"int_memory\",\"int_memory\",\"int_memory\",\"int_memory\",\"int_memory\",\"int_memory\",\"int_memory\",\"int_memory\",\"int_memory\",\"int_memory\",\"int_memory\",\"int_memory\",\"int_memory\",\"int_memory\",\"int_memory\",\"int_memory\",\"int_memory\",\"int_memory\",\"int_memory\",\"int_memory\",\"int_memory\",\"int_memory\",\"int_memory\",\"int_memory\",\"int_memory\",\"int_memory\",\"int_memory\",\"int_memory\",\"int_memory\",\"int_memory\",\"int_memory\",\"int_memory\",\"int_memory\",\"int_memory\",\"int_memory\",\"int_memory\",\"int_memory\",\"int_memory\",\"int_memory\",\"int_memory\",\"int_memory\",\"int_memory\",\"int_memory\",\"int_memory\",\"int_memory\",\"int_memory\",\"int_memory\",\"int_memory\",\"int_memory\",\"int_memory\",\"int_memory\",\"int_memory\",\"int_memory\",\"int_memory\",\"int_memory\",\"int_memory\",\"int_memory\",\"int_memory\",\"int_memory\",\"int_memory\",\"int_memory\",\"int_memory\",\"int_memory\",\"int_memory\",\"int_memory\",\"int_memory\",\"int_memory\",\"int_memory\",\"int_memory\",\"int_memory\",\"int_memory\",\"int_memory\",\"int_memory\",\"int_memory\",\"int_memory\",\"int_memory\",\"int_memory\",\"int_memory\",\"int_memory\",\"int_memory\",\"int_memory\",\"int_memory\",\"int_memory\",\"int_memory\",\"int_memory\",\"int_memory\",\"int_memory\",\"int_memory\",\"int_memory\",\"int_memory\",\"int_memory\",\"int_memory\",\"int_memory\",\"int_memory\",\"int_memory\",\"int_memory\",\"int_memory\",\"int_memory\",\"int_memory\",\"int_memory\",\"int_memory\",\"int_memory\",\"int_memory\",\"int_memory\",\"int_memory\",\"int_memory\",\"int_memory\",\"int_memory\",\"int_memory\",\"int_memory\",\"int_memory\",\"int_memory\",\"int_memory\",\"int_memory\",\"int_memory\",\"int_memory\",\"int_memory\",\"int_memory\",\"int_memory\",\"int_memory\",\"int_memory\",\"int_memory\",\"int_memory\",\"int_memory\",\"int_memory\",\"int_memory\",\"int_memory\",\"int_memory\",\"int_memory\",\"int_memory\",\"int_memory\",\"int_memory\",\"int_memory\",\"int_memory\",\"int_memory\",\"int_memory\",\"int_memory\",\"int_memory\",\"int_memory\",\"int_memory\",\"int_memory\",\"int_memory\",\"int_memory\",\"int_memory\",\"int_memory\",\"int_memory\",\"int_memory\",\"int_memory\",\"int_memory\",\"int_memory\",\"int_memory\",\"int_memory\",\"int_memory\",\"int_memory\",\"int_memory\",\"int_memory\",\"int_memory\",\"int_memory\",\"int_memory\",\"int_memory\",\"int_memory\",\"int_memory\",\"int_memory\",\"int_memory\",\"int_memory\",\"int_memory\",\"int_memory\",\"int_memory\",\"int_memory\",\"int_memory\",\"int_memory\",\"int_memory\",\"int_memory\",\"int_memory\",\"int_memory\",\"int_memory\",\"int_memory\",\"int_memory\",\"int_memory\",\"int_memory\",\"int_memory\",\"int_memory\",\"int_memory\",\"int_memory\",\"int_memory\",\"int_memory\",\"int_memory\",\"int_memory\",\"int_memory\",\"int_memory\",\"int_memory\",\"int_memory\",\"int_memory\",\"int_memory\",\"int_memory\",\"int_memory\",\"int_memory\",\"int_memory\",\"int_memory\",\"int_memory\",\"int_memory\",\"int_memory\",\"int_memory\",\"int_memory\",\"int_memory\",\"int_memory\",\"int_memory\",\"int_memory\",\"int_memory\",\"int_memory\",\"int_memory\",\"int_memory\",\"int_memory\",\"int_memory\",\"int_memory\",\"int_memory\",\"int_memory\",\"int_memory\",\"int_memory\",\"int_memory\",\"int_memory\",\"int_memory\",\"int_memory\",\"int_memory\",\"int_memory\",\"int_memory\",\"int_memory\",\"int_memory\",\"int_memory\",\"int_memory\",\"int_memory\",\"int_memory\",\"int_memory\",\"int_memory\",\"int_memory\",\"int_memory\",\"int_memory\",\"int_memory\",\"int_memory\",\"int_memory\"],\"x0\":\" \",\"xaxis\":\"x\",\"y\":[53,41,10,17,57,52,11,50,44,14,63,51,46,48,55,9,22,64,3,33,54,60,7,53,10,25,58,41,36,16,31,33,47,41,32,37,51,3,10,10,42,25,22,38,5,7,20,23,41,30,61,47,8,23,41,39,25,31,37,6,49,44,10,55,63,57,47,30,62,56,9,8,40,41,49,21,27,47,18,36,22,54,17,10,3,57,42,8,19,17,21,9,46,30,48,59,54,33,12,7,55,13,34,51,49,51,57,43,48,56,64,62,51,48,43,6,22,2,2,27,48,17,39,33,23,15,59,44,2,54,61,12,16,31,49,53,31,7,53,32,30,13,38,20,6,40,35,54,25,11,56,20,16,46,21,44,21,5,2,30,27,3,46,14,64,15,14,50,61,48,27,22,13,34,27,60,22,17,30,25,28,58,49,13,42,15,8,58,16,4,51,63,12,16,27,50,8,11,50,47,2,38,25,56,6,5,52,48,2,11,30,39,16,58,10,56,21,6,15,14,11,34,15,21,30,39,6,31,32,49,8,26,53,23,60,48,13,55,27,23,13,54,46,13,7,8,30,10,28,53,19,53,52,38,18,43,41,52,63,30,64,33,16,51,23,37,14,55,30,58,58,46,22,58,63,9,54,16,52,62,10,10,43,24,56,31,2,14,46,21,28,29,59,16,40,9,51,3,47,11,9,56,52,37,2,34,58,35,57,58,32,56,51,24,5,27,55,16,36,62,4,35,24,21,54,6,19,8,15,12,36,56,44,2,27,29,34,5,36,58,42,51,7,2,31,40,39,62,23,6,40,17,42,18,27,63,10,32,15,6,34,10,64,13,50,50,33,28,40,2,44,9,3,43,60,15,11,23,8,60,11,6,16,19,5,40,15,27,15,55,28,2,26,14,50,14,16,42,24,22,35,7,7,30,53,27,33,58,15,37,52,48,15,56,4,8,41,57,63,61,42,32,51,17,49,4,12,33,33,20,2,54,14,7,2,5,28,9,44,8,15,17,19,52,42,45,43,26,40,22,44,48,7,19,23,28,34,20,2,58,53,26,56,17,41,21,12,24,9,53,20,17,39,2,27,52,13,9,47,18,23,37,14,35,8,37,49,4,16,6,64,27,16,14,6,29,18,41,34,39],\"y0\":\" \",\"yaxis\":\"y\",\"type\":\"box\"},{\"alignmentgroup\":\"True\",\"hovertemplate\":\"color=3\\u003cbr\\u003evariable=%{x}\\u003cbr\\u003evalue=%{y}\\u003cextra\\u003e\\u003c\\u002fextra\\u003e\",\"legendgroup\":\"3\",\"marker\":{\"color\":\"#00cc96\"},\"name\":\"3\",\"notched\":false,\"offsetgroup\":\"3\",\"orientation\":\"v\",\"showlegend\":true,\"x\":[\"int_memory\",\"int_memory\",\"int_memory\",\"int_memory\",\"int_memory\",\"int_memory\",\"int_memory\",\"int_memory\",\"int_memory\",\"int_memory\",\"int_memory\",\"int_memory\",\"int_memory\",\"int_memory\",\"int_memory\",\"int_memory\",\"int_memory\",\"int_memory\",\"int_memory\",\"int_memory\",\"int_memory\",\"int_memory\",\"int_memory\",\"int_memory\",\"int_memory\",\"int_memory\",\"int_memory\",\"int_memory\",\"int_memory\",\"int_memory\",\"int_memory\",\"int_memory\",\"int_memory\",\"int_memory\",\"int_memory\",\"int_memory\",\"int_memory\",\"int_memory\",\"int_memory\",\"int_memory\",\"int_memory\",\"int_memory\",\"int_memory\",\"int_memory\",\"int_memory\",\"int_memory\",\"int_memory\",\"int_memory\",\"int_memory\",\"int_memory\",\"int_memory\",\"int_memory\",\"int_memory\",\"int_memory\",\"int_memory\",\"int_memory\",\"int_memory\",\"int_memory\",\"int_memory\",\"int_memory\",\"int_memory\",\"int_memory\",\"int_memory\",\"int_memory\",\"int_memory\",\"int_memory\",\"int_memory\",\"int_memory\",\"int_memory\",\"int_memory\",\"int_memory\",\"int_memory\",\"int_memory\",\"int_memory\",\"int_memory\",\"int_memory\",\"int_memory\",\"int_memory\",\"int_memory\",\"int_memory\",\"int_memory\",\"int_memory\",\"int_memory\",\"int_memory\",\"int_memory\",\"int_memory\",\"int_memory\",\"int_memory\",\"int_memory\",\"int_memory\",\"int_memory\",\"int_memory\",\"int_memory\",\"int_memory\",\"int_memory\",\"int_memory\",\"int_memory\",\"int_memory\",\"int_memory\",\"int_memory\",\"int_memory\",\"int_memory\",\"int_memory\",\"int_memory\",\"int_memory\",\"int_memory\",\"int_memory\",\"int_memory\",\"int_memory\",\"int_memory\",\"int_memory\",\"int_memory\",\"int_memory\",\"int_memory\",\"int_memory\",\"int_memory\",\"int_memory\",\"int_memory\",\"int_memory\",\"int_memory\",\"int_memory\",\"int_memory\",\"int_memory\",\"int_memory\",\"int_memory\",\"int_memory\",\"int_memory\",\"int_memory\",\"int_memory\",\"int_memory\",\"int_memory\",\"int_memory\",\"int_memory\",\"int_memory\",\"int_memory\",\"int_memory\",\"int_memory\",\"int_memory\",\"int_memory\",\"int_memory\",\"int_memory\",\"int_memory\",\"int_memory\",\"int_memory\",\"int_memory\",\"int_memory\",\"int_memory\",\"int_memory\",\"int_memory\",\"int_memory\",\"int_memory\",\"int_memory\",\"int_memory\",\"int_memory\",\"int_memory\",\"int_memory\",\"int_memory\",\"int_memory\",\"int_memory\",\"int_memory\",\"int_memory\",\"int_memory\",\"int_memory\",\"int_memory\",\"int_memory\",\"int_memory\",\"int_memory\",\"int_memory\",\"int_memory\",\"int_memory\",\"int_memory\",\"int_memory\",\"int_memory\",\"int_memory\",\"int_memory\",\"int_memory\",\"int_memory\",\"int_memory\",\"int_memory\",\"int_memory\",\"int_memory\",\"int_memory\",\"int_memory\",\"int_memory\",\"int_memory\",\"int_memory\",\"int_memory\",\"int_memory\",\"int_memory\",\"int_memory\",\"int_memory\",\"int_memory\",\"int_memory\",\"int_memory\",\"int_memory\",\"int_memory\",\"int_memory\",\"int_memory\",\"int_memory\",\"int_memory\",\"int_memory\",\"int_memory\",\"int_memory\",\"int_memory\",\"int_memory\",\"int_memory\",\"int_memory\",\"int_memory\",\"int_memory\",\"int_memory\",\"int_memory\",\"int_memory\",\"int_memory\",\"int_memory\",\"int_memory\",\"int_memory\",\"int_memory\",\"int_memory\",\"int_memory\",\"int_memory\",\"int_memory\",\"int_memory\",\"int_memory\",\"int_memory\",\"int_memory\",\"int_memory\",\"int_memory\",\"int_memory\",\"int_memory\",\"int_memory\",\"int_memory\",\"int_memory\",\"int_memory\",\"int_memory\",\"int_memory\",\"int_memory\",\"int_memory\",\"int_memory\",\"int_memory\",\"int_memory\",\"int_memory\",\"int_memory\",\"int_memory\",\"int_memory\",\"int_memory\",\"int_memory\",\"int_memory\",\"int_memory\",\"int_memory\",\"int_memory\",\"int_memory\",\"int_memory\",\"int_memory\",\"int_memory\",\"int_memory\",\"int_memory\",\"int_memory\",\"int_memory\",\"int_memory\",\"int_memory\",\"int_memory\",\"int_memory\",\"int_memory\",\"int_memory\",\"int_memory\",\"int_memory\",\"int_memory\",\"int_memory\",\"int_memory\",\"int_memory\",\"int_memory\",\"int_memory\",\"int_memory\",\"int_memory\",\"int_memory\",\"int_memory\",\"int_memory\",\"int_memory\",\"int_memory\",\"int_memory\",\"int_memory\",\"int_memory\",\"int_memory\",\"int_memory\",\"int_memory\",\"int_memory\",\"int_memory\",\"int_memory\",\"int_memory\",\"int_memory\",\"int_memory\",\"int_memory\",\"int_memory\",\"int_memory\",\"int_memory\",\"int_memory\",\"int_memory\",\"int_memory\",\"int_memory\",\"int_memory\",\"int_memory\",\"int_memory\",\"int_memory\",\"int_memory\",\"int_memory\",\"int_memory\",\"int_memory\",\"int_memory\",\"int_memory\",\"int_memory\",\"int_memory\",\"int_memory\",\"int_memory\",\"int_memory\",\"int_memory\",\"int_memory\",\"int_memory\",\"int_memory\",\"int_memory\",\"int_memory\",\"int_memory\",\"int_memory\",\"int_memory\",\"int_memory\",\"int_memory\",\"int_memory\",\"int_memory\",\"int_memory\",\"int_memory\",\"int_memory\",\"int_memory\",\"int_memory\",\"int_memory\",\"int_memory\",\"int_memory\",\"int_memory\",\"int_memory\",\"int_memory\",\"int_memory\",\"int_memory\",\"int_memory\",\"int_memory\",\"int_memory\",\"int_memory\",\"int_memory\",\"int_memory\",\"int_memory\",\"int_memory\",\"int_memory\",\"int_memory\",\"int_memory\",\"int_memory\",\"int_memory\",\"int_memory\",\"int_memory\",\"int_memory\",\"int_memory\",\"int_memory\",\"int_memory\",\"int_memory\",\"int_memory\",\"int_memory\",\"int_memory\",\"int_memory\",\"int_memory\",\"int_memory\",\"int_memory\",\"int_memory\",\"int_memory\",\"int_memory\",\"int_memory\",\"int_memory\",\"int_memory\",\"int_memory\",\"int_memory\",\"int_memory\",\"int_memory\",\"int_memory\",\"int_memory\",\"int_memory\",\"int_memory\",\"int_memory\",\"int_memory\",\"int_memory\",\"int_memory\",\"int_memory\",\"int_memory\",\"int_memory\",\"int_memory\",\"int_memory\",\"int_memory\",\"int_memory\",\"int_memory\",\"int_memory\",\"int_memory\",\"int_memory\",\"int_memory\",\"int_memory\",\"int_memory\",\"int_memory\",\"int_memory\",\"int_memory\",\"int_memory\",\"int_memory\",\"int_memory\",\"int_memory\",\"int_memory\",\"int_memory\",\"int_memory\",\"int_memory\",\"int_memory\",\"int_memory\",\"int_memory\",\"int_memory\",\"int_memory\",\"int_memory\",\"int_memory\",\"int_memory\",\"int_memory\",\"int_memory\",\"int_memory\",\"int_memory\",\"int_memory\",\"int_memory\",\"int_memory\",\"int_memory\",\"int_memory\",\"int_memory\",\"int_memory\",\"int_memory\",\"int_memory\",\"int_memory\",\"int_memory\",\"int_memory\",\"int_memory\",\"int_memory\",\"int_memory\",\"int_memory\",\"int_memory\",\"int_memory\",\"int_memory\",\"int_memory\",\"int_memory\",\"int_memory\",\"int_memory\",\"int_memory\",\"int_memory\",\"int_memory\",\"int_memory\",\"int_memory\",\"int_memory\",\"int_memory\",\"int_memory\",\"int_memory\",\"int_memory\",\"int_memory\",\"int_memory\",\"int_memory\",\"int_memory\",\"int_memory\",\"int_memory\",\"int_memory\",\"int_memory\",\"int_memory\",\"int_memory\",\"int_memory\",\"int_memory\",\"int_memory\",\"int_memory\",\"int_memory\",\"int_memory\",\"int_memory\",\"int_memory\",\"int_memory\",\"int_memory\",\"int_memory\",\"int_memory\",\"int_memory\",\"int_memory\",\"int_memory\",\"int_memory\",\"int_memory\",\"int_memory\",\"int_memory\",\"int_memory\",\"int_memory\",\"int_memory\",\"int_memory\",\"int_memory\",\"int_memory\",\"int_memory\",\"int_memory\",\"int_memory\",\"int_memory\",\"int_memory\",\"int_memory\",\"int_memory\",\"int_memory\",\"int_memory\",\"int_memory\"],\"x0\":\" \",\"xaxis\":\"x\",\"y\":[10,9,33,13,23,39,13,51,41,5,51,6,41,42,64,43,61,44,36,30,43,45,43,16,58,45,64,57,7,10,23,42,46,41,22,18,10,52,36,16,31,54,46,43,9,40,56,29,33,58,32,16,23,20,54,46,43,64,57,61,51,35,53,51,13,38,17,49,24,39,9,6,51,37,50,6,18,40,45,61,36,40,16,24,63,16,48,12,58,12,44,50,49,29,64,47,37,2,61,32,34,52,55,42,46,18,44,63,26,23,9,7,57,42,50,19,34,45,44,25,24,17,57,13,3,3,34,64,53,42,37,48,16,61,15,58,34,43,31,5,34,32,50,10,61,57,19,55,14,51,23,26,27,30,38,45,61,50,34,8,32,46,55,23,19,18,5,39,55,44,30,34,16,26,9,9,53,7,50,11,64,12,12,26,38,43,62,39,20,50,49,35,9,49,52,8,21,43,61,35,37,43,45,53,58,14,15,30,64,58,55,42,55,24,53,8,22,21,10,10,44,30,14,25,7,33,4,31,9,21,33,63,48,34,51,16,63,8,9,9,48,53,18,3,40,58,49,12,46,17,27,36,5,27,44,7,34,39,46,38,57,6,52,33,61,19,52,23,59,58,44,21,45,49,29,20,58,31,28,63,23,59,57,63,5,7,3,32,23,31,59,24,35,61,12,45,43,59,57,64,46,16,35,41,31,38,61,51,18,14,7,24,40,39,10,50,24,57,37,35,61,39,43,31,13,49,20,27,13,54,31,6,58,6,9,49,60,42,6,33,58,6,44,59,17,5,17,29,22,12,16,18,14,26,42,32,49,33,56,52,63,26,13,44,59,27,24,13,11,31,44,10,33,29,54,40,36,2,20,4,48,34,14,22,60,24,12,9,59,18,30,44,20,43,34,56,2,11,36,5,59,24,44,6,40,24,39,41,17,16,20,47,62,2,14,40,62,42,61,20,18,54,26,45,49,62,5,35,33,52,48,26,29,42,26,24,11,48,32,28,44,35,57,27,32,23,8,64,11,16,64,47,54,47,16,37,16,19,34,2,5,42,35,6,62,61,49,14,60,19,44,22,24,55,28,8,15,11,63,45,11,45,35,16,63,32,40,21,64,24,5,45,9,27,59,44,18,50,36,45],\"y0\":\" \",\"yaxis\":\"y\",\"type\":\"box\"},{\"alignmentgroup\":\"True\",\"hovertemplate\":\"color=0\\u003cbr\\u003evariable=%{x}\\u003cbr\\u003evalue=%{y}\\u003cextra\\u003e\\u003c\\u002fextra\\u003e\",\"legendgroup\":\"0\",\"marker\":{\"color\":\"#ab63fa\"},\"name\":\"0\",\"notched\":false,\"offsetgroup\":\"0\",\"orientation\":\"v\",\"showlegend\":true,\"x\":[\"int_memory\",\"int_memory\",\"int_memory\",\"int_memory\",\"int_memory\",\"int_memory\",\"int_memory\",\"int_memory\",\"int_memory\",\"int_memory\",\"int_memory\",\"int_memory\",\"int_memory\",\"int_memory\",\"int_memory\",\"int_memory\",\"int_memory\",\"int_memory\",\"int_memory\",\"int_memory\",\"int_memory\",\"int_memory\",\"int_memory\",\"int_memory\",\"int_memory\",\"int_memory\",\"int_memory\",\"int_memory\",\"int_memory\",\"int_memory\",\"int_memory\",\"int_memory\",\"int_memory\",\"int_memory\",\"int_memory\",\"int_memory\",\"int_memory\",\"int_memory\",\"int_memory\",\"int_memory\",\"int_memory\",\"int_memory\",\"int_memory\",\"int_memory\",\"int_memory\",\"int_memory\",\"int_memory\",\"int_memory\",\"int_memory\",\"int_memory\",\"int_memory\",\"int_memory\",\"int_memory\",\"int_memory\",\"int_memory\",\"int_memory\",\"int_memory\",\"int_memory\",\"int_memory\",\"int_memory\",\"int_memory\",\"int_memory\",\"int_memory\",\"int_memory\",\"int_memory\",\"int_memory\",\"int_memory\",\"int_memory\",\"int_memory\",\"int_memory\",\"int_memory\",\"int_memory\",\"int_memory\",\"int_memory\",\"int_memory\",\"int_memory\",\"int_memory\",\"int_memory\",\"int_memory\",\"int_memory\",\"int_memory\",\"int_memory\",\"int_memory\",\"int_memory\",\"int_memory\",\"int_memory\",\"int_memory\",\"int_memory\",\"int_memory\",\"int_memory\",\"int_memory\",\"int_memory\",\"int_memory\",\"int_memory\",\"int_memory\",\"int_memory\",\"int_memory\",\"int_memory\",\"int_memory\",\"int_memory\",\"int_memory\",\"int_memory\",\"int_memory\",\"int_memory\",\"int_memory\",\"int_memory\",\"int_memory\",\"int_memory\",\"int_memory\",\"int_memory\",\"int_memory\",\"int_memory\",\"int_memory\",\"int_memory\",\"int_memory\",\"int_memory\",\"int_memory\",\"int_memory\",\"int_memory\",\"int_memory\",\"int_memory\",\"int_memory\",\"int_memory\",\"int_memory\",\"int_memory\",\"int_memory\",\"int_memory\",\"int_memory\",\"int_memory\",\"int_memory\",\"int_memory\",\"int_memory\",\"int_memory\",\"int_memory\",\"int_memory\",\"int_memory\",\"int_memory\",\"int_memory\",\"int_memory\",\"int_memory\",\"int_memory\",\"int_memory\",\"int_memory\",\"int_memory\",\"int_memory\",\"int_memory\",\"int_memory\",\"int_memory\",\"int_memory\",\"int_memory\",\"int_memory\",\"int_memory\",\"int_memory\",\"int_memory\",\"int_memory\",\"int_memory\",\"int_memory\",\"int_memory\",\"int_memory\",\"int_memory\",\"int_memory\",\"int_memory\",\"int_memory\",\"int_memory\",\"int_memory\",\"int_memory\",\"int_memory\",\"int_memory\",\"int_memory\",\"int_memory\",\"int_memory\",\"int_memory\",\"int_memory\",\"int_memory\",\"int_memory\",\"int_memory\",\"int_memory\",\"int_memory\",\"int_memory\",\"int_memory\",\"int_memory\",\"int_memory\",\"int_memory\",\"int_memory\",\"int_memory\",\"int_memory\",\"int_memory\",\"int_memory\",\"int_memory\",\"int_memory\",\"int_memory\",\"int_memory\",\"int_memory\",\"int_memory\",\"int_memory\",\"int_memory\",\"int_memory\",\"int_memory\",\"int_memory\",\"int_memory\",\"int_memory\",\"int_memory\",\"int_memory\",\"int_memory\",\"int_memory\",\"int_memory\",\"int_memory\",\"int_memory\",\"int_memory\",\"int_memory\",\"int_memory\",\"int_memory\",\"int_memory\",\"int_memory\",\"int_memory\",\"int_memory\",\"int_memory\",\"int_memory\",\"int_memory\",\"int_memory\",\"int_memory\",\"int_memory\",\"int_memory\",\"int_memory\",\"int_memory\",\"int_memory\",\"int_memory\",\"int_memory\",\"int_memory\",\"int_memory\",\"int_memory\",\"int_memory\",\"int_memory\",\"int_memory\",\"int_memory\",\"int_memory\",\"int_memory\",\"int_memory\",\"int_memory\",\"int_memory\",\"int_memory\",\"int_memory\",\"int_memory\",\"int_memory\",\"int_memory\",\"int_memory\",\"int_memory\",\"int_memory\",\"int_memory\",\"int_memory\",\"int_memory\",\"int_memory\",\"int_memory\",\"int_memory\",\"int_memory\",\"int_memory\",\"int_memory\",\"int_memory\",\"int_memory\",\"int_memory\",\"int_memory\",\"int_memory\",\"int_memory\",\"int_memory\",\"int_memory\",\"int_memory\",\"int_memory\",\"int_memory\",\"int_memory\",\"int_memory\",\"int_memory\",\"int_memory\",\"int_memory\",\"int_memory\",\"int_memory\",\"int_memory\",\"int_memory\",\"int_memory\",\"int_memory\",\"int_memory\",\"int_memory\",\"int_memory\",\"int_memory\",\"int_memory\",\"int_memory\",\"int_memory\",\"int_memory\",\"int_memory\",\"int_memory\",\"int_memory\",\"int_memory\",\"int_memory\",\"int_memory\",\"int_memory\",\"int_memory\",\"int_memory\",\"int_memory\",\"int_memory\",\"int_memory\",\"int_memory\",\"int_memory\",\"int_memory\",\"int_memory\",\"int_memory\",\"int_memory\",\"int_memory\",\"int_memory\",\"int_memory\",\"int_memory\",\"int_memory\",\"int_memory\",\"int_memory\",\"int_memory\",\"int_memory\",\"int_memory\",\"int_memory\",\"int_memory\",\"int_memory\",\"int_memory\",\"int_memory\",\"int_memory\",\"int_memory\",\"int_memory\",\"int_memory\",\"int_memory\",\"int_memory\",\"int_memory\",\"int_memory\",\"int_memory\",\"int_memory\",\"int_memory\",\"int_memory\",\"int_memory\",\"int_memory\",\"int_memory\",\"int_memory\",\"int_memory\",\"int_memory\",\"int_memory\",\"int_memory\",\"int_memory\",\"int_memory\",\"int_memory\",\"int_memory\",\"int_memory\",\"int_memory\",\"int_memory\",\"int_memory\",\"int_memory\",\"int_memory\",\"int_memory\",\"int_memory\",\"int_memory\",\"int_memory\",\"int_memory\",\"int_memory\",\"int_memory\",\"int_memory\",\"int_memory\",\"int_memory\",\"int_memory\",\"int_memory\",\"int_memory\",\"int_memory\",\"int_memory\",\"int_memory\",\"int_memory\",\"int_memory\",\"int_memory\",\"int_memory\",\"int_memory\",\"int_memory\",\"int_memory\",\"int_memory\",\"int_memory\",\"int_memory\",\"int_memory\",\"int_memory\",\"int_memory\",\"int_memory\",\"int_memory\",\"int_memory\",\"int_memory\",\"int_memory\",\"int_memory\",\"int_memory\",\"int_memory\",\"int_memory\",\"int_memory\",\"int_memory\",\"int_memory\",\"int_memory\",\"int_memory\",\"int_memory\",\"int_memory\",\"int_memory\",\"int_memory\",\"int_memory\",\"int_memory\",\"int_memory\",\"int_memory\",\"int_memory\",\"int_memory\",\"int_memory\",\"int_memory\",\"int_memory\",\"int_memory\",\"int_memory\",\"int_memory\",\"int_memory\",\"int_memory\",\"int_memory\",\"int_memory\",\"int_memory\",\"int_memory\",\"int_memory\",\"int_memory\",\"int_memory\",\"int_memory\",\"int_memory\",\"int_memory\",\"int_memory\",\"int_memory\",\"int_memory\",\"int_memory\",\"int_memory\",\"int_memory\",\"int_memory\",\"int_memory\",\"int_memory\",\"int_memory\",\"int_memory\",\"int_memory\",\"int_memory\",\"int_memory\",\"int_memory\",\"int_memory\",\"int_memory\",\"int_memory\",\"int_memory\",\"int_memory\",\"int_memory\",\"int_memory\",\"int_memory\",\"int_memory\",\"int_memory\",\"int_memory\",\"int_memory\",\"int_memory\",\"int_memory\",\"int_memory\",\"int_memory\",\"int_memory\",\"int_memory\",\"int_memory\",\"int_memory\",\"int_memory\",\"int_memory\",\"int_memory\",\"int_memory\",\"int_memory\",\"int_memory\",\"int_memory\",\"int_memory\",\"int_memory\",\"int_memory\",\"int_memory\",\"int_memory\",\"int_memory\",\"int_memory\",\"int_memory\",\"int_memory\",\"int_memory\",\"int_memory\",\"int_memory\",\"int_memory\",\"int_memory\",\"int_memory\",\"int_memory\",\"int_memory\",\"int_memory\",\"int_memory\",\"int_memory\",\"int_memory\",\"int_memory\",\"int_memory\",\"int_memory\",\"int_memory\",\"int_memory\",\"int_memory\",\"int_memory\",\"int_memory\",\"int_memory\",\"int_memory\",\"int_memory\",\"int_memory\",\"int_memory\",\"int_memory\",\"int_memory\",\"int_memory\"],\"x0\":\" \",\"xaxis\":\"x\",\"y\":[24,53,9,52,46,38,21,33,22,20,57,60,63,50,10,9,38,9,33,42,15,14,23,37,55,8,4,46,19,3,14,14,64,45,60,6,14,26,29,30,41,4,22,16,63,50,49,29,40,31,11,49,23,30,7,19,4,51,56,28,7,4,2,39,34,56,57,56,29,42,41,14,42,5,63,18,25,48,6,33,50,62,57,36,2,58,26,19,33,17,5,4,11,47,23,50,8,57,3,28,25,44,13,40,4,18,60,26,56,3,41,17,50,54,32,29,7,38,8,37,16,43,21,26,13,32,30,24,24,23,24,5,58,29,17,58,3,11,12,35,56,24,30,58,21,14,31,3,60,25,54,36,21,26,33,44,32,32,45,60,25,19,41,52,19,2,48,21,2,6,54,2,42,25,57,11,34,39,49,56,7,23,45,63,18,11,14,56,46,41,3,52,33,8,25,54,64,57,61,55,55,32,38,16,8,35,35,2,32,64,13,34,47,50,34,27,45,53,12,14,35,30,8,13,33,52,8,50,42,54,34,13,52,54,58,34,11,51,20,3,43,19,57,50,46,13,6,53,33,54,58,55,49,53,57,13,60,14,18,18,42,23,45,27,41,8,39,40,4,62,2,60,14,57,47,18,44,5,9,60,55,12,20,50,40,42,27,15,30,13,62,62,11,27,26,32,20,2,9,56,6,20,10,40,55,32,7,29,49,52,60,12,42,25,37,23,19,46,31,59,52,5,26,41,20,47,14,28,27,42,12,51,15,52,24,57,50,10,52,28,6,30,28,14,29,35,55,40,33,54,15,2,58,19,14,32,18,16,31,22,27,6,11,55,10,20,40,39,21,8,29,48,26,20,40,8,14,20,38,58,38,30,18,42,54,23,39,12,27,43,12,54,19,19,46,8,27,5,58,11,34,28,33,5,11,57,57,24,20,45,36,27,35,56,49,7,27,30,27,20,5,26,21,59,21,10,56,46,16,63,12,30,47,29,11,53,8,60,53,58,27,38,6,51,31,48,60,14,52,44,14,7,16,59,60,2,30,19,19,25,7,29,54,27,5,53,16,10,42,12,56,32,62,30,36,18,13,63,39,10,45,45,33,6,7,21,32,23,36,17,61,3,21,46,10,13,36,21,2,46],\"y0\":\" \",\"yaxis\":\"y\",\"type\":\"box\"}],                        {\"template\":{\"data\":{\"histogram2dcontour\":[{\"type\":\"histogram2dcontour\",\"colorbar\":{\"outlinewidth\":0,\"ticks\":\"\"},\"colorscale\":[[0.0,\"#0d0887\"],[0.1111111111111111,\"#46039f\"],[0.2222222222222222,\"#7201a8\"],[0.3333333333333333,\"#9c179e\"],[0.4444444444444444,\"#bd3786\"],[0.5555555555555556,\"#d8576b\"],[0.6666666666666666,\"#ed7953\"],[0.7777777777777778,\"#fb9f3a\"],[0.8888888888888888,\"#fdca26\"],[1.0,\"#f0f921\"]]}],\"choropleth\":[{\"type\":\"choropleth\",\"colorbar\":{\"outlinewidth\":0,\"ticks\":\"\"}}],\"histogram2d\":[{\"type\":\"histogram2d\",\"colorbar\":{\"outlinewidth\":0,\"ticks\":\"\"},\"colorscale\":[[0.0,\"#0d0887\"],[0.1111111111111111,\"#46039f\"],[0.2222222222222222,\"#7201a8\"],[0.3333333333333333,\"#9c179e\"],[0.4444444444444444,\"#bd3786\"],[0.5555555555555556,\"#d8576b\"],[0.6666666666666666,\"#ed7953\"],[0.7777777777777778,\"#fb9f3a\"],[0.8888888888888888,\"#fdca26\"],[1.0,\"#f0f921\"]]}],\"heatmap\":[{\"type\":\"heatmap\",\"colorbar\":{\"outlinewidth\":0,\"ticks\":\"\"},\"colorscale\":[[0.0,\"#0d0887\"],[0.1111111111111111,\"#46039f\"],[0.2222222222222222,\"#7201a8\"],[0.3333333333333333,\"#9c179e\"],[0.4444444444444444,\"#bd3786\"],[0.5555555555555556,\"#d8576b\"],[0.6666666666666666,\"#ed7953\"],[0.7777777777777778,\"#fb9f3a\"],[0.8888888888888888,\"#fdca26\"],[1.0,\"#f0f921\"]]}],\"heatmapgl\":[{\"type\":\"heatmapgl\",\"colorbar\":{\"outlinewidth\":0,\"ticks\":\"\"},\"colorscale\":[[0.0,\"#0d0887\"],[0.1111111111111111,\"#46039f\"],[0.2222222222222222,\"#7201a8\"],[0.3333333333333333,\"#9c179e\"],[0.4444444444444444,\"#bd3786\"],[0.5555555555555556,\"#d8576b\"],[0.6666666666666666,\"#ed7953\"],[0.7777777777777778,\"#fb9f3a\"],[0.8888888888888888,\"#fdca26\"],[1.0,\"#f0f921\"]]}],\"contourcarpet\":[{\"type\":\"contourcarpet\",\"colorbar\":{\"outlinewidth\":0,\"ticks\":\"\"}}],\"contour\":[{\"type\":\"contour\",\"colorbar\":{\"outlinewidth\":0,\"ticks\":\"\"},\"colorscale\":[[0.0,\"#0d0887\"],[0.1111111111111111,\"#46039f\"],[0.2222222222222222,\"#7201a8\"],[0.3333333333333333,\"#9c179e\"],[0.4444444444444444,\"#bd3786\"],[0.5555555555555556,\"#d8576b\"],[0.6666666666666666,\"#ed7953\"],[0.7777777777777778,\"#fb9f3a\"],[0.8888888888888888,\"#fdca26\"],[1.0,\"#f0f921\"]]}],\"surface\":[{\"type\":\"surface\",\"colorbar\":{\"outlinewidth\":0,\"ticks\":\"\"},\"colorscale\":[[0.0,\"#0d0887\"],[0.1111111111111111,\"#46039f\"],[0.2222222222222222,\"#7201a8\"],[0.3333333333333333,\"#9c179e\"],[0.4444444444444444,\"#bd3786\"],[0.5555555555555556,\"#d8576b\"],[0.6666666666666666,\"#ed7953\"],[0.7777777777777778,\"#fb9f3a\"],[0.8888888888888888,\"#fdca26\"],[1.0,\"#f0f921\"]]}],\"mesh3d\":[{\"type\":\"mesh3d\",\"colorbar\":{\"outlinewidth\":0,\"ticks\":\"\"}}],\"scatter\":[{\"fillpattern\":{\"fillmode\":\"overlay\",\"size\":10,\"solidity\":0.2},\"type\":\"scatter\"}],\"parcoords\":[{\"type\":\"parcoords\",\"line\":{\"colorbar\":{\"outlinewidth\":0,\"ticks\":\"\"}}}],\"scatterpolargl\":[{\"type\":\"scatterpolargl\",\"marker\":{\"colorbar\":{\"outlinewidth\":0,\"ticks\":\"\"}}}],\"bar\":[{\"error_x\":{\"color\":\"#2a3f5f\"},\"error_y\":{\"color\":\"#2a3f5f\"},\"marker\":{\"line\":{\"color\":\"#E5ECF6\",\"width\":0.5},\"pattern\":{\"fillmode\":\"overlay\",\"size\":10,\"solidity\":0.2}},\"type\":\"bar\"}],\"scattergeo\":[{\"type\":\"scattergeo\",\"marker\":{\"colorbar\":{\"outlinewidth\":0,\"ticks\":\"\"}}}],\"scatterpolar\":[{\"type\":\"scatterpolar\",\"marker\":{\"colorbar\":{\"outlinewidth\":0,\"ticks\":\"\"}}}],\"histogram\":[{\"marker\":{\"pattern\":{\"fillmode\":\"overlay\",\"size\":10,\"solidity\":0.2}},\"type\":\"histogram\"}],\"scattergl\":[{\"type\":\"scattergl\",\"marker\":{\"colorbar\":{\"outlinewidth\":0,\"ticks\":\"\"}}}],\"scatter3d\":[{\"type\":\"scatter3d\",\"line\":{\"colorbar\":{\"outlinewidth\":0,\"ticks\":\"\"}},\"marker\":{\"colorbar\":{\"outlinewidth\":0,\"ticks\":\"\"}}}],\"scattermapbox\":[{\"type\":\"scattermapbox\",\"marker\":{\"colorbar\":{\"outlinewidth\":0,\"ticks\":\"\"}}}],\"scatterternary\":[{\"type\":\"scatterternary\",\"marker\":{\"colorbar\":{\"outlinewidth\":0,\"ticks\":\"\"}}}],\"scattercarpet\":[{\"type\":\"scattercarpet\",\"marker\":{\"colorbar\":{\"outlinewidth\":0,\"ticks\":\"\"}}}],\"carpet\":[{\"aaxis\":{\"endlinecolor\":\"#2a3f5f\",\"gridcolor\":\"white\",\"linecolor\":\"white\",\"minorgridcolor\":\"white\",\"startlinecolor\":\"#2a3f5f\"},\"baxis\":{\"endlinecolor\":\"#2a3f5f\",\"gridcolor\":\"white\",\"linecolor\":\"white\",\"minorgridcolor\":\"white\",\"startlinecolor\":\"#2a3f5f\"},\"type\":\"carpet\"}],\"table\":[{\"cells\":{\"fill\":{\"color\":\"#EBF0F8\"},\"line\":{\"color\":\"white\"}},\"header\":{\"fill\":{\"color\":\"#C8D4E3\"},\"line\":{\"color\":\"white\"}},\"type\":\"table\"}],\"barpolar\":[{\"marker\":{\"line\":{\"color\":\"#E5ECF6\",\"width\":0.5},\"pattern\":{\"fillmode\":\"overlay\",\"size\":10,\"solidity\":0.2}},\"type\":\"barpolar\"}],\"pie\":[{\"automargin\":true,\"type\":\"pie\"}]},\"layout\":{\"autotypenumbers\":\"strict\",\"colorway\":[\"#636efa\",\"#EF553B\",\"#00cc96\",\"#ab63fa\",\"#FFA15A\",\"#19d3f3\",\"#FF6692\",\"#B6E880\",\"#FF97FF\",\"#FECB52\"],\"font\":{\"color\":\"#2a3f5f\"},\"hovermode\":\"closest\",\"hoverlabel\":{\"align\":\"left\"},\"paper_bgcolor\":\"white\",\"plot_bgcolor\":\"#E5ECF6\",\"polar\":{\"bgcolor\":\"#E5ECF6\",\"angularaxis\":{\"gridcolor\":\"white\",\"linecolor\":\"white\",\"ticks\":\"\"},\"radialaxis\":{\"gridcolor\":\"white\",\"linecolor\":\"white\",\"ticks\":\"\"}},\"ternary\":{\"bgcolor\":\"#E5ECF6\",\"aaxis\":{\"gridcolor\":\"white\",\"linecolor\":\"white\",\"ticks\":\"\"},\"baxis\":{\"gridcolor\":\"white\",\"linecolor\":\"white\",\"ticks\":\"\"},\"caxis\":{\"gridcolor\":\"white\",\"linecolor\":\"white\",\"ticks\":\"\"}},\"coloraxis\":{\"colorbar\":{\"outlinewidth\":0,\"ticks\":\"\"}},\"colorscale\":{\"sequential\":[[0.0,\"#0d0887\"],[0.1111111111111111,\"#46039f\"],[0.2222222222222222,\"#7201a8\"],[0.3333333333333333,\"#9c179e\"],[0.4444444444444444,\"#bd3786\"],[0.5555555555555556,\"#d8576b\"],[0.6666666666666666,\"#ed7953\"],[0.7777777777777778,\"#fb9f3a\"],[0.8888888888888888,\"#fdca26\"],[1.0,\"#f0f921\"]],\"sequentialminus\":[[0.0,\"#0d0887\"],[0.1111111111111111,\"#46039f\"],[0.2222222222222222,\"#7201a8\"],[0.3333333333333333,\"#9c179e\"],[0.4444444444444444,\"#bd3786\"],[0.5555555555555556,\"#d8576b\"],[0.6666666666666666,\"#ed7953\"],[0.7777777777777778,\"#fb9f3a\"],[0.8888888888888888,\"#fdca26\"],[1.0,\"#f0f921\"]],\"diverging\":[[0,\"#8e0152\"],[0.1,\"#c51b7d\"],[0.2,\"#de77ae\"],[0.3,\"#f1b6da\"],[0.4,\"#fde0ef\"],[0.5,\"#f7f7f7\"],[0.6,\"#e6f5d0\"],[0.7,\"#b8e186\"],[0.8,\"#7fbc41\"],[0.9,\"#4d9221\"],[1,\"#276419\"]]},\"xaxis\":{\"gridcolor\":\"white\",\"linecolor\":\"white\",\"ticks\":\"\",\"title\":{\"standoff\":15},\"zerolinecolor\":\"white\",\"automargin\":true,\"zerolinewidth\":2},\"yaxis\":{\"gridcolor\":\"white\",\"linecolor\":\"white\",\"ticks\":\"\",\"title\":{\"standoff\":15},\"zerolinecolor\":\"white\",\"automargin\":true,\"zerolinewidth\":2},\"scene\":{\"xaxis\":{\"backgroundcolor\":\"#E5ECF6\",\"gridcolor\":\"white\",\"linecolor\":\"white\",\"showbackground\":true,\"ticks\":\"\",\"zerolinecolor\":\"white\",\"gridwidth\":2},\"yaxis\":{\"backgroundcolor\":\"#E5ECF6\",\"gridcolor\":\"white\",\"linecolor\":\"white\",\"showbackground\":true,\"ticks\":\"\",\"zerolinecolor\":\"white\",\"gridwidth\":2},\"zaxis\":{\"backgroundcolor\":\"#E5ECF6\",\"gridcolor\":\"white\",\"linecolor\":\"white\",\"showbackground\":true,\"ticks\":\"\",\"zerolinecolor\":\"white\",\"gridwidth\":2}},\"shapedefaults\":{\"line\":{\"color\":\"#2a3f5f\"}},\"annotationdefaults\":{\"arrowcolor\":\"#2a3f5f\",\"arrowhead\":0,\"arrowwidth\":1},\"geo\":{\"bgcolor\":\"white\",\"landcolor\":\"#E5ECF6\",\"subunitcolor\":\"white\",\"showland\":true,\"showlakes\":true,\"lakecolor\":\"white\"},\"title\":{\"x\":0.05},\"mapbox\":{\"style\":\"light\"}}},\"xaxis\":{\"anchor\":\"y\",\"domain\":[0.0,1.0],\"title\":{\"text\":\"variable\"}},\"yaxis\":{\"anchor\":\"x\",\"domain\":[0.0,1.0],\"title\":{\"text\":\"value\"}},\"legend\":{\"title\":{\"text\":\"color\"},\"tracegroupgap\":0},\"margin\":{\"t\":60},\"boxmode\":\"group\"},                        {\"responsive\": true}                    ).then(function(){\n",
              "                            \n",
              "var gd = document.getElementById('bd90261e-b280-440c-a543-b415735cb61a');\n",
              "var x = new MutationObserver(function (mutations, observer) {{\n",
              "        var display = window.getComputedStyle(gd).display;\n",
              "        if (!display || display === 'none') {{\n",
              "            console.log([gd, 'removed!']);\n",
              "            Plotly.purge(gd);\n",
              "            observer.disconnect();\n",
              "        }}\n",
              "}});\n",
              "\n",
              "// Listen for the removal of the full notebook cells\n",
              "var notebookContainer = gd.closest('#notebook-container');\n",
              "if (notebookContainer) {{\n",
              "    x.observe(notebookContainer, {childList: true});\n",
              "}}\n",
              "\n",
              "// Listen for the clearing of the current output cell\n",
              "var outputEl = gd.closest('.output');\n",
              "if (outputEl) {{\n",
              "    x.observe(outputEl, {childList: true});\n",
              "}}\n",
              "\n",
              "                        })                };                            </script>        </div>\n",
              "</body>\n",
              "</html>"
            ]
          },
          "metadata": {},
          "output_type": "display_data"
        }
      ],
      "source": [
        "px.box(datos.int_memory,\n",
        "       color = datos.price_range)"
      ]
    },
    {
      "cell_type": "code",
      "execution_count": 3,
      "metadata": {
        "colab": {
          "base_uri": "https://localhost:8080/",
          "height": 542
        },
        "id": "EtUfd0NN0oGx",
        "outputId": "3e37f2a4-d49c-4780-87ef-e900ac98d75d"
      },
      "outputs": [
        {
          "output_type": "display_data",
          "data": {
            "text/html": [
              "<html>\n",
              "<head><meta charset=\"utf-8\" /></head>\n",
              "<body>\n",
              "    <div>            <script src=\"https://cdnjs.cloudflare.com/ajax/libs/mathjax/2.7.5/MathJax.js?config=TeX-AMS-MML_SVG\"></script><script type=\"text/javascript\">if (window.MathJax && window.MathJax.Hub && window.MathJax.Hub.Config) {window.MathJax.Hub.Config({SVG: {font: \"STIX-Web\"}});}</script>                <script type=\"text/javascript\">window.PlotlyConfig = {MathJaxConfig: 'local'};</script>\n",
              "        <script charset=\"utf-8\" src=\"https://cdn.plot.ly/plotly-2.24.1.min.js\"></script>                <div id=\"21348fe2-e844-4f28-8fc1-1d90829dfc93\" class=\"plotly-graph-div\" style=\"height:525px; width:100%;\"></div>            <script type=\"text/javascript\">                                    window.PLOTLYENV=window.PLOTLYENV || {};                                    if (document.getElementById(\"21348fe2-e844-4f28-8fc1-1d90829dfc93\")) {                    Plotly.newPlot(                        \"21348fe2-e844-4f28-8fc1-1d90829dfc93\",                        [{\"alignmentgroup\":\"True\",\"hovertemplate\":\"color=1\\u003cbr\\u003evariable=%{x}\\u003cbr\\u003evalue=%{y}\\u003cextra\\u003e\\u003c\\u002fextra\\u003e\",\"legendgroup\":\"1\",\"marker\":{\"color\":\"#636efa\"},\"name\":\"1\",\"notched\":false,\"offsetgroup\":\"1\",\"orientation\":\"v\",\"showlegend\":true,\"x\":[\"talk_time\",\"talk_time\",\"talk_time\",\"talk_time\",\"talk_time\",\"talk_time\",\"talk_time\",\"talk_time\",\"talk_time\",\"talk_time\",\"talk_time\",\"talk_time\",\"talk_time\",\"talk_time\",\"talk_time\",\"talk_time\",\"talk_time\",\"talk_time\",\"talk_time\",\"talk_time\",\"talk_time\",\"talk_time\",\"talk_time\",\"talk_time\",\"talk_time\",\"talk_time\",\"talk_time\",\"talk_time\",\"talk_time\",\"talk_time\",\"talk_time\",\"talk_time\",\"talk_time\",\"talk_time\",\"talk_time\",\"talk_time\",\"talk_time\",\"talk_time\",\"talk_time\",\"talk_time\",\"talk_time\",\"talk_time\",\"talk_time\",\"talk_time\",\"talk_time\",\"talk_time\",\"talk_time\",\"talk_time\",\"talk_time\",\"talk_time\",\"talk_time\",\"talk_time\",\"talk_time\",\"talk_time\",\"talk_time\",\"talk_time\",\"talk_time\",\"talk_time\",\"talk_time\",\"talk_time\",\"talk_time\",\"talk_time\",\"talk_time\",\"talk_time\",\"talk_time\",\"talk_time\",\"talk_time\",\"talk_time\",\"talk_time\",\"talk_time\",\"talk_time\",\"talk_time\",\"talk_time\",\"talk_time\",\"talk_time\",\"talk_time\",\"talk_time\",\"talk_time\",\"talk_time\",\"talk_time\",\"talk_time\",\"talk_time\",\"talk_time\",\"talk_time\",\"talk_time\",\"talk_time\",\"talk_time\",\"talk_time\",\"talk_time\",\"talk_time\",\"talk_time\",\"talk_time\",\"talk_time\",\"talk_time\",\"talk_time\",\"talk_time\",\"talk_time\",\"talk_time\",\"talk_time\",\"talk_time\",\"talk_time\",\"talk_time\",\"talk_time\",\"talk_time\",\"talk_time\",\"talk_time\",\"talk_time\",\"talk_time\",\"talk_time\",\"talk_time\",\"talk_time\",\"talk_time\",\"talk_time\",\"talk_time\",\"talk_time\",\"talk_time\",\"talk_time\",\"talk_time\",\"talk_time\",\"talk_time\",\"talk_time\",\"talk_time\",\"talk_time\",\"talk_time\",\"talk_time\",\"talk_time\",\"talk_time\",\"talk_time\",\"talk_time\",\"talk_time\",\"talk_time\",\"talk_time\",\"talk_time\",\"talk_time\",\"talk_time\",\"talk_time\",\"talk_time\",\"talk_time\",\"talk_time\",\"talk_time\",\"talk_time\",\"talk_time\",\"talk_time\",\"talk_time\",\"talk_time\",\"talk_time\",\"talk_time\",\"talk_time\",\"talk_time\",\"talk_time\",\"talk_time\",\"talk_time\",\"talk_time\",\"talk_time\",\"talk_time\",\"talk_time\",\"talk_time\",\"talk_time\",\"talk_time\",\"talk_time\",\"talk_time\",\"talk_time\",\"talk_time\",\"talk_time\",\"talk_time\",\"talk_time\",\"talk_time\",\"talk_time\",\"talk_time\",\"talk_time\",\"talk_time\",\"talk_time\",\"talk_time\",\"talk_time\",\"talk_time\",\"talk_time\",\"talk_time\",\"talk_time\",\"talk_time\",\"talk_time\",\"talk_time\",\"talk_time\",\"talk_time\",\"talk_time\",\"talk_time\",\"talk_time\",\"talk_time\",\"talk_time\",\"talk_time\",\"talk_time\",\"talk_time\",\"talk_time\",\"talk_time\",\"talk_time\",\"talk_time\",\"talk_time\",\"talk_time\",\"talk_time\",\"talk_time\",\"talk_time\",\"talk_time\",\"talk_time\",\"talk_time\",\"talk_time\",\"talk_time\",\"talk_time\",\"talk_time\",\"talk_time\",\"talk_time\",\"talk_time\",\"talk_time\",\"talk_time\",\"talk_time\",\"talk_time\",\"talk_time\",\"talk_time\",\"talk_time\",\"talk_time\",\"talk_time\",\"talk_time\",\"talk_time\",\"talk_time\",\"talk_time\",\"talk_time\",\"talk_time\",\"talk_time\",\"talk_time\",\"talk_time\",\"talk_time\",\"talk_time\",\"talk_time\",\"talk_time\",\"talk_time\",\"talk_time\",\"talk_time\",\"talk_time\",\"talk_time\",\"talk_time\",\"talk_time\",\"talk_time\",\"talk_time\",\"talk_time\",\"talk_time\",\"talk_time\",\"talk_time\",\"talk_time\",\"talk_time\",\"talk_time\",\"talk_time\",\"talk_time\",\"talk_time\",\"talk_time\",\"talk_time\",\"talk_time\",\"talk_time\",\"talk_time\",\"talk_time\",\"talk_time\",\"talk_time\",\"talk_time\",\"talk_time\",\"talk_time\",\"talk_time\",\"talk_time\",\"talk_time\",\"talk_time\",\"talk_time\",\"talk_time\",\"talk_time\",\"talk_time\",\"talk_time\",\"talk_time\",\"talk_time\",\"talk_time\",\"talk_time\",\"talk_time\",\"talk_time\",\"talk_time\",\"talk_time\",\"talk_time\",\"talk_time\",\"talk_time\",\"talk_time\",\"talk_time\",\"talk_time\",\"talk_time\",\"talk_time\",\"talk_time\",\"talk_time\",\"talk_time\",\"talk_time\",\"talk_time\",\"talk_time\",\"talk_time\",\"talk_time\",\"talk_time\",\"talk_time\",\"talk_time\",\"talk_time\",\"talk_time\",\"talk_time\",\"talk_time\",\"talk_time\",\"talk_time\",\"talk_time\",\"talk_time\",\"talk_time\",\"talk_time\",\"talk_time\",\"talk_time\",\"talk_time\",\"talk_time\",\"talk_time\",\"talk_time\",\"talk_time\",\"talk_time\",\"talk_time\",\"talk_time\",\"talk_time\",\"talk_time\",\"talk_time\",\"talk_time\",\"talk_time\",\"talk_time\",\"talk_time\",\"talk_time\",\"talk_time\",\"talk_time\",\"talk_time\",\"talk_time\",\"talk_time\",\"talk_time\",\"talk_time\",\"talk_time\",\"talk_time\",\"talk_time\",\"talk_time\",\"talk_time\",\"talk_time\",\"talk_time\",\"talk_time\",\"talk_time\",\"talk_time\",\"talk_time\",\"talk_time\",\"talk_time\",\"talk_time\",\"talk_time\",\"talk_time\",\"talk_time\",\"talk_time\",\"talk_time\",\"talk_time\",\"talk_time\",\"talk_time\",\"talk_time\",\"talk_time\",\"talk_time\",\"talk_time\",\"talk_time\",\"talk_time\",\"talk_time\",\"talk_time\",\"talk_time\",\"talk_time\",\"talk_time\",\"talk_time\",\"talk_time\",\"talk_time\",\"talk_time\",\"talk_time\",\"talk_time\",\"talk_time\",\"talk_time\",\"talk_time\",\"talk_time\",\"talk_time\",\"talk_time\",\"talk_time\",\"talk_time\",\"talk_time\",\"talk_time\",\"talk_time\",\"talk_time\",\"talk_time\",\"talk_time\",\"talk_time\",\"talk_time\",\"talk_time\",\"talk_time\",\"talk_time\",\"talk_time\",\"talk_time\",\"talk_time\",\"talk_time\",\"talk_time\",\"talk_time\",\"talk_time\",\"talk_time\",\"talk_time\",\"talk_time\",\"talk_time\",\"talk_time\",\"talk_time\",\"talk_time\",\"talk_time\",\"talk_time\",\"talk_time\",\"talk_time\",\"talk_time\",\"talk_time\",\"talk_time\",\"talk_time\",\"talk_time\",\"talk_time\",\"talk_time\",\"talk_time\",\"talk_time\",\"talk_time\",\"talk_time\",\"talk_time\",\"talk_time\",\"talk_time\",\"talk_time\",\"talk_time\",\"talk_time\",\"talk_time\",\"talk_time\",\"talk_time\",\"talk_time\",\"talk_time\",\"talk_time\",\"talk_time\",\"talk_time\",\"talk_time\",\"talk_time\",\"talk_time\",\"talk_time\",\"talk_time\",\"talk_time\",\"talk_time\",\"talk_time\",\"talk_time\",\"talk_time\",\"talk_time\",\"talk_time\",\"talk_time\",\"talk_time\",\"talk_time\",\"talk_time\",\"talk_time\",\"talk_time\",\"talk_time\",\"talk_time\",\"talk_time\",\"talk_time\",\"talk_time\",\"talk_time\",\"talk_time\",\"talk_time\",\"talk_time\",\"talk_time\",\"talk_time\",\"talk_time\",\"talk_time\",\"talk_time\",\"talk_time\",\"talk_time\",\"talk_time\",\"talk_time\",\"talk_time\",\"talk_time\",\"talk_time\",\"talk_time\",\"talk_time\",\"talk_time\",\"talk_time\",\"talk_time\",\"talk_time\",\"talk_time\",\"talk_time\",\"talk_time\",\"talk_time\",\"talk_time\",\"talk_time\",\"talk_time\",\"talk_time\",\"talk_time\",\"talk_time\",\"talk_time\",\"talk_time\",\"talk_time\",\"talk_time\",\"talk_time\",\"talk_time\",\"talk_time\",\"talk_time\",\"talk_time\",\"talk_time\",\"talk_time\"],\"x0\":\" \",\"xaxis\":\"x\",\"y\":[19,15,10,2,16,18,20,12,3,15,2,4,14,20,12,12,4,20,13,16,11,17,4,12,7,11,15,11,18,7,10,14,7,20,7,4,19,20,19,6,10,7,17,20,19,10,15,14,16,13,12,16,20,20,20,11,11,7,7,5,5,12,4,14,6,9,9,18,2,6,9,18,20,6,19,7,19,6,9,7,13,15,2,12,16,2,13,15,9,3,5,16,17,2,18,2,14,15,6,20,19,2,20,4,15,20,19,7,14,6,14,4,19,5,19,3,6,6,10,9,15,16,2,11,12,18,10,11,9,12,7,4,12,6,8,19,4,18,17,15,5,15,17,2,17,14,3,7,13,12,2,12,8,16,6,17,9,12,20,16,8,9,15,16,7,11,4,18,19,19,7,14,19,4,7,13,9,13,18,9,3,2,20,13,20,10,8,7,19,15,6,4,14,13,7,18,11,12,15,2,10,9,6,7,6,18,2,17,9,17,8,18,13,2,6,9,13,17,9,11,12,6,7,4,3,15,3,9,20,9,16,19,18,11,2,14,15,3,14,3,12,3,8,12,17,9,13,10,19,7,18,17,9,2,7,8,14,15,19,11,8,18,15,20,10,16,15,5,12,11,5,14,10,7,8,4,15,12,14,17,20,20,5,9,9,4,20,6,11,15,18,20,3,5,13,18,10,3,6,8,4,10,2,5,18,7,5,17,19,16,19,2,6,10,12,12,19,11,12,15,8,4,8,15,9,17,16,16,16,14,17,19,2,16,20,6,19,17,18,8,20,12,10,6,14,18,19,14,2,7,8,16,16,16,20,9,20,18,5,14,5,16,19,6,15,12,19,17,6,16,2,6,7,14,19,15,20,20,7,19,5,15,13,10,18,17,2,15,18,13,9,17,8,4,3,6,17,7,20,16,16,13,2,9,8,15,5,11,2,5,3,8,5,3,16,12,15,15,12,10,7,14,18,13,12,4,16,10,11,4,18,11,2,20,20,4,19,10,16,5,14,3,9,14,13,16,7,10,5,5,3,5,19,14,15,12,12,4,9,14,16,2,6,2,14,7,8,17,17,10,13,7,18,17,17,4,14,20,9,12,7,3,7,13,3,14,9,4,15,3,17,13,10,11,16,2,6,8,19,3],\"y0\":\" \",\"yaxis\":\"y\",\"type\":\"box\"},{\"alignmentgroup\":\"True\",\"hovertemplate\":\"color=2\\u003cbr\\u003evariable=%{x}\\u003cbr\\u003evalue=%{y}\\u003cextra\\u003e\\u003c\\u002fextra\\u003e\",\"legendgroup\":\"2\",\"marker\":{\"color\":\"#EF553B\"},\"name\":\"2\",\"notched\":false,\"offsetgroup\":\"2\",\"orientation\":\"v\",\"showlegend\":true,\"x\":[\"talk_time\",\"talk_time\",\"talk_time\",\"talk_time\",\"talk_time\",\"talk_time\",\"talk_time\",\"talk_time\",\"talk_time\",\"talk_time\",\"talk_time\",\"talk_time\",\"talk_time\",\"talk_time\",\"talk_time\",\"talk_time\",\"talk_time\",\"talk_time\",\"talk_time\",\"talk_time\",\"talk_time\",\"talk_time\",\"talk_time\",\"talk_time\",\"talk_time\",\"talk_time\",\"talk_time\",\"talk_time\",\"talk_time\",\"talk_time\",\"talk_time\",\"talk_time\",\"talk_time\",\"talk_time\",\"talk_time\",\"talk_time\",\"talk_time\",\"talk_time\",\"talk_time\",\"talk_time\",\"talk_time\",\"talk_time\",\"talk_time\",\"talk_time\",\"talk_time\",\"talk_time\",\"talk_time\",\"talk_time\",\"talk_time\",\"talk_time\",\"talk_time\",\"talk_time\",\"talk_time\",\"talk_time\",\"talk_time\",\"talk_time\",\"talk_time\",\"talk_time\",\"talk_time\",\"talk_time\",\"talk_time\",\"talk_time\",\"talk_time\",\"talk_time\",\"talk_time\",\"talk_time\",\"talk_time\",\"talk_time\",\"talk_time\",\"talk_time\",\"talk_time\",\"talk_time\",\"talk_time\",\"talk_time\",\"talk_time\",\"talk_time\",\"talk_time\",\"talk_time\",\"talk_time\",\"talk_time\",\"talk_time\",\"talk_time\",\"talk_time\",\"talk_time\",\"talk_time\",\"talk_time\",\"talk_time\",\"talk_time\",\"talk_time\",\"talk_time\",\"talk_time\",\"talk_time\",\"talk_time\",\"talk_time\",\"talk_time\",\"talk_time\",\"talk_time\",\"talk_time\",\"talk_time\",\"talk_time\",\"talk_time\",\"talk_time\",\"talk_time\",\"talk_time\",\"talk_time\",\"talk_time\",\"talk_time\",\"talk_time\",\"talk_time\",\"talk_time\",\"talk_time\",\"talk_time\",\"talk_time\",\"talk_time\",\"talk_time\",\"talk_time\",\"talk_time\",\"talk_time\",\"talk_time\",\"talk_time\",\"talk_time\",\"talk_time\",\"talk_time\",\"talk_time\",\"talk_time\",\"talk_time\",\"talk_time\",\"talk_time\",\"talk_time\",\"talk_time\",\"talk_time\",\"talk_time\",\"talk_time\",\"talk_time\",\"talk_time\",\"talk_time\",\"talk_time\",\"talk_time\",\"talk_time\",\"talk_time\",\"talk_time\",\"talk_time\",\"talk_time\",\"talk_time\",\"talk_time\",\"talk_time\",\"talk_time\",\"talk_time\",\"talk_time\",\"talk_time\",\"talk_time\",\"talk_time\",\"talk_time\",\"talk_time\",\"talk_time\",\"talk_time\",\"talk_time\",\"talk_time\",\"talk_time\",\"talk_time\",\"talk_time\",\"talk_time\",\"talk_time\",\"talk_time\",\"talk_time\",\"talk_time\",\"talk_time\",\"talk_time\",\"talk_time\",\"talk_time\",\"talk_time\",\"talk_time\",\"talk_time\",\"talk_time\",\"talk_time\",\"talk_time\",\"talk_time\",\"talk_time\",\"talk_time\",\"talk_time\",\"talk_time\",\"talk_time\",\"talk_time\",\"talk_time\",\"talk_time\",\"talk_time\",\"talk_time\",\"talk_time\",\"talk_time\",\"talk_time\",\"talk_time\",\"talk_time\",\"talk_time\",\"talk_time\",\"talk_time\",\"talk_time\",\"talk_time\",\"talk_time\",\"talk_time\",\"talk_time\",\"talk_time\",\"talk_time\",\"talk_time\",\"talk_time\",\"talk_time\",\"talk_time\",\"talk_time\",\"talk_time\",\"talk_time\",\"talk_time\",\"talk_time\",\"talk_time\",\"talk_time\",\"talk_time\",\"talk_time\",\"talk_time\",\"talk_time\",\"talk_time\",\"talk_time\",\"talk_time\",\"talk_time\",\"talk_time\",\"talk_time\",\"talk_time\",\"talk_time\",\"talk_time\",\"talk_time\",\"talk_time\",\"talk_time\",\"talk_time\",\"talk_time\",\"talk_time\",\"talk_time\",\"talk_time\",\"talk_time\",\"talk_time\",\"talk_time\",\"talk_time\",\"talk_time\",\"talk_time\",\"talk_time\",\"talk_time\",\"talk_time\",\"talk_time\",\"talk_time\",\"talk_time\",\"talk_time\",\"talk_time\",\"talk_time\",\"talk_time\",\"talk_time\",\"talk_time\",\"talk_time\",\"talk_time\",\"talk_time\",\"talk_time\",\"talk_time\",\"talk_time\",\"talk_time\",\"talk_time\",\"talk_time\",\"talk_time\",\"talk_time\",\"talk_time\",\"talk_time\",\"talk_time\",\"talk_time\",\"talk_time\",\"talk_time\",\"talk_time\",\"talk_time\",\"talk_time\",\"talk_time\",\"talk_time\",\"talk_time\",\"talk_time\",\"talk_time\",\"talk_time\",\"talk_time\",\"talk_time\",\"talk_time\",\"talk_time\",\"talk_time\",\"talk_time\",\"talk_time\",\"talk_time\",\"talk_time\",\"talk_time\",\"talk_time\",\"talk_time\",\"talk_time\",\"talk_time\",\"talk_time\",\"talk_time\",\"talk_time\",\"talk_time\",\"talk_time\",\"talk_time\",\"talk_time\",\"talk_time\",\"talk_time\",\"talk_time\",\"talk_time\",\"talk_time\",\"talk_time\",\"talk_time\",\"talk_time\",\"talk_time\",\"talk_time\",\"talk_time\",\"talk_time\",\"talk_time\",\"talk_time\",\"talk_time\",\"talk_time\",\"talk_time\",\"talk_time\",\"talk_time\",\"talk_time\",\"talk_time\",\"talk_time\",\"talk_time\",\"talk_time\",\"talk_time\",\"talk_time\",\"talk_time\",\"talk_time\",\"talk_time\",\"talk_time\",\"talk_time\",\"talk_time\",\"talk_time\",\"talk_time\",\"talk_time\",\"talk_time\",\"talk_time\",\"talk_time\",\"talk_time\",\"talk_time\",\"talk_time\",\"talk_time\",\"talk_time\",\"talk_time\",\"talk_time\",\"talk_time\",\"talk_time\",\"talk_time\",\"talk_time\",\"talk_time\",\"talk_time\",\"talk_time\",\"talk_time\",\"talk_time\",\"talk_time\",\"talk_time\",\"talk_time\",\"talk_time\",\"talk_time\",\"talk_time\",\"talk_time\",\"talk_time\",\"talk_time\",\"talk_time\",\"talk_time\",\"talk_time\",\"talk_time\",\"talk_time\",\"talk_time\",\"talk_time\",\"talk_time\",\"talk_time\",\"talk_time\",\"talk_time\",\"talk_time\",\"talk_time\",\"talk_time\",\"talk_time\",\"talk_time\",\"talk_time\",\"talk_time\",\"talk_time\",\"talk_time\",\"talk_time\",\"talk_time\",\"talk_time\",\"talk_time\",\"talk_time\",\"talk_time\",\"talk_time\",\"talk_time\",\"talk_time\",\"talk_time\",\"talk_time\",\"talk_time\",\"talk_time\",\"talk_time\",\"talk_time\",\"talk_time\",\"talk_time\",\"talk_time\",\"talk_time\",\"talk_time\",\"talk_time\",\"talk_time\",\"talk_time\",\"talk_time\",\"talk_time\",\"talk_time\",\"talk_time\",\"talk_time\",\"talk_time\",\"talk_time\",\"talk_time\",\"talk_time\",\"talk_time\",\"talk_time\",\"talk_time\",\"talk_time\",\"talk_time\",\"talk_time\",\"talk_time\",\"talk_time\",\"talk_time\",\"talk_time\",\"talk_time\",\"talk_time\",\"talk_time\",\"talk_time\",\"talk_time\",\"talk_time\",\"talk_time\",\"talk_time\",\"talk_time\",\"talk_time\",\"talk_time\",\"talk_time\",\"talk_time\",\"talk_time\",\"talk_time\",\"talk_time\",\"talk_time\",\"talk_time\",\"talk_time\",\"talk_time\",\"talk_time\",\"talk_time\",\"talk_time\",\"talk_time\",\"talk_time\",\"talk_time\",\"talk_time\",\"talk_time\",\"talk_time\",\"talk_time\",\"talk_time\",\"talk_time\",\"talk_time\",\"talk_time\",\"talk_time\",\"talk_time\",\"talk_time\",\"talk_time\",\"talk_time\",\"talk_time\",\"talk_time\",\"talk_time\",\"talk_time\",\"talk_time\",\"talk_time\",\"talk_time\",\"talk_time\",\"talk_time\",\"talk_time\",\"talk_time\",\"talk_time\",\"talk_time\",\"talk_time\",\"talk_time\",\"talk_time\",\"talk_time\",\"talk_time\",\"talk_time\",\"talk_time\",\"talk_time\",\"talk_time\",\"talk_time\",\"talk_time\",\"talk_time\",\"talk_time\",\"talk_time\",\"talk_time\",\"talk_time\",\"talk_time\",\"talk_time\",\"talk_time\",\"talk_time\",\"talk_time\",\"talk_time\",\"talk_time\",\"talk_time\"],\"x0\":\" \",\"xaxis\":\"x\",\"y\":[7,9,11,4,7,10,2,11,11,15,16,18,13,9,5,19,13,16,8,11,14,14,5,4,6,15,18,4,20,9,17,5,4,15,11,16,7,7,12,7,12,13,2,17,18,6,18,3,12,15,8,4,17,13,10,10,13,13,3,6,16,7,16,6,7,2,17,14,15,4,18,17,15,10,12,8,15,11,12,14,16,15,18,5,19,8,18,19,14,4,11,10,18,9,12,16,16,2,16,4,3,9,7,13,17,16,10,2,10,18,8,4,16,19,10,7,7,13,10,18,18,13,17,14,10,15,9,15,18,10,7,6,20,3,10,15,14,19,12,15,17,15,10,14,14,20,6,5,12,5,3,12,13,4,9,6,7,19,15,19,9,8,2,18,13,11,2,5,17,8,9,5,8,2,20,11,18,8,10,2,2,11,13,16,13,14,8,16,6,14,12,2,4,16,8,4,14,2,5,3,16,15,18,7,3,2,7,9,4,14,11,5,15,9,12,20,15,19,12,18,10,13,9,5,13,16,17,11,7,6,15,17,10,11,7,19,10,17,2,14,6,13,20,8,13,4,15,2,4,8,5,6,8,19,20,3,15,6,19,16,2,4,19,7,17,4,7,7,7,17,13,15,17,2,5,17,9,4,3,18,13,15,4,15,14,19,2,16,6,12,9,2,19,13,20,5,9,9,15,16,16,5,7,12,13,19,2,4,14,2,20,19,11,8,4,8,3,15,12,5,15,14,5,18,2,7,5,10,6,10,10,13,19,13,15,6,14,8,18,2,13,6,10,3,18,7,10,19,3,9,19,11,6,9,5,8,15,14,16,12,17,19,7,16,16,11,19,15,12,9,12,3,15,3,6,20,17,20,12,16,4,7,19,20,18,14,9,6,18,3,14,2,8,2,2,17,4,17,10,5,15,14,10,4,8,13,19,11,5,4,20,17,18,11,10,8,16,16,13,10,3,20,12,2,17,4,7,4,16,19,9,9,7,17,12,20,7,13,18,12,6,5,15,15,20,10,17,7,11,4,19,16,11,16,8,3,6,6,18,9,20,4,5,5,16,19,5,14,3,9,2,19,6,2,7,11,15,7,16,3,17,3,19,13,11,19,4,11,4,20,10,19,8,8,8,8,15,11,4,16],\"y0\":\" \",\"yaxis\":\"y\",\"type\":\"box\"},{\"alignmentgroup\":\"True\",\"hovertemplate\":\"color=3\\u003cbr\\u003evariable=%{x}\\u003cbr\\u003evalue=%{y}\\u003cextra\\u003e\\u003c\\u002fextra\\u003e\",\"legendgroup\":\"3\",\"marker\":{\"color\":\"#00cc96\"},\"name\":\"3\",\"notched\":false,\"offsetgroup\":\"3\",\"orientation\":\"v\",\"showlegend\":true,\"x\":[\"talk_time\",\"talk_time\",\"talk_time\",\"talk_time\",\"talk_time\",\"talk_time\",\"talk_time\",\"talk_time\",\"talk_time\",\"talk_time\",\"talk_time\",\"talk_time\",\"talk_time\",\"talk_time\",\"talk_time\",\"talk_time\",\"talk_time\",\"talk_time\",\"talk_time\",\"talk_time\",\"talk_time\",\"talk_time\",\"talk_time\",\"talk_time\",\"talk_time\",\"talk_time\",\"talk_time\",\"talk_time\",\"talk_time\",\"talk_time\",\"talk_time\",\"talk_time\",\"talk_time\",\"talk_time\",\"talk_time\",\"talk_time\",\"talk_time\",\"talk_time\",\"talk_time\",\"talk_time\",\"talk_time\",\"talk_time\",\"talk_time\",\"talk_time\",\"talk_time\",\"talk_time\",\"talk_time\",\"talk_time\",\"talk_time\",\"talk_time\",\"talk_time\",\"talk_time\",\"talk_time\",\"talk_time\",\"talk_time\",\"talk_time\",\"talk_time\",\"talk_time\",\"talk_time\",\"talk_time\",\"talk_time\",\"talk_time\",\"talk_time\",\"talk_time\",\"talk_time\",\"talk_time\",\"talk_time\",\"talk_time\",\"talk_time\",\"talk_time\",\"talk_time\",\"talk_time\",\"talk_time\",\"talk_time\",\"talk_time\",\"talk_time\",\"talk_time\",\"talk_time\",\"talk_time\",\"talk_time\",\"talk_time\",\"talk_time\",\"talk_time\",\"talk_time\",\"talk_time\",\"talk_time\",\"talk_time\",\"talk_time\",\"talk_time\",\"talk_time\",\"talk_time\",\"talk_time\",\"talk_time\",\"talk_time\",\"talk_time\",\"talk_time\",\"talk_time\",\"talk_time\",\"talk_time\",\"talk_time\",\"talk_time\",\"talk_time\",\"talk_time\",\"talk_time\",\"talk_time\",\"talk_time\",\"talk_time\",\"talk_time\",\"talk_time\",\"talk_time\",\"talk_time\",\"talk_time\",\"talk_time\",\"talk_time\",\"talk_time\",\"talk_time\",\"talk_time\",\"talk_time\",\"talk_time\",\"talk_time\",\"talk_time\",\"talk_time\",\"talk_time\",\"talk_time\",\"talk_time\",\"talk_time\",\"talk_time\",\"talk_time\",\"talk_time\",\"talk_time\",\"talk_time\",\"talk_time\",\"talk_time\",\"talk_time\",\"talk_time\",\"talk_time\",\"talk_time\",\"talk_time\",\"talk_time\",\"talk_time\",\"talk_time\",\"talk_time\",\"talk_time\",\"talk_time\",\"talk_time\",\"talk_time\",\"talk_time\",\"talk_time\",\"talk_time\",\"talk_time\",\"talk_time\",\"talk_time\",\"talk_time\",\"talk_time\",\"talk_time\",\"talk_time\",\"talk_time\",\"talk_time\",\"talk_time\",\"talk_time\",\"talk_time\",\"talk_time\",\"talk_time\",\"talk_time\",\"talk_time\",\"talk_time\",\"talk_time\",\"talk_time\",\"talk_time\",\"talk_time\",\"talk_time\",\"talk_time\",\"talk_time\",\"talk_time\",\"talk_time\",\"talk_time\",\"talk_time\",\"talk_time\",\"talk_time\",\"talk_time\",\"talk_time\",\"talk_time\",\"talk_time\",\"talk_time\",\"talk_time\",\"talk_time\",\"talk_time\",\"talk_time\",\"talk_time\",\"talk_time\",\"talk_time\",\"talk_time\",\"talk_time\",\"talk_time\",\"talk_time\",\"talk_time\",\"talk_time\",\"talk_time\",\"talk_time\",\"talk_time\",\"talk_time\",\"talk_time\",\"talk_time\",\"talk_time\",\"talk_time\",\"talk_time\",\"talk_time\",\"talk_time\",\"talk_time\",\"talk_time\",\"talk_time\",\"talk_time\",\"talk_time\",\"talk_time\",\"talk_time\",\"talk_time\",\"talk_time\",\"talk_time\",\"talk_time\",\"talk_time\",\"talk_time\",\"talk_time\",\"talk_time\",\"talk_time\",\"talk_time\",\"talk_time\",\"talk_time\",\"talk_time\",\"talk_time\",\"talk_time\",\"talk_time\",\"talk_time\",\"talk_time\",\"talk_time\",\"talk_time\",\"talk_time\",\"talk_time\",\"talk_time\",\"talk_time\",\"talk_time\",\"talk_time\",\"talk_time\",\"talk_time\",\"talk_time\",\"talk_time\",\"talk_time\",\"talk_time\",\"talk_time\",\"talk_time\",\"talk_time\",\"talk_time\",\"talk_time\",\"talk_time\",\"talk_time\",\"talk_time\",\"talk_time\",\"talk_time\",\"talk_time\",\"talk_time\",\"talk_time\",\"talk_time\",\"talk_time\",\"talk_time\",\"talk_time\",\"talk_time\",\"talk_time\",\"talk_time\",\"talk_time\",\"talk_time\",\"talk_time\",\"talk_time\",\"talk_time\",\"talk_time\",\"talk_time\",\"talk_time\",\"talk_time\",\"talk_time\",\"talk_time\",\"talk_time\",\"talk_time\",\"talk_time\",\"talk_time\",\"talk_time\",\"talk_time\",\"talk_time\",\"talk_time\",\"talk_time\",\"talk_time\",\"talk_time\",\"talk_time\",\"talk_time\",\"talk_time\",\"talk_time\",\"talk_time\",\"talk_time\",\"talk_time\",\"talk_time\",\"talk_time\",\"talk_time\",\"talk_time\",\"talk_time\",\"talk_time\",\"talk_time\",\"talk_time\",\"talk_time\",\"talk_time\",\"talk_time\",\"talk_time\",\"talk_time\",\"talk_time\",\"talk_time\",\"talk_time\",\"talk_time\",\"talk_time\",\"talk_time\",\"talk_time\",\"talk_time\",\"talk_time\",\"talk_time\",\"talk_time\",\"talk_time\",\"talk_time\",\"talk_time\",\"talk_time\",\"talk_time\",\"talk_time\",\"talk_time\",\"talk_time\",\"talk_time\",\"talk_time\",\"talk_time\",\"talk_time\",\"talk_time\",\"talk_time\",\"talk_time\",\"talk_time\",\"talk_time\",\"talk_time\",\"talk_time\",\"talk_time\",\"talk_time\",\"talk_time\",\"talk_time\",\"talk_time\",\"talk_time\",\"talk_time\",\"talk_time\",\"talk_time\",\"talk_time\",\"talk_time\",\"talk_time\",\"talk_time\",\"talk_time\",\"talk_time\",\"talk_time\",\"talk_time\",\"talk_time\",\"talk_time\",\"talk_time\",\"talk_time\",\"talk_time\",\"talk_time\",\"talk_time\",\"talk_time\",\"talk_time\",\"talk_time\",\"talk_time\",\"talk_time\",\"talk_time\",\"talk_time\",\"talk_time\",\"talk_time\",\"talk_time\",\"talk_time\",\"talk_time\",\"talk_time\",\"talk_time\",\"talk_time\",\"talk_time\",\"talk_time\",\"talk_time\",\"talk_time\",\"talk_time\",\"talk_time\",\"talk_time\",\"talk_time\",\"talk_time\",\"talk_time\",\"talk_time\",\"talk_time\",\"talk_time\",\"talk_time\",\"talk_time\",\"talk_time\",\"talk_time\",\"talk_time\",\"talk_time\",\"talk_time\",\"talk_time\",\"talk_time\",\"talk_time\",\"talk_time\",\"talk_time\",\"talk_time\",\"talk_time\",\"talk_time\",\"talk_time\",\"talk_time\",\"talk_time\",\"talk_time\",\"talk_time\",\"talk_time\",\"talk_time\",\"talk_time\",\"talk_time\",\"talk_time\",\"talk_time\",\"talk_time\",\"talk_time\",\"talk_time\",\"talk_time\",\"talk_time\",\"talk_time\",\"talk_time\",\"talk_time\",\"talk_time\",\"talk_time\",\"talk_time\",\"talk_time\",\"talk_time\",\"talk_time\",\"talk_time\",\"talk_time\",\"talk_time\",\"talk_time\",\"talk_time\",\"talk_time\",\"talk_time\",\"talk_time\",\"talk_time\",\"talk_time\",\"talk_time\",\"talk_time\",\"talk_time\",\"talk_time\",\"talk_time\",\"talk_time\",\"talk_time\",\"talk_time\",\"talk_time\",\"talk_time\",\"talk_time\",\"talk_time\",\"talk_time\",\"talk_time\",\"talk_time\",\"talk_time\",\"talk_time\",\"talk_time\",\"talk_time\",\"talk_time\",\"talk_time\",\"talk_time\",\"talk_time\",\"talk_time\",\"talk_time\",\"talk_time\",\"talk_time\",\"talk_time\",\"talk_time\",\"talk_time\",\"talk_time\",\"talk_time\",\"talk_time\",\"talk_time\",\"talk_time\",\"talk_time\",\"talk_time\",\"talk_time\",\"talk_time\",\"talk_time\",\"talk_time\",\"talk_time\",\"talk_time\",\"talk_time\",\"talk_time\",\"talk_time\",\"talk_time\",\"talk_time\",\"talk_time\",\"talk_time\",\"talk_time\",\"talk_time\",\"talk_time\",\"talk_time\",\"talk_time\",\"talk_time\",\"talk_time\",\"talk_time\",\"talk_time\"],\"x0\":\" \",\"xaxis\":\"x\",\"y\":[18,7,13,19,18,3,15,4,12,12,12,4,19,3,10,10,20,13,4,8,7,2,12,10,6,11,4,16,12,20,11,14,9,14,20,13,4,6,17,9,7,7,2,17,16,4,12,19,11,10,13,20,20,6,16,2,13,7,10,4,6,6,8,4,11,2,6,16,7,19,6,8,3,11,14,3,15,16,5,13,9,18,3,5,18,8,11,16,14,15,13,6,13,18,10,11,12,9,11,13,10,13,20,8,8,7,3,19,18,8,10,18,6,7,20,6,5,16,10,7,7,16,14,2,8,15,2,9,12,9,18,16,17,17,3,14,8,6,3,18,11,13,8,16,11,20,13,6,3,2,2,18,14,7,12,3,17,2,3,10,16,10,18,17,3,6,4,15,16,9,5,18,20,5,11,14,20,20,17,12,12,15,20,9,5,8,5,4,11,17,20,10,16,16,4,12,15,6,15,18,17,7,8,8,18,3,19,8,11,7,12,3,13,4,14,8,10,5,13,11,7,20,11,19,13,13,16,8,17,14,13,15,14,11,13,15,18,19,10,4,15,14,16,16,6,20,18,20,20,19,10,5,14,12,8,15,9,13,19,10,5,9,19,15,15,19,8,13,17,9,12,8,15,16,7,7,16,7,10,7,7,12,4,7,13,6,3,3,20,10,15,17,16,7,12,13,16,9,11,9,2,20,6,11,19,8,20,6,20,4,3,5,17,15,11,16,12,18,5,9,17,17,5,13,10,5,6,2,9,11,8,10,17,11,6,20,19,7,18,20,3,11,8,16,2,4,14,20,19,8,14,16,6,11,19,10,7,13,4,12,19,15,18,7,5,6,10,19,18,19,4,3,9,18,6,16,8,19,12,4,11,14,11,7,9,3,20,14,12,9,17,9,12,18,8,12,10,18,10,14,7,9,6,2,10,18,17,4,20,14,18,5,6,5,12,9,20,11,4,7,3,4,20,14,19,19,18,4,2,3,15,8,15,17,13,15,2,16,7,11,18,6,8,9,8,12,2,7,19,17,2,11,13,14,20,17,17,17,4,7,7,7,17,9,15,17,2,14,5,4,8,16,11,6,4,11,5,7,12,4,3,10,19,5,7,5,5,16,16,20,19,3,14,2,5,20,5,3,5,2],\"y0\":\" \",\"yaxis\":\"y\",\"type\":\"box\"},{\"alignmentgroup\":\"True\",\"hovertemplate\":\"color=0\\u003cbr\\u003evariable=%{x}\\u003cbr\\u003evalue=%{y}\\u003cextra\\u003e\\u003c\\u002fextra\\u003e\",\"legendgroup\":\"0\",\"marker\":{\"color\":\"#ab63fa\"},\"name\":\"0\",\"notched\":false,\"offsetgroup\":\"0\",\"orientation\":\"v\",\"showlegend\":true,\"x\":[\"talk_time\",\"talk_time\",\"talk_time\",\"talk_time\",\"talk_time\",\"talk_time\",\"talk_time\",\"talk_time\",\"talk_time\",\"talk_time\",\"talk_time\",\"talk_time\",\"talk_time\",\"talk_time\",\"talk_time\",\"talk_time\",\"talk_time\",\"talk_time\",\"talk_time\",\"talk_time\",\"talk_time\",\"talk_time\",\"talk_time\",\"talk_time\",\"talk_time\",\"talk_time\",\"talk_time\",\"talk_time\",\"talk_time\",\"talk_time\",\"talk_time\",\"talk_time\",\"talk_time\",\"talk_time\",\"talk_time\",\"talk_time\",\"talk_time\",\"talk_time\",\"talk_time\",\"talk_time\",\"talk_time\",\"talk_time\",\"talk_time\",\"talk_time\",\"talk_time\",\"talk_time\",\"talk_time\",\"talk_time\",\"talk_time\",\"talk_time\",\"talk_time\",\"talk_time\",\"talk_time\",\"talk_time\",\"talk_time\",\"talk_time\",\"talk_time\",\"talk_time\",\"talk_time\",\"talk_time\",\"talk_time\",\"talk_time\",\"talk_time\",\"talk_time\",\"talk_time\",\"talk_time\",\"talk_time\",\"talk_time\",\"talk_time\",\"talk_time\",\"talk_time\",\"talk_time\",\"talk_time\",\"talk_time\",\"talk_time\",\"talk_time\",\"talk_time\",\"talk_time\",\"talk_time\",\"talk_time\",\"talk_time\",\"talk_time\",\"talk_time\",\"talk_time\",\"talk_time\",\"talk_time\",\"talk_time\",\"talk_time\",\"talk_time\",\"talk_time\",\"talk_time\",\"talk_time\",\"talk_time\",\"talk_time\",\"talk_time\",\"talk_time\",\"talk_time\",\"talk_time\",\"talk_time\",\"talk_time\",\"talk_time\",\"talk_time\",\"talk_time\",\"talk_time\",\"talk_time\",\"talk_time\",\"talk_time\",\"talk_time\",\"talk_time\",\"talk_time\",\"talk_time\",\"talk_time\",\"talk_time\",\"talk_time\",\"talk_time\",\"talk_time\",\"talk_time\",\"talk_time\",\"talk_time\",\"talk_time\",\"talk_time\",\"talk_time\",\"talk_time\",\"talk_time\",\"talk_time\",\"talk_time\",\"talk_time\",\"talk_time\",\"talk_time\",\"talk_time\",\"talk_time\",\"talk_time\",\"talk_time\",\"talk_time\",\"talk_time\",\"talk_time\",\"talk_time\",\"talk_time\",\"talk_time\",\"talk_time\",\"talk_time\",\"talk_time\",\"talk_time\",\"talk_time\",\"talk_time\",\"talk_time\",\"talk_time\",\"talk_time\",\"talk_time\",\"talk_time\",\"talk_time\",\"talk_time\",\"talk_time\",\"talk_time\",\"talk_time\",\"talk_time\",\"talk_time\",\"talk_time\",\"talk_time\",\"talk_time\",\"talk_time\",\"talk_time\",\"talk_time\",\"talk_time\",\"talk_time\",\"talk_time\",\"talk_time\",\"talk_time\",\"talk_time\",\"talk_time\",\"talk_time\",\"talk_time\",\"talk_time\",\"talk_time\",\"talk_time\",\"talk_time\",\"talk_time\",\"talk_time\",\"talk_time\",\"talk_time\",\"talk_time\",\"talk_time\",\"talk_time\",\"talk_time\",\"talk_time\",\"talk_time\",\"talk_time\",\"talk_time\",\"talk_time\",\"talk_time\",\"talk_time\",\"talk_time\",\"talk_time\",\"talk_time\",\"talk_time\",\"talk_time\",\"talk_time\",\"talk_time\",\"talk_time\",\"talk_time\",\"talk_time\",\"talk_time\",\"talk_time\",\"talk_time\",\"talk_time\",\"talk_time\",\"talk_time\",\"talk_time\",\"talk_time\",\"talk_time\",\"talk_time\",\"talk_time\",\"talk_time\",\"talk_time\",\"talk_time\",\"talk_time\",\"talk_time\",\"talk_time\",\"talk_time\",\"talk_time\",\"talk_time\",\"talk_time\",\"talk_time\",\"talk_time\",\"talk_time\",\"talk_time\",\"talk_time\",\"talk_time\",\"talk_time\",\"talk_time\",\"talk_time\",\"talk_time\",\"talk_time\",\"talk_time\",\"talk_time\",\"talk_time\",\"talk_time\",\"talk_time\",\"talk_time\",\"talk_time\",\"talk_time\",\"talk_time\",\"talk_time\",\"talk_time\",\"talk_time\",\"talk_time\",\"talk_time\",\"talk_time\",\"talk_time\",\"talk_time\",\"talk_time\",\"talk_time\",\"talk_time\",\"talk_time\",\"talk_time\",\"talk_time\",\"talk_time\",\"talk_time\",\"talk_time\",\"talk_time\",\"talk_time\",\"talk_time\",\"talk_time\",\"talk_time\",\"talk_time\",\"talk_time\",\"talk_time\",\"talk_time\",\"talk_time\",\"talk_time\",\"talk_time\",\"talk_time\",\"talk_time\",\"talk_time\",\"talk_time\",\"talk_time\",\"talk_time\",\"talk_time\",\"talk_time\",\"talk_time\",\"talk_time\",\"talk_time\",\"talk_time\",\"talk_time\",\"talk_time\",\"talk_time\",\"talk_time\",\"talk_time\",\"talk_time\",\"talk_time\",\"talk_time\",\"talk_time\",\"talk_time\",\"talk_time\",\"talk_time\",\"talk_time\",\"talk_time\",\"talk_time\",\"talk_time\",\"talk_time\",\"talk_time\",\"talk_time\",\"talk_time\",\"talk_time\",\"talk_time\",\"talk_time\",\"talk_time\",\"talk_time\",\"talk_time\",\"talk_time\",\"talk_time\",\"talk_time\",\"talk_time\",\"talk_time\",\"talk_time\",\"talk_time\",\"talk_time\",\"talk_time\",\"talk_time\",\"talk_time\",\"talk_time\",\"talk_time\",\"talk_time\",\"talk_time\",\"talk_time\",\"talk_time\",\"talk_time\",\"talk_time\",\"talk_time\",\"talk_time\",\"talk_time\",\"talk_time\",\"talk_time\",\"talk_time\",\"talk_time\",\"talk_time\",\"talk_time\",\"talk_time\",\"talk_time\",\"talk_time\",\"talk_time\",\"talk_time\",\"talk_time\",\"talk_time\",\"talk_time\",\"talk_time\",\"talk_time\",\"talk_time\",\"talk_time\",\"talk_time\",\"talk_time\",\"talk_time\",\"talk_time\",\"talk_time\",\"talk_time\",\"talk_time\",\"talk_time\",\"talk_time\",\"talk_time\",\"talk_time\",\"talk_time\",\"talk_time\",\"talk_time\",\"talk_time\",\"talk_time\",\"talk_time\",\"talk_time\",\"talk_time\",\"talk_time\",\"talk_time\",\"talk_time\",\"talk_time\",\"talk_time\",\"talk_time\",\"talk_time\",\"talk_time\",\"talk_time\",\"talk_time\",\"talk_time\",\"talk_time\",\"talk_time\",\"talk_time\",\"talk_time\",\"talk_time\",\"talk_time\",\"talk_time\",\"talk_time\",\"talk_time\",\"talk_time\",\"talk_time\",\"talk_time\",\"talk_time\",\"talk_time\",\"talk_time\",\"talk_time\",\"talk_time\",\"talk_time\",\"talk_time\",\"talk_time\",\"talk_time\",\"talk_time\",\"talk_time\",\"talk_time\",\"talk_time\",\"talk_time\",\"talk_time\",\"talk_time\",\"talk_time\",\"talk_time\",\"talk_time\",\"talk_time\",\"talk_time\",\"talk_time\",\"talk_time\",\"talk_time\",\"talk_time\",\"talk_time\",\"talk_time\",\"talk_time\",\"talk_time\",\"talk_time\",\"talk_time\",\"talk_time\",\"talk_time\",\"talk_time\",\"talk_time\",\"talk_time\",\"talk_time\",\"talk_time\",\"talk_time\",\"talk_time\",\"talk_time\",\"talk_time\",\"talk_time\",\"talk_time\",\"talk_time\",\"talk_time\",\"talk_time\",\"talk_time\",\"talk_time\",\"talk_time\",\"talk_time\",\"talk_time\",\"talk_time\",\"talk_time\",\"talk_time\",\"talk_time\",\"talk_time\",\"talk_time\",\"talk_time\",\"talk_time\",\"talk_time\",\"talk_time\",\"talk_time\",\"talk_time\",\"talk_time\",\"talk_time\",\"talk_time\",\"talk_time\",\"talk_time\",\"talk_time\",\"talk_time\",\"talk_time\",\"talk_time\",\"talk_time\",\"talk_time\",\"talk_time\",\"talk_time\",\"talk_time\",\"talk_time\",\"talk_time\",\"talk_time\",\"talk_time\",\"talk_time\",\"talk_time\",\"talk_time\",\"talk_time\",\"talk_time\",\"talk_time\",\"talk_time\",\"talk_time\",\"talk_time\",\"talk_time\",\"talk_time\",\"talk_time\",\"talk_time\",\"talk_time\",\"talk_time\",\"talk_time\",\"talk_time\",\"talk_time\",\"talk_time\",\"talk_time\",\"talk_time\",\"talk_time\",\"talk_time\",\"talk_time\",\"talk_time\",\"talk_time\",\"talk_time\"],\"x0\":\" \",\"xaxis\":\"x\",\"y\":[5,20,12,3,11,20,10,6,15,12,5,17,6,15,4,4,6,17,6,7,5,2,8,18,18,8,3,9,13,4,9,5,10,3,8,11,4,4,4,7,15,15,13,6,13,10,7,10,18,13,19,11,11,10,15,12,10,15,8,15,6,4,9,11,12,5,8,16,19,19,13,20,7,5,7,14,5,4,15,12,6,20,7,14,8,16,4,16,7,12,4,5,16,19,16,2,3,8,13,8,11,9,10,11,4,16,19,12,6,11,14,18,18,20,9,9,19,9,8,19,15,8,10,9,8,14,8,6,9,17,16,14,6,10,6,9,17,14,5,4,17,3,18,4,20,9,5,13,5,13,9,9,3,2,5,3,14,18,7,13,18,7,4,15,2,4,18,5,4,18,6,6,13,20,16,19,3,10,8,11,2,8,19,15,17,15,13,12,17,14,3,14,15,2,12,7,17,20,11,4,17,8,14,4,19,3,6,19,14,8,18,6,19,18,20,6,9,18,14,15,11,7,15,17,4,9,4,8,6,12,10,3,6,14,16,9,14,6,10,19,7,12,16,8,12,17,18,7,7,19,13,13,6,7,19,4,3,4,3,8,6,17,10,8,9,13,10,2,12,18,8,11,9,20,5,3,14,10,8,6,3,14,8,4,16,20,5,16,4,5,14,10,11,11,16,6,14,4,16,20,8,4,15,17,14,17,6,6,10,19,12,19,14,3,14,6,4,4,13,6,17,15,20,12,11,6,12,8,11,10,2,12,14,2,3,7,17,13,9,5,10,13,19,20,5,6,4,20,16,14,16,18,17,16,12,18,16,18,9,7,19,5,19,13,3,7,4,11,7,15,10,3,2,11,17,20,11,2,2,11,2,15,4,18,20,13,11,11,16,3,15,2,3,8,3,15,16,18,20,11,19,18,10,10,4,6,11,4,16,18,6,13,8,8,5,7,19,16,17,14,11,6,11,2,3,5,13,10,6,9,15,19,16,11,19,13,7,13,13,5,17,7,11,20,15,12,19,3,4,8,10,16,17,3,4,3,4,10,2,11,11,8,15,7,2,10,4,20,9,2,10,16,9,10,15,14,4,10,2,3,9,12,2,2,17,12,6,4,13,3,20,14,15,7,14,7,7,4,19,19],\"y0\":\" \",\"yaxis\":\"y\",\"type\":\"box\"}],                        {\"template\":{\"data\":{\"histogram2dcontour\":[{\"type\":\"histogram2dcontour\",\"colorbar\":{\"outlinewidth\":0,\"ticks\":\"\"},\"colorscale\":[[0.0,\"#0d0887\"],[0.1111111111111111,\"#46039f\"],[0.2222222222222222,\"#7201a8\"],[0.3333333333333333,\"#9c179e\"],[0.4444444444444444,\"#bd3786\"],[0.5555555555555556,\"#d8576b\"],[0.6666666666666666,\"#ed7953\"],[0.7777777777777778,\"#fb9f3a\"],[0.8888888888888888,\"#fdca26\"],[1.0,\"#f0f921\"]]}],\"choropleth\":[{\"type\":\"choropleth\",\"colorbar\":{\"outlinewidth\":0,\"ticks\":\"\"}}],\"histogram2d\":[{\"type\":\"histogram2d\",\"colorbar\":{\"outlinewidth\":0,\"ticks\":\"\"},\"colorscale\":[[0.0,\"#0d0887\"],[0.1111111111111111,\"#46039f\"],[0.2222222222222222,\"#7201a8\"],[0.3333333333333333,\"#9c179e\"],[0.4444444444444444,\"#bd3786\"],[0.5555555555555556,\"#d8576b\"],[0.6666666666666666,\"#ed7953\"],[0.7777777777777778,\"#fb9f3a\"],[0.8888888888888888,\"#fdca26\"],[1.0,\"#f0f921\"]]}],\"heatmap\":[{\"type\":\"heatmap\",\"colorbar\":{\"outlinewidth\":0,\"ticks\":\"\"},\"colorscale\":[[0.0,\"#0d0887\"],[0.1111111111111111,\"#46039f\"],[0.2222222222222222,\"#7201a8\"],[0.3333333333333333,\"#9c179e\"],[0.4444444444444444,\"#bd3786\"],[0.5555555555555556,\"#d8576b\"],[0.6666666666666666,\"#ed7953\"],[0.7777777777777778,\"#fb9f3a\"],[0.8888888888888888,\"#fdca26\"],[1.0,\"#f0f921\"]]}],\"heatmapgl\":[{\"type\":\"heatmapgl\",\"colorbar\":{\"outlinewidth\":0,\"ticks\":\"\"},\"colorscale\":[[0.0,\"#0d0887\"],[0.1111111111111111,\"#46039f\"],[0.2222222222222222,\"#7201a8\"],[0.3333333333333333,\"#9c179e\"],[0.4444444444444444,\"#bd3786\"],[0.5555555555555556,\"#d8576b\"],[0.6666666666666666,\"#ed7953\"],[0.7777777777777778,\"#fb9f3a\"],[0.8888888888888888,\"#fdca26\"],[1.0,\"#f0f921\"]]}],\"contourcarpet\":[{\"type\":\"contourcarpet\",\"colorbar\":{\"outlinewidth\":0,\"ticks\":\"\"}}],\"contour\":[{\"type\":\"contour\",\"colorbar\":{\"outlinewidth\":0,\"ticks\":\"\"},\"colorscale\":[[0.0,\"#0d0887\"],[0.1111111111111111,\"#46039f\"],[0.2222222222222222,\"#7201a8\"],[0.3333333333333333,\"#9c179e\"],[0.4444444444444444,\"#bd3786\"],[0.5555555555555556,\"#d8576b\"],[0.6666666666666666,\"#ed7953\"],[0.7777777777777778,\"#fb9f3a\"],[0.8888888888888888,\"#fdca26\"],[1.0,\"#f0f921\"]]}],\"surface\":[{\"type\":\"surface\",\"colorbar\":{\"outlinewidth\":0,\"ticks\":\"\"},\"colorscale\":[[0.0,\"#0d0887\"],[0.1111111111111111,\"#46039f\"],[0.2222222222222222,\"#7201a8\"],[0.3333333333333333,\"#9c179e\"],[0.4444444444444444,\"#bd3786\"],[0.5555555555555556,\"#d8576b\"],[0.6666666666666666,\"#ed7953\"],[0.7777777777777778,\"#fb9f3a\"],[0.8888888888888888,\"#fdca26\"],[1.0,\"#f0f921\"]]}],\"mesh3d\":[{\"type\":\"mesh3d\",\"colorbar\":{\"outlinewidth\":0,\"ticks\":\"\"}}],\"scatter\":[{\"fillpattern\":{\"fillmode\":\"overlay\",\"size\":10,\"solidity\":0.2},\"type\":\"scatter\"}],\"parcoords\":[{\"type\":\"parcoords\",\"line\":{\"colorbar\":{\"outlinewidth\":0,\"ticks\":\"\"}}}],\"scatterpolargl\":[{\"type\":\"scatterpolargl\",\"marker\":{\"colorbar\":{\"outlinewidth\":0,\"ticks\":\"\"}}}],\"bar\":[{\"error_x\":{\"color\":\"#2a3f5f\"},\"error_y\":{\"color\":\"#2a3f5f\"},\"marker\":{\"line\":{\"color\":\"#E5ECF6\",\"width\":0.5},\"pattern\":{\"fillmode\":\"overlay\",\"size\":10,\"solidity\":0.2}},\"type\":\"bar\"}],\"scattergeo\":[{\"type\":\"scattergeo\",\"marker\":{\"colorbar\":{\"outlinewidth\":0,\"ticks\":\"\"}}}],\"scatterpolar\":[{\"type\":\"scatterpolar\",\"marker\":{\"colorbar\":{\"outlinewidth\":0,\"ticks\":\"\"}}}],\"histogram\":[{\"marker\":{\"pattern\":{\"fillmode\":\"overlay\",\"size\":10,\"solidity\":0.2}},\"type\":\"histogram\"}],\"scattergl\":[{\"type\":\"scattergl\",\"marker\":{\"colorbar\":{\"outlinewidth\":0,\"ticks\":\"\"}}}],\"scatter3d\":[{\"type\":\"scatter3d\",\"line\":{\"colorbar\":{\"outlinewidth\":0,\"ticks\":\"\"}},\"marker\":{\"colorbar\":{\"outlinewidth\":0,\"ticks\":\"\"}}}],\"scattermapbox\":[{\"type\":\"scattermapbox\",\"marker\":{\"colorbar\":{\"outlinewidth\":0,\"ticks\":\"\"}}}],\"scatterternary\":[{\"type\":\"scatterternary\",\"marker\":{\"colorbar\":{\"outlinewidth\":0,\"ticks\":\"\"}}}],\"scattercarpet\":[{\"type\":\"scattercarpet\",\"marker\":{\"colorbar\":{\"outlinewidth\":0,\"ticks\":\"\"}}}],\"carpet\":[{\"aaxis\":{\"endlinecolor\":\"#2a3f5f\",\"gridcolor\":\"white\",\"linecolor\":\"white\",\"minorgridcolor\":\"white\",\"startlinecolor\":\"#2a3f5f\"},\"baxis\":{\"endlinecolor\":\"#2a3f5f\",\"gridcolor\":\"white\",\"linecolor\":\"white\",\"minorgridcolor\":\"white\",\"startlinecolor\":\"#2a3f5f\"},\"type\":\"carpet\"}],\"table\":[{\"cells\":{\"fill\":{\"color\":\"#EBF0F8\"},\"line\":{\"color\":\"white\"}},\"header\":{\"fill\":{\"color\":\"#C8D4E3\"},\"line\":{\"color\":\"white\"}},\"type\":\"table\"}],\"barpolar\":[{\"marker\":{\"line\":{\"color\":\"#E5ECF6\",\"width\":0.5},\"pattern\":{\"fillmode\":\"overlay\",\"size\":10,\"solidity\":0.2}},\"type\":\"barpolar\"}],\"pie\":[{\"automargin\":true,\"type\":\"pie\"}]},\"layout\":{\"autotypenumbers\":\"strict\",\"colorway\":[\"#636efa\",\"#EF553B\",\"#00cc96\",\"#ab63fa\",\"#FFA15A\",\"#19d3f3\",\"#FF6692\",\"#B6E880\",\"#FF97FF\",\"#FECB52\"],\"font\":{\"color\":\"#2a3f5f\"},\"hovermode\":\"closest\",\"hoverlabel\":{\"align\":\"left\"},\"paper_bgcolor\":\"white\",\"plot_bgcolor\":\"#E5ECF6\",\"polar\":{\"bgcolor\":\"#E5ECF6\",\"angularaxis\":{\"gridcolor\":\"white\",\"linecolor\":\"white\",\"ticks\":\"\"},\"radialaxis\":{\"gridcolor\":\"white\",\"linecolor\":\"white\",\"ticks\":\"\"}},\"ternary\":{\"bgcolor\":\"#E5ECF6\",\"aaxis\":{\"gridcolor\":\"white\",\"linecolor\":\"white\",\"ticks\":\"\"},\"baxis\":{\"gridcolor\":\"white\",\"linecolor\":\"white\",\"ticks\":\"\"},\"caxis\":{\"gridcolor\":\"white\",\"linecolor\":\"white\",\"ticks\":\"\"}},\"coloraxis\":{\"colorbar\":{\"outlinewidth\":0,\"ticks\":\"\"}},\"colorscale\":{\"sequential\":[[0.0,\"#0d0887\"],[0.1111111111111111,\"#46039f\"],[0.2222222222222222,\"#7201a8\"],[0.3333333333333333,\"#9c179e\"],[0.4444444444444444,\"#bd3786\"],[0.5555555555555556,\"#d8576b\"],[0.6666666666666666,\"#ed7953\"],[0.7777777777777778,\"#fb9f3a\"],[0.8888888888888888,\"#fdca26\"],[1.0,\"#f0f921\"]],\"sequentialminus\":[[0.0,\"#0d0887\"],[0.1111111111111111,\"#46039f\"],[0.2222222222222222,\"#7201a8\"],[0.3333333333333333,\"#9c179e\"],[0.4444444444444444,\"#bd3786\"],[0.5555555555555556,\"#d8576b\"],[0.6666666666666666,\"#ed7953\"],[0.7777777777777778,\"#fb9f3a\"],[0.8888888888888888,\"#fdca26\"],[1.0,\"#f0f921\"]],\"diverging\":[[0,\"#8e0152\"],[0.1,\"#c51b7d\"],[0.2,\"#de77ae\"],[0.3,\"#f1b6da\"],[0.4,\"#fde0ef\"],[0.5,\"#f7f7f7\"],[0.6,\"#e6f5d0\"],[0.7,\"#b8e186\"],[0.8,\"#7fbc41\"],[0.9,\"#4d9221\"],[1,\"#276419\"]]},\"xaxis\":{\"gridcolor\":\"white\",\"linecolor\":\"white\",\"ticks\":\"\",\"title\":{\"standoff\":15},\"zerolinecolor\":\"white\",\"automargin\":true,\"zerolinewidth\":2},\"yaxis\":{\"gridcolor\":\"white\",\"linecolor\":\"white\",\"ticks\":\"\",\"title\":{\"standoff\":15},\"zerolinecolor\":\"white\",\"automargin\":true,\"zerolinewidth\":2},\"scene\":{\"xaxis\":{\"backgroundcolor\":\"#E5ECF6\",\"gridcolor\":\"white\",\"linecolor\":\"white\",\"showbackground\":true,\"ticks\":\"\",\"zerolinecolor\":\"white\",\"gridwidth\":2},\"yaxis\":{\"backgroundcolor\":\"#E5ECF6\",\"gridcolor\":\"white\",\"linecolor\":\"white\",\"showbackground\":true,\"ticks\":\"\",\"zerolinecolor\":\"white\",\"gridwidth\":2},\"zaxis\":{\"backgroundcolor\":\"#E5ECF6\",\"gridcolor\":\"white\",\"linecolor\":\"white\",\"showbackground\":true,\"ticks\":\"\",\"zerolinecolor\":\"white\",\"gridwidth\":2}},\"shapedefaults\":{\"line\":{\"color\":\"#2a3f5f\"}},\"annotationdefaults\":{\"arrowcolor\":\"#2a3f5f\",\"arrowhead\":0,\"arrowwidth\":1},\"geo\":{\"bgcolor\":\"white\",\"landcolor\":\"#E5ECF6\",\"subunitcolor\":\"white\",\"showland\":true,\"showlakes\":true,\"lakecolor\":\"white\"},\"title\":{\"x\":0.05},\"mapbox\":{\"style\":\"light\"}}},\"xaxis\":{\"anchor\":\"y\",\"domain\":[0.0,1.0],\"title\":{\"text\":\"variable\"}},\"yaxis\":{\"anchor\":\"x\",\"domain\":[0.0,1.0],\"title\":{\"text\":\"value\"}},\"legend\":{\"title\":{\"text\":\"color\"},\"tracegroupgap\":0},\"margin\":{\"t\":60},\"boxmode\":\"group\"},                        {\"responsive\": true}                    ).then(function(){\n",
              "                            \n",
              "var gd = document.getElementById('21348fe2-e844-4f28-8fc1-1d90829dfc93');\n",
              "var x = new MutationObserver(function (mutations, observer) {{\n",
              "        var display = window.getComputedStyle(gd).display;\n",
              "        if (!display || display === 'none') {{\n",
              "            console.log([gd, 'removed!']);\n",
              "            Plotly.purge(gd);\n",
              "            observer.disconnect();\n",
              "        }}\n",
              "}});\n",
              "\n",
              "// Listen for the removal of the full notebook cells\n",
              "var notebookContainer = gd.closest('#notebook-container');\n",
              "if (notebookContainer) {{\n",
              "    x.observe(notebookContainer, {childList: true});\n",
              "}}\n",
              "\n",
              "// Listen for the clearing of the current output cell\n",
              "var outputEl = gd.closest('.output');\n",
              "if (outputEl) {{\n",
              "    x.observe(outputEl, {childList: true});\n",
              "}}\n",
              "\n",
              "                        })                };                            </script>        </div>\n",
              "</body>\n",
              "</html>"
            ]
          },
          "metadata": {}
        }
      ],
      "source": [
        "px.box(datos.talk_time,\n",
        "       color=datos.price_range\n",
        ")"
      ]
    },
    {
      "cell_type": "markdown",
      "metadata": {
        "id": "7LAjfCb71cXb"
      },
      "source": [
        "# Datos Faltantes"
      ]
    },
    {
      "cell_type": "code",
      "execution_count": null,
      "metadata": {
        "colab": {
          "base_uri": "https://localhost:8080/",
          "height": 665
        },
        "id": "LDamGJvX2u91",
        "outputId": "03452e09-ae0a-4623-aa0d-f3357ed52f6b"
      },
      "outputs": [
        {
          "data": {
            "image/png": "[encoded data removed]",
            "text/plain": [
              "<Figure size 2500x1000 with 2 Axes>"
            ]
          },
          "metadata": {},
          "output_type": "display_data"
        }
      ],
      "source": [
        "import missingno as msno\n",
        "msno.matrix(datos)\n",
        "plt.show()"
      ]
    },
    {
      "cell_type": "markdown",
      "metadata": {
        "id": "WCUCnQn133ED"
      },
      "source": [
        "Esta libreria nos permite crear visualizaciones que representan los datos que estamos trabajando, haciendo mas facil identificar datos faltantes y su ubicacion en el dataset."
      ]
    },
    {
      "cell_type": "markdown",
      "metadata": {
        "id": "bcs2507-4Jzm"
      },
      "source": [
        "#Revision de variables con datos irregulares"
      ]
    },
    {
      "cell_type": "code",
      "execution_count": null,
      "metadata": {
        "colab": {
          "base_uri": "https://localhost:8080/",
          "height": 542
        },
        "id": "Snu68JUC4NXh",
        "outputId": "65f79339-cab6-455e-ca97-01490cb6c0bc"
      },
      "outputs": [
        {
          "data": {
            "text/html": [
              "<html>\n",
              "<head><meta charset=\"utf-8\" /></head>\n",
              "<body>\n",
              "    <div>            <script src=\"https://cdnjs.cloudflare.com/ajax/libs/mathjax/2.7.5/MathJax.js?config=TeX-AMS-MML_SVG\"></script><script type=\"text/javascript\">if (window.MathJax && window.MathJax.Hub && window.MathJax.Hub.Config) {window.MathJax.Hub.Config({SVG: {font: \"STIX-Web\"}});}</script>                <script type=\"text/javascript\">window.PlotlyConfig = {MathJaxConfig: 'local'};</script>\n",
              "        <script charset=\"utf-8\" src=\"https://cdn.plot.ly/plotly-2.24.1.min.js\"></script>                <div id=\"690093e1-7a91-4d6b-9492-15d7da4e7220\" class=\"plotly-graph-div\" style=\"height:525px; width:100%;\"></div>            <script type=\"text/javascript\">                                    window.PLOTLYENV=window.PLOTLYENV || {};                                    if (document.getElementById(\"690093e1-7a91-4d6b-9492-15d7da4e7220\")) {                    Plotly.newPlot(                        \"690093e1-7a91-4d6b-9492-15d7da4e7220\",                        [{\"alignmentgroup\":\"True\",\"hovertemplate\":\"variable=count\\u003cbr\\u003epx_height=%{x}\\u003cbr\\u003evalue=%{y}\\u003cextra\\u003e\\u003c\\u002fextra\\u003e\",\"legendgroup\":\"count\",\"marker\":{\"color\":\"#636efa\",\"pattern\":{\"shape\":\"\"}},\"name\":\"count\",\"offsetgroup\":\"count\",\"orientation\":\"v\",\"showlegend\":true,\"textposition\":\"auto\",\"x\":[347,179,371,275,674,286,42,211,649,398,327,322,526,356,88,730,447,56,168,667,293,461,361,127,485,546,262,713,396,831,570,193,1399,410,273,626,418,1331,419,519,584,68,159,217,195,919,304,632,291,954,271,344,149,202,214,140,875,518,311,777,1109,655,115,229,431,186,416,236,103,358,409,564,335,710,426,641,547,297,1285,295,65,594,190,574,199,397,881,475,169,105,18,118,1175,342,912,90,138,382,417,1052,983,308,590,207,961,111,553,1362,492,951,1698,729,163,329,1111,531,600,120,781,126,675,251,1058,837,533,206,494,364,83,897,268,1064,395,157,725,798,935,154,150,681,491,985,606,172,454,778,114,433,209,82,119,290,204,806,253,333,629,300,58,134,165,501,1028,91,130,79,593,437,35,404,650,1242,125,846,800,117,178,468,85,1171,59,609,98,1573,622,511,605,201,692,776,670,320,1314,306,205,160,4,651,887,690,194,96,1226,434,403,332,177,942,405,62,925,1438,657,1055,108,818,956,747,1191,510,614,577,381,46,116,387,902,248,227,1211,334,380,773,623,443,576,982,699,1563,478,1140,203,683,223,687,167,1325,1103,48,706,888,709,86,560,662,192,643,833,394,1791,693,181,1446,376,287,440,470,523,0,234,536,767,742,189,424,161,225,263,664,612,1213,367,52,1131,278,948,762,937,484,406,430,613,599,338,859,499,249,920,760,80,258,1428,183,240,1024,691,385,1250,40,137,782,473,751,276,838,543,15,256,737,1096,945,647,314,527,758,351,1209,1222,113,144,1092,813,173,805,224,412,1179,785,497,1482,1571,686,853,991,586,1749,868,705,284,774,146,1194,444,477,1003,1145,1081,64,960,1262,43,442,521,625,517,653,503,1619,22,1123,905,717,952,3,963,496,724,1384,462,1122,1039,50,212,545,366,174,1012,1221,471,280,482,1047,591,1495,349,267,158,238,400,123,480,1626,8,532,81,698,274,757,486,1299,867,715,678,901,20,618,611,637,639,634,1397,561,420,319,77,235,1187,187,1419,188,151,788,104,71,1176,142,393,408,1077,743,55,541,346,1054,809,386,512,630,250,619,607,550,712,1172,1153,1273,39,825,312,741,19,441,170,938,407,1392,1001,384,1010,854,1277,1086,1100,466,504,718,1417,1107,1168,176,129,336,1116,506,1230,379,449,1208,754,148,765,323,1017,880,839,231,507,436,707,299,581,638,453,313,27,246,635,793,885,1013,331,861,538,282,819,1177,1259,1025,281,522,457,459,1125,1091,233,1097,759,548,666,495,21,1134,315,964,264,191,1233,1274,340,534,822,1135,1353,1565,1703,318,289,467,285,343,1878,1313,602,907,659,539,362,923,66,924,283,1836,916,1475,1083,753,1750,1078,272,1094,1541,1335,1085,1151,265,903,636,100,1605,1706,1603,1207,423,476,1572,769,864,1511,870,1379,220,557,796,1021,995,1185,1157,1240,1198,24,1272,1158,70,1333,768,1070,184,836,1633,1770,325,391,1043,812,824,1244,516,122,688,1406,1826,817,166,1040,339,882,763,755,294,958,1328,354,1709,1099,783,1382,530,1076,1621,1238,135,5,549,928,739,708,567,1699,1245,682,990,257,17,439,153,552,571,1042,927,525,348,1899,1188,679,1224,487,74,931,921,1057,616,740,542,383,1442,1352,1041,911,321,1284,84,102,1279,1137,296,1364,950,1960,808,94,1684,1050,1658,67,1257,11,889,266,1451,596,914,665,661,1216,1315,479,1263,652,1652,976,455,1196,1694,610,1457,241,528,915,1661,388,1048,892,1004,1217,298,36,617,786,645,1371,1332,428,1546,1210,789,390,110,1330,317,862,1225,728,429,672,1088,219,563,944,1138,413,500,608,277,1358,1310,930,835,460,1581,9,1385,1032,53,155,10,23,1063,1421,1580,685,1725,1420,1801,1693,31,1098,1765,1448,2,469,1180,7,1288,979,913,1524,1649,254,1790,1304,984,1161,242,1569,978,1147,910,26,1080,744,1466,764,245,973,73,588,1252,1128,922,1874,1015,1303,124,974,857,1117,658,603,766,1499,988,1618,1163,330,1445,689,112,627,1485,1502,589,1132,363,208,745,1339,722,1298,1214,474,1464,337,14,1715,1686,1074,1471,463,1301,1311,1568,1453,871,182,1430,1236,1156,377,1243,13,1114,513,1036,1347,520,198,1830,448,1713,438,965,1360,555,860,44,109,243,357,32,1858,303,1,802,1053,221,1795,866,185,1869,451,1119,671,1404,856,562,997,63,445,1728,1617,375,1545,481,1411,1184,97,558,810,628,592,1087,1792,389,966,1027,1452,369,1258,1345,228,1467,1673,947,1802,1127,980,1142,840,401,957,509,1215,631,164,292,6,803,1596,946,1613,270,1350,1248,981,162,1016,30,569,373,551,1391,680,1597,1060,832,1173,446,1308,1002,493,886,727,180,427,402,841,934,823,1079,579,694,1108,1486,1197,1294,464,1186,269,1641,302,1455,1307,804,847,663,986,218,1008,244,716,787,1432,704,1045,489,1518,855,1261,1203,145,1463,95,1895,1220,1011,1512,1136,247,642,953,1537,1578,821,849,465,38,51,850,1365,719,1162,1789,360,756,874,1590,1386,226,378,1901,703,45,879,1287,597,890,1260,621,328,1265,1852,775,1105,1223,450,660,811,1281,898,554,1612,89,368,239,654,583,992,975,1480,1638,1949,1290,540,987,535,1170,994,210,529,1178,575,75,1842,1323,1528,411,1102,215,490,1201,792,78,580,372,1150,1552,865,156,1914,936,761,673,472,977,359,714,843,1022,352,237,76,820,171,624,1295,1164,829,1734,970,1920,578,852,1692,259,873,858,1405,750,1587,815,701,721,458,370,1738,573,1112,213,1530,309,152,29,87,648,341,993,483],\"xaxis\":\"x\",\"y\":[7,6,6,6,5,5,5,5,5,5,5,5,5,5,5,5,5,5,5,5,5,4,4,4,4,4,4,4,4,4,4,4,4,4,4,4,4,4,4,4,4,4,4,4,4,4,4,4,4,4,4,4,4,4,4,4,4,4,4,4,4,4,4,4,4,4,4,4,3,3,3,3,3,3,3,3,3,3,3,3,3,3,3,3,3,3,3,3,3,3,3,3,3,3,3,3,3,3,3,3,3,3,3,3,3,3,3,3,3,3,3,3,3,3,3,3,3,3,3,3,3,3,3,3,3,3,3,3,3,3,3,3,3,3,3,3,3,3,3,3,3,3,3,3,3,3,3,3,3,3,3,3,3,3,3,3,3,3,3,3,3,3,3,3,3,3,3,3,3,3,3,3,3,3,3,3,3,3,3,3,3,3,3,3,3,3,3,3,3,3,3,3,3,3,3,3,3,3,3,3,3,3,3,3,3,3,3,3,3,3,3,3,3,3,3,3,3,3,3,3,3,3,3,3,3,3,3,3,3,3,3,3,2,2,2,2,2,2,2,2,2,2,2,2,2,2,2,2,2,2,2,2,2,2,2,2,2,2,2,2,2,2,2,2,2,2,2,2,2,2,2,2,2,2,2,2,2,2,2,2,2,2,2,2,2,2,2,2,2,2,2,2,2,2,2,2,2,2,2,2,2,2,2,2,2,2,2,2,2,2,2,2,2,2,2,2,2,2,2,2,2,2,2,2,2,2,2,2,2,2,2,2,2,2,2,2,2,2,2,2,2,2,2,2,2,2,2,2,2,2,2,2,2,2,2,2,2,2,2,2,2,2,2,2,2,2,2,2,2,2,2,2,2,2,2,2,2,2,2,2,2,2,2,2,2,2,2,2,2,2,2,2,2,2,2,2,2,2,2,2,2,2,2,2,2,2,2,2,2,2,2,2,2,2,2,2,2,2,2,2,2,2,2,2,2,2,2,2,2,2,2,2,2,2,2,2,2,2,2,2,2,2,2,2,2,2,2,2,2,2,2,2,2,2,2,2,2,2,2,2,2,2,2,2,2,2,2,2,2,2,2,2,2,2,2,2,2,2,2,2,2,2,2,2,2,2,2,2,2,2,2,2,2,2,2,2,2,2,2,2,2,2,2,2,2,2,2,2,2,2,2,2,2,2,2,2,2,2,2,2,2,2,2,2,2,2,2,2,2,2,2,2,2,2,2,2,2,1,1,1,1,1,1,1,1,1,1,1,1,1,1,1,1,1,1,1,1,1,1,1,1,1,1,1,1,1,1,1,1,1,1,1,1,1,1,1,1,1,1,1,1,1,1,1,1,1,1,1,1,1,1,1,1,1,1,1,1,1,1,1,1,1,1,1,1,1,1,1,1,1,1,1,1,1,1,1,1,1,1,1,1,1,1,1,1,1,1,1,1,1,1,1,1,1,1,1,1,1,1,1,1,1,1,1,1,1,1,1,1,1,1,1,1,1,1,1,1,1,1,1,1,1,1,1,1,1,1,1,1,1,1,1,1,1,1,1,1,1,1,1,1,1,1,1,1,1,1,1,1,1,1,1,1,1,1,1,1,1,1,1,1,1,1,1,1,1,1,1,1,1,1,1,1,1,1,1,1,1,1,1,1,1,1,1,1,1,1,1,1,1,1,1,1,1,1,1,1,1,1,1,1,1,1,1,1,1,1,1,1,1,1,1,1,1,1,1,1,1,1,1,1,1,1,1,1,1,1,1,1,1,1,1,1,1,1,1,1,1,1,1,1,1,1,1,1,1,1,1,1,1,1,1,1,1,1,1,1,1,1,1,1,1,1,1,1,1,1,1,1,1,1,1,1,1,1,1,1,1,1,1,1,1,1,1,1,1,1,1,1,1,1,1,1,1,1,1,1,1,1,1,1,1,1,1,1,1,1,1,1,1,1,1,1,1,1,1,1,1,1,1,1,1,1,1,1,1,1,1,1,1,1,1,1,1,1,1,1,1,1,1,1,1,1,1,1,1,1,1,1,1,1,1,1,1,1,1,1,1,1,1,1,1,1,1,1,1,1,1,1,1,1,1,1,1,1,1,1,1,1,1,1,1,1,1,1,1,1,1,1,1,1,1,1,1,1,1,1,1,1,1,1,1,1,1,1,1,1,1,1,1,1,1,1,1,1,1,1,1,1,1,1,1,1,1,1,1,1,1,1,1,1,1,1,1,1,1,1,1,1,1,1,1,1,1,1,1,1,1,1,1,1,1,1,1,1,1,1,1,1,1,1,1,1,1,1,1,1,1,1,1,1,1,1,1,1,1,1,1,1,1,1,1,1,1,1,1,1,1,1,1,1,1,1,1,1,1,1,1,1,1,1,1,1,1,1,1,1,1,1,1,1,1,1,1,1,1,1,1,1,1,1,1,1,1,1,1,1,1,1,1,1,1,1,1,1,1,1,1,1,1,1,1,1,1,1,1,1,1,1,1,1,1,1,1,1,1,1,1,1,1,1,1,1,1,1,1,1,1,1,1,1,1,1,1,1,1,1,1,1,1,1,1,1,1,1,1,1,1,1,1,1,1,1,1,1,1,1],\"yaxis\":\"y\",\"type\":\"bar\"}],                        {\"template\":{\"data\":{\"histogram2dcontour\":[{\"type\":\"histogram2dcontour\",\"colorbar\":{\"outlinewidth\":0,\"ticks\":\"\"},\"colorscale\":[[0.0,\"#0d0887\"],[0.1111111111111111,\"#46039f\"],[0.2222222222222222,\"#7201a8\"],[0.3333333333333333,\"#9c179e\"],[0.4444444444444444,\"#bd3786\"],[0.5555555555555556,\"#d8576b\"],[0.6666666666666666,\"#ed7953\"],[0.7777777777777778,\"#fb9f3a\"],[0.8888888888888888,\"#fdca26\"],[1.0,\"#f0f921\"]]}],\"choropleth\":[{\"type\":\"choropleth\",\"colorbar\":{\"outlinewidth\":0,\"ticks\":\"\"}}],\"histogram2d\":[{\"type\":\"histogram2d\",\"colorbar\":{\"outlinewidth\":0,\"ticks\":\"\"},\"colorscale\":[[0.0,\"#0d0887\"],[0.1111111111111111,\"#46039f\"],[0.2222222222222222,\"#7201a8\"],[0.3333333333333333,\"#9c179e\"],[0.4444444444444444,\"#bd3786\"],[0.5555555555555556,\"#d8576b\"],[0.6666666666666666,\"#ed7953\"],[0.7777777777777778,\"#fb9f3a\"],[0.8888888888888888,\"#fdca26\"],[1.0,\"#f0f921\"]]}],\"heatmap\":[{\"type\":\"heatmap\",\"colorbar\":{\"outlinewidth\":0,\"ticks\":\"\"},\"colorscale\":[[0.0,\"#0d0887\"],[0.1111111111111111,\"#46039f\"],[0.2222222222222222,\"#7201a8\"],[0.3333333333333333,\"#9c179e\"],[0.4444444444444444,\"#bd3786\"],[0.5555555555555556,\"#d8576b\"],[0.6666666666666666,\"#ed7953\"],[0.7777777777777778,\"#fb9f3a\"],[0.8888888888888888,\"#fdca26\"],[1.0,\"#f0f921\"]]}],\"heatmapgl\":[{\"type\":\"heatmapgl\",\"colorbar\":{\"outlinewidth\":0,\"ticks\":\"\"},\"colorscale\":[[0.0,\"#0d0887\"],[0.1111111111111111,\"#46039f\"],[0.2222222222222222,\"#7201a8\"],[0.3333333333333333,\"#9c179e\"],[0.4444444444444444,\"#bd3786\"],[0.5555555555555556,\"#d8576b\"],[0.6666666666666666,\"#ed7953\"],[0.7777777777777778,\"#fb9f3a\"],[0.8888888888888888,\"#fdca26\"],[1.0,\"#f0f921\"]]}],\"contourcarpet\":[{\"type\":\"contourcarpet\",\"colorbar\":{\"outlinewidth\":0,\"ticks\":\"\"}}],\"contour\":[{\"type\":\"contour\",\"colorbar\":{\"outlinewidth\":0,\"ticks\":\"\"},\"colorscale\":[[0.0,\"#0d0887\"],[0.1111111111111111,\"#46039f\"],[0.2222222222222222,\"#7201a8\"],[0.3333333333333333,\"#9c179e\"],[0.4444444444444444,\"#bd3786\"],[0.5555555555555556,\"#d8576b\"],[0.6666666666666666,\"#ed7953\"],[0.7777777777777778,\"#fb9f3a\"],[0.8888888888888888,\"#fdca26\"],[1.0,\"#f0f921\"]]}],\"surface\":[{\"type\":\"surface\",\"colorbar\":{\"outlinewidth\":0,\"ticks\":\"\"},\"colorscale\":[[0.0,\"#0d0887\"],[0.1111111111111111,\"#46039f\"],[0.2222222222222222,\"#7201a8\"],[0.3333333333333333,\"#9c179e\"],[0.4444444444444444,\"#bd3786\"],[0.5555555555555556,\"#d8576b\"],[0.6666666666666666,\"#ed7953\"],[0.7777777777777778,\"#fb9f3a\"],[0.8888888888888888,\"#fdca26\"],[1.0,\"#f0f921\"]]}],\"mesh3d\":[{\"type\":\"mesh3d\",\"colorbar\":{\"outlinewidth\":0,\"ticks\":\"\"}}],\"scatter\":[{\"fillpattern\":{\"fillmode\":\"overlay\",\"size\":10,\"solidity\":0.2},\"type\":\"scatter\"}],\"parcoords\":[{\"type\":\"parcoords\",\"line\":{\"colorbar\":{\"outlinewidth\":0,\"ticks\":\"\"}}}],\"scatterpolargl\":[{\"type\":\"scatterpolargl\",\"marker\":{\"colorbar\":{\"outlinewidth\":0,\"ticks\":\"\"}}}],\"bar\":[{\"error_x\":{\"color\":\"#2a3f5f\"},\"error_y\":{\"color\":\"#2a3f5f\"},\"marker\":{\"line\":{\"color\":\"#E5ECF6\",\"width\":0.5},\"pattern\":{\"fillmode\":\"overlay\",\"size\":10,\"solidity\":0.2}},\"type\":\"bar\"}],\"scattergeo\":[{\"type\":\"scattergeo\",\"marker\":{\"colorbar\":{\"outlinewidth\":0,\"ticks\":\"\"}}}],\"scatterpolar\":[{\"type\":\"scatterpolar\",\"marker\":{\"colorbar\":{\"outlinewidth\":0,\"ticks\":\"\"}}}],\"histogram\":[{\"marker\":{\"pattern\":{\"fillmode\":\"overlay\",\"size\":10,\"solidity\":0.2}},\"type\":\"histogram\"}],\"scattergl\":[{\"type\":\"scattergl\",\"marker\":{\"colorbar\":{\"outlinewidth\":0,\"ticks\":\"\"}}}],\"scatter3d\":[{\"type\":\"scatter3d\",\"line\":{\"colorbar\":{\"outlinewidth\":0,\"ticks\":\"\"}},\"marker\":{\"colorbar\":{\"outlinewidth\":0,\"ticks\":\"\"}}}],\"scattermapbox\":[{\"type\":\"scattermapbox\",\"marker\":{\"colorbar\":{\"outlinewidth\":0,\"ticks\":\"\"}}}],\"scatterternary\":[{\"type\":\"scatterternary\",\"marker\":{\"colorbar\":{\"outlinewidth\":0,\"ticks\":\"\"}}}],\"scattercarpet\":[{\"type\":\"scattercarpet\",\"marker\":{\"colorbar\":{\"outlinewidth\":0,\"ticks\":\"\"}}}],\"carpet\":[{\"aaxis\":{\"endlinecolor\":\"#2a3f5f\",\"gridcolor\":\"white\",\"linecolor\":\"white\",\"minorgridcolor\":\"white\",\"startlinecolor\":\"#2a3f5f\"},\"baxis\":{\"endlinecolor\":\"#2a3f5f\",\"gridcolor\":\"white\",\"linecolor\":\"white\",\"minorgridcolor\":\"white\",\"startlinecolor\":\"#2a3f5f\"},\"type\":\"carpet\"}],\"table\":[{\"cells\":{\"fill\":{\"color\":\"#EBF0F8\"},\"line\":{\"color\":\"white\"}},\"header\":{\"fill\":{\"color\":\"#C8D4E3\"},\"line\":{\"color\":\"white\"}},\"type\":\"table\"}],\"barpolar\":[{\"marker\":{\"line\":{\"color\":\"#E5ECF6\",\"width\":0.5},\"pattern\":{\"fillmode\":\"overlay\",\"size\":10,\"solidity\":0.2}},\"type\":\"barpolar\"}],\"pie\":[{\"automargin\":true,\"type\":\"pie\"}]},\"layout\":{\"autotypenumbers\":\"strict\",\"colorway\":[\"#636efa\",\"#EF553B\",\"#00cc96\",\"#ab63fa\",\"#FFA15A\",\"#19d3f3\",\"#FF6692\",\"#B6E880\",\"#FF97FF\",\"#FECB52\"],\"font\":{\"color\":\"#2a3f5f\"},\"hovermode\":\"closest\",\"hoverlabel\":{\"align\":\"left\"},\"paper_bgcolor\":\"white\",\"plot_bgcolor\":\"#E5ECF6\",\"polar\":{\"bgcolor\":\"#E5ECF6\",\"angularaxis\":{\"gridcolor\":\"white\",\"linecolor\":\"white\",\"ticks\":\"\"},\"radialaxis\":{\"gridcolor\":\"white\",\"linecolor\":\"white\",\"ticks\":\"\"}},\"ternary\":{\"bgcolor\":\"#E5ECF6\",\"aaxis\":{\"gridcolor\":\"white\",\"linecolor\":\"white\",\"ticks\":\"\"},\"baxis\":{\"gridcolor\":\"white\",\"linecolor\":\"white\",\"ticks\":\"\"},\"caxis\":{\"gridcolor\":\"white\",\"linecolor\":\"white\",\"ticks\":\"\"}},\"coloraxis\":{\"colorbar\":{\"outlinewidth\":0,\"ticks\":\"\"}},\"colorscale\":{\"sequential\":[[0.0,\"#0d0887\"],[0.1111111111111111,\"#46039f\"],[0.2222222222222222,\"#7201a8\"],[0.3333333333333333,\"#9c179e\"],[0.4444444444444444,\"#bd3786\"],[0.5555555555555556,\"#d8576b\"],[0.6666666666666666,\"#ed7953\"],[0.7777777777777778,\"#fb9f3a\"],[0.8888888888888888,\"#fdca26\"],[1.0,\"#f0f921\"]],\"sequentialminus\":[[0.0,\"#0d0887\"],[0.1111111111111111,\"#46039f\"],[0.2222222222222222,\"#7201a8\"],[0.3333333333333333,\"#9c179e\"],[0.4444444444444444,\"#bd3786\"],[0.5555555555555556,\"#d8576b\"],[0.6666666666666666,\"#ed7953\"],[0.7777777777777778,\"#fb9f3a\"],[0.8888888888888888,\"#fdca26\"],[1.0,\"#f0f921\"]],\"diverging\":[[0,\"#8e0152\"],[0.1,\"#c51b7d\"],[0.2,\"#de77ae\"],[0.3,\"#f1b6da\"],[0.4,\"#fde0ef\"],[0.5,\"#f7f7f7\"],[0.6,\"#e6f5d0\"],[0.7,\"#b8e186\"],[0.8,\"#7fbc41\"],[0.9,\"#4d9221\"],[1,\"#276419\"]]},\"xaxis\":{\"gridcolor\":\"white\",\"linecolor\":\"white\",\"ticks\":\"\",\"title\":{\"standoff\":15},\"zerolinecolor\":\"white\",\"automargin\":true,\"zerolinewidth\":2},\"yaxis\":{\"gridcolor\":\"white\",\"linecolor\":\"white\",\"ticks\":\"\",\"title\":{\"standoff\":15},\"zerolinecolor\":\"white\",\"automargin\":true,\"zerolinewidth\":2},\"scene\":{\"xaxis\":{\"backgroundcolor\":\"#E5ECF6\",\"gridcolor\":\"white\",\"linecolor\":\"white\",\"showbackground\":true,\"ticks\":\"\",\"zerolinecolor\":\"white\",\"gridwidth\":2},\"yaxis\":{\"backgroundcolor\":\"#E5ECF6\",\"gridcolor\":\"white\",\"linecolor\":\"white\",\"showbackground\":true,\"ticks\":\"\",\"zerolinecolor\":\"white\",\"gridwidth\":2},\"zaxis\":{\"backgroundcolor\":\"#E5ECF6\",\"gridcolor\":\"white\",\"linecolor\":\"white\",\"showbackground\":true,\"ticks\":\"\",\"zerolinecolor\":\"white\",\"gridwidth\":2}},\"shapedefaults\":{\"line\":{\"color\":\"#2a3f5f\"}},\"annotationdefaults\":{\"arrowcolor\":\"#2a3f5f\",\"arrowhead\":0,\"arrowwidth\":1},\"geo\":{\"bgcolor\":\"white\",\"landcolor\":\"#E5ECF6\",\"subunitcolor\":\"white\",\"showland\":true,\"showlakes\":true,\"lakecolor\":\"white\"},\"title\":{\"x\":0.05},\"mapbox\":{\"style\":\"light\"}}},\"xaxis\":{\"anchor\":\"y\",\"domain\":[0.0,1.0],\"title\":{\"text\":\"px_height\"}},\"yaxis\":{\"anchor\":\"x\",\"domain\":[0.0,1.0],\"title\":{\"text\":\"value\"}},\"legend\":{\"title\":{\"text\":\"variable\"},\"tracegroupgap\":0},\"margin\":{\"t\":60},\"barmode\":\"relative\"},                        {\"responsive\": true}                    ).then(function(){\n",
              "                            \n",
              "var gd = document.getElementById('690093e1-7a91-4d6b-9492-15d7da4e7220');\n",
              "var x = new MutationObserver(function (mutations, observer) {{\n",
              "        var display = window.getComputedStyle(gd).display;\n",
              "        if (!display || display === 'none') {{\n",
              "            console.log([gd, 'removed!']);\n",
              "            Plotly.purge(gd);\n",
              "            observer.disconnect();\n",
              "        }}\n",
              "}});\n",
              "\n",
              "// Listen for the removal of the full notebook cells\n",
              "var notebookContainer = gd.closest('#notebook-container');\n",
              "if (notebookContainer) {{\n",
              "    x.observe(notebookContainer, {childList: true});\n",
              "}}\n",
              "\n",
              "// Listen for the clearing of the current output cell\n",
              "var outputEl = gd.closest('.output');\n",
              "if (outputEl) {{\n",
              "    x.observe(outputEl, {childList: true});\n",
              "}}\n",
              "\n",
              "                        })                };                            </script>        </div>\n",
              "</body>\n",
              "</html>"
            ]
          },
          "metadata": {},
          "output_type": "display_data"
        }
      ],
      "source": [
        "px.bar(datos.px_height.value_counts())\n",
        "\n"
      ]
    },
    {
      "cell_type": "code",
      "execution_count": null,
      "metadata": {
        "colab": {
          "base_uri": "https://localhost:8080/"
        },
        "id": "z5jrwSG48CAz",
        "outputId": "e598b7c6-de6b-4ae2-fc2a-a3c64dc17276"
      },
      "outputs": [
        {
          "data": {
            "text/plain": [
              "2"
            ]
          },
          "execution_count": 72,
          "metadata": {},
          "output_type": "execute_result"
        }
      ],
      "source": [
        "conteo=(datos.px_height==0)\n",
        "conteo.sum()\n",
        "\n"
      ]
    },
    {
      "cell_type": "code",
      "execution_count": 4,
      "metadata": {
        "colab": {
          "base_uri": "https://localhost:8080/"
        },
        "id": "qND6Flkz9p0W",
        "outputId": "79430907-f4a8-4625-c7cf-1da7055ae651"
      },
      "outputs": [
        {
          "output_type": "execute_result",
          "data": {
            "text/plain": [
              "0"
            ]
          },
          "metadata": {},
          "execution_count": 4
        }
      ],
      "source": [
        "#datos.px_height=datos.px_height.replace({datos.px_height.median():0},inplace=True)\n",
        "datos.loc[datos[\"px_height\"]==0,\"px_height\"]=datos.px_height.mean()\n",
        "conteo=(datos.px_height==0)\n",
        "conteo.sum()\n"
      ]
    },
    {
      "cell_type": "markdown",
      "source": [
        "Se tenian dos valores iguales a cero, por lo cual se reemplazan por la media de la variable, se realiza utilizando loc de pandas."
      ],
      "metadata": {
        "id": "5FJAsvzmCk_N"
      }
    },
    {
      "cell_type": "markdown",
      "metadata": {
        "id": "hEFL9bk-BmWa"
      },
      "source": [
        "# Reestructuramos la variable price range para realizar predicciones teniendola como output\n",
        "0 - low cost\n",
        "1 - medium cost\n",
        "2 - high cost\n",
        "3 - very high cost"
      ]
    },
    {
      "cell_type": "code",
      "execution_count": null,
      "metadata": {
        "colab": {
          "base_uri": "https://localhost:8080/",
          "height": 206
        },
        "id": "z9JrShQOG4kl",
        "outputId": "7fb4d389-27db-4c96-92fd-360fdd4c9855"
      },
      "outputs": [
        {
          "output_type": "execute_result",
          "data": {
            "text/plain": [
              "             count            cost\n",
              "price_range                       \n",
              "1              500     medium cost\n",
              "2              500       high cost\n",
              "3              500  very high cost\n",
              "0              500        low cost"
            ],
            "text/html": [
              "\n",
              "  <div id=\"df-6313df45-6bda-4609-8060-13eddf921b23\" class=\"colab-df-container\">\n",
              "    <div>\n",
              "<style scoped>\n",
              "    .dataframe tbody tr th:only-of-type {\n",
              "        vertical-align: middle;\n",
              "    }\n",
              "\n",
              "    .dataframe tbody tr th {\n",
              "        vertical-align: top;\n",
              "    }\n",
              "\n",
              "    .dataframe thead th {\n",
              "        text-align: right;\n",
              "    }\n",
              "</style>\n",
              "<table border=\"1\" class=\"dataframe\">\n",
              "  <thead>\n",
              "    <tr style=\"text-align: right;\">\n",
              "      <th></th>\n",
              "      <th>count</th>\n",
              "      <th>cost</th>\n",
              "    </tr>\n",
              "    <tr>\n",
              "      <th>price_range</th>\n",
              "      <th></th>\n",
              "      <th></th>\n",
              "    </tr>\n",
              "  </thead>\n",
              "  <tbody>\n",
              "    <tr>\n",
              "      <th>1</th>\n",
              "      <td>500</td>\n",
              "      <td>medium cost</td>\n",
              "    </tr>\n",
              "    <tr>\n",
              "      <th>2</th>\n",
              "      <td>500</td>\n",
              "      <td>high cost</td>\n",
              "    </tr>\n",
              "    <tr>\n",
              "      <th>3</th>\n",
              "      <td>500</td>\n",
              "      <td>very high cost</td>\n",
              "    </tr>\n",
              "    <tr>\n",
              "      <th>0</th>\n",
              "      <td>500</td>\n",
              "      <td>low cost</td>\n",
              "    </tr>\n",
              "  </tbody>\n",
              "</table>\n",
              "</div>\n",
              "    <div class=\"colab-df-buttons\">\n",
              "\n",
              "  <div class=\"colab-df-container\">\n",
              "    <button class=\"colab-df-convert\" onclick=\"convertToInteractive('df-6313df45-6bda-4609-8060-13eddf921b23')\"\n",
              "            title=\"Convert this dataframe to an interactive table.\"\n",
              "            style=\"display:none;\">\n",
              "\n",
              "  <svg xmlns=\"http://www.w3.org/2000/svg\" height=\"24px\" viewBox=\"0 -960 960 960\">\n",
              "    <path d=\"M120-120v-720h720v720H120Zm60-500h600v-160H180v160Zm220 220h160v-160H400v160Zm0 220h160v-160H400v160ZM180-400h160v-160H180v160Zm440 0h160v-160H620v160ZM180-180h160v-160H180v160Zm440 0h160v-160H620v160Z\"/>\n",
              "  </svg>\n",
              "    </button>\n",
              "\n",
              "  <style>\n",
              "    .colab-df-container {\n",
              "      display:flex;\n",
              "      gap: 12px;\n",
              "    }\n",
              "\n",
              "    .colab-df-convert {\n",
              "      background-color: #E8F0FE;\n",
              "      border: none;\n",
              "      border-radius: 50%;\n",
              "      cursor: pointer;\n",
              "      display: none;\n",
              "      fill: #1967D2;\n",
              "      height: 32px;\n",
              "      padding: 0 0 0 0;\n",
              "      width: 32px;\n",
              "    }\n",
              "\n",
              "    .colab-df-convert:hover {\n",
              "      background-color: #E2EBFA;\n",
              "      box-shadow: 0px 1px 2px rgba(60, 64, 67, 0.3), 0px 1px 3px 1px rgba(60, 64, 67, 0.15);\n",
              "      fill: #174EA6;\n",
              "    }\n",
              "\n",
              "    .colab-df-buttons div {\n",
              "      margin-bottom: 4px;\n",
              "    }\n",
              "\n",
              "    [theme=dark] .colab-df-convert {\n",
              "      background-color: #3B4455;\n",
              "      fill: #D2E3FC;\n",
              "    }\n",
              "\n",
              "    [theme=dark] .colab-df-convert:hover {\n",
              "      background-color: #434B5C;\n",
              "      box-shadow: 0px 1px 3px 1px rgba(0, 0, 0, 0.15);\n",
              "      filter: drop-shadow(0px 1px 2px rgba(0, 0, 0, 0.3));\n",
              "      fill: #FFFFFF;\n",
              "    }\n",
              "  </style>\n",
              "\n",
              "    <script>\n",
              "      const buttonEl =\n",
              "        document.querySelector('#df-6313df45-6bda-4609-8060-13eddf921b23 button.colab-df-convert');\n",
              "      buttonEl.style.display =\n",
              "        google.colab.kernel.accessAllowed ? 'block' : 'none';\n",
              "\n",
              "      async function convertToInteractive(key) {\n",
              "        const element = document.querySelector('#df-6313df45-6bda-4609-8060-13eddf921b23');\n",
              "        const dataTable =\n",
              "          await google.colab.kernel.invokeFunction('convertToInteractive',\n",
              "                                                    [key], {});\n",
              "        if (!dataTable) return;\n",
              "\n",
              "        const docLinkHtml = 'Like what you see? Visit the ' +\n",
              "          '<a target=\"_blank\" href=https://colab.research.google.com/notebooks/data_table.ipynb>data table notebook</a>'\n",
              "          + ' to learn more about interactive tables.';\n",
              "        element.innerHTML = '';\n",
              "        dataTable['output_type'] = 'display_data';\n",
              "        await google.colab.output.renderOutput(dataTable, element);\n",
              "        const docLink = document.createElement('div');\n",
              "        docLink.innerHTML = docLinkHtml;\n",
              "        element.appendChild(docLink);\n",
              "      }\n",
              "    </script>\n",
              "  </div>\n",
              "\n",
              "\n",
              "<div id=\"df-36ca14b3-8f35-41de-81ba-887a5ee8d37f\">\n",
              "  <button class=\"colab-df-quickchart\" onclick=\"quickchart('df-36ca14b3-8f35-41de-81ba-887a5ee8d37f')\"\n",
              "            title=\"Suggest charts\"\n",
              "            style=\"display:none;\">\n",
              "\n",
              "<svg xmlns=\"http://www.w3.org/2000/svg\" height=\"24px\"viewBox=\"0 0 24 24\"\n",
              "     width=\"24px\">\n",
              "    <g>\n",
              "        <path d=\"M19 3H5c-1.1 0-2 .9-2 2v14c0 1.1.9 2 2 2h14c1.1 0 2-.9 2-2V5c0-1.1-.9-2-2-2zM9 17H7v-7h2v7zm4 0h-2V7h2v10zm4 0h-2v-4h2v4z\"/>\n",
              "    </g>\n",
              "</svg>\n",
              "  </button>\n",
              "\n",
              "<style>\n",
              "  .colab-df-quickchart {\n",
              "      --bg-color: #E8F0FE;\n",
              "      --fill-color: #1967D2;\n",
              "      --hover-bg-color: #E2EBFA;\n",
              "      --hover-fill-color: #174EA6;\n",
              "      --disabled-fill-color: #AAA;\n",
              "      --disabled-bg-color: #DDD;\n",
              "  }\n",
              "\n",
              "  [theme=dark] .colab-df-quickchart {\n",
              "      --bg-color: #3B4455;\n",
              "      --fill-color: #D2E3FC;\n",
              "      --hover-bg-color: #434B5C;\n",
              "      --hover-fill-color: #FFFFFF;\n",
              "      --disabled-bg-color: #3B4455;\n",
              "      --disabled-fill-color: #666;\n",
              "  }\n",
              "\n",
              "  .colab-df-quickchart {\n",
              "    background-color: var(--bg-color);\n",
              "    border: none;\n",
              "    border-radius: 50%;\n",
              "    cursor: pointer;\n",
              "    display: none;\n",
              "    fill: var(--fill-color);\n",
              "    height: 32px;\n",
              "    padding: 0;\n",
              "    width: 32px;\n",
              "  }\n",
              "\n",
              "  .colab-df-quickchart:hover {\n",
              "    background-color: var(--hover-bg-color);\n",
              "    box-shadow: 0 1px 2px rgba(60, 64, 67, 0.3), 0 1px 3px 1px rgba(60, 64, 67, 0.15);\n",
              "    fill: var(--button-hover-fill-color);\n",
              "  }\n",
              "\n",
              "  .colab-df-quickchart-complete:disabled,\n",
              "  .colab-df-quickchart-complete:disabled:hover {\n",
              "    background-color: var(--disabled-bg-color);\n",
              "    fill: var(--disabled-fill-color);\n",
              "    box-shadow: none;\n",
              "  }\n",
              "\n",
              "  .colab-df-spinner {\n",
              "    border: 2px solid var(--fill-color);\n",
              "    border-color: transparent;\n",
              "    border-bottom-color: var(--fill-color);\n",
              "    animation:\n",
              "      spin 1s steps(1) infinite;\n",
              "  }\n",
              "\n",
              "  @keyframes spin {\n",
              "    0% {\n",
              "      border-color: transparent;\n",
              "      border-bottom-color: var(--fill-color);\n",
              "      border-left-color: var(--fill-color);\n",
              "    }\n",
              "    20% {\n",
              "      border-color: transparent;\n",
              "      border-left-color: var(--fill-color);\n",
              "      border-top-color: var(--fill-color);\n",
              "    }\n",
              "    30% {\n",
              "      border-color: transparent;\n",
              "      border-left-color: var(--fill-color);\n",
              "      border-top-color: var(--fill-color);\n",
              "      border-right-color: var(--fill-color);\n",
              "    }\n",
              "    40% {\n",
              "      border-color: transparent;\n",
              "      border-right-color: var(--fill-color);\n",
              "      border-top-color: var(--fill-color);\n",
              "    }\n",
              "    60% {\n",
              "      border-color: transparent;\n",
              "      border-right-color: var(--fill-color);\n",
              "    }\n",
              "    80% {\n",
              "      border-color: transparent;\n",
              "      border-right-color: var(--fill-color);\n",
              "      border-bottom-color: var(--fill-color);\n",
              "    }\n",
              "    90% {\n",
              "      border-color: transparent;\n",
              "      border-bottom-color: var(--fill-color);\n",
              "    }\n",
              "  }\n",
              "</style>\n",
              "\n",
              "  <script>\n",
              "    async function quickchart(key) {\n",
              "      const quickchartButtonEl =\n",
              "        document.querySelector('#' + key + ' button');\n",
              "      quickchartButtonEl.disabled = true;  // To prevent multiple clicks.\n",
              "      quickchartButtonEl.classList.add('colab-df-spinner');\n",
              "      try {\n",
              "        const charts = await google.colab.kernel.invokeFunction(\n",
              "            'suggestCharts', [key], {});\n",
              "      } catch (error) {\n",
              "        console.error('Error during call to suggestCharts:', error);\n",
              "      }\n",
              "      quickchartButtonEl.classList.remove('colab-df-spinner');\n",
              "      quickchartButtonEl.classList.add('colab-df-quickchart-complete');\n",
              "    }\n",
              "    (() => {\n",
              "      let quickchartButtonEl =\n",
              "        document.querySelector('#df-36ca14b3-8f35-41de-81ba-887a5ee8d37f button');\n",
              "      quickchartButtonEl.style.display =\n",
              "        google.colab.kernel.accessAllowed ? 'block' : 'none';\n",
              "    })();\n",
              "  </script>\n",
              "</div>\n",
              "\n",
              "  <div id=\"id_0953c5ea-2b6a-4cd5-ae8d-156de0d9aed9\">\n",
              "    <style>\n",
              "      .colab-df-generate {\n",
              "        background-color: #E8F0FE;\n",
              "        border: none;\n",
              "        border-radius: 50%;\n",
              "        cursor: pointer;\n",
              "        display: none;\n",
              "        fill: #1967D2;\n",
              "        height: 32px;\n",
              "        padding: 0 0 0 0;\n",
              "        width: 32px;\n",
              "      }\n",
              "\n",
              "      .colab-df-generate:hover {\n",
              "        background-color: #E2EBFA;\n",
              "        box-shadow: 0px 1px 2px rgba(60, 64, 67, 0.3), 0px 1px 3px 1px rgba(60, 64, 67, 0.15);\n",
              "        fill: #174EA6;\n",
              "      }\n",
              "\n",
              "      [theme=dark] .colab-df-generate {\n",
              "        background-color: #3B4455;\n",
              "        fill: #D2E3FC;\n",
              "      }\n",
              "\n",
              "      [theme=dark] .colab-df-generate:hover {\n",
              "        background-color: #434B5C;\n",
              "        box-shadow: 0px 1px 3px 1px rgba(0, 0, 0, 0.15);\n",
              "        filter: drop-shadow(0px 1px 2px rgba(0, 0, 0, 0.3));\n",
              "        fill: #FFFFFF;\n",
              "      }\n",
              "    </style>\n",
              "    <button class=\"colab-df-generate\" onclick=\"generateWithVariable('a')\"\n",
              "            title=\"Generate code using this dataframe.\"\n",
              "            style=\"display:none;\">\n",
              "\n",
              "  <svg xmlns=\"http://www.w3.org/2000/svg\" height=\"24px\"viewBox=\"0 0 24 24\"\n",
              "       width=\"24px\">\n",
              "    <path d=\"M7,19H8.4L18.45,9,17,7.55,7,17.6ZM5,21V16.75L18.45,3.32a2,2,0,0,1,2.83,0l1.4,1.43a1.91,1.91,0,0,1,.58,1.4,1.91,1.91,0,0,1-.58,1.4L9.25,21ZM18.45,9,17,7.55Zm-12,3A5.31,5.31,0,0,0,4.9,8.1,5.31,5.31,0,0,0,1,6.5,5.31,5.31,0,0,0,4.9,4.9,5.31,5.31,0,0,0,6.5,1,5.31,5.31,0,0,0,8.1,4.9,5.31,5.31,0,0,0,12,6.5,5.46,5.46,0,0,0,6.5,12Z\"/>\n",
              "  </svg>\n",
              "    </button>\n",
              "    <script>\n",
              "      (() => {\n",
              "      const buttonEl =\n",
              "        document.querySelector('#id_0953c5ea-2b6a-4cd5-ae8d-156de0d9aed9 button.colab-df-generate');\n",
              "      buttonEl.style.display =\n",
              "        google.colab.kernel.accessAllowed ? 'block' : 'none';\n",
              "\n",
              "      buttonEl.onclick = () => {\n",
              "        google.colab.notebook.generateWithVariable('a');\n",
              "      }\n",
              "      })();\n",
              "    </script>\n",
              "  </div>\n",
              "\n",
              "    </div>\n",
              "  </div>\n"
            ],
            "application/vnd.google.colaboratory.intrinsic+json": {
              "type": "dataframe",
              "variable_name": "a",
              "summary": "{\n  \"name\": \"a\",\n  \"rows\": 4,\n  \"fields\": [\n    {\n      \"column\": \"price_range\",\n      \"properties\": {\n        \"dtype\": \"number\",\n        \"std\": 1,\n        \"min\": 0,\n        \"max\": 3,\n        \"num_unique_values\": 4,\n        \"samples\": [\n          2,\n          0,\n          1\n        ],\n        \"semantic_type\": \"\",\n        \"description\": \"\"\n      }\n    },\n    {\n      \"column\": \"count\",\n      \"properties\": {\n        \"dtype\": \"number\",\n        \"std\": 0,\n        \"min\": 500,\n        \"max\": 500,\n        \"num_unique_values\": 1,\n        \"samples\": [\n          500\n        ],\n        \"semantic_type\": \"\",\n        \"description\": \"\"\n      }\n    },\n    {\n      \"column\": \"cost\",\n      \"properties\": {\n        \"dtype\": \"string\",\n        \"num_unique_values\": 4,\n        \"samples\": [\n          \"high cost\"\n        ],\n        \"semantic_type\": \"\",\n        \"description\": \"\"\n      }\n    }\n  ]\n}"
            }
          },
          "metadata": {},
          "execution_count": 37
        }
      ],
      "source": [
        "a=datos.price_range.value_counts()\n",
        "lista=[\"medium cost\",\"high cost\",\"very high cost\",\"low cost\"]\n",
        "a=pd.Series.to_frame(a)\n",
        "a['cost']=lista\n",
        "a\n"
      ]
    },
    {
      "cell_type": "code",
      "execution_count": null,
      "metadata": {
        "colab": {
          "base_uri": "https://localhost:8080/",
          "height": 542
        },
        "id": "m-ZG28UxJ6zG",
        "outputId": "8adfb924-6584-4990-8049-9a141d4604df"
      },
      "outputs": [
        {
          "output_type": "display_data",
          "data": {
            "text/html": [
              "<html>\n",
              "<head><meta charset=\"utf-8\" /></head>\n",
              "<body>\n",
              "    <div>            <script src=\"https://cdnjs.cloudflare.com/ajax/libs/mathjax/2.7.5/MathJax.js?config=TeX-AMS-MML_SVG\"></script><script type=\"text/javascript\">if (window.MathJax && window.MathJax.Hub && window.MathJax.Hub.Config) {window.MathJax.Hub.Config({SVG: {font: \"STIX-Web\"}});}</script>                <script type=\"text/javascript\">window.PlotlyConfig = {MathJaxConfig: 'local'};</script>\n",
              "        <script charset=\"utf-8\" src=\"https://cdn.plot.ly/plotly-2.24.1.min.js\"></script>                <div id=\"30d7afa1-5cdc-4102-8c74-6262a99601d4\" class=\"plotly-graph-div\" style=\"height:525px; width:100%;\"></div>            <script type=\"text/javascript\">                                    window.PLOTLYENV=window.PLOTLYENV || {};                                    if (document.getElementById(\"30d7afa1-5cdc-4102-8c74-6262a99601d4\")) {                    Plotly.newPlot(                        \"30d7afa1-5cdc-4102-8c74-6262a99601d4\",                        [{\"alignmentgroup\":\"True\",\"bingroup\":\"x\",\"histfunc\":\"sum\",\"hovertemplate\":\"cost=%{x}\\u003cbr\\u003esum of count=%{y}\\u003cextra\\u003e\\u003c\\u002fextra\\u003e\",\"legendgroup\":\"\",\"marker\":{\"color\":\"#636efa\",\"pattern\":{\"shape\":\"\"}},\"name\":\"\",\"offsetgroup\":\"\",\"orientation\":\"v\",\"showlegend\":false,\"x\":[\"medium cost\",\"high cost\",\"very high cost\",\"low cost\"],\"xaxis\":\"x\",\"y\":[500,500,500,500],\"yaxis\":\"y\",\"type\":\"histogram\"}],                        {\"template\":{\"data\":{\"histogram2dcontour\":[{\"type\":\"histogram2dcontour\",\"colorbar\":{\"outlinewidth\":0,\"ticks\":\"\"},\"colorscale\":[[0.0,\"#0d0887\"],[0.1111111111111111,\"#46039f\"],[0.2222222222222222,\"#7201a8\"],[0.3333333333333333,\"#9c179e\"],[0.4444444444444444,\"#bd3786\"],[0.5555555555555556,\"#d8576b\"],[0.6666666666666666,\"#ed7953\"],[0.7777777777777778,\"#fb9f3a\"],[0.8888888888888888,\"#fdca26\"],[1.0,\"#f0f921\"]]}],\"choropleth\":[{\"type\":\"choropleth\",\"colorbar\":{\"outlinewidth\":0,\"ticks\":\"\"}}],\"histogram2d\":[{\"type\":\"histogram2d\",\"colorbar\":{\"outlinewidth\":0,\"ticks\":\"\"},\"colorscale\":[[0.0,\"#0d0887\"],[0.1111111111111111,\"#46039f\"],[0.2222222222222222,\"#7201a8\"],[0.3333333333333333,\"#9c179e\"],[0.4444444444444444,\"#bd3786\"],[0.5555555555555556,\"#d8576b\"],[0.6666666666666666,\"#ed7953\"],[0.7777777777777778,\"#fb9f3a\"],[0.8888888888888888,\"#fdca26\"],[1.0,\"#f0f921\"]]}],\"heatmap\":[{\"type\":\"heatmap\",\"colorbar\":{\"outlinewidth\":0,\"ticks\":\"\"},\"colorscale\":[[0.0,\"#0d0887\"],[0.1111111111111111,\"#46039f\"],[0.2222222222222222,\"#7201a8\"],[0.3333333333333333,\"#9c179e\"],[0.4444444444444444,\"#bd3786\"],[0.5555555555555556,\"#d8576b\"],[0.6666666666666666,\"#ed7953\"],[0.7777777777777778,\"#fb9f3a\"],[0.8888888888888888,\"#fdca26\"],[1.0,\"#f0f921\"]]}],\"heatmapgl\":[{\"type\":\"heatmapgl\",\"colorbar\":{\"outlinewidth\":0,\"ticks\":\"\"},\"colorscale\":[[0.0,\"#0d0887\"],[0.1111111111111111,\"#46039f\"],[0.2222222222222222,\"#7201a8\"],[0.3333333333333333,\"#9c179e\"],[0.4444444444444444,\"#bd3786\"],[0.5555555555555556,\"#d8576b\"],[0.6666666666666666,\"#ed7953\"],[0.7777777777777778,\"#fb9f3a\"],[0.8888888888888888,\"#fdca26\"],[1.0,\"#f0f921\"]]}],\"contourcarpet\":[{\"type\":\"contourcarpet\",\"colorbar\":{\"outlinewidth\":0,\"ticks\":\"\"}}],\"contour\":[{\"type\":\"contour\",\"colorbar\":{\"outlinewidth\":0,\"ticks\":\"\"},\"colorscale\":[[0.0,\"#0d0887\"],[0.1111111111111111,\"#46039f\"],[0.2222222222222222,\"#7201a8\"],[0.3333333333333333,\"#9c179e\"],[0.4444444444444444,\"#bd3786\"],[0.5555555555555556,\"#d8576b\"],[0.6666666666666666,\"#ed7953\"],[0.7777777777777778,\"#fb9f3a\"],[0.8888888888888888,\"#fdca26\"],[1.0,\"#f0f921\"]]}],\"surface\":[{\"type\":\"surface\",\"colorbar\":{\"outlinewidth\":0,\"ticks\":\"\"},\"colorscale\":[[0.0,\"#0d0887\"],[0.1111111111111111,\"#46039f\"],[0.2222222222222222,\"#7201a8\"],[0.3333333333333333,\"#9c179e\"],[0.4444444444444444,\"#bd3786\"],[0.5555555555555556,\"#d8576b\"],[0.6666666666666666,\"#ed7953\"],[0.7777777777777778,\"#fb9f3a\"],[0.8888888888888888,\"#fdca26\"],[1.0,\"#f0f921\"]]}],\"mesh3d\":[{\"type\":\"mesh3d\",\"colorbar\":{\"outlinewidth\":0,\"ticks\":\"\"}}],\"scatter\":[{\"fillpattern\":{\"fillmode\":\"overlay\",\"size\":10,\"solidity\":0.2},\"type\":\"scatter\"}],\"parcoords\":[{\"type\":\"parcoords\",\"line\":{\"colorbar\":{\"outlinewidth\":0,\"ticks\":\"\"}}}],\"scatterpolargl\":[{\"type\":\"scatterpolargl\",\"marker\":{\"colorbar\":{\"outlinewidth\":0,\"ticks\":\"\"}}}],\"bar\":[{\"error_x\":{\"color\":\"#2a3f5f\"},\"error_y\":{\"color\":\"#2a3f5f\"},\"marker\":{\"line\":{\"color\":\"#E5ECF6\",\"width\":0.5},\"pattern\":{\"fillmode\":\"overlay\",\"size\":10,\"solidity\":0.2}},\"type\":\"bar\"}],\"scattergeo\":[{\"type\":\"scattergeo\",\"marker\":{\"colorbar\":{\"outlinewidth\":0,\"ticks\":\"\"}}}],\"scatterpolar\":[{\"type\":\"scatterpolar\",\"marker\":{\"colorbar\":{\"outlinewidth\":0,\"ticks\":\"\"}}}],\"histogram\":[{\"marker\":{\"pattern\":{\"fillmode\":\"overlay\",\"size\":10,\"solidity\":0.2}},\"type\":\"histogram\"}],\"scattergl\":[{\"type\":\"scattergl\",\"marker\":{\"colorbar\":{\"outlinewidth\":0,\"ticks\":\"\"}}}],\"scatter3d\":[{\"type\":\"scatter3d\",\"line\":{\"colorbar\":{\"outlinewidth\":0,\"ticks\":\"\"}},\"marker\":{\"colorbar\":{\"outlinewidth\":0,\"ticks\":\"\"}}}],\"scattermapbox\":[{\"type\":\"scattermapbox\",\"marker\":{\"colorbar\":{\"outlinewidth\":0,\"ticks\":\"\"}}}],\"scatterternary\":[{\"type\":\"scatterternary\",\"marker\":{\"colorbar\":{\"outlinewidth\":0,\"ticks\":\"\"}}}],\"scattercarpet\":[{\"type\":\"scattercarpet\",\"marker\":{\"colorbar\":{\"outlinewidth\":0,\"ticks\":\"\"}}}],\"carpet\":[{\"aaxis\":{\"endlinecolor\":\"#2a3f5f\",\"gridcolor\":\"white\",\"linecolor\":\"white\",\"minorgridcolor\":\"white\",\"startlinecolor\":\"#2a3f5f\"},\"baxis\":{\"endlinecolor\":\"#2a3f5f\",\"gridcolor\":\"white\",\"linecolor\":\"white\",\"minorgridcolor\":\"white\",\"startlinecolor\":\"#2a3f5f\"},\"type\":\"carpet\"}],\"table\":[{\"cells\":{\"fill\":{\"color\":\"#EBF0F8\"},\"line\":{\"color\":\"white\"}},\"header\":{\"fill\":{\"color\":\"#C8D4E3\"},\"line\":{\"color\":\"white\"}},\"type\":\"table\"}],\"barpolar\":[{\"marker\":{\"line\":{\"color\":\"#E5ECF6\",\"width\":0.5},\"pattern\":{\"fillmode\":\"overlay\",\"size\":10,\"solidity\":0.2}},\"type\":\"barpolar\"}],\"pie\":[{\"automargin\":true,\"type\":\"pie\"}]},\"layout\":{\"autotypenumbers\":\"strict\",\"colorway\":[\"#636efa\",\"#EF553B\",\"#00cc96\",\"#ab63fa\",\"#FFA15A\",\"#19d3f3\",\"#FF6692\",\"#B6E880\",\"#FF97FF\",\"#FECB52\"],\"font\":{\"color\":\"#2a3f5f\"},\"hovermode\":\"closest\",\"hoverlabel\":{\"align\":\"left\"},\"paper_bgcolor\":\"white\",\"plot_bgcolor\":\"#E5ECF6\",\"polar\":{\"bgcolor\":\"#E5ECF6\",\"angularaxis\":{\"gridcolor\":\"white\",\"linecolor\":\"white\",\"ticks\":\"\"},\"radialaxis\":{\"gridcolor\":\"white\",\"linecolor\":\"white\",\"ticks\":\"\"}},\"ternary\":{\"bgcolor\":\"#E5ECF6\",\"aaxis\":{\"gridcolor\":\"white\",\"linecolor\":\"white\",\"ticks\":\"\"},\"baxis\":{\"gridcolor\":\"white\",\"linecolor\":\"white\",\"ticks\":\"\"},\"caxis\":{\"gridcolor\":\"white\",\"linecolor\":\"white\",\"ticks\":\"\"}},\"coloraxis\":{\"colorbar\":{\"outlinewidth\":0,\"ticks\":\"\"}},\"colorscale\":{\"sequential\":[[0.0,\"#0d0887\"],[0.1111111111111111,\"#46039f\"],[0.2222222222222222,\"#7201a8\"],[0.3333333333333333,\"#9c179e\"],[0.4444444444444444,\"#bd3786\"],[0.5555555555555556,\"#d8576b\"],[0.6666666666666666,\"#ed7953\"],[0.7777777777777778,\"#fb9f3a\"],[0.8888888888888888,\"#fdca26\"],[1.0,\"#f0f921\"]],\"sequentialminus\":[[0.0,\"#0d0887\"],[0.1111111111111111,\"#46039f\"],[0.2222222222222222,\"#7201a8\"],[0.3333333333333333,\"#9c179e\"],[0.4444444444444444,\"#bd3786\"],[0.5555555555555556,\"#d8576b\"],[0.6666666666666666,\"#ed7953\"],[0.7777777777777778,\"#fb9f3a\"],[0.8888888888888888,\"#fdca26\"],[1.0,\"#f0f921\"]],\"diverging\":[[0,\"#8e0152\"],[0.1,\"#c51b7d\"],[0.2,\"#de77ae\"],[0.3,\"#f1b6da\"],[0.4,\"#fde0ef\"],[0.5,\"#f7f7f7\"],[0.6,\"#e6f5d0\"],[0.7,\"#b8e186\"],[0.8,\"#7fbc41\"],[0.9,\"#4d9221\"],[1,\"#276419\"]]},\"xaxis\":{\"gridcolor\":\"white\",\"linecolor\":\"white\",\"ticks\":\"\",\"title\":{\"standoff\":15},\"zerolinecolor\":\"white\",\"automargin\":true,\"zerolinewidth\":2},\"yaxis\":{\"gridcolor\":\"white\",\"linecolor\":\"white\",\"ticks\":\"\",\"title\":{\"standoff\":15},\"zerolinecolor\":\"white\",\"automargin\":true,\"zerolinewidth\":2},\"scene\":{\"xaxis\":{\"backgroundcolor\":\"#E5ECF6\",\"gridcolor\":\"white\",\"linecolor\":\"white\",\"showbackground\":true,\"ticks\":\"\",\"zerolinecolor\":\"white\",\"gridwidth\":2},\"yaxis\":{\"backgroundcolor\":\"#E5ECF6\",\"gridcolor\":\"white\",\"linecolor\":\"white\",\"showbackground\":true,\"ticks\":\"\",\"zerolinecolor\":\"white\",\"gridwidth\":2},\"zaxis\":{\"backgroundcolor\":\"#E5ECF6\",\"gridcolor\":\"white\",\"linecolor\":\"white\",\"showbackground\":true,\"ticks\":\"\",\"zerolinecolor\":\"white\",\"gridwidth\":2}},\"shapedefaults\":{\"line\":{\"color\":\"#2a3f5f\"}},\"annotationdefaults\":{\"arrowcolor\":\"#2a3f5f\",\"arrowhead\":0,\"arrowwidth\":1},\"geo\":{\"bgcolor\":\"white\",\"landcolor\":\"#E5ECF6\",\"subunitcolor\":\"white\",\"showland\":true,\"showlakes\":true,\"lakecolor\":\"white\"},\"title\":{\"x\":0.05},\"mapbox\":{\"style\":\"light\"}}},\"xaxis\":{\"anchor\":\"y\",\"domain\":[0.0,1.0],\"title\":{\"text\":\"cost\"}},\"yaxis\":{\"anchor\":\"x\",\"domain\":[0.0,1.0],\"title\":{\"text\":\"sum of count\"}},\"legend\":{\"tracegroupgap\":0},\"margin\":{\"t\":60},\"barmode\":\"relative\"},                        {\"responsive\": true}                    ).then(function(){\n",
              "                            \n",
              "var gd = document.getElementById('30d7afa1-5cdc-4102-8c74-6262a99601d4');\n",
              "var x = new MutationObserver(function (mutations, observer) {{\n",
              "        var display = window.getComputedStyle(gd).display;\n",
              "        if (!display || display === 'none') {{\n",
              "            console.log([gd, 'removed!']);\n",
              "            Plotly.purge(gd);\n",
              "            observer.disconnect();\n",
              "        }}\n",
              "}});\n",
              "\n",
              "// Listen for the removal of the full notebook cells\n",
              "var notebookContainer = gd.closest('#notebook-container');\n",
              "if (notebookContainer) {{\n",
              "    x.observe(notebookContainer, {childList: true});\n",
              "}}\n",
              "\n",
              "// Listen for the clearing of the current output cell\n",
              "var outputEl = gd.closest('.output');\n",
              "if (outputEl) {{\n",
              "    x.observe(outputEl, {childList: true});\n",
              "}}\n",
              "\n",
              "                        })                };                            </script>        </div>\n",
              "</body>\n",
              "</html>"
            ]
          },
          "metadata": {}
        }
      ],
      "source": [
        "px.histogram(a,x='cost',y='count')"
      ]
    },
    {
      "cell_type": "code",
      "execution_count": null,
      "metadata": {
        "id": "6V_Fy8L5FhPV",
        "colab": {
          "base_uri": "https://localhost:8080/"
        },
        "outputId": "c3da6b1c-0a62-4464-bc96-9c7ed191442f"
      },
      "outputs": [
        {
          "output_type": "execute_result",
          "data": {
            "text/plain": [
              "0       0\n",
              "1       1\n",
              "2       1\n",
              "3       1\n",
              "4       0\n",
              "       ..\n",
              "1995    0\n",
              "1996    1\n",
              "1997    1\n",
              "1998    0\n",
              "1999    1\n",
              "Name: price_range, Length: 2000, dtype: int64"
            ]
          },
          "metadata": {},
          "execution_count": 59
        }
      ],
      "source": [
        "datos.loc[datos[\"price_range\"]==1 ,\"price_range\"]=0\n",
        "datos.loc[datos[\"price_range\"]==2 ,\"price_range\"]=1\n",
        "datos.loc[datos[\"price_range\"]==3,\"price_range\"]=1\n",
        "datos.price_range"
      ]
    },
    {
      "cell_type": "code",
      "source": [
        "px.bar(datos.price_range.value_counts())"
      ],
      "metadata": {
        "colab": {
          "base_uri": "https://localhost:8080/",
          "height": 542
        },
        "id": "iKQookfiOCVg",
        "outputId": "5e53cfdd-dd47-4949-d8de-f69ed269e949"
      },
      "execution_count": null,
      "outputs": [
        {
          "output_type": "display_data",
          "data": {
            "text/html": [
              "<html>\n",
              "<head><meta charset=\"utf-8\" /></head>\n",
              "<body>\n",
              "    <div>            <script src=\"https://cdnjs.cloudflare.com/ajax/libs/mathjax/2.7.5/MathJax.js?config=TeX-AMS-MML_SVG\"></script><script type=\"text/javascript\">if (window.MathJax && window.MathJax.Hub && window.MathJax.Hub.Config) {window.MathJax.Hub.Config({SVG: {font: \"STIX-Web\"}});}</script>                <script type=\"text/javascript\">window.PlotlyConfig = {MathJaxConfig: 'local'};</script>\n",
              "        <script charset=\"utf-8\" src=\"https://cdn.plot.ly/plotly-2.24.1.min.js\"></script>                <div id=\"bc6016d0-7e8c-4792-8f18-687c5a79702f\" class=\"plotly-graph-div\" style=\"height:525px; width:100%;\"></div>            <script type=\"text/javascript\">                                    window.PLOTLYENV=window.PLOTLYENV || {};                                    if (document.getElementById(\"bc6016d0-7e8c-4792-8f18-687c5a79702f\")) {                    Plotly.newPlot(                        \"bc6016d0-7e8c-4792-8f18-687c5a79702f\",                        [{\"alignmentgroup\":\"True\",\"hovertemplate\":\"variable=count\\u003cbr\\u003eprice_range=%{x}\\u003cbr\\u003evalue=%{y}\\u003cextra\\u003e\\u003c\\u002fextra\\u003e\",\"legendgroup\":\"count\",\"marker\":{\"color\":\"#636efa\",\"pattern\":{\"shape\":\"\"}},\"name\":\"count\",\"offsetgroup\":\"count\",\"orientation\":\"v\",\"showlegend\":true,\"textposition\":\"auto\",\"x\":[0,1],\"xaxis\":\"x\",\"y\":[1000,1000],\"yaxis\":\"y\",\"type\":\"bar\"}],                        {\"template\":{\"data\":{\"histogram2dcontour\":[{\"type\":\"histogram2dcontour\",\"colorbar\":{\"outlinewidth\":0,\"ticks\":\"\"},\"colorscale\":[[0.0,\"#0d0887\"],[0.1111111111111111,\"#46039f\"],[0.2222222222222222,\"#7201a8\"],[0.3333333333333333,\"#9c179e\"],[0.4444444444444444,\"#bd3786\"],[0.5555555555555556,\"#d8576b\"],[0.6666666666666666,\"#ed7953\"],[0.7777777777777778,\"#fb9f3a\"],[0.8888888888888888,\"#fdca26\"],[1.0,\"#f0f921\"]]}],\"choropleth\":[{\"type\":\"choropleth\",\"colorbar\":{\"outlinewidth\":0,\"ticks\":\"\"}}],\"histogram2d\":[{\"type\":\"histogram2d\",\"colorbar\":{\"outlinewidth\":0,\"ticks\":\"\"},\"colorscale\":[[0.0,\"#0d0887\"],[0.1111111111111111,\"#46039f\"],[0.2222222222222222,\"#7201a8\"],[0.3333333333333333,\"#9c179e\"],[0.4444444444444444,\"#bd3786\"],[0.5555555555555556,\"#d8576b\"],[0.6666666666666666,\"#ed7953\"],[0.7777777777777778,\"#fb9f3a\"],[0.8888888888888888,\"#fdca26\"],[1.0,\"#f0f921\"]]}],\"heatmap\":[{\"type\":\"heatmap\",\"colorbar\":{\"outlinewidth\":0,\"ticks\":\"\"},\"colorscale\":[[0.0,\"#0d0887\"],[0.1111111111111111,\"#46039f\"],[0.2222222222222222,\"#7201a8\"],[0.3333333333333333,\"#9c179e\"],[0.4444444444444444,\"#bd3786\"],[0.5555555555555556,\"#d8576b\"],[0.6666666666666666,\"#ed7953\"],[0.7777777777777778,\"#fb9f3a\"],[0.8888888888888888,\"#fdca26\"],[1.0,\"#f0f921\"]]}],\"heatmapgl\":[{\"type\":\"heatmapgl\",\"colorbar\":{\"outlinewidth\":0,\"ticks\":\"\"},\"colorscale\":[[0.0,\"#0d0887\"],[0.1111111111111111,\"#46039f\"],[0.2222222222222222,\"#7201a8\"],[0.3333333333333333,\"#9c179e\"],[0.4444444444444444,\"#bd3786\"],[0.5555555555555556,\"#d8576b\"],[0.6666666666666666,\"#ed7953\"],[0.7777777777777778,\"#fb9f3a\"],[0.8888888888888888,\"#fdca26\"],[1.0,\"#f0f921\"]]}],\"contourcarpet\":[{\"type\":\"contourcarpet\",\"colorbar\":{\"outlinewidth\":0,\"ticks\":\"\"}}],\"contour\":[{\"type\":\"contour\",\"colorbar\":{\"outlinewidth\":0,\"ticks\":\"\"},\"colorscale\":[[0.0,\"#0d0887\"],[0.1111111111111111,\"#46039f\"],[0.2222222222222222,\"#7201a8\"],[0.3333333333333333,\"#9c179e\"],[0.4444444444444444,\"#bd3786\"],[0.5555555555555556,\"#d8576b\"],[0.6666666666666666,\"#ed7953\"],[0.7777777777777778,\"#fb9f3a\"],[0.8888888888888888,\"#fdca26\"],[1.0,\"#f0f921\"]]}],\"surface\":[{\"type\":\"surface\",\"colorbar\":{\"outlinewidth\":0,\"ticks\":\"\"},\"colorscale\":[[0.0,\"#0d0887\"],[0.1111111111111111,\"#46039f\"],[0.2222222222222222,\"#7201a8\"],[0.3333333333333333,\"#9c179e\"],[0.4444444444444444,\"#bd3786\"],[0.5555555555555556,\"#d8576b\"],[0.6666666666666666,\"#ed7953\"],[0.7777777777777778,\"#fb9f3a\"],[0.8888888888888888,\"#fdca26\"],[1.0,\"#f0f921\"]]}],\"mesh3d\":[{\"type\":\"mesh3d\",\"colorbar\":{\"outlinewidth\":0,\"ticks\":\"\"}}],\"scatter\":[{\"fillpattern\":{\"fillmode\":\"overlay\",\"size\":10,\"solidity\":0.2},\"type\":\"scatter\"}],\"parcoords\":[{\"type\":\"parcoords\",\"line\":{\"colorbar\":{\"outlinewidth\":0,\"ticks\":\"\"}}}],\"scatterpolargl\":[{\"type\":\"scatterpolargl\",\"marker\":{\"colorbar\":{\"outlinewidth\":0,\"ticks\":\"\"}}}],\"bar\":[{\"error_x\":{\"color\":\"#2a3f5f\"},\"error_y\":{\"color\":\"#2a3f5f\"},\"marker\":{\"line\":{\"color\":\"#E5ECF6\",\"width\":0.5},\"pattern\":{\"fillmode\":\"overlay\",\"size\":10,\"solidity\":0.2}},\"type\":\"bar\"}],\"scattergeo\":[{\"type\":\"scattergeo\",\"marker\":{\"colorbar\":{\"outlinewidth\":0,\"ticks\":\"\"}}}],\"scatterpolar\":[{\"type\":\"scatterpolar\",\"marker\":{\"colorbar\":{\"outlinewidth\":0,\"ticks\":\"\"}}}],\"histogram\":[{\"marker\":{\"pattern\":{\"fillmode\":\"overlay\",\"size\":10,\"solidity\":0.2}},\"type\":\"histogram\"}],\"scattergl\":[{\"type\":\"scattergl\",\"marker\":{\"colorbar\":{\"outlinewidth\":0,\"ticks\":\"\"}}}],\"scatter3d\":[{\"type\":\"scatter3d\",\"line\":{\"colorbar\":{\"outlinewidth\":0,\"ticks\":\"\"}},\"marker\":{\"colorbar\":{\"outlinewidth\":0,\"ticks\":\"\"}}}],\"scattermapbox\":[{\"type\":\"scattermapbox\",\"marker\":{\"colorbar\":{\"outlinewidth\":0,\"ticks\":\"\"}}}],\"scatterternary\":[{\"type\":\"scatterternary\",\"marker\":{\"colorbar\":{\"outlinewidth\":0,\"ticks\":\"\"}}}],\"scattercarpet\":[{\"type\":\"scattercarpet\",\"marker\":{\"colorbar\":{\"outlinewidth\":0,\"ticks\":\"\"}}}],\"carpet\":[{\"aaxis\":{\"endlinecolor\":\"#2a3f5f\",\"gridcolor\":\"white\",\"linecolor\":\"white\",\"minorgridcolor\":\"white\",\"startlinecolor\":\"#2a3f5f\"},\"baxis\":{\"endlinecolor\":\"#2a3f5f\",\"gridcolor\":\"white\",\"linecolor\":\"white\",\"minorgridcolor\":\"white\",\"startlinecolor\":\"#2a3f5f\"},\"type\":\"carpet\"}],\"table\":[{\"cells\":{\"fill\":{\"color\":\"#EBF0F8\"},\"line\":{\"color\":\"white\"}},\"header\":{\"fill\":{\"color\":\"#C8D4E3\"},\"line\":{\"color\":\"white\"}},\"type\":\"table\"}],\"barpolar\":[{\"marker\":{\"line\":{\"color\":\"#E5ECF6\",\"width\":0.5},\"pattern\":{\"fillmode\":\"overlay\",\"size\":10,\"solidity\":0.2}},\"type\":\"barpolar\"}],\"pie\":[{\"automargin\":true,\"type\":\"pie\"}]},\"layout\":{\"autotypenumbers\":\"strict\",\"colorway\":[\"#636efa\",\"#EF553B\",\"#00cc96\",\"#ab63fa\",\"#FFA15A\",\"#19d3f3\",\"#FF6692\",\"#B6E880\",\"#FF97FF\",\"#FECB52\"],\"font\":{\"color\":\"#2a3f5f\"},\"hovermode\":\"closest\",\"hoverlabel\":{\"align\":\"left\"},\"paper_bgcolor\":\"white\",\"plot_bgcolor\":\"#E5ECF6\",\"polar\":{\"bgcolor\":\"#E5ECF6\",\"angularaxis\":{\"gridcolor\":\"white\",\"linecolor\":\"white\",\"ticks\":\"\"},\"radialaxis\":{\"gridcolor\":\"white\",\"linecolor\":\"white\",\"ticks\":\"\"}},\"ternary\":{\"bgcolor\":\"#E5ECF6\",\"aaxis\":{\"gridcolor\":\"white\",\"linecolor\":\"white\",\"ticks\":\"\"},\"baxis\":{\"gridcolor\":\"white\",\"linecolor\":\"white\",\"ticks\":\"\"},\"caxis\":{\"gridcolor\":\"white\",\"linecolor\":\"white\",\"ticks\":\"\"}},\"coloraxis\":{\"colorbar\":{\"outlinewidth\":0,\"ticks\":\"\"}},\"colorscale\":{\"sequential\":[[0.0,\"#0d0887\"],[0.1111111111111111,\"#46039f\"],[0.2222222222222222,\"#7201a8\"],[0.3333333333333333,\"#9c179e\"],[0.4444444444444444,\"#bd3786\"],[0.5555555555555556,\"#d8576b\"],[0.6666666666666666,\"#ed7953\"],[0.7777777777777778,\"#fb9f3a\"],[0.8888888888888888,\"#fdca26\"],[1.0,\"#f0f921\"]],\"sequentialminus\":[[0.0,\"#0d0887\"],[0.1111111111111111,\"#46039f\"],[0.2222222222222222,\"#7201a8\"],[0.3333333333333333,\"#9c179e\"],[0.4444444444444444,\"#bd3786\"],[0.5555555555555556,\"#d8576b\"],[0.6666666666666666,\"#ed7953\"],[0.7777777777777778,\"#fb9f3a\"],[0.8888888888888888,\"#fdca26\"],[1.0,\"#f0f921\"]],\"diverging\":[[0,\"#8e0152\"],[0.1,\"#c51b7d\"],[0.2,\"#de77ae\"],[0.3,\"#f1b6da\"],[0.4,\"#fde0ef\"],[0.5,\"#f7f7f7\"],[0.6,\"#e6f5d0\"],[0.7,\"#b8e186\"],[0.8,\"#7fbc41\"],[0.9,\"#4d9221\"],[1,\"#276419\"]]},\"xaxis\":{\"gridcolor\":\"white\",\"linecolor\":\"white\",\"ticks\":\"\",\"title\":{\"standoff\":15},\"zerolinecolor\":\"white\",\"automargin\":true,\"zerolinewidth\":2},\"yaxis\":{\"gridcolor\":\"white\",\"linecolor\":\"white\",\"ticks\":\"\",\"title\":{\"standoff\":15},\"zerolinecolor\":\"white\",\"automargin\":true,\"zerolinewidth\":2},\"scene\":{\"xaxis\":{\"backgroundcolor\":\"#E5ECF6\",\"gridcolor\":\"white\",\"linecolor\":\"white\",\"showbackground\":true,\"ticks\":\"\",\"zerolinecolor\":\"white\",\"gridwidth\":2},\"yaxis\":{\"backgroundcolor\":\"#E5ECF6\",\"gridcolor\":\"white\",\"linecolor\":\"white\",\"showbackground\":true,\"ticks\":\"\",\"zerolinecolor\":\"white\",\"gridwidth\":2},\"zaxis\":{\"backgroundcolor\":\"#E5ECF6\",\"gridcolor\":\"white\",\"linecolor\":\"white\",\"showbackground\":true,\"ticks\":\"\",\"zerolinecolor\":\"white\",\"gridwidth\":2}},\"shapedefaults\":{\"line\":{\"color\":\"#2a3f5f\"}},\"annotationdefaults\":{\"arrowcolor\":\"#2a3f5f\",\"arrowhead\":0,\"arrowwidth\":1},\"geo\":{\"bgcolor\":\"white\",\"landcolor\":\"#E5ECF6\",\"subunitcolor\":\"white\",\"showland\":true,\"showlakes\":true,\"lakecolor\":\"white\"},\"title\":{\"x\":0.05},\"mapbox\":{\"style\":\"light\"}}},\"xaxis\":{\"anchor\":\"y\",\"domain\":[0.0,1.0],\"title\":{\"text\":\"price_range\"}},\"yaxis\":{\"anchor\":\"x\",\"domain\":[0.0,1.0],\"title\":{\"text\":\"value\"}},\"legend\":{\"title\":{\"text\":\"variable\"},\"tracegroupgap\":0},\"margin\":{\"t\":60},\"barmode\":\"relative\"},                        {\"responsive\": true}                    ).then(function(){\n",
              "                            \n",
              "var gd = document.getElementById('bc6016d0-7e8c-4792-8f18-687c5a79702f');\n",
              "var x = new MutationObserver(function (mutations, observer) {{\n",
              "        var display = window.getComputedStyle(gd).display;\n",
              "        if (!display || display === 'none') {{\n",
              "            console.log([gd, 'removed!']);\n",
              "            Plotly.purge(gd);\n",
              "            observer.disconnect();\n",
              "        }}\n",
              "}});\n",
              "\n",
              "// Listen for the removal of the full notebook cells\n",
              "var notebookContainer = gd.closest('#notebook-container');\n",
              "if (notebookContainer) {{\n",
              "    x.observe(notebookContainer, {childList: true});\n",
              "}}\n",
              "\n",
              "// Listen for the clearing of the current output cell\n",
              "var outputEl = gd.closest('.output');\n",
              "if (outputEl) {{\n",
              "    x.observe(outputEl, {childList: true});\n",
              "}}\n",
              "\n",
              "                        })                };                            </script>        </div>\n",
              "</body>\n",
              "</html>"
            ]
          },
          "metadata": {}
        }
      ]
    },
    {
      "cell_type": "markdown",
      "metadata": {
        "id": "i8sITwQlIjMf"
      },
      "source": [
        "# <FONT SIZE=5 COLOR=\"green\"> **Clasificación** </FONT>\n",
        "\n",
        "1. Para **KNN**\n",
        "\n",
        "   a. Aplicamos el modelo.\n",
        "\n",
        "   b. Evaluamos el modelo. Matriz de confusión\n",
        "\n",
        "   c. Graficamos la curva ROC y el valor AUC\n",
        "\n",
        "2. Para **Regresión Logística**\n",
        "\n",
        "   a. Aplicamos el modelo.\n",
        "   \n",
        "   b. Evaluamos usando matriz de confusión.\n",
        "   \n",
        "   c. Gráficamos la curva ROC y calculamos el valor AUC\n",
        "\n",
        "   d. Variamos el umbral para buscar mejor resultado\n",
        "   \n",
        "3. Para **Árboles de Decisión**\n",
        "\n",
        "   a. Aplicamos el modelo\n",
        "\n",
        "   b. Evaluamos usando matriz de confusión.\n",
        "\n",
        "   c. Intentamos mejorar el modelo optimizando hiperparámetros.\n",
        "\n",
        "   d. Utilizamos el método de la poda con el valor *ccp* para tratar de mejorar el modelo.\n"
      ]
    },
    {
      "cell_type": "markdown",
      "source": [
        "# Punto 2.1. Solución"
      ],
      "metadata": {
        "id": "OzG22DqcZJT2"
      }
    },
    {
      "cell_type": "markdown",
      "source": [
        "# PUNTO A"
      ],
      "metadata": {
        "id": "6Ti1ZAooWA-Y"
      }
    },
    {
      "cell_type": "code",
      "source": [
        "# Dividir en dos conjuntos\n",
        "# las variables predictoras\n",
        "X = datos.drop(\"price_range\", axis=1)\n",
        "# la variable objetivo\n",
        "y = datos.price_range\n",
        "X_train, X_test, y_train, y_test = train_test_split(X,                        # variables predictoras\n",
        "                                                    y,                        # variable de respuesta\n",
        "                                                    random_state = 0,         # semilla para que al ejecutar siempre de igual\n",
        "                                                    test_size = 0.3)          # tamaño del conjunto de prueba"
      ],
      "metadata": {
        "id": "ACxTTxSeQFCF"
      },
      "execution_count": null,
      "outputs": []
    },
    {
      "cell_type": "code",
      "execution_count": null,
      "metadata": {
        "id": "wZ5U4aBI1avH",
        "colab": {
          "base_uri": "https://localhost:8080/"
        },
        "outputId": "f77b4474-670c-4818-a2ae-4812757814d3"
      },
      "outputs": [
        {
          "output_type": "stream",
          "name": "stdout",
          "text": [
            "El tamaño de X_train es (1400, 20)\n",
            "El tamaño de y_train es: (1400,)\n",
            "El tamaño de X_test es (600, 20)\n",
            "El tamaño de y_test es: (600,)\n"
          ]
        }
      ],
      "source": [
        "print(\"El tamaño de X_train es {}\".format(X_train.shape))\n",
        "print(\"El tamaño de y_train es: {}\".format(y_train.shape))\n",
        "print(\"El tamaño de X_test es {}\".format(X_test.shape))\n",
        "print(\"El tamaño de y_test es: {}\".format(y_test.shape))"
      ]
    },
    {
      "cell_type": "code",
      "execution_count": null,
      "metadata": {
        "id": "oAoqRo5xYqXW",
        "colab": {
          "base_uri": "https://localhost:8080/",
          "height": 226
        },
        "outputId": "eb06dcbe-6cec-4430-ae31-78f703fb8c60"
      },
      "outputs": [
        {
          "output_type": "execute_result",
          "data": {
            "text/plain": [
              "      battery_power  blue  clock_speed  dual_sim  fc  four_g  int_memory  \\\n",
              "1719            833     1          0.6         1   0       1          27   \n",
              "1702           1424     1          2.9         1   0       0          20   \n",
              "1287            860     1          1.3         1   1       1          49   \n",
              "482            1330     1          1.3         1  14       0           3   \n",
              "768            1149     1          2.2         0   4       0          30   \n",
              "\n",
              "      m_dep  mobile_wt  n_cores  pc  px_height  px_width   ram  sc_h  sc_w  \\\n",
              "1719    0.3        145        4   2        649      1290   586    19     8   \n",
              "1702    0.6        180        5   0        181      1199  2658    15     0   \n",
              "1287    0.7        141        6  13        692       979  3869    16    14   \n",
              "482     0.3         83        5  17        980      1262   463    14     6   \n",
              "768     0.2        106        6   5       1617      1675  3755    17    14   \n",
              "\n",
              "      talk_time  three_g  touch_screen  wifi  \n",
              "1719         19        1             0     1  \n",
              "1702         19        1             0     0  \n",
              "1287         20        1             1     1  \n",
              "482          11        0             0     1  \n",
              "768           8        1             0     0  "
            ],
            "text/html": [
              "\n",
              "  <div id=\"df-553d9814-d01b-4529-a1e1-a76d921ede42\" class=\"colab-df-container\">\n",
              "    <div>\n",
              "<style scoped>\n",
              "    .dataframe tbody tr th:only-of-type {\n",
              "        vertical-align: middle;\n",
              "    }\n",
              "\n",
              "    .dataframe tbody tr th {\n",
              "        vertical-align: top;\n",
              "    }\n",
              "\n",
              "    .dataframe thead th {\n",
              "        text-align: right;\n",
              "    }\n",
              "</style>\n",
              "<table border=\"1\" class=\"dataframe\">\n",
              "  <thead>\n",
              "    <tr style=\"text-align: right;\">\n",
              "      <th></th>\n",
              "      <th>battery_power</th>\n",
              "      <th>blue</th>\n",
              "      <th>clock_speed</th>\n",
              "      <th>dual_sim</th>\n",
              "      <th>fc</th>\n",
              "      <th>four_g</th>\n",
              "      <th>int_memory</th>\n",
              "      <th>m_dep</th>\n",
              "      <th>mobile_wt</th>\n",
              "      <th>n_cores</th>\n",
              "      <th>pc</th>\n",
              "      <th>px_height</th>\n",
              "      <th>px_width</th>\n",
              "      <th>ram</th>\n",
              "      <th>sc_h</th>\n",
              "      <th>sc_w</th>\n",
              "      <th>talk_time</th>\n",
              "      <th>three_g</th>\n",
              "      <th>touch_screen</th>\n",
              "      <th>wifi</th>\n",
              "    </tr>\n",
              "  </thead>\n",
              "  <tbody>\n",
              "    <tr>\n",
              "      <th>1719</th>\n",
              "      <td>833</td>\n",
              "      <td>1</td>\n",
              "      <td>0.6</td>\n",
              "      <td>1</td>\n",
              "      <td>0</td>\n",
              "      <td>1</td>\n",
              "      <td>27</td>\n",
              "      <td>0.3</td>\n",
              "      <td>145</td>\n",
              "      <td>4</td>\n",
              "      <td>2</td>\n",
              "      <td>649</td>\n",
              "      <td>1290</td>\n",
              "      <td>586</td>\n",
              "      <td>19</td>\n",
              "      <td>8</td>\n",
              "      <td>19</td>\n",
              "      <td>1</td>\n",
              "      <td>0</td>\n",
              "      <td>1</td>\n",
              "    </tr>\n",
              "    <tr>\n",
              "      <th>1702</th>\n",
              "      <td>1424</td>\n",
              "      <td>1</td>\n",
              "      <td>2.9</td>\n",
              "      <td>1</td>\n",
              "      <td>0</td>\n",
              "      <td>0</td>\n",
              "      <td>20</td>\n",
              "      <td>0.6</td>\n",
              "      <td>180</td>\n",
              "      <td>5</td>\n",
              "      <td>0</td>\n",
              "      <td>181</td>\n",
              "      <td>1199</td>\n",
              "      <td>2658</td>\n",
              "      <td>15</td>\n",
              "      <td>0</td>\n",
              "      <td>19</td>\n",
              "      <td>1</td>\n",
              "      <td>0</td>\n",
              "      <td>0</td>\n",
              "    </tr>\n",
              "    <tr>\n",
              "      <th>1287</th>\n",
              "      <td>860</td>\n",
              "      <td>1</td>\n",
              "      <td>1.3</td>\n",
              "      <td>1</td>\n",
              "      <td>1</td>\n",
              "      <td>1</td>\n",
              "      <td>49</td>\n",
              "      <td>0.7</td>\n",
              "      <td>141</td>\n",
              "      <td>6</td>\n",
              "      <td>13</td>\n",
              "      <td>692</td>\n",
              "      <td>979</td>\n",
              "      <td>3869</td>\n",
              "      <td>16</td>\n",
              "      <td>14</td>\n",
              "      <td>20</td>\n",
              "      <td>1</td>\n",
              "      <td>1</td>\n",
              "      <td>1</td>\n",
              "    </tr>\n",
              "    <tr>\n",
              "      <th>482</th>\n",
              "      <td>1330</td>\n",
              "      <td>1</td>\n",
              "      <td>1.3</td>\n",
              "      <td>1</td>\n",
              "      <td>14</td>\n",
              "      <td>0</td>\n",
              "      <td>3</td>\n",
              "      <td>0.3</td>\n",
              "      <td>83</td>\n",
              "      <td>5</td>\n",
              "      <td>17</td>\n",
              "      <td>980</td>\n",
              "      <td>1262</td>\n",
              "      <td>463</td>\n",
              "      <td>14</td>\n",
              "      <td>6</td>\n",
              "      <td>11</td>\n",
              "      <td>0</td>\n",
              "      <td>0</td>\n",
              "      <td>1</td>\n",
              "    </tr>\n",
              "    <tr>\n",
              "      <th>768</th>\n",
              "      <td>1149</td>\n",
              "      <td>1</td>\n",
              "      <td>2.2</td>\n",
              "      <td>0</td>\n",
              "      <td>4</td>\n",
              "      <td>0</td>\n",
              "      <td>30</td>\n",
              "      <td>0.2</td>\n",
              "      <td>106</td>\n",
              "      <td>6</td>\n",
              "      <td>5</td>\n",
              "      <td>1617</td>\n",
              "      <td>1675</td>\n",
              "      <td>3755</td>\n",
              "      <td>17</td>\n",
              "      <td>14</td>\n",
              "      <td>8</td>\n",
              "      <td>1</td>\n",
              "      <td>0</td>\n",
              "      <td>0</td>\n",
              "    </tr>\n",
              "  </tbody>\n",
              "</table>\n",
              "</div>\n",
              "    <div class=\"colab-df-buttons\">\n",
              "\n",
              "  <div class=\"colab-df-container\">\n",
              "    <button class=\"colab-df-convert\" onclick=\"convertToInteractive('df-553d9814-d01b-4529-a1e1-a76d921ede42')\"\n",
              "            title=\"Convert this dataframe to an interactive table.\"\n",
              "            style=\"display:none;\">\n",
              "\n",
              "  <svg xmlns=\"http://www.w3.org/2000/svg\" height=\"24px\" viewBox=\"0 -960 960 960\">\n",
              "    <path d=\"M120-120v-720h720v720H120Zm60-500h600v-160H180v160Zm220 220h160v-160H400v160Zm0 220h160v-160H400v160ZM180-400h160v-160H180v160Zm440 0h160v-160H620v160ZM180-180h160v-160H180v160Zm440 0h160v-160H620v160Z\"/>\n",
              "  </svg>\n",
              "    </button>\n",
              "\n",
              "  <style>\n",
              "    .colab-df-container {\n",
              "      display:flex;\n",
              "      gap: 12px;\n",
              "    }\n",
              "\n",
              "    .colab-df-convert {\n",
              "      background-color: #E8F0FE;\n",
              "      border: none;\n",
              "      border-radius: 50%;\n",
              "      cursor: pointer;\n",
              "      display: none;\n",
              "      fill: #1967D2;\n",
              "      height: 32px;\n",
              "      padding: 0 0 0 0;\n",
              "      width: 32px;\n",
              "    }\n",
              "\n",
              "    .colab-df-convert:hover {\n",
              "      background-color: #E2EBFA;\n",
              "      box-shadow: 0px 1px 2px rgba(60, 64, 67, 0.3), 0px 1px 3px 1px rgba(60, 64, 67, 0.15);\n",
              "      fill: #174EA6;\n",
              "    }\n",
              "\n",
              "    .colab-df-buttons div {\n",
              "      margin-bottom: 4px;\n",
              "    }\n",
              "\n",
              "    [theme=dark] .colab-df-convert {\n",
              "      background-color: #3B4455;\n",
              "      fill: #D2E3FC;\n",
              "    }\n",
              "\n",
              "    [theme=dark] .colab-df-convert:hover {\n",
              "      background-color: #434B5C;\n",
              "      box-shadow: 0px 1px 3px 1px rgba(0, 0, 0, 0.15);\n",
              "      filter: drop-shadow(0px 1px 2px rgba(0, 0, 0, 0.3));\n",
              "      fill: #FFFFFF;\n",
              "    }\n",
              "  </style>\n",
              "\n",
              "    <script>\n",
              "      const buttonEl =\n",
              "        document.querySelector('#df-553d9814-d01b-4529-a1e1-a76d921ede42 button.colab-df-convert');\n",
              "      buttonEl.style.display =\n",
              "        google.colab.kernel.accessAllowed ? 'block' : 'none';\n",
              "\n",
              "      async function convertToInteractive(key) {\n",
              "        const element = document.querySelector('#df-553d9814-d01b-4529-a1e1-a76d921ede42');\n",
              "        const dataTable =\n",
              "          await google.colab.kernel.invokeFunction('convertToInteractive',\n",
              "                                                    [key], {});\n",
              "        if (!dataTable) return;\n",
              "\n",
              "        const docLinkHtml = 'Like what you see? Visit the ' +\n",
              "          '<a target=\"_blank\" href=https://colab.research.google.com/notebooks/data_table.ipynb>data table notebook</a>'\n",
              "          + ' to learn more about interactive tables.';\n",
              "        element.innerHTML = '';\n",
              "        dataTable['output_type'] = 'display_data';\n",
              "        await google.colab.output.renderOutput(dataTable, element);\n",
              "        const docLink = document.createElement('div');\n",
              "        docLink.innerHTML = docLinkHtml;\n",
              "        element.appendChild(docLink);\n",
              "      }\n",
              "    </script>\n",
              "  </div>\n",
              "\n",
              "\n",
              "<div id=\"df-80a0449d-49d8-40ae-bf8d-d1526ff3fda1\">\n",
              "  <button class=\"colab-df-quickchart\" onclick=\"quickchart('df-80a0449d-49d8-40ae-bf8d-d1526ff3fda1')\"\n",
              "            title=\"Suggest charts\"\n",
              "            style=\"display:none;\">\n",
              "\n",
              "<svg xmlns=\"http://www.w3.org/2000/svg\" height=\"24px\"viewBox=\"0 0 24 24\"\n",
              "     width=\"24px\">\n",
              "    <g>\n",
              "        <path d=\"M19 3H5c-1.1 0-2 .9-2 2v14c0 1.1.9 2 2 2h14c1.1 0 2-.9 2-2V5c0-1.1-.9-2-2-2zM9 17H7v-7h2v7zm4 0h-2V7h2v10zm4 0h-2v-4h2v4z\"/>\n",
              "    </g>\n",
              "</svg>\n",
              "  </button>\n",
              "\n",
              "<style>\n",
              "  .colab-df-quickchart {\n",
              "      --bg-color: #E8F0FE;\n",
              "      --fill-color: #1967D2;\n",
              "      --hover-bg-color: #E2EBFA;\n",
              "      --hover-fill-color: #174EA6;\n",
              "      --disabled-fill-color: #AAA;\n",
              "      --disabled-bg-color: #DDD;\n",
              "  }\n",
              "\n",
              "  [theme=dark] .colab-df-quickchart {\n",
              "      --bg-color: #3B4455;\n",
              "      --fill-color: #D2E3FC;\n",
              "      --hover-bg-color: #434B5C;\n",
              "      --hover-fill-color: #FFFFFF;\n",
              "      --disabled-bg-color: #3B4455;\n",
              "      --disabled-fill-color: #666;\n",
              "  }\n",
              "\n",
              "  .colab-df-quickchart {\n",
              "    background-color: var(--bg-color);\n",
              "    border: none;\n",
              "    border-radius: 50%;\n",
              "    cursor: pointer;\n",
              "    display: none;\n",
              "    fill: var(--fill-color);\n",
              "    height: 32px;\n",
              "    padding: 0;\n",
              "    width: 32px;\n",
              "  }\n",
              "\n",
              "  .colab-df-quickchart:hover {\n",
              "    background-color: var(--hover-bg-color);\n",
              "    box-shadow: 0 1px 2px rgba(60, 64, 67, 0.3), 0 1px 3px 1px rgba(60, 64, 67, 0.15);\n",
              "    fill: var(--button-hover-fill-color);\n",
              "  }\n",
              "\n",
              "  .colab-df-quickchart-complete:disabled,\n",
              "  .colab-df-quickchart-complete:disabled:hover {\n",
              "    background-color: var(--disabled-bg-color);\n",
              "    fill: var(--disabled-fill-color);\n",
              "    box-shadow: none;\n",
              "  }\n",
              "\n",
              "  .colab-df-spinner {\n",
              "    border: 2px solid var(--fill-color);\n",
              "    border-color: transparent;\n",
              "    border-bottom-color: var(--fill-color);\n",
              "    animation:\n",
              "      spin 1s steps(1) infinite;\n",
              "  }\n",
              "\n",
              "  @keyframes spin {\n",
              "    0% {\n",
              "      border-color: transparent;\n",
              "      border-bottom-color: var(--fill-color);\n",
              "      border-left-color: var(--fill-color);\n",
              "    }\n",
              "    20% {\n",
              "      border-color: transparent;\n",
              "      border-left-color: var(--fill-color);\n",
              "      border-top-color: var(--fill-color);\n",
              "    }\n",
              "    30% {\n",
              "      border-color: transparent;\n",
              "      border-left-color: var(--fill-color);\n",
              "      border-top-color: var(--fill-color);\n",
              "      border-right-color: var(--fill-color);\n",
              "    }\n",
              "    40% {\n",
              "      border-color: transparent;\n",
              "      border-right-color: var(--fill-color);\n",
              "      border-top-color: var(--fill-color);\n",
              "    }\n",
              "    60% {\n",
              "      border-color: transparent;\n",
              "      border-right-color: var(--fill-color);\n",
              "    }\n",
              "    80% {\n",
              "      border-color: transparent;\n",
              "      border-right-color: var(--fill-color);\n",
              "      border-bottom-color: var(--fill-color);\n",
              "    }\n",
              "    90% {\n",
              "      border-color: transparent;\n",
              "      border-bottom-color: var(--fill-color);\n",
              "    }\n",
              "  }\n",
              "</style>\n",
              "\n",
              "  <script>\n",
              "    async function quickchart(key) {\n",
              "      const quickchartButtonEl =\n",
              "        document.querySelector('#' + key + ' button');\n",
              "      quickchartButtonEl.disabled = true;  // To prevent multiple clicks.\n",
              "      quickchartButtonEl.classList.add('colab-df-spinner');\n",
              "      try {\n",
              "        const charts = await google.colab.kernel.invokeFunction(\n",
              "            'suggestCharts', [key], {});\n",
              "      } catch (error) {\n",
              "        console.error('Error during call to suggestCharts:', error);\n",
              "      }\n",
              "      quickchartButtonEl.classList.remove('colab-df-spinner');\n",
              "      quickchartButtonEl.classList.add('colab-df-quickchart-complete');\n",
              "    }\n",
              "    (() => {\n",
              "      let quickchartButtonEl =\n",
              "        document.querySelector('#df-80a0449d-49d8-40ae-bf8d-d1526ff3fda1 button');\n",
              "      quickchartButtonEl.style.display =\n",
              "        google.colab.kernel.accessAllowed ? 'block' : 'none';\n",
              "    })();\n",
              "  </script>\n",
              "</div>\n",
              "\n",
              "    </div>\n",
              "  </div>\n"
            ],
            "application/vnd.google.colaboratory.intrinsic+json": {
              "type": "dataframe",
              "variable_name": "X_train",
              "summary": "{\n  \"name\": \"X_train\",\n  \"rows\": 1400,\n  \"fields\": [\n    {\n      \"column\": \"battery_power\",\n      \"properties\": {\n        \"dtype\": \"number\",\n        \"std\": 442,\n        \"min\": 501,\n        \"max\": 1998,\n        \"num_unique_values\": 900,\n        \"samples\": [\n          816,\n          1438,\n          1625\n        ],\n        \"semantic_type\": \"\",\n        \"description\": \"\"\n      }\n    },\n    {\n      \"column\": \"blue\",\n      \"properties\": {\n        \"dtype\": \"number\",\n        \"std\": 0,\n        \"min\": 0,\n        \"max\": 1,\n        \"num_unique_values\": 2,\n        \"samples\": [\n          0,\n          1\n        ],\n        \"semantic_type\": \"\",\n        \"description\": \"\"\n      }\n    },\n    {\n      \"column\": \"clock_speed\",\n      \"properties\": {\n        \"dtype\": \"number\",\n        \"std\": 0.8157579283411125,\n        \"min\": 0.5,\n        \"max\": 3.0,\n        \"num_unique_values\": 26,\n        \"samples\": [\n          2.5,\n          2.8\n        ],\n        \"semantic_type\": \"\",\n        \"description\": \"\"\n      }\n    },\n    {\n      \"column\": \"dual_sim\",\n      \"properties\": {\n        \"dtype\": \"number\",\n        \"std\": 0,\n        \"min\": 0,\n        \"max\": 1,\n        \"num_unique_values\": 2,\n        \"samples\": [\n          0,\n          1\n        ],\n        \"semantic_type\": \"\",\n        \"description\": \"\"\n      }\n    },\n    {\n      \"column\": \"fc\",\n      \"properties\": {\n        \"dtype\": \"number\",\n        \"std\": 4,\n        \"min\": 0,\n        \"max\": 19,\n        \"num_unique_values\": 20,\n        \"samples\": [\n          0,\n          16\n        ],\n        \"semantic_type\": \"\",\n        \"description\": \"\"\n      }\n    },\n    {\n      \"column\": \"four_g\",\n      \"properties\": {\n        \"dtype\": \"number\",\n        \"std\": 0,\n        \"min\": 0,\n        \"max\": 1,\n        \"num_unique_values\": 2,\n        \"samples\": [\n          0,\n          1\n        ],\n        \"semantic_type\": \"\",\n        \"description\": \"\"\n      }\n    },\n    {\n      \"column\": \"int_memory\",\n      \"properties\": {\n        \"dtype\": \"number\",\n        \"std\": 18,\n        \"min\": 2,\n        \"max\": 64,\n        \"num_unique_values\": 63,\n        \"samples\": [\n          47,\n          58\n        ],\n        \"semantic_type\": \"\",\n        \"description\": \"\"\n      }\n    },\n    {\n      \"column\": \"m_dep\",\n      \"properties\": {\n        \"dtype\": \"number\",\n        \"std\": 0.2885379363493716,\n        \"min\": 0.1,\n        \"max\": 1.0,\n        \"num_unique_values\": 10,\n        \"samples\": [\n          0.9,\n          0.6\n        ],\n        \"semantic_type\": \"\",\n        \"description\": \"\"\n      }\n    },\n    {\n      \"column\": \"mobile_wt\",\n      \"properties\": {\n        \"dtype\": \"number\",\n        \"std\": 35,\n        \"min\": 80,\n        \"max\": 200,\n        \"num_unique_values\": 121,\n        \"samples\": [\n          157,\n          195\n        ],\n        \"semantic_type\": \"\",\n        \"description\": \"\"\n      }\n    },\n    {\n      \"column\": \"n_cores\",\n      \"properties\": {\n        \"dtype\": \"number\",\n        \"std\": 2,\n        \"min\": 1,\n        \"max\": 8,\n        \"num_unique_values\": 8,\n        \"samples\": [\n          5,\n          2\n        ],\n        \"semantic_type\": \"\",\n        \"description\": \"\"\n      }\n    },\n    {\n      \"column\": \"pc\",\n      \"properties\": {\n        \"dtype\": \"number\",\n        \"std\": 6,\n        \"min\": 0,\n        \"max\": 20,\n        \"num_unique_values\": 21,\n        \"samples\": [\n          2,\n          3\n        ],\n        \"semantic_type\": \"\",\n        \"description\": \"\"\n      }\n    },\n    {\n      \"column\": \"px_height\",\n      \"properties\": {\n        \"dtype\": \"number\",\n        \"std\": 444,\n        \"min\": 0,\n        \"max\": 1960,\n        \"num_unique_values\": 937,\n        \"samples\": [\n          636,\n          1347\n        ],\n        \"semantic_type\": \"\",\n        \"description\": \"\"\n      }\n    },\n    {\n      \"column\": \"px_width\",\n      \"properties\": {\n        \"dtype\": \"number\",\n        \"std\": 430,\n        \"min\": 500,\n        \"max\": 1998,\n        \"num_unique_values\": 914,\n        \"samples\": [\n          1264,\n          1604\n        ],\n        \"semantic_type\": \"\",\n        \"description\": \"\"\n      }\n    },\n    {\n      \"column\": \"ram\",\n      \"properties\": {\n        \"dtype\": \"number\",\n        \"std\": 1073,\n        \"min\": 256,\n        \"max\": 3998,\n        \"num_unique_values\": 1181,\n        \"samples\": [\n          2863,\n          1379\n        ],\n        \"semantic_type\": \"\",\n        \"description\": \"\"\n      }\n    },\n    {\n      \"column\": \"sc_h\",\n      \"properties\": {\n        \"dtype\": \"number\",\n        \"std\": 4,\n        \"min\": 5,\n        \"max\": 19,\n        \"num_unique_values\": 15,\n        \"samples\": [\n          10,\n          13\n        ],\n        \"semantic_type\": \"\",\n        \"description\": \"\"\n      }\n    },\n    {\n      \"column\": \"sc_w\",\n      \"properties\": {\n        \"dtype\": \"number\",\n        \"std\": 4,\n        \"min\": 0,\n        \"max\": 18,\n        \"num_unique_values\": 19,\n        \"samples\": [\n          8,\n          2\n        ],\n        \"semantic_type\": \"\",\n        \"description\": \"\"\n      }\n    },\n    {\n      \"column\": \"talk_time\",\n      \"properties\": {\n        \"dtype\": \"number\",\n        \"std\": 5,\n        \"min\": 2,\n        \"max\": 20,\n        \"num_unique_values\": 19,\n        \"samples\": [\n          19,\n          10\n        ],\n        \"semantic_type\": \"\",\n        \"description\": \"\"\n      }\n    },\n    {\n      \"column\": \"three_g\",\n      \"properties\": {\n        \"dtype\": \"number\",\n        \"std\": 0,\n        \"min\": 0,\n        \"max\": 1,\n        \"num_unique_values\": 2,\n        \"samples\": [\n          0,\n          1\n        ],\n        \"semantic_type\": \"\",\n        \"description\": \"\"\n      }\n    },\n    {\n      \"column\": \"touch_screen\",\n      \"properties\": {\n        \"dtype\": \"number\",\n        \"std\": 0,\n        \"min\": 0,\n        \"max\": 1,\n        \"num_unique_values\": 2,\n        \"samples\": [\n          1,\n          0\n        ],\n        \"semantic_type\": \"\",\n        \"description\": \"\"\n      }\n    },\n    {\n      \"column\": \"wifi\",\n      \"properties\": {\n        \"dtype\": \"number\",\n        \"std\": 0,\n        \"min\": 0,\n        \"max\": 1,\n        \"num_unique_values\": 2,\n        \"samples\": [\n          0,\n          1\n        ],\n        \"semantic_type\": \"\",\n        \"description\": \"\"\n      }\n    }\n  ]\n}"
            }
          },
          "metadata": {},
          "execution_count": 62
        }
      ],
      "source": [
        "X_train.head()\n"
      ]
    },
    {
      "cell_type": "code",
      "source": [
        "# definimos el escalados\n",
        "escalar = StandardScaler()\n",
        "# lo aplicamos a los conjuntos\n",
        "X_train = escalar.fit_transform(X_train)\n",
        "X_test = escalar.transform(X_test)"
      ],
      "metadata": {
        "id": "XN6AUAK9RLrX"
      },
      "execution_count": null,
      "outputs": []
    },
    {
      "cell_type": "code",
      "source": [
        "KNN = KNeighborsClassifier(n_neighbors = 29,              # número de vecinos k=10\n",
        "                           metric = 'manhattan')          # métrica euclideana\n",
        "KNN.fit(X_train,y_train)"
      ],
      "metadata": {
        "colab": {
          "base_uri": "https://localhost:8080/",
          "height": 74
        },
        "id": "tHzDtDusRRzu",
        "outputId": "bbb55df3-3bd2-4eae-cda5-f2efbc02e3ec"
      },
      "execution_count": null,
      "outputs": [
        {
          "output_type": "execute_result",
          "data": {
            "text/plain": [
              "KNeighborsClassifier(metric='manhattan', n_neighbors=29)"
            ],
            "text/html": [
              "<style>#sk-container-id-5 {color: black;background-color: white;}#sk-container-id-5 pre{padding: 0;}#sk-container-id-5 div.sk-toggleable {background-color: white;}#sk-container-id-5 label.sk-toggleable__label {cursor: pointer;display: block;width: 100%;margin-bottom: 0;padding: 0.3em;box-sizing: border-box;text-align: center;}#sk-container-id-5 label.sk-toggleable__label-arrow:before {content: \"▸\";float: left;margin-right: 0.25em;color: #696969;}#sk-container-id-5 label.sk-toggleable__label-arrow:hover:before {color: black;}#sk-container-id-5 div.sk-estimator:hover label.sk-toggleable__label-arrow:before {color: black;}#sk-container-id-5 div.sk-toggleable__content {max-height: 0;max-width: 0;overflow: hidden;text-align: left;background-color: #f0f8ff;}#sk-container-id-5 div.sk-toggleable__content pre {margin: 0.2em;color: black;border-radius: 0.25em;background-color: #f0f8ff;}#sk-container-id-5 input.sk-toggleable__control:checked~div.sk-toggleable__content {max-height: 200px;max-width: 100%;overflow: auto;}#sk-container-id-5 input.sk-toggleable__control:checked~label.sk-toggleable__label-arrow:before {content: \"▾\";}#sk-container-id-5 div.sk-estimator input.sk-toggleable__control:checked~label.sk-toggleable__label {background-color: #d4ebff;}#sk-container-id-5 div.sk-label input.sk-toggleable__control:checked~label.sk-toggleable__label {background-color: #d4ebff;}#sk-container-id-5 input.sk-hidden--visually {border: 0;clip: rect(1px 1px 1px 1px);clip: rect(1px, 1px, 1px, 1px);height: 1px;margin: -1px;overflow: hidden;padding: 0;position: absolute;width: 1px;}#sk-container-id-5 div.sk-estimator {font-family: monospace;background-color: #f0f8ff;border: 1px dotted black;border-radius: 0.25em;box-sizing: border-box;margin-bottom: 0.5em;}#sk-container-id-5 div.sk-estimator:hover {background-color: #d4ebff;}#sk-container-id-5 div.sk-parallel-item::after {content: \"\";width: 100%;border-bottom: 1px solid gray;flex-grow: 1;}#sk-container-id-5 div.sk-label:hover label.sk-toggleable__label {background-color: #d4ebff;}#sk-container-id-5 div.sk-serial::before {content: \"\";position: absolute;border-left: 1px solid gray;box-sizing: border-box;top: 0;bottom: 0;left: 50%;z-index: 0;}#sk-container-id-5 div.sk-serial {display: flex;flex-direction: column;align-items: center;background-color: white;padding-right: 0.2em;padding-left: 0.2em;position: relative;}#sk-container-id-5 div.sk-item {position: relative;z-index: 1;}#sk-container-id-5 div.sk-parallel {display: flex;align-items: stretch;justify-content: center;background-color: white;position: relative;}#sk-container-id-5 div.sk-item::before, #sk-container-id-5 div.sk-parallel-item::before {content: \"\";position: absolute;border-left: 1px solid gray;box-sizing: border-box;top: 0;bottom: 0;left: 50%;z-index: -1;}#sk-container-id-5 div.sk-parallel-item {display: flex;flex-direction: column;z-index: 1;position: relative;background-color: white;}#sk-container-id-5 div.sk-parallel-item:first-child::after {align-self: flex-end;width: 50%;}#sk-container-id-5 div.sk-parallel-item:last-child::after {align-self: flex-start;width: 50%;}#sk-container-id-5 div.sk-parallel-item:only-child::after {width: 0;}#sk-container-id-5 div.sk-dashed-wrapped {border: 1px dashed gray;margin: 0 0.4em 0.5em 0.4em;box-sizing: border-box;padding-bottom: 0.4em;background-color: white;}#sk-container-id-5 div.sk-label label {font-family: monospace;font-weight: bold;display: inline-block;line-height: 1.2em;}#sk-container-id-5 div.sk-label-container {text-align: center;}#sk-container-id-5 div.sk-container {/* jupyter's `normalize.less` sets `[hidden] { display: none; }` but bootstrap.min.css set `[hidden] { display: none !important; }` so we also need the `!important` here to be able to override the default hidden behavior on the sphinx rendered scikit-learn.org. See: https://github.com/scikit-learn/scikit-learn/issues/21755 */display: inline-block !important;position: relative;}#sk-container-id-5 div.sk-text-repr-fallback {display: none;}</style><div id=\"sk-container-id-5\" class=\"sk-top-container\"><div class=\"sk-text-repr-fallback\"><pre>KNeighborsClassifier(metric=&#x27;manhattan&#x27;, n_neighbors=29)</pre><b>In a Jupyter environment, please rerun this cell to show the HTML representation or trust the notebook. <br />On GitHub, the HTML representation is unable to render, please try loading this page with nbviewer.org.</b></div><div class=\"sk-container\" hidden><div class=\"sk-item\"><div class=\"sk-estimator sk-toggleable\"><input class=\"sk-toggleable__control sk-hidden--visually\" id=\"sk-estimator-id-5\" type=\"checkbox\" checked><label for=\"sk-estimator-id-5\" class=\"sk-toggleable__label sk-toggleable__label-arrow\">KNeighborsClassifier</label><div class=\"sk-toggleable__content\"><pre>KNeighborsClassifier(metric=&#x27;manhattan&#x27;, n_neighbors=29)</pre></div></div></div></div></div>"
            ]
          },
          "metadata": {},
          "execution_count": 64
        }
      ]
    },
    {
      "cell_type": "code",
      "source": [
        "y_pred = KNN.predict(X_test)\n",
        "y_pred"
      ],
      "metadata": {
        "colab": {
          "base_uri": "https://localhost:8080/"
        },
        "id": "ooI9ABxMRV0M",
        "outputId": "0224bcf3-4a27-4cc9-c3b5-21f57fe1339c"
      },
      "execution_count": null,
      "outputs": [
        {
          "output_type": "execute_result",
          "data": {
            "text/plain": [
              "array([1, 0, 0, 1, 1, 0, 0, 1, 1, 0, 0, 1, 0, 1, 1, 0, 1, 1, 0, 0, 0, 0,\n",
              "       1, 1, 1, 1, 1, 0, 1, 1, 0, 0, 1, 0, 1, 1, 0, 0, 1, 1, 1, 0, 1, 1,\n",
              "       0, 1, 0, 1, 1, 0, 0, 1, 0, 1, 0, 1, 1, 1, 0, 1, 1, 1, 1, 1, 1, 1,\n",
              "       1, 1, 1, 0, 1, 1, 0, 0, 0, 1, 1, 1, 1, 0, 1, 1, 1, 0, 0, 0, 1, 0,\n",
              "       1, 1, 0, 1, 1, 0, 1, 1, 1, 1, 0, 1, 0, 1, 1, 0, 1, 1, 1, 1, 1, 1,\n",
              "       1, 0, 0, 1, 1, 1, 0, 0, 0, 0, 0, 1, 1, 1, 0, 1, 0, 0, 0, 1, 0, 1,\n",
              "       1, 1, 1, 1, 1, 0, 0, 0, 0, 1, 1, 1, 0, 1, 0, 0, 1, 0, 0, 0, 0, 0,\n",
              "       1, 0, 0, 1, 0, 1, 1, 0, 1, 0, 1, 1, 1, 1, 0, 0, 1, 0, 0, 1, 1, 0,\n",
              "       1, 1, 1, 0, 1, 0, 0, 0, 1, 0, 1, 0, 1, 1, 1, 0, 0, 1, 1, 0, 0, 1,\n",
              "       1, 0, 1, 1, 1, 0, 1, 1, 1, 1, 0, 0, 0, 1, 1, 1, 0, 0, 0, 1, 0, 1,\n",
              "       1, 1, 0, 0, 1, 1, 1, 0, 0, 1, 0, 0, 0, 1, 1, 0, 1, 0, 0, 0, 0, 1,\n",
              "       1, 1, 0, 0, 0, 1, 1, 0, 1, 0, 1, 0, 0, 0, 1, 1, 1, 1, 0, 0, 0, 1,\n",
              "       1, 1, 0, 1, 1, 0, 0, 1, 1, 1, 0, 1, 1, 0, 1, 0, 0, 1, 0, 1, 0, 0,\n",
              "       1, 1, 0, 1, 0, 0, 1, 0, 1, 1, 1, 0, 1, 0, 0, 0, 1, 0, 0, 1, 1, 0,\n",
              "       0, 0, 1, 0, 1, 0, 1, 1, 1, 1, 0, 1, 1, 0, 0, 1, 0, 1, 0, 1, 0, 0,\n",
              "       1, 0, 0, 0, 1, 0, 1, 1, 0, 0, 1, 1, 0, 0, 0, 0, 0, 0, 0, 0, 0, 0,\n",
              "       0, 1, 0, 1, 1, 1, 1, 0, 1, 1, 1, 0, 1, 0, 1, 1, 1, 0, 1, 0, 1, 0,\n",
              "       0, 0, 0, 1, 0, 1, 0, 0, 0, 0, 0, 1, 0, 0, 0, 1, 0, 1, 0, 1, 1, 0,\n",
              "       0, 0, 1, 0, 0, 0, 1, 0, 1, 1, 0, 1, 0, 1, 1, 1, 1, 1, 0, 1, 1, 1,\n",
              "       0, 0, 1, 0, 0, 0, 0, 1, 1, 1, 0, 0, 1, 0, 0, 0, 1, 0, 0, 1, 1, 1,\n",
              "       0, 1, 0, 0, 0, 1, 0, 1, 0, 1, 1, 0, 1, 1, 0, 1, 1, 0, 0, 1, 1, 0,\n",
              "       1, 1, 1, 0, 0, 0, 1, 1, 0, 0, 0, 1, 0, 1, 0, 0, 0, 1, 0, 1, 0, 0,\n",
              "       1, 1, 0, 1, 1, 0, 1, 1, 0, 1, 0, 1, 0, 1, 1, 0, 1, 0, 1, 1, 1, 1,\n",
              "       0, 0, 1, 0, 1, 1, 0, 0, 0, 1, 1, 0, 1, 0, 1, 0, 0, 0, 1, 0, 0, 1,\n",
              "       0, 1, 0, 0, 1, 0, 1, 0, 0, 0, 0, 1, 0, 0, 0, 0, 1, 1, 0, 1, 1, 1,\n",
              "       0, 0, 1, 1, 1, 0, 1, 0, 1, 1, 1, 0, 0, 1, 0, 1, 0, 0, 0, 0, 1, 0,\n",
              "       1, 0, 0, 1, 1, 0, 1, 0, 1, 0, 0, 0, 1, 0, 1, 0, 1, 1, 0, 0, 1, 0,\n",
              "       0, 1, 1, 0, 1, 1])"
            ]
          },
          "metadata": {},
          "execution_count": 65
        }
      ]
    },
    {
      "cell_type": "markdown",
      "source": [
        "# PUNTO B"
      ],
      "metadata": {
        "id": "YtIeeSD5WH63"
      }
    },
    {
      "cell_type": "code",
      "source": [
        "MC= metrics.confusion_matrix(y_test, y_pred)\n",
        "p = sns.heatmap(pd.DataFrame(MC),                    # data.frame\n",
        "                annot=True,                          # colocar números de las cajitas\n",
        "                annot_kws = {'size':20},             # tamaño de la letra\n",
        "                cmap=\"YlOrRd\",                       # color de la letra 'Pastel1', 'Pastel1_r', 'Pastel2', 'Pastel2_r', 'PiYG', 'PiYG_r', 'PuBu'\n",
        "                fmt='g')                             # para que salgan los número no : notación científica\n",
        "plt.title('Matriz de Confusión', y=1.1)\n",
        "plt.ylabel('Valores Reales')\n",
        "plt.xlabel('Predicciones')"
      ],
      "metadata": {
        "colab": {
          "base_uri": "https://localhost:8080/",
          "height": 526
        },
        "id": "ZkC_H2eVRcV1",
        "outputId": "678d02ab-2c84-41ea-df7c-ed78bd05d56e"
      },
      "execution_count": null,
      "outputs": [
        {
          "output_type": "execute_result",
          "data": {
            "text/plain": [
              "Text(0.5, 23.52222222222222, 'Predicciones')"
            ]
          },
          "metadata": {},
          "execution_count": 66
        },
        {
          "output_type": "display_data",
          "data": {
            "text/plain": [
              "<Figure size 640x480 with 2 Axes>"
            ],
            "image/png": "[encoded data removed]"
          },
          "metadata": {}
        }
      ]
    },
    {
      "cell_type": "code",
      "source": [
        "print(classification_report(y_test,y_pred))"
      ],
      "metadata": {
        "colab": {
          "base_uri": "https://localhost:8080/"
        },
        "id": "qkNF7_MGRzQy",
        "outputId": "26732426-d97d-4f3a-dcef-db7be15e49fa"
      },
      "execution_count": null,
      "outputs": [
        {
          "output_type": "stream",
          "name": "stdout",
          "text": [
            "              precision    recall  f1-score   support\n",
            "\n",
            "           0       0.89      0.91      0.90       286\n",
            "           1       0.92      0.90      0.91       314\n",
            "\n",
            "    accuracy                           0.90       600\n",
            "   macro avg       0.90      0.90      0.90       600\n",
            "weighted avg       0.90      0.90      0.90       600\n",
            "\n"
          ]
        }
      ]
    },
    {
      "cell_type": "markdown",
      "source": [
        "# PUNTO C"
      ],
      "metadata": {
        "id": "lyztFpneWcRl"
      }
    },
    {
      "cell_type": "code",
      "source": [
        "from sklearn.model_selection import KFold\n",
        "from sklearn.model_selection import cross_val_score\n",
        "\n",
        "kfold_validacion = KFold(10)                               # divide los datos en 10 pliegues.\n",
        "resultados = cross_val_score(KNN,                          # modelo aplicado\n",
        "                             X,                            # conjunto de predictores\n",
        "                             y,                            # variable de respuesta\n",
        "                             cv = kfold_validacion,        # número de divisiones en cross-validation.\n",
        "                             scoring = \"accuracy\")         # se puede escoger la métrica.\n",
        "print(resultados)                                          # para ver la variable resultados.\n",
        "resultados.mean()\n"
      ],
      "metadata": {
        "colab": {
          "base_uri": "https://localhost:8080/"
        },
        "id": "YjYMICx1TuE6",
        "outputId": "93a0d468-399a-4b94-b96f-e89459effa40"
      },
      "execution_count": null,
      "outputs": [
        {
          "output_type": "stream",
          "name": "stdout",
          "text": [
            "[0.965 0.985 0.975 0.985 0.975 0.965 0.98  0.955 0.97  0.965]\n"
          ]
        },
        {
          "output_type": "execute_result",
          "data": {
            "text/plain": [
              "0.9720000000000001"
            ]
          },
          "metadata": {},
          "execution_count": 68
        }
      ]
    },
    {
      "cell_type": "code",
      "source": [
        "from sklearn.model_selection import GridSearchCV\n",
        "\n",
        "# definimos los parámetros que vamos a combinar. Diccionario\n",
        "grid_params = {\"n_neighbors\" : list(range(1, 31)),         # se recorre la lista en k\n",
        "               \"weights\" : [\"uniform\",\"distance\"],         # se establecen los pesos\n",
        "               \"metric\" : [\"euclidean\",\"manhattan\"]}       # se establecen las métricas\n",
        "\n",
        "# hacemos la búsqueda en grilla con 5-folds\n",
        "Grid_Search = GridSearchCV(KNN,                            # el modelo aplicado\n",
        "                  grid_params,                             # los parámetros que van a variar\n",
        "                  cv = 5,                                  # el número de folds\n",
        "                  verbose = 3)                             # para que imprima resultados. Posibilidades: 1,2 o 3\n",
        "# Entrenar el modelo obtenido arriba\n",
        "g_res = Grid_Search.fit(X_train,y_train)"
      ],
      "metadata": {
        "id": "QuY6dCNrVEgq"
      },
      "execution_count": null,
      "outputs": []
    },
    {
      "cell_type": "code",
      "source": [
        "print(\"Mejor score: \",g_res.best_score_)"
      ],
      "metadata": {
        "colab": {
          "base_uri": "https://localhost:8080/"
        },
        "id": "TRTJqGn3VWXU",
        "outputId": "5c476124-bf63-4829-8d80-16ece0d63449"
      },
      "execution_count": null,
      "outputs": [
        {
          "output_type": "stream",
          "name": "stdout",
          "text": [
            "Mejor score:  0.9135714285714286\n"
          ]
        }
      ]
    },
    {
      "cell_type": "code",
      "source": [
        "print(\"Mejores hiperparámetros\", g_res.best_params_)"
      ],
      "metadata": {
        "colab": {
          "base_uri": "https://localhost:8080/"
        },
        "id": "a2DI_PMQVXsi",
        "outputId": "9d8300ae-f33e-4ec9-a652-83800f68b4e1"
      },
      "execution_count": null,
      "outputs": [
        {
          "output_type": "stream",
          "name": "stdout",
          "text": [
            "Mejores hiperparámetros {'metric': 'manhattan', 'n_neighbors': 29, 'weights': 'uniform'}\n"
          ]
        }
      ]
    },
    {
      "cell_type": "code",
      "source": [
        "auc_KNN = roc_auc_score(y_train, KNN.predict(X_train))\n",
        "auc_KNN"
      ],
      "metadata": {
        "colab": {
          "base_uri": "https://localhost:8080/"
        },
        "id": "9ZIPAd2zV86W",
        "outputId": "0d3ab494-6de8-4682-a50b-5b05958c768f"
      },
      "execution_count": null,
      "outputs": [
        {
          "output_type": "execute_result",
          "data": {
            "text/plain": [
              "0.9203538558280455"
            ]
          },
          "metadata": {},
          "execution_count": 72
        }
      ]
    },
    {
      "cell_type": "code",
      "source": [
        "# calculamos la tasa de falsos positivos y verdaderos positivos\n",
        "fpr, tpr, thresholds = roc_curve(y_train, KNN.predict_proba(X_train)[:,1])\n",
        "# los coloco como un DataFrame\n",
        "df=pd.DataFrame(np.transpose(np.array([fpr, tpr,thresholds])), columns = [\"FPR\", \"TPR\", \"Umbrales\"])\n",
        "df.head(10)"
      ],
      "metadata": {
        "colab": {
          "base_uri": "https://localhost:8080/",
          "height": 363
        },
        "id": "bOPkvx3GXMC3",
        "outputId": "536c990a-33dc-4eb0-8300-78e956974aae"
      },
      "execution_count": null,
      "outputs": [
        {
          "output_type": "execute_result",
          "data": {
            "text/plain": [
              "        FPR       TPR  Umbrales\n",
              "0  0.000000  0.000000  1.965517\n",
              "1  0.000000  0.002915  0.965517\n",
              "2  0.000000  0.023324  0.896552\n",
              "3  0.000000  0.061224  0.862069\n",
              "4  0.000000  0.110787  0.827586\n",
              "5  0.000000  0.183673  0.793103\n",
              "6  0.000000  0.282799  0.758621\n",
              "7  0.000000  0.396501  0.724138\n",
              "8  0.001401  0.495627  0.689655\n",
              "9  0.001401  0.594752  0.655172"
            ],
            "text/html": [
              "\n",
              "  <div id=\"df-342eec0d-7533-4aa9-ae24-c5df93143cfc\" class=\"colab-df-container\">\n",
              "    <div>\n",
              "<style scoped>\n",
              "    .dataframe tbody tr th:only-of-type {\n",
              "        vertical-align: middle;\n",
              "    }\n",
              "\n",
              "    .dataframe tbody tr th {\n",
              "        vertical-align: top;\n",
              "    }\n",
              "\n",
              "    .dataframe thead th {\n",
              "        text-align: right;\n",
              "    }\n",
              "</style>\n",
              "<table border=\"1\" class=\"dataframe\">\n",
              "  <thead>\n",
              "    <tr style=\"text-align: right;\">\n",
              "      <th></th>\n",
              "      <th>FPR</th>\n",
              "      <th>TPR</th>\n",
              "      <th>Umbrales</th>\n",
              "    </tr>\n",
              "  </thead>\n",
              "  <tbody>\n",
              "    <tr>\n",
              "      <th>0</th>\n",
              "      <td>0.000000</td>\n",
              "      <td>0.000000</td>\n",
              "      <td>1.965517</td>\n",
              "    </tr>\n",
              "    <tr>\n",
              "      <th>1</th>\n",
              "      <td>0.000000</td>\n",
              "      <td>0.002915</td>\n",
              "      <td>0.965517</td>\n",
              "    </tr>\n",
              "    <tr>\n",
              "      <th>2</th>\n",
              "      <td>0.000000</td>\n",
              "      <td>0.023324</td>\n",
              "      <td>0.896552</td>\n",
              "    </tr>\n",
              "    <tr>\n",
              "      <th>3</th>\n",
              "      <td>0.000000</td>\n",
              "      <td>0.061224</td>\n",
              "      <td>0.862069</td>\n",
              "    </tr>\n",
              "    <tr>\n",
              "      <th>4</th>\n",
              "      <td>0.000000</td>\n",
              "      <td>0.110787</td>\n",
              "      <td>0.827586</td>\n",
              "    </tr>\n",
              "    <tr>\n",
              "      <th>5</th>\n",
              "      <td>0.000000</td>\n",
              "      <td>0.183673</td>\n",
              "      <td>0.793103</td>\n",
              "    </tr>\n",
              "    <tr>\n",
              "      <th>6</th>\n",
              "      <td>0.000000</td>\n",
              "      <td>0.282799</td>\n",
              "      <td>0.758621</td>\n",
              "    </tr>\n",
              "    <tr>\n",
              "      <th>7</th>\n",
              "      <td>0.000000</td>\n",
              "      <td>0.396501</td>\n",
              "      <td>0.724138</td>\n",
              "    </tr>\n",
              "    <tr>\n",
              "      <th>8</th>\n",
              "      <td>0.001401</td>\n",
              "      <td>0.495627</td>\n",
              "      <td>0.689655</td>\n",
              "    </tr>\n",
              "    <tr>\n",
              "      <th>9</th>\n",
              "      <td>0.001401</td>\n",
              "      <td>0.594752</td>\n",
              "      <td>0.655172</td>\n",
              "    </tr>\n",
              "  </tbody>\n",
              "</table>\n",
              "</div>\n",
              "    <div class=\"colab-df-buttons\">\n",
              "\n",
              "  <div class=\"colab-df-container\">\n",
              "    <button class=\"colab-df-convert\" onclick=\"convertToInteractive('df-342eec0d-7533-4aa9-ae24-c5df93143cfc')\"\n",
              "            title=\"Convert this dataframe to an interactive table.\"\n",
              "            style=\"display:none;\">\n",
              "\n",
              "  <svg xmlns=\"http://www.w3.org/2000/svg\" height=\"24px\" viewBox=\"0 -960 960 960\">\n",
              "    <path d=\"M120-120v-720h720v720H120Zm60-500h600v-160H180v160Zm220 220h160v-160H400v160Zm0 220h160v-160H400v160ZM180-400h160v-160H180v160Zm440 0h160v-160H620v160ZM180-180h160v-160H180v160Zm440 0h160v-160H620v160Z\"/>\n",
              "  </svg>\n",
              "    </button>\n",
              "\n",
              "  <style>\n",
              "    .colab-df-container {\n",
              "      display:flex;\n",
              "      gap: 12px;\n",
              "    }\n",
              "\n",
              "    .colab-df-convert {\n",
              "      background-color: #E8F0FE;\n",
              "      border: none;\n",
              "      border-radius: 50%;\n",
              "      cursor: pointer;\n",
              "      display: none;\n",
              "      fill: #1967D2;\n",
              "      height: 32px;\n",
              "      padding: 0 0 0 0;\n",
              "      width: 32px;\n",
              "    }\n",
              "\n",
              "    .colab-df-convert:hover {\n",
              "      background-color: #E2EBFA;\n",
              "      box-shadow: 0px 1px 2px rgba(60, 64, 67, 0.3), 0px 1px 3px 1px rgba(60, 64, 67, 0.15);\n",
              "      fill: #174EA6;\n",
              "    }\n",
              "\n",
              "    .colab-df-buttons div {\n",
              "      margin-bottom: 4px;\n",
              "    }\n",
              "\n",
              "    [theme=dark] .colab-df-convert {\n",
              "      background-color: #3B4455;\n",
              "      fill: #D2E3FC;\n",
              "    }\n",
              "\n",
              "    [theme=dark] .colab-df-convert:hover {\n",
              "      background-color: #434B5C;\n",
              "      box-shadow: 0px 1px 3px 1px rgba(0, 0, 0, 0.15);\n",
              "      filter: drop-shadow(0px 1px 2px rgba(0, 0, 0, 0.3));\n",
              "      fill: #FFFFFF;\n",
              "    }\n",
              "  </style>\n",
              "\n",
              "    <script>\n",
              "      const buttonEl =\n",
              "        document.querySelector('#df-342eec0d-7533-4aa9-ae24-c5df93143cfc button.colab-df-convert');\n",
              "      buttonEl.style.display =\n",
              "        google.colab.kernel.accessAllowed ? 'block' : 'none';\n",
              "\n",
              "      async function convertToInteractive(key) {\n",
              "        const element = document.querySelector('#df-342eec0d-7533-4aa9-ae24-c5df93143cfc');\n",
              "        const dataTable =\n",
              "          await google.colab.kernel.invokeFunction('convertToInteractive',\n",
              "                                                    [key], {});\n",
              "        if (!dataTable) return;\n",
              "\n",
              "        const docLinkHtml = 'Like what you see? Visit the ' +\n",
              "          '<a target=\"_blank\" href=https://colab.research.google.com/notebooks/data_table.ipynb>data table notebook</a>'\n",
              "          + ' to learn more about interactive tables.';\n",
              "        element.innerHTML = '';\n",
              "        dataTable['output_type'] = 'display_data';\n",
              "        await google.colab.output.renderOutput(dataTable, element);\n",
              "        const docLink = document.createElement('div');\n",
              "        docLink.innerHTML = docLinkHtml;\n",
              "        element.appendChild(docLink);\n",
              "      }\n",
              "    </script>\n",
              "  </div>\n",
              "\n",
              "\n",
              "<div id=\"df-6dc6366b-c180-4692-8afa-889414a8d538\">\n",
              "  <button class=\"colab-df-quickchart\" onclick=\"quickchart('df-6dc6366b-c180-4692-8afa-889414a8d538')\"\n",
              "            title=\"Suggest charts\"\n",
              "            style=\"display:none;\">\n",
              "\n",
              "<svg xmlns=\"http://www.w3.org/2000/svg\" height=\"24px\"viewBox=\"0 0 24 24\"\n",
              "     width=\"24px\">\n",
              "    <g>\n",
              "        <path d=\"M19 3H5c-1.1 0-2 .9-2 2v14c0 1.1.9 2 2 2h14c1.1 0 2-.9 2-2V5c0-1.1-.9-2-2-2zM9 17H7v-7h2v7zm4 0h-2V7h2v10zm4 0h-2v-4h2v4z\"/>\n",
              "    </g>\n",
              "</svg>\n",
              "  </button>\n",
              "\n",
              "<style>\n",
              "  .colab-df-quickchart {\n",
              "      --bg-color: #E8F0FE;\n",
              "      --fill-color: #1967D2;\n",
              "      --hover-bg-color: #E2EBFA;\n",
              "      --hover-fill-color: #174EA6;\n",
              "      --disabled-fill-color: #AAA;\n",
              "      --disabled-bg-color: #DDD;\n",
              "  }\n",
              "\n",
              "  [theme=dark] .colab-df-quickchart {\n",
              "      --bg-color: #3B4455;\n",
              "      --fill-color: #D2E3FC;\n",
              "      --hover-bg-color: #434B5C;\n",
              "      --hover-fill-color: #FFFFFF;\n",
              "      --disabled-bg-color: #3B4455;\n",
              "      --disabled-fill-color: #666;\n",
              "  }\n",
              "\n",
              "  .colab-df-quickchart {\n",
              "    background-color: var(--bg-color);\n",
              "    border: none;\n",
              "    border-radius: 50%;\n",
              "    cursor: pointer;\n",
              "    display: none;\n",
              "    fill: var(--fill-color);\n",
              "    height: 32px;\n",
              "    padding: 0;\n",
              "    width: 32px;\n",
              "  }\n",
              "\n",
              "  .colab-df-quickchart:hover {\n",
              "    background-color: var(--hover-bg-color);\n",
              "    box-shadow: 0 1px 2px rgba(60, 64, 67, 0.3), 0 1px 3px 1px rgba(60, 64, 67, 0.15);\n",
              "    fill: var(--button-hover-fill-color);\n",
              "  }\n",
              "\n",
              "  .colab-df-quickchart-complete:disabled,\n",
              "  .colab-df-quickchart-complete:disabled:hover {\n",
              "    background-color: var(--disabled-bg-color);\n",
              "    fill: var(--disabled-fill-color);\n",
              "    box-shadow: none;\n",
              "  }\n",
              "\n",
              "  .colab-df-spinner {\n",
              "    border: 2px solid var(--fill-color);\n",
              "    border-color: transparent;\n",
              "    border-bottom-color: var(--fill-color);\n",
              "    animation:\n",
              "      spin 1s steps(1) infinite;\n",
              "  }\n",
              "\n",
              "  @keyframes spin {\n",
              "    0% {\n",
              "      border-color: transparent;\n",
              "      border-bottom-color: var(--fill-color);\n",
              "      border-left-color: var(--fill-color);\n",
              "    }\n",
              "    20% {\n",
              "      border-color: transparent;\n",
              "      border-left-color: var(--fill-color);\n",
              "      border-top-color: var(--fill-color);\n",
              "    }\n",
              "    30% {\n",
              "      border-color: transparent;\n",
              "      border-left-color: var(--fill-color);\n",
              "      border-top-color: var(--fill-color);\n",
              "      border-right-color: var(--fill-color);\n",
              "    }\n",
              "    40% {\n",
              "      border-color: transparent;\n",
              "      border-right-color: var(--fill-color);\n",
              "      border-top-color: var(--fill-color);\n",
              "    }\n",
              "    60% {\n",
              "      border-color: transparent;\n",
              "      border-right-color: var(--fill-color);\n",
              "    }\n",
              "    80% {\n",
              "      border-color: transparent;\n",
              "      border-right-color: var(--fill-color);\n",
              "      border-bottom-color: var(--fill-color);\n",
              "    }\n",
              "    90% {\n",
              "      border-color: transparent;\n",
              "      border-bottom-color: var(--fill-color);\n",
              "    }\n",
              "  }\n",
              "</style>\n",
              "\n",
              "  <script>\n",
              "    async function quickchart(key) {\n",
              "      const quickchartButtonEl =\n",
              "        document.querySelector('#' + key + ' button');\n",
              "      quickchartButtonEl.disabled = true;  // To prevent multiple clicks.\n",
              "      quickchartButtonEl.classList.add('colab-df-spinner');\n",
              "      try {\n",
              "        const charts = await google.colab.kernel.invokeFunction(\n",
              "            'suggestCharts', [key], {});\n",
              "      } catch (error) {\n",
              "        console.error('Error during call to suggestCharts:', error);\n",
              "      }\n",
              "      quickchartButtonEl.classList.remove('colab-df-spinner');\n",
              "      quickchartButtonEl.classList.add('colab-df-quickchart-complete');\n",
              "    }\n",
              "    (() => {\n",
              "      let quickchartButtonEl =\n",
              "        document.querySelector('#df-6dc6366b-c180-4692-8afa-889414a8d538 button');\n",
              "      quickchartButtonEl.style.display =\n",
              "        google.colab.kernel.accessAllowed ? 'block' : 'none';\n",
              "    })();\n",
              "  </script>\n",
              "</div>\n",
              "\n",
              "    </div>\n",
              "  </div>\n"
            ],
            "application/vnd.google.colaboratory.intrinsic+json": {
              "type": "dataframe",
              "variable_name": "df",
              "summary": "{\n  \"name\": \"df\",\n  \"rows\": 28,\n  \"fields\": [\n    {\n      \"column\": \"FPR\",\n      \"properties\": {\n        \"dtype\": \"number\",\n        \"std\": 0.39672211331817203,\n        \"min\": 0.0,\n        \"max\": 1.0,\n        \"num_unique_values\": 20,\n        \"samples\": [\n          0.0,\n          0.9901960784313726,\n          0.9159663865546218\n        ],\n        \"semantic_type\": \"\",\n        \"description\": \"\"\n      }\n    },\n    {\n      \"column\": \"TPR\",\n      \"properties\": {\n        \"dtype\": \"number\",\n        \"std\": 0.3869877964428026,\n        \"min\": 0.0,\n        \"max\": 1.0,\n        \"num_unique_values\": 21,\n        \"samples\": [\n          0.0,\n          0.9912536443148688,\n          0.9723032069970845\n        ],\n        \"semantic_type\": \"\",\n        \"description\": \"\"\n      }\n    },\n    {\n      \"column\": \"Umbrales\",\n      \"properties\": {\n        \"dtype\": \"number\",\n        \"std\": 0.38949844511663684,\n        \"min\": 0.034482758620689655,\n        \"max\": 1.9655172413793105,\n        \"num_unique_values\": 28,\n        \"samples\": [\n          0.6551724137931034,\n          0.10344827586206896,\n          0.6896551724137931\n        ],\n        \"semantic_type\": \"\",\n        \"description\": \"\"\n      }\n    }\n  ]\n}"
            }
          },
          "metadata": {},
          "execution_count": 73
        }
      ]
    },
    {
      "cell_type": "code",
      "source": [
        "fpr, tpr, thresholds = roc_curve(y_train, KNN.predict_proba(X_train)[:,1])\n",
        "\n",
        "# detalles de la gráfica\n",
        "plt.figure()\n",
        "plt.plot(fpr, tpr, label='KNN(area = %0.2f)' % auc_KNN)\n",
        "plt.plot([0, 1], [0, 1],'r--')\n",
        "plt.xlim([0.0, 1.0])\n",
        "plt.ylim([0.0, 1.05])\n",
        "plt.xlabel('False Positive Rate (fpr)')\n",
        "plt.ylabel('True Positive Rate (tpr)')\n",
        "plt.title(\"Curva ROC\")\n",
        "plt.legend(loc=\"lower right\")\n",
        "plt.savefig('Log_ROC')\n",
        "plt.show()"
      ],
      "metadata": {
        "colab": {
          "base_uri": "https://localhost:8080/",
          "height": 472
        },
        "id": "aAT6x4dTXSTe",
        "outputId": "7a19d031-859c-4eb8-b9a4-8e730b7e5cce"
      },
      "execution_count": null,
      "outputs": [
        {
          "output_type": "display_data",
          "data": {
            "text/plain": [
              "<Figure size 640x480 with 1 Axes>"
            ],
            "image/png": "[encoded data removed]"
          },
          "metadata": {}
        }
      ]
    },
    {
      "cell_type": "code",
      "source": [
        "umbral=pd.DataFrame(np.transpose(np.round(roc_curve(y_train, KNN.predict_proba(X_train)[:,1]),3)),\n",
        "                        columns=[\"FPR\", \"TPR\", \"Umbral\"])\n",
        "## Distancia euclidiana al punto ideal\n",
        "umbral[\"Distancia\"]=np.sqrt(umbral[\"FPR\"]**2 +(1-umbral[\"TPR\"])**2)\n",
        "umbral.sort_values(\"Distancia\").head(4)"
      ],
      "metadata": {
        "colab": {
          "base_uri": "https://localhost:8080/",
          "height": 175
        },
        "id": "oOAsHKgTXSRR",
        "outputId": "f7216f2e-cc77-4205-85ab-db4036ce7fa1"
      },
      "execution_count": null,
      "outputs": [
        {
          "output_type": "execute_result",
          "data": {
            "text/plain": [
              "      FPR    TPR  Umbral  Distancia\n",
              "13  0.062  0.902   0.517   0.115966\n",
              "14  0.104  0.943   0.483   0.118596\n",
              "12  0.034  0.857   0.552   0.146986\n",
              "15  0.158  0.972   0.448   0.160462"
            ],
            "text/html": [
              "\n",
              "  <div id=\"df-57d68abd-f1b4-406f-8050-56944632be32\" class=\"colab-df-container\">\n",
              "    <div>\n",
              "<style scoped>\n",
              "    .dataframe tbody tr th:only-of-type {\n",
              "        vertical-align: middle;\n",
              "    }\n",
              "\n",
              "    .dataframe tbody tr th {\n",
              "        vertical-align: top;\n",
              "    }\n",
              "\n",
              "    .dataframe thead th {\n",
              "        text-align: right;\n",
              "    }\n",
              "</style>\n",
              "<table border=\"1\" class=\"dataframe\">\n",
              "  <thead>\n",
              "    <tr style=\"text-align: right;\">\n",
              "      <th></th>\n",
              "      <th>FPR</th>\n",
              "      <th>TPR</th>\n",
              "      <th>Umbral</th>\n",
              "      <th>Distancia</th>\n",
              "    </tr>\n",
              "  </thead>\n",
              "  <tbody>\n",
              "    <tr>\n",
              "      <th>13</th>\n",
              "      <td>0.062</td>\n",
              "      <td>0.902</td>\n",
              "      <td>0.517</td>\n",
              "      <td>0.115966</td>\n",
              "    </tr>\n",
              "    <tr>\n",
              "      <th>14</th>\n",
              "      <td>0.104</td>\n",
              "      <td>0.943</td>\n",
              "      <td>0.483</td>\n",
              "      <td>0.118596</td>\n",
              "    </tr>\n",
              "    <tr>\n",
              "      <th>12</th>\n",
              "      <td>0.034</td>\n",
              "      <td>0.857</td>\n",
              "      <td>0.552</td>\n",
              "      <td>0.146986</td>\n",
              "    </tr>\n",
              "    <tr>\n",
              "      <th>15</th>\n",
              "      <td>0.158</td>\n",
              "      <td>0.972</td>\n",
              "      <td>0.448</td>\n",
              "      <td>0.160462</td>\n",
              "    </tr>\n",
              "  </tbody>\n",
              "</table>\n",
              "</div>\n",
              "    <div class=\"colab-df-buttons\">\n",
              "\n",
              "  <div class=\"colab-df-container\">\n",
              "    <button class=\"colab-df-convert\" onclick=\"convertToInteractive('df-57d68abd-f1b4-406f-8050-56944632be32')\"\n",
              "            title=\"Convert this dataframe to an interactive table.\"\n",
              "            style=\"display:none;\">\n",
              "\n",
              "  <svg xmlns=\"http://www.w3.org/2000/svg\" height=\"24px\" viewBox=\"0 -960 960 960\">\n",
              "    <path d=\"M120-120v-720h720v720H120Zm60-500h600v-160H180v160Zm220 220h160v-160H400v160Zm0 220h160v-160H400v160ZM180-400h160v-160H180v160Zm440 0h160v-160H620v160ZM180-180h160v-160H180v160Zm440 0h160v-160H620v160Z\"/>\n",
              "  </svg>\n",
              "    </button>\n",
              "\n",
              "  <style>\n",
              "    .colab-df-container {\n",
              "      display:flex;\n",
              "      gap: 12px;\n",
              "    }\n",
              "\n",
              "    .colab-df-convert {\n",
              "      background-color: #E8F0FE;\n",
              "      border: none;\n",
              "      border-radius: 50%;\n",
              "      cursor: pointer;\n",
              "      display: none;\n",
              "      fill: #1967D2;\n",
              "      height: 32px;\n",
              "      padding: 0 0 0 0;\n",
              "      width: 32px;\n",
              "    }\n",
              "\n",
              "    .colab-df-convert:hover {\n",
              "      background-color: #E2EBFA;\n",
              "      box-shadow: 0px 1px 2px rgba(60, 64, 67, 0.3), 0px 1px 3px 1px rgba(60, 64, 67, 0.15);\n",
              "      fill: #174EA6;\n",
              "    }\n",
              "\n",
              "    .colab-df-buttons div {\n",
              "      margin-bottom: 4px;\n",
              "    }\n",
              "\n",
              "    [theme=dark] .colab-df-convert {\n",
              "      background-color: #3B4455;\n",
              "      fill: #D2E3FC;\n",
              "    }\n",
              "\n",
              "    [theme=dark] .colab-df-convert:hover {\n",
              "      background-color: #434B5C;\n",
              "      box-shadow: 0px 1px 3px 1px rgba(0, 0, 0, 0.15);\n",
              "      filter: drop-shadow(0px 1px 2px rgba(0, 0, 0, 0.3));\n",
              "      fill: #FFFFFF;\n",
              "    }\n",
              "  </style>\n",
              "\n",
              "    <script>\n",
              "      const buttonEl =\n",
              "        document.querySelector('#df-57d68abd-f1b4-406f-8050-56944632be32 button.colab-df-convert');\n",
              "      buttonEl.style.display =\n",
              "        google.colab.kernel.accessAllowed ? 'block' : 'none';\n",
              "\n",
              "      async function convertToInteractive(key) {\n",
              "        const element = document.querySelector('#df-57d68abd-f1b4-406f-8050-56944632be32');\n",
              "        const dataTable =\n",
              "          await google.colab.kernel.invokeFunction('convertToInteractive',\n",
              "                                                    [key], {});\n",
              "        if (!dataTable) return;\n",
              "\n",
              "        const docLinkHtml = 'Like what you see? Visit the ' +\n",
              "          '<a target=\"_blank\" href=https://colab.research.google.com/notebooks/data_table.ipynb>data table notebook</a>'\n",
              "          + ' to learn more about interactive tables.';\n",
              "        element.innerHTML = '';\n",
              "        dataTable['output_type'] = 'display_data';\n",
              "        await google.colab.output.renderOutput(dataTable, element);\n",
              "        const docLink = document.createElement('div');\n",
              "        docLink.innerHTML = docLinkHtml;\n",
              "        element.appendChild(docLink);\n",
              "      }\n",
              "    </script>\n",
              "  </div>\n",
              "\n",
              "\n",
              "<div id=\"df-b606b266-92f1-4eab-8201-3cb1a41f6932\">\n",
              "  <button class=\"colab-df-quickchart\" onclick=\"quickchart('df-b606b266-92f1-4eab-8201-3cb1a41f6932')\"\n",
              "            title=\"Suggest charts\"\n",
              "            style=\"display:none;\">\n",
              "\n",
              "<svg xmlns=\"http://www.w3.org/2000/svg\" height=\"24px\"viewBox=\"0 0 24 24\"\n",
              "     width=\"24px\">\n",
              "    <g>\n",
              "        <path d=\"M19 3H5c-1.1 0-2 .9-2 2v14c0 1.1.9 2 2 2h14c1.1 0 2-.9 2-2V5c0-1.1-.9-2-2-2zM9 17H7v-7h2v7zm4 0h-2V7h2v10zm4 0h-2v-4h2v4z\"/>\n",
              "    </g>\n",
              "</svg>\n",
              "  </button>\n",
              "\n",
              "<style>\n",
              "  .colab-df-quickchart {\n",
              "      --bg-color: #E8F0FE;\n",
              "      --fill-color: #1967D2;\n",
              "      --hover-bg-color: #E2EBFA;\n",
              "      --hover-fill-color: #174EA6;\n",
              "      --disabled-fill-color: #AAA;\n",
              "      --disabled-bg-color: #DDD;\n",
              "  }\n",
              "\n",
              "  [theme=dark] .colab-df-quickchart {\n",
              "      --bg-color: #3B4455;\n",
              "      --fill-color: #D2E3FC;\n",
              "      --hover-bg-color: #434B5C;\n",
              "      --hover-fill-color: #FFFFFF;\n",
              "      --disabled-bg-color: #3B4455;\n",
              "      --disabled-fill-color: #666;\n",
              "  }\n",
              "\n",
              "  .colab-df-quickchart {\n",
              "    background-color: var(--bg-color);\n",
              "    border: none;\n",
              "    border-radius: 50%;\n",
              "    cursor: pointer;\n",
              "    display: none;\n",
              "    fill: var(--fill-color);\n",
              "    height: 32px;\n",
              "    padding: 0;\n",
              "    width: 32px;\n",
              "  }\n",
              "\n",
              "  .colab-df-quickchart:hover {\n",
              "    background-color: var(--hover-bg-color);\n",
              "    box-shadow: 0 1px 2px rgba(60, 64, 67, 0.3), 0 1px 3px 1px rgba(60, 64, 67, 0.15);\n",
              "    fill: var(--button-hover-fill-color);\n",
              "  }\n",
              "\n",
              "  .colab-df-quickchart-complete:disabled,\n",
              "  .colab-df-quickchart-complete:disabled:hover {\n",
              "    background-color: var(--disabled-bg-color);\n",
              "    fill: var(--disabled-fill-color);\n",
              "    box-shadow: none;\n",
              "  }\n",
              "\n",
              "  .colab-df-spinner {\n",
              "    border: 2px solid var(--fill-color);\n",
              "    border-color: transparent;\n",
              "    border-bottom-color: var(--fill-color);\n",
              "    animation:\n",
              "      spin 1s steps(1) infinite;\n",
              "  }\n",
              "\n",
              "  @keyframes spin {\n",
              "    0% {\n",
              "      border-color: transparent;\n",
              "      border-bottom-color: var(--fill-color);\n",
              "      border-left-color: var(--fill-color);\n",
              "    }\n",
              "    20% {\n",
              "      border-color: transparent;\n",
              "      border-left-color: var(--fill-color);\n",
              "      border-top-color: var(--fill-color);\n",
              "    }\n",
              "    30% {\n",
              "      border-color: transparent;\n",
              "      border-left-color: var(--fill-color);\n",
              "      border-top-color: var(--fill-color);\n",
              "      border-right-color: var(--fill-color);\n",
              "    }\n",
              "    40% {\n",
              "      border-color: transparent;\n",
              "      border-right-color: var(--fill-color);\n",
              "      border-top-color: var(--fill-color);\n",
              "    }\n",
              "    60% {\n",
              "      border-color: transparent;\n",
              "      border-right-color: var(--fill-color);\n",
              "    }\n",
              "    80% {\n",
              "      border-color: transparent;\n",
              "      border-right-color: var(--fill-color);\n",
              "      border-bottom-color: var(--fill-color);\n",
              "    }\n",
              "    90% {\n",
              "      border-color: transparent;\n",
              "      border-bottom-color: var(--fill-color);\n",
              "    }\n",
              "  }\n",
              "</style>\n",
              "\n",
              "  <script>\n",
              "    async function quickchart(key) {\n",
              "      const quickchartButtonEl =\n",
              "        document.querySelector('#' + key + ' button');\n",
              "      quickchartButtonEl.disabled = true;  // To prevent multiple clicks.\n",
              "      quickchartButtonEl.classList.add('colab-df-spinner');\n",
              "      try {\n",
              "        const charts = await google.colab.kernel.invokeFunction(\n",
              "            'suggestCharts', [key], {});\n",
              "      } catch (error) {\n",
              "        console.error('Error during call to suggestCharts:', error);\n",
              "      }\n",
              "      quickchartButtonEl.classList.remove('colab-df-spinner');\n",
              "      quickchartButtonEl.classList.add('colab-df-quickchart-complete');\n",
              "    }\n",
              "    (() => {\n",
              "      let quickchartButtonEl =\n",
              "        document.querySelector('#df-b606b266-92f1-4eab-8201-3cb1a41f6932 button');\n",
              "      quickchartButtonEl.style.display =\n",
              "        google.colab.kernel.accessAllowed ? 'block' : 'none';\n",
              "    })();\n",
              "  </script>\n",
              "</div>\n",
              "\n",
              "    </div>\n",
              "  </div>\n"
            ],
            "application/vnd.google.colaboratory.intrinsic+json": {
              "type": "dataframe",
              "summary": "{\n  \"name\": \"umbral\",\n  \"rows\": 4,\n  \"fields\": [\n    {\n      \"column\": \"FPR\",\n      \"properties\": {\n        \"dtype\": \"number\",\n        \"std\": 0.053972215074054544,\n        \"min\": 0.034,\n        \"max\": 0.158,\n        \"num_unique_values\": 4,\n        \"samples\": [\n          0.104,\n          0.158,\n          0.062\n        ],\n        \"semantic_type\": \"\",\n        \"description\": \"\"\n      }\n    },\n    {\n      \"column\": \"TPR\",\n      \"properties\": {\n        \"dtype\": \"number\",\n        \"std\": 0.050056634591896666,\n        \"min\": 0.857,\n        \"max\": 0.972,\n        \"num_unique_values\": 4,\n        \"samples\": [\n          0.943,\n          0.972,\n          0.902\n        ],\n        \"semantic_type\": \"\",\n        \"description\": \"\"\n      }\n    },\n    {\n      \"column\": \"Umbral\",\n      \"properties\": {\n        \"dtype\": \"number\",\n        \"std\": 0.04466915415959133,\n        \"min\": 0.448,\n        \"max\": 0.552,\n        \"num_unique_values\": 4,\n        \"samples\": [\n          0.483,\n          0.448,\n          0.517\n        ],\n        \"semantic_type\": \"\",\n        \"description\": \"\"\n      }\n    },\n    {\n      \"column\": \"Distancia\",\n      \"properties\": {\n        \"dtype\": \"number\",\n        \"std\": 0.02177439921634361,\n        \"min\": 0.11596551211459377,\n        \"max\": 0.1604618334682737,\n        \"num_unique_values\": 4,\n        \"samples\": [\n          0.1185959527134042,\n          0.1604618334682737,\n          0.11596551211459377\n        ],\n        \"semantic_type\": \"\",\n        \"description\": \"\"\n      }\n    }\n  ]\n}"
            }
          },
          "metadata": {},
          "execution_count": 75
        }
      ]
    },
    {
      "cell_type": "code",
      "source": [
        "# calculamos de nuevo las predicciones con este umbral\n",
        "umbral2=0.517\n",
        "# en los datos de entrenamiento\n",
        "y_pred_train2= np.where(KNN.predict_proba(X_train)[:,1] > umbral2, 1, 0)\n",
        "print(\"En los datos de entrenamiento\\n\",classification_report(y_train, y_pred_train2))\n",
        "\n",
        "# en los datos de prueba\n",
        "y_pred_test2= np.where(KNN.predict_proba(X_test)[:,1] > umbral2, 1, 0)\n",
        "print(\"En los datos de prueba \\n\",classification_report(y_test, y_pred_test2))\n"
      ],
      "metadata": {
        "colab": {
          "base_uri": "https://localhost:8080/"
        },
        "id": "j1KoFdCnZkIu",
        "outputId": "bcfe71ea-179f-4c66-f369-97d2cb2b0c24"
      },
      "execution_count": null,
      "outputs": [
        {
          "output_type": "stream",
          "name": "stdout",
          "text": [
            "En los datos de entrenamiento\n",
            "               precision    recall  f1-score   support\n",
            "\n",
            "           0       0.91      0.94      0.92       714\n",
            "           1       0.93      0.90      0.92       686\n",
            "\n",
            "    accuracy                           0.92      1400\n",
            "   macro avg       0.92      0.92      0.92      1400\n",
            "weighted avg       0.92      0.92      0.92      1400\n",
            "\n",
            "En los datos de prueba \n",
            "               precision    recall  f1-score   support\n",
            "\n",
            "           0       0.89      0.91      0.90       286\n",
            "           1       0.92      0.90      0.91       314\n",
            "\n",
            "    accuracy                           0.90       600\n",
            "   macro avg       0.90      0.90      0.90       600\n",
            "weighted avg       0.90      0.90      0.90       600\n",
            "\n"
          ]
        }
      ]
    },
    {
      "cell_type": "markdown",
      "source": [
        "# Punto 2.2"
      ],
      "metadata": {
        "id": "swD_FYdjZC8-"
      }
    },
    {
      "cell_type": "markdown",
      "source": [
        "# PUNTO A"
      ],
      "metadata": {
        "id": "rYzrP9xwWgeE"
      }
    },
    {
      "cell_type": "code",
      "source": [
        "log_reg = LogisticRegression(random_state=0)\n",
        "log_reg.fit(X_train, y_train)"
      ],
      "metadata": {
        "colab": {
          "base_uri": "https://localhost:8080/",
          "height": 74
        },
        "id": "sHftzLB3bd_0",
        "outputId": "1c6c93cd-2ad9-4ac1-a461-ee4c6e0058eb"
      },
      "execution_count": null,
      "outputs": [
        {
          "output_type": "execute_result",
          "data": {
            "text/plain": [
              "LogisticRegression(random_state=0)"
            ],
            "text/html": [
              "<style>#sk-container-id-7 {color: black;background-color: white;}#sk-container-id-7 pre{padding: 0;}#sk-container-id-7 div.sk-toggleable {background-color: white;}#sk-container-id-7 label.sk-toggleable__label {cursor: pointer;display: block;width: 100%;margin-bottom: 0;padding: 0.3em;box-sizing: border-box;text-align: center;}#sk-container-id-7 label.sk-toggleable__label-arrow:before {content: \"▸\";float: left;margin-right: 0.25em;color: #696969;}#sk-container-id-7 label.sk-toggleable__label-arrow:hover:before {color: black;}#sk-container-id-7 div.sk-estimator:hover label.sk-toggleable__label-arrow:before {color: black;}#sk-container-id-7 div.sk-toggleable__content {max-height: 0;max-width: 0;overflow: hidden;text-align: left;background-color: #f0f8ff;}#sk-container-id-7 div.sk-toggleable__content pre {margin: 0.2em;color: black;border-radius: 0.25em;background-color: #f0f8ff;}#sk-container-id-7 input.sk-toggleable__control:checked~div.sk-toggleable__content {max-height: 200px;max-width: 100%;overflow: auto;}#sk-container-id-7 input.sk-toggleable__control:checked~label.sk-toggleable__label-arrow:before {content: \"▾\";}#sk-container-id-7 div.sk-estimator input.sk-toggleable__control:checked~label.sk-toggleable__label {background-color: #d4ebff;}#sk-container-id-7 div.sk-label input.sk-toggleable__control:checked~label.sk-toggleable__label {background-color: #d4ebff;}#sk-container-id-7 input.sk-hidden--visually {border: 0;clip: rect(1px 1px 1px 1px);clip: rect(1px, 1px, 1px, 1px);height: 1px;margin: -1px;overflow: hidden;padding: 0;position: absolute;width: 1px;}#sk-container-id-7 div.sk-estimator {font-family: monospace;background-color: #f0f8ff;border: 1px dotted black;border-radius: 0.25em;box-sizing: border-box;margin-bottom: 0.5em;}#sk-container-id-7 div.sk-estimator:hover {background-color: #d4ebff;}#sk-container-id-7 div.sk-parallel-item::after {content: \"\";width: 100%;border-bottom: 1px solid gray;flex-grow: 1;}#sk-container-id-7 div.sk-label:hover label.sk-toggleable__label {background-color: #d4ebff;}#sk-container-id-7 div.sk-serial::before {content: \"\";position: absolute;border-left: 1px solid gray;box-sizing: border-box;top: 0;bottom: 0;left: 50%;z-index: 0;}#sk-container-id-7 div.sk-serial {display: flex;flex-direction: column;align-items: center;background-color: white;padding-right: 0.2em;padding-left: 0.2em;position: relative;}#sk-container-id-7 div.sk-item {position: relative;z-index: 1;}#sk-container-id-7 div.sk-parallel {display: flex;align-items: stretch;justify-content: center;background-color: white;position: relative;}#sk-container-id-7 div.sk-item::before, #sk-container-id-7 div.sk-parallel-item::before {content: \"\";position: absolute;border-left: 1px solid gray;box-sizing: border-box;top: 0;bottom: 0;left: 50%;z-index: -1;}#sk-container-id-7 div.sk-parallel-item {display: flex;flex-direction: column;z-index: 1;position: relative;background-color: white;}#sk-container-id-7 div.sk-parallel-item:first-child::after {align-self: flex-end;width: 50%;}#sk-container-id-7 div.sk-parallel-item:last-child::after {align-self: flex-start;width: 50%;}#sk-container-id-7 div.sk-parallel-item:only-child::after {width: 0;}#sk-container-id-7 div.sk-dashed-wrapped {border: 1px dashed gray;margin: 0 0.4em 0.5em 0.4em;box-sizing: border-box;padding-bottom: 0.4em;background-color: white;}#sk-container-id-7 div.sk-label label {font-family: monospace;font-weight: bold;display: inline-block;line-height: 1.2em;}#sk-container-id-7 div.sk-label-container {text-align: center;}#sk-container-id-7 div.sk-container {/* jupyter's `normalize.less` sets `[hidden] { display: none; }` but bootstrap.min.css set `[hidden] { display: none !important; }` so we also need the `!important` here to be able to override the default hidden behavior on the sphinx rendered scikit-learn.org. See: https://github.com/scikit-learn/scikit-learn/issues/21755 */display: inline-block !important;position: relative;}#sk-container-id-7 div.sk-text-repr-fallback {display: none;}</style><div id=\"sk-container-id-7\" class=\"sk-top-container\"><div class=\"sk-text-repr-fallback\"><pre>LogisticRegression(random_state=0)</pre><b>In a Jupyter environment, please rerun this cell to show the HTML representation or trust the notebook. <br />On GitHub, the HTML representation is unable to render, please try loading this page with nbviewer.org.</b></div><div class=\"sk-container\" hidden><div class=\"sk-item\"><div class=\"sk-estimator sk-toggleable\"><input class=\"sk-toggleable__control sk-hidden--visually\" id=\"sk-estimator-id-7\" type=\"checkbox\" checked><label for=\"sk-estimator-id-7\" class=\"sk-toggleable__label sk-toggleable__label-arrow\">LogisticRegression</label><div class=\"sk-toggleable__content\"><pre>LogisticRegression(random_state=0)</pre></div></div></div></div></div>"
            ]
          },
          "metadata": {},
          "execution_count": 80
        }
      ]
    },
    {
      "cell_type": "code",
      "source": [
        "# hacemos las predicciones en el conjunto de test.\n",
        "y_pred = log_reg.predict(X_test)\n",
        "y_pred"
      ],
      "metadata": {
        "colab": {
          "base_uri": "https://localhost:8080/"
        },
        "id": "EmI__4l1bg8r",
        "outputId": "4baef839-c368-46a6-c7e1-323951f90d58"
      },
      "execution_count": null,
      "outputs": [
        {
          "output_type": "execute_result",
          "data": {
            "text/plain": [
              "array([1, 0, 1, 1, 1, 0, 0, 1, 1, 0, 0, 1, 0, 1, 1, 0, 1, 1, 1, 0, 0, 0,\n",
              "       1, 0, 1, 1, 1, 0, 1, 0, 0, 0, 1, 0, 0, 1, 0, 0, 1, 1, 1, 0, 1, 1,\n",
              "       0, 1, 0, 0, 1, 0, 0, 1, 0, 1, 0, 1, 1, 1, 0, 1, 1, 0, 1, 1, 0, 1,\n",
              "       1, 1, 1, 1, 1, 1, 0, 0, 0, 1, 1, 1, 0, 1, 1, 1, 1, 0, 0, 0, 1, 0,\n",
              "       1, 1, 0, 1, 1, 0, 0, 1, 1, 1, 0, 1, 0, 0, 1, 0, 1, 1, 1, 1, 1, 1,\n",
              "       1, 0, 0, 0, 1, 1, 0, 0, 0, 0, 0, 1, 1, 1, 0, 1, 0, 0, 0, 1, 0, 1,\n",
              "       1, 1, 1, 1, 1, 1, 0, 0, 0, 1, 0, 1, 0, 1, 0, 0, 1, 0, 0, 0, 0, 0,\n",
              "       1, 0, 0, 1, 0, 1, 1, 0, 1, 0, 1, 1, 1, 1, 0, 0, 1, 0, 1, 1, 1, 0,\n",
              "       1, 1, 1, 0, 1, 0, 0, 0, 1, 0, 1, 0, 1, 1, 0, 0, 0, 1, 1, 0, 0, 1,\n",
              "       1, 0, 1, 1, 1, 0, 1, 1, 1, 1, 0, 0, 0, 1, 1, 1, 0, 0, 0, 1, 1, 1,\n",
              "       1, 1, 0, 0, 1, 1, 1, 0, 0, 1, 0, 0, 0, 1, 1, 0, 1, 1, 0, 0, 0, 1,\n",
              "       1, 1, 0, 0, 0, 1, 1, 0, 1, 0, 1, 0, 0, 0, 1, 1, 1, 1, 0, 0, 0, 1,\n",
              "       1, 1, 1, 1, 1, 0, 0, 1, 1, 1, 0, 1, 1, 1, 1, 0, 0, 1, 1, 0, 0, 0,\n",
              "       1, 1, 1, 1, 0, 0, 1, 0, 1, 1, 1, 0, 1, 0, 0, 0, 1, 0, 0, 1, 1, 0,\n",
              "       1, 0, 1, 0, 1, 0, 1, 1, 1, 1, 0, 1, 1, 0, 0, 0, 0, 0, 0, 1, 0, 0,\n",
              "       1, 0, 0, 0, 1, 0, 1, 0, 0, 0, 0, 1, 0, 1, 1, 0, 1, 0, 0, 0, 1, 0,\n",
              "       0, 1, 0, 1, 1, 1, 1, 0, 1, 1, 1, 0, 1, 1, 1, 1, 1, 0, 1, 0, 1, 0,\n",
              "       0, 0, 1, 1, 0, 1, 0, 1, 0, 0, 1, 1, 0, 0, 0, 1, 0, 1, 0, 1, 1, 0,\n",
              "       0, 0, 1, 0, 0, 0, 1, 0, 1, 1, 0, 1, 0, 1, 0, 0, 1, 1, 0, 1, 1, 1,\n",
              "       0, 0, 1, 0, 0, 0, 0, 1, 1, 1, 1, 0, 1, 0, 0, 0, 1, 0, 0, 1, 1, 1,\n",
              "       1, 1, 0, 0, 0, 1, 0, 1, 0, 1, 1, 0, 1, 1, 0, 1, 1, 0, 0, 1, 1, 0,\n",
              "       1, 1, 1, 0, 1, 0, 1, 1, 1, 0, 0, 1, 0, 1, 0, 0, 0, 1, 0, 1, 0, 0,\n",
              "       0, 1, 0, 0, 1, 0, 1, 1, 0, 1, 0, 1, 0, 1, 1, 1, 1, 1, 1, 1, 1, 1,\n",
              "       0, 0, 1, 0, 1, 0, 0, 0, 0, 1, 1, 0, 1, 0, 1, 0, 0, 0, 1, 0, 0, 1,\n",
              "       0, 1, 0, 0, 1, 0, 1, 0, 0, 0, 1, 1, 0, 0, 0, 0, 1, 1, 0, 1, 1, 1,\n",
              "       0, 1, 0, 1, 1, 0, 1, 0, 1, 1, 1, 1, 0, 1, 0, 1, 0, 0, 0, 0, 1, 0,\n",
              "       0, 0, 0, 1, 1, 0, 1, 0, 1, 0, 0, 0, 1, 0, 1, 0, 1, 1, 0, 0, 1, 1,\n",
              "       0, 0, 1, 0, 1, 1])"
            ]
          },
          "metadata": {},
          "execution_count": 81
        }
      ]
    },
    {
      "cell_type": "markdown",
      "source": [
        "PUNTO B"
      ],
      "metadata": {
        "id": "zSVJGuSpWuLI"
      }
    },
    {
      "cell_type": "code",
      "source": [
        "\n",
        "from sklearn.model_selection import GridSearchCV\n",
        "# calculamos la matriz de confusión\n",
        "cm = confusion_matrix(y_test, y_pred)\n",
        "p = sns.heatmap(pd.DataFrame(cm),                   # data.frame\n",
        "                annot=True,                         # colocar números de las cajitas\n",
        "                annot_kws = {'size':20},            # tamaño de la letra\n",
        "                cmap=\"YlOrBr\",                      # color de la letra\n",
        "                fmt='g')                            # para que salgan los número no : notación científica\n",
        "plt.title('Matriz de Confusión', y=1.1)\n",
        "plt.ylabel('Valores Reales')\n",
        "plt.xlabel('Predicciones')\n",
        "print(classification_report(y_test,y_pred))"
      ],
      "metadata": {
        "colab": {
          "base_uri": "https://localhost:8080/",
          "height": 665
        },
        "id": "iHmsl6B-bta6",
        "outputId": "6079ca71-5b58-478f-f862-386e8fc3cb9f"
      },
      "execution_count": null,
      "outputs": [
        {
          "output_type": "stream",
          "name": "stdout",
          "text": [
            "              precision    recall  f1-score   support\n",
            "\n",
            "           0       0.99      0.99      0.99       286\n",
            "           1       0.99      0.99      0.99       314\n",
            "\n",
            "    accuracy                           0.99       600\n",
            "   macro avg       0.99      0.99      0.99       600\n",
            "weighted avg       0.99      0.99      0.99       600\n",
            "\n"
          ]
        },
        {
          "output_type": "display_data",
          "data": {
            "text/plain": [
              "<Figure size 640x480 with 2 Axes>"
            ],
            "image/png": "[encoded data removed]"
          },
          "metadata": {}
        }
      ]
    },
    {
      "cell_type": "markdown",
      "source": [
        "# PUNTO C"
      ],
      "metadata": {
        "id": "HoJyT30PWwdz"
      }
    },
    {
      "cell_type": "code",
      "source": [
        "log_roc_auc = roc_auc_score(y_train, log_reg.predict(X_train))\n",
        "log_roc_auc"
      ],
      "metadata": {
        "colab": {
          "base_uri": "https://localhost:8080/"
        },
        "id": "YaQwhSEacbxw",
        "outputId": "88be058d-8df0-4c8f-9fb5-741d4ac55690"
      },
      "execution_count": null,
      "outputs": [
        {
          "output_type": "execute_result",
          "data": {
            "text/plain": [
              "0.9920968387354943"
            ]
          },
          "metadata": {},
          "execution_count": 83
        }
      ]
    },
    {
      "cell_type": "code",
      "source": [
        "# calculamos la tasa de falsos positivos y verdaderos positivos\n",
        "fpr, tpr, thresholds = roc_curve(y_train, log_reg.predict_proba(X_train)[:,1])\n",
        "# los coloco como un DataFrame\n",
        "df=pd.DataFrame(np.transpose(np.array([fpr, tpr,thresholds])), columns = [\"FPR\", \"TPR\", \"Umbrales\"])\n",
        "df.head(10)"
      ],
      "metadata": {
        "colab": {
          "base_uri": "https://localhost:8080/",
          "height": 363
        },
        "id": "nu2a4lshciUl",
        "outputId": "716c00ed-06b3-4d09-ba22-f93df9f88253"
      },
      "execution_count": null,
      "outputs": [
        {
          "output_type": "execute_result",
          "data": {
            "text/plain": [
              "        FPR       TPR  Umbrales\n",
              "0  0.000000  0.000000  2.000000\n",
              "1  0.000000  0.001458  1.000000\n",
              "2  0.000000  0.978134  0.561526\n",
              "3  0.001401  0.978134  0.559271\n",
              "4  0.001401  0.981050  0.550313\n",
              "5  0.002801  0.981050  0.529539\n",
              "6  0.002801  0.985423  0.521209\n",
              "7  0.004202  0.985423  0.519282\n",
              "8  0.004202  0.988338  0.510023\n",
              "9  0.005602  0.988338  0.508398"
            ],
            "text/html": [
              "\n",
              "  <div id=\"df-70c3533d-e59c-4263-8f91-1d79bbcee096\" class=\"colab-df-container\">\n",
              "    <div>\n",
              "<style scoped>\n",
              "    .dataframe tbody tr th:only-of-type {\n",
              "        vertical-align: middle;\n",
              "    }\n",
              "\n",
              "    .dataframe tbody tr th {\n",
              "        vertical-align: top;\n",
              "    }\n",
              "\n",
              "    .dataframe thead th {\n",
              "        text-align: right;\n",
              "    }\n",
              "</style>\n",
              "<table border=\"1\" class=\"dataframe\">\n",
              "  <thead>\n",
              "    <tr style=\"text-align: right;\">\n",
              "      <th></th>\n",
              "      <th>FPR</th>\n",
              "      <th>TPR</th>\n",
              "      <th>Umbrales</th>\n",
              "    </tr>\n",
              "  </thead>\n",
              "  <tbody>\n",
              "    <tr>\n",
              "      <th>0</th>\n",
              "      <td>0.000000</td>\n",
              "      <td>0.000000</td>\n",
              "      <td>2.000000</td>\n",
              "    </tr>\n",
              "    <tr>\n",
              "      <th>1</th>\n",
              "      <td>0.000000</td>\n",
              "      <td>0.001458</td>\n",
              "      <td>1.000000</td>\n",
              "    </tr>\n",
              "    <tr>\n",
              "      <th>2</th>\n",
              "      <td>0.000000</td>\n",
              "      <td>0.978134</td>\n",
              "      <td>0.561526</td>\n",
              "    </tr>\n",
              "    <tr>\n",
              "      <th>3</th>\n",
              "      <td>0.001401</td>\n",
              "      <td>0.978134</td>\n",
              "      <td>0.559271</td>\n",
              "    </tr>\n",
              "    <tr>\n",
              "      <th>4</th>\n",
              "      <td>0.001401</td>\n",
              "      <td>0.981050</td>\n",
              "      <td>0.550313</td>\n",
              "    </tr>\n",
              "    <tr>\n",
              "      <th>5</th>\n",
              "      <td>0.002801</td>\n",
              "      <td>0.981050</td>\n",
              "      <td>0.529539</td>\n",
              "    </tr>\n",
              "    <tr>\n",
              "      <th>6</th>\n",
              "      <td>0.002801</td>\n",
              "      <td>0.985423</td>\n",
              "      <td>0.521209</td>\n",
              "    </tr>\n",
              "    <tr>\n",
              "      <th>7</th>\n",
              "      <td>0.004202</td>\n",
              "      <td>0.985423</td>\n",
              "      <td>0.519282</td>\n",
              "    </tr>\n",
              "    <tr>\n",
              "      <th>8</th>\n",
              "      <td>0.004202</td>\n",
              "      <td>0.988338</td>\n",
              "      <td>0.510023</td>\n",
              "    </tr>\n",
              "    <tr>\n",
              "      <th>9</th>\n",
              "      <td>0.005602</td>\n",
              "      <td>0.988338</td>\n",
              "      <td>0.508398</td>\n",
              "    </tr>\n",
              "  </tbody>\n",
              "</table>\n",
              "</div>\n",
              "    <div class=\"colab-df-buttons\">\n",
              "\n",
              "  <div class=\"colab-df-container\">\n",
              "    <button class=\"colab-df-convert\" onclick=\"convertToInteractive('df-70c3533d-e59c-4263-8f91-1d79bbcee096')\"\n",
              "            title=\"Convert this dataframe to an interactive table.\"\n",
              "            style=\"display:none;\">\n",
              "\n",
              "  <svg xmlns=\"http://www.w3.org/2000/svg\" height=\"24px\" viewBox=\"0 -960 960 960\">\n",
              "    <path d=\"M120-120v-720h720v720H120Zm60-500h600v-160H180v160Zm220 220h160v-160H400v160Zm0 220h160v-160H400v160ZM180-400h160v-160H180v160Zm440 0h160v-160H620v160ZM180-180h160v-160H180v160Zm440 0h160v-160H620v160Z\"/>\n",
              "  </svg>\n",
              "    </button>\n",
              "\n",
              "  <style>\n",
              "    .colab-df-container {\n",
              "      display:flex;\n",
              "      gap: 12px;\n",
              "    }\n",
              "\n",
              "    .colab-df-convert {\n",
              "      background-color: #E8F0FE;\n",
              "      border: none;\n",
              "      border-radius: 50%;\n",
              "      cursor: pointer;\n",
              "      display: none;\n",
              "      fill: #1967D2;\n",
              "      height: 32px;\n",
              "      padding: 0 0 0 0;\n",
              "      width: 32px;\n",
              "    }\n",
              "\n",
              "    .colab-df-convert:hover {\n",
              "      background-color: #E2EBFA;\n",
              "      box-shadow: 0px 1px 2px rgba(60, 64, 67, 0.3), 0px 1px 3px 1px rgba(60, 64, 67, 0.15);\n",
              "      fill: #174EA6;\n",
              "    }\n",
              "\n",
              "    .colab-df-buttons div {\n",
              "      margin-bottom: 4px;\n",
              "    }\n",
              "\n",
              "    [theme=dark] .colab-df-convert {\n",
              "      background-color: #3B4455;\n",
              "      fill: #D2E3FC;\n",
              "    }\n",
              "\n",
              "    [theme=dark] .colab-df-convert:hover {\n",
              "      background-color: #434B5C;\n",
              "      box-shadow: 0px 1px 3px 1px rgba(0, 0, 0, 0.15);\n",
              "      filter: drop-shadow(0px 1px 2px rgba(0, 0, 0, 0.3));\n",
              "      fill: #FFFFFF;\n",
              "    }\n",
              "  </style>\n",
              "\n",
              "    <script>\n",
              "      const buttonEl =\n",
              "        document.querySelector('#df-70c3533d-e59c-4263-8f91-1d79bbcee096 button.colab-df-convert');\n",
              "      buttonEl.style.display =\n",
              "        google.colab.kernel.accessAllowed ? 'block' : 'none';\n",
              "\n",
              "      async function convertToInteractive(key) {\n",
              "        const element = document.querySelector('#df-70c3533d-e59c-4263-8f91-1d79bbcee096');\n",
              "        const dataTable =\n",
              "          await google.colab.kernel.invokeFunction('convertToInteractive',\n",
              "                                                    [key], {});\n",
              "        if (!dataTable) return;\n",
              "\n",
              "        const docLinkHtml = 'Like what you see? Visit the ' +\n",
              "          '<a target=\"_blank\" href=https://colab.research.google.com/notebooks/data_table.ipynb>data table notebook</a>'\n",
              "          + ' to learn more about interactive tables.';\n",
              "        element.innerHTML = '';\n",
              "        dataTable['output_type'] = 'display_data';\n",
              "        await google.colab.output.renderOutput(dataTable, element);\n",
              "        const docLink = document.createElement('div');\n",
              "        docLink.innerHTML = docLinkHtml;\n",
              "        element.appendChild(docLink);\n",
              "      }\n",
              "    </script>\n",
              "  </div>\n",
              "\n",
              "\n",
              "<div id=\"df-f3a39563-017e-4c11-b53c-d7e785275670\">\n",
              "  <button class=\"colab-df-quickchart\" onclick=\"quickchart('df-f3a39563-017e-4c11-b53c-d7e785275670')\"\n",
              "            title=\"Suggest charts\"\n",
              "            style=\"display:none;\">\n",
              "\n",
              "<svg xmlns=\"http://www.w3.org/2000/svg\" height=\"24px\"viewBox=\"0 0 24 24\"\n",
              "     width=\"24px\">\n",
              "    <g>\n",
              "        <path d=\"M19 3H5c-1.1 0-2 .9-2 2v14c0 1.1.9 2 2 2h14c1.1 0 2-.9 2-2V5c0-1.1-.9-2-2-2zM9 17H7v-7h2v7zm4 0h-2V7h2v10zm4 0h-2v-4h2v4z\"/>\n",
              "    </g>\n",
              "</svg>\n",
              "  </button>\n",
              "\n",
              "<style>\n",
              "  .colab-df-quickchart {\n",
              "      --bg-color: #E8F0FE;\n",
              "      --fill-color: #1967D2;\n",
              "      --hover-bg-color: #E2EBFA;\n",
              "      --hover-fill-color: #174EA6;\n",
              "      --disabled-fill-color: #AAA;\n",
              "      --disabled-bg-color: #DDD;\n",
              "  }\n",
              "\n",
              "  [theme=dark] .colab-df-quickchart {\n",
              "      --bg-color: #3B4455;\n",
              "      --fill-color: #D2E3FC;\n",
              "      --hover-bg-color: #434B5C;\n",
              "      --hover-fill-color: #FFFFFF;\n",
              "      --disabled-bg-color: #3B4455;\n",
              "      --disabled-fill-color: #666;\n",
              "  }\n",
              "\n",
              "  .colab-df-quickchart {\n",
              "    background-color: var(--bg-color);\n",
              "    border: none;\n",
              "    border-radius: 50%;\n",
              "    cursor: pointer;\n",
              "    display: none;\n",
              "    fill: var(--fill-color);\n",
              "    height: 32px;\n",
              "    padding: 0;\n",
              "    width: 32px;\n",
              "  }\n",
              "\n",
              "  .colab-df-quickchart:hover {\n",
              "    background-color: var(--hover-bg-color);\n",
              "    box-shadow: 0 1px 2px rgba(60, 64, 67, 0.3), 0 1px 3px 1px rgba(60, 64, 67, 0.15);\n",
              "    fill: var(--button-hover-fill-color);\n",
              "  }\n",
              "\n",
              "  .colab-df-quickchart-complete:disabled,\n",
              "  .colab-df-quickchart-complete:disabled:hover {\n",
              "    background-color: var(--disabled-bg-color);\n",
              "    fill: var(--disabled-fill-color);\n",
              "    box-shadow: none;\n",
              "  }\n",
              "\n",
              "  .colab-df-spinner {\n",
              "    border: 2px solid var(--fill-color);\n",
              "    border-color: transparent;\n",
              "    border-bottom-color: var(--fill-color);\n",
              "    animation:\n",
              "      spin 1s steps(1) infinite;\n",
              "  }\n",
              "\n",
              "  @keyframes spin {\n",
              "    0% {\n",
              "      border-color: transparent;\n",
              "      border-bottom-color: var(--fill-color);\n",
              "      border-left-color: var(--fill-color);\n",
              "    }\n",
              "    20% {\n",
              "      border-color: transparent;\n",
              "      border-left-color: var(--fill-color);\n",
              "      border-top-color: var(--fill-color);\n",
              "    }\n",
              "    30% {\n",
              "      border-color: transparent;\n",
              "      border-left-color: var(--fill-color);\n",
              "      border-top-color: var(--fill-color);\n",
              "      border-right-color: var(--fill-color);\n",
              "    }\n",
              "    40% {\n",
              "      border-color: transparent;\n",
              "      border-right-color: var(--fill-color);\n",
              "      border-top-color: var(--fill-color);\n",
              "    }\n",
              "    60% {\n",
              "      border-color: transparent;\n",
              "      border-right-color: var(--fill-color);\n",
              "    }\n",
              "    80% {\n",
              "      border-color: transparent;\n",
              "      border-right-color: var(--fill-color);\n",
              "      border-bottom-color: var(--fill-color);\n",
              "    }\n",
              "    90% {\n",
              "      border-color: transparent;\n",
              "      border-bottom-color: var(--fill-color);\n",
              "    }\n",
              "  }\n",
              "</style>\n",
              "\n",
              "  <script>\n",
              "    async function quickchart(key) {\n",
              "      const quickchartButtonEl =\n",
              "        document.querySelector('#' + key + ' button');\n",
              "      quickchartButtonEl.disabled = true;  // To prevent multiple clicks.\n",
              "      quickchartButtonEl.classList.add('colab-df-spinner');\n",
              "      try {\n",
              "        const charts = await google.colab.kernel.invokeFunction(\n",
              "            'suggestCharts', [key], {});\n",
              "      } catch (error) {\n",
              "        console.error('Error during call to suggestCharts:', error);\n",
              "      }\n",
              "      quickchartButtonEl.classList.remove('colab-df-spinner');\n",
              "      quickchartButtonEl.classList.add('colab-df-quickchart-complete');\n",
              "    }\n",
              "    (() => {\n",
              "      let quickchartButtonEl =\n",
              "        document.querySelector('#df-f3a39563-017e-4c11-b53c-d7e785275670 button');\n",
              "      quickchartButtonEl.style.display =\n",
              "        google.colab.kernel.accessAllowed ? 'block' : 'none';\n",
              "    })();\n",
              "  </script>\n",
              "</div>\n",
              "\n",
              "    </div>\n",
              "  </div>\n"
            ],
            "application/vnd.google.colaboratory.intrinsic+json": {
              "type": "dataframe",
              "variable_name": "df",
              "summary": "{\n  \"name\": \"df\",\n  \"rows\": 16,\n  \"fields\": [\n    {\n      \"column\": \"FPR\",\n      \"properties\": {\n        \"dtype\": \"number\",\n        \"std\": 0.24851578661191906,\n        \"min\": 0.0,\n        \"max\": 1.0,\n        \"num_unique_values\": 8,\n        \"samples\": [\n          0.0014005602240896359,\n          0.011204481792717087,\n          0.0\n        ],\n        \"semantic_type\": \"\",\n        \"description\": \"\"\n      }\n    },\n    {\n      \"column\": \"TPR\",\n      \"properties\": {\n        \"dtype\": \"number\",\n        \"std\": 0.33792305999727873,\n        \"min\": 0.0,\n        \"max\": 1.0,\n        \"num_unique_values\": 9,\n        \"samples\": [\n          0.9985422740524781,\n          0.0014577259475218659,\n          0.9883381924198251\n        ],\n        \"semantic_type\": \"\",\n        \"description\": \"\"\n      }\n    },\n    {\n      \"column\": \"Umbrales\",\n      \"properties\": {\n        \"dtype\": \"number\",\n        \"std\": 0.421942941777483,\n        \"min\": 1.013905763084198e-09,\n        \"max\": 1.999999999927351,\n        \"num_unique_values\": 16,\n        \"samples\": [\n          1.999999999927351,\n          0.999999999927351,\n          0.5295387040572193\n        ],\n        \"semantic_type\": \"\",\n        \"description\": \"\"\n      }\n    }\n  ]\n}"
            }
          },
          "metadata": {},
          "execution_count": 84
        }
      ]
    },
    {
      "cell_type": "code",
      "source": [
        "fpr, tpr, thresholds = roc_curve(y_train, log_reg.predict_proba(X_train)[:,1])\n",
        "\n",
        "# detalles de la gráfica\n",
        "plt.figure()\n",
        "plt.plot(fpr, tpr, label='Regresión Logística (area = %0.2f)' % log_roc_auc)\n",
        "plt.plot([0, 1], [0, 1],'r--')\n",
        "plt.xlim([0.0, 1.0])\n",
        "plt.ylim([0.0, 1.05])\n",
        "plt.xlabel('False Positive Rate (fpr)')\n",
        "plt.ylabel('True Positive Rate (tpr)')\n",
        "plt.title(\"Curva ROC\")\n",
        "plt.legend(loc=\"lower right\")\n",
        "plt.savefig('Log_ROC')\n",
        "plt.show()"
      ],
      "metadata": {
        "colab": {
          "base_uri": "https://localhost:8080/",
          "height": 472
        },
        "id": "GSdCXV8RcmNr",
        "outputId": "09fe9181-edd8-4312-f45e-9cd9deb45160"
      },
      "execution_count": null,
      "outputs": [
        {
          "output_type": "display_data",
          "data": {
            "text/plain": [
              "<Figure size 640x480 with 1 Axes>"
            ],
            "image/png": "[encoded data removed]"
          },
          "metadata": {}
        }
      ]
    },
    {
      "cell_type": "markdown",
      "source": [
        "# PUNTO D"
      ],
      "metadata": {
        "id": "ipUZ0t9qW191"
      }
    },
    {
      "cell_type": "code",
      "source": [
        "umbral=pd.DataFrame(np.transpose(np.round(roc_curve(y_train, log_reg.predict_proba(X_train)[:,1]),3)),\n",
        "                        columns=[\"FPR\", \"TPR\", \"Umbral\"])\n",
        "## Distancia euclidiana al punto ideal\n",
        "umbral[\"Distancia\"]=np.sqrt(umbral[\"FPR\"]**2 +(1-umbral[\"TPR\"])**2)\n",
        "umbral.sort_values(\"Distancia\").head(4)"
      ],
      "metadata": {
        "colab": {
          "base_uri": "https://localhost:8080/",
          "height": 175
        },
        "id": "DqmVLl8MDmQX",
        "outputId": "c5cb752d-871d-439d-83e1-95202b10cd4f"
      },
      "execution_count": null,
      "outputs": [
        {
          "output_type": "execute_result",
          "data": {
            "text/plain": [
              "      FPR    TPR  Umbral  Distancia\n",
              "10  0.006  0.997   0.484   0.006708\n",
              "12  0.011  0.999   0.438   0.011045\n",
              "11  0.011  0.997   0.449   0.011402\n",
              "8   0.004  0.988   0.510   0.012649"
            ],
            "text/html": [
              "\n",
              "  <div id=\"df-ee7342ea-99fa-41ea-8ecc-c73d90ca145c\" class=\"colab-df-container\">\n",
              "    <div>\n",
              "<style scoped>\n",
              "    .dataframe tbody tr th:only-of-type {\n",
              "        vertical-align: middle;\n",
              "    }\n",
              "\n",
              "    .dataframe tbody tr th {\n",
              "        vertical-align: top;\n",
              "    }\n",
              "\n",
              "    .dataframe thead th {\n",
              "        text-align: right;\n",
              "    }\n",
              "</style>\n",
              "<table border=\"1\" class=\"dataframe\">\n",
              "  <thead>\n",
              "    <tr style=\"text-align: right;\">\n",
              "      <th></th>\n",
              "      <th>FPR</th>\n",
              "      <th>TPR</th>\n",
              "      <th>Umbral</th>\n",
              "      <th>Distancia</th>\n",
              "    </tr>\n",
              "  </thead>\n",
              "  <tbody>\n",
              "    <tr>\n",
              "      <th>10</th>\n",
              "      <td>0.006</td>\n",
              "      <td>0.997</td>\n",
              "      <td>0.484</td>\n",
              "      <td>0.006708</td>\n",
              "    </tr>\n",
              "    <tr>\n",
              "      <th>12</th>\n",
              "      <td>0.011</td>\n",
              "      <td>0.999</td>\n",
              "      <td>0.438</td>\n",
              "      <td>0.011045</td>\n",
              "    </tr>\n",
              "    <tr>\n",
              "      <th>11</th>\n",
              "      <td>0.011</td>\n",
              "      <td>0.997</td>\n",
              "      <td>0.449</td>\n",
              "      <td>0.011402</td>\n",
              "    </tr>\n",
              "    <tr>\n",
              "      <th>8</th>\n",
              "      <td>0.004</td>\n",
              "      <td>0.988</td>\n",
              "      <td>0.510</td>\n",
              "      <td>0.012649</td>\n",
              "    </tr>\n",
              "  </tbody>\n",
              "</table>\n",
              "</div>\n",
              "    <div class=\"colab-df-buttons\">\n",
              "\n",
              "  <div class=\"colab-df-container\">\n",
              "    <button class=\"colab-df-convert\" onclick=\"convertToInteractive('df-ee7342ea-99fa-41ea-8ecc-c73d90ca145c')\"\n",
              "            title=\"Convert this dataframe to an interactive table.\"\n",
              "            style=\"display:none;\">\n",
              "\n",
              "  <svg xmlns=\"http://www.w3.org/2000/svg\" height=\"24px\" viewBox=\"0 -960 960 960\">\n",
              "    <path d=\"M120-120v-720h720v720H120Zm60-500h600v-160H180v160Zm220 220h160v-160H400v160Zm0 220h160v-160H400v160ZM180-400h160v-160H180v160Zm440 0h160v-160H620v160ZM180-180h160v-160H180v160Zm440 0h160v-160H620v160Z\"/>\n",
              "  </svg>\n",
              "    </button>\n",
              "\n",
              "  <style>\n",
              "    .colab-df-container {\n",
              "      display:flex;\n",
              "      gap: 12px;\n",
              "    }\n",
              "\n",
              "    .colab-df-convert {\n",
              "      background-color: #E8F0FE;\n",
              "      border: none;\n",
              "      border-radius: 50%;\n",
              "      cursor: pointer;\n",
              "      display: none;\n",
              "      fill: #1967D2;\n",
              "      height: 32px;\n",
              "      padding: 0 0 0 0;\n",
              "      width: 32px;\n",
              "    }\n",
              "\n",
              "    .colab-df-convert:hover {\n",
              "      background-color: #E2EBFA;\n",
              "      box-shadow: 0px 1px 2px rgba(60, 64, 67, 0.3), 0px 1px 3px 1px rgba(60, 64, 67, 0.15);\n",
              "      fill: #174EA6;\n",
              "    }\n",
              "\n",
              "    .colab-df-buttons div {\n",
              "      margin-bottom: 4px;\n",
              "    }\n",
              "\n",
              "    [theme=dark] .colab-df-convert {\n",
              "      background-color: #3B4455;\n",
              "      fill: #D2E3FC;\n",
              "    }\n",
              "\n",
              "    [theme=dark] .colab-df-convert:hover {\n",
              "      background-color: #434B5C;\n",
              "      box-shadow: 0px 1px 3px 1px rgba(0, 0, 0, 0.15);\n",
              "      filter: drop-shadow(0px 1px 2px rgba(0, 0, 0, 0.3));\n",
              "      fill: #FFFFFF;\n",
              "    }\n",
              "  </style>\n",
              "\n",
              "    <script>\n",
              "      const buttonEl =\n",
              "        document.querySelector('#df-ee7342ea-99fa-41ea-8ecc-c73d90ca145c button.colab-df-convert');\n",
              "      buttonEl.style.display =\n",
              "        google.colab.kernel.accessAllowed ? 'block' : 'none';\n",
              "\n",
              "      async function convertToInteractive(key) {\n",
              "        const element = document.querySelector('#df-ee7342ea-99fa-41ea-8ecc-c73d90ca145c');\n",
              "        const dataTable =\n",
              "          await google.colab.kernel.invokeFunction('convertToInteractive',\n",
              "                                                    [key], {});\n",
              "        if (!dataTable) return;\n",
              "\n",
              "        const docLinkHtml = 'Like what you see? Visit the ' +\n",
              "          '<a target=\"_blank\" href=https://colab.research.google.com/notebooks/data_table.ipynb>data table notebook</a>'\n",
              "          + ' to learn more about interactive tables.';\n",
              "        element.innerHTML = '';\n",
              "        dataTable['output_type'] = 'display_data';\n",
              "        await google.colab.output.renderOutput(dataTable, element);\n",
              "        const docLink = document.createElement('div');\n",
              "        docLink.innerHTML = docLinkHtml;\n",
              "        element.appendChild(docLink);\n",
              "      }\n",
              "    </script>\n",
              "  </div>\n",
              "\n",
              "\n",
              "<div id=\"df-b06b6791-ac3d-4d6e-8ff9-58afbb83fb2e\">\n",
              "  <button class=\"colab-df-quickchart\" onclick=\"quickchart('df-b06b6791-ac3d-4d6e-8ff9-58afbb83fb2e')\"\n",
              "            title=\"Suggest charts\"\n",
              "            style=\"display:none;\">\n",
              "\n",
              "<svg xmlns=\"http://www.w3.org/2000/svg\" height=\"24px\"viewBox=\"0 0 24 24\"\n",
              "     width=\"24px\">\n",
              "    <g>\n",
              "        <path d=\"M19 3H5c-1.1 0-2 .9-2 2v14c0 1.1.9 2 2 2h14c1.1 0 2-.9 2-2V5c0-1.1-.9-2-2-2zM9 17H7v-7h2v7zm4 0h-2V7h2v10zm4 0h-2v-4h2v4z\"/>\n",
              "    </g>\n",
              "</svg>\n",
              "  </button>\n",
              "\n",
              "<style>\n",
              "  .colab-df-quickchart {\n",
              "      --bg-color: #E8F0FE;\n",
              "      --fill-color: #1967D2;\n",
              "      --hover-bg-color: #E2EBFA;\n",
              "      --hover-fill-color: #174EA6;\n",
              "      --disabled-fill-color: #AAA;\n",
              "      --disabled-bg-color: #DDD;\n",
              "  }\n",
              "\n",
              "  [theme=dark] .colab-df-quickchart {\n",
              "      --bg-color: #3B4455;\n",
              "      --fill-color: #D2E3FC;\n",
              "      --hover-bg-color: #434B5C;\n",
              "      --hover-fill-color: #FFFFFF;\n",
              "      --disabled-bg-color: #3B4455;\n",
              "      --disabled-fill-color: #666;\n",
              "  }\n",
              "\n",
              "  .colab-df-quickchart {\n",
              "    background-color: var(--bg-color);\n",
              "    border: none;\n",
              "    border-radius: 50%;\n",
              "    cursor: pointer;\n",
              "    display: none;\n",
              "    fill: var(--fill-color);\n",
              "    height: 32px;\n",
              "    padding: 0;\n",
              "    width: 32px;\n",
              "  }\n",
              "\n",
              "  .colab-df-quickchart:hover {\n",
              "    background-color: var(--hover-bg-color);\n",
              "    box-shadow: 0 1px 2px rgba(60, 64, 67, 0.3), 0 1px 3px 1px rgba(60, 64, 67, 0.15);\n",
              "    fill: var(--button-hover-fill-color);\n",
              "  }\n",
              "\n",
              "  .colab-df-quickchart-complete:disabled,\n",
              "  .colab-df-quickchart-complete:disabled:hover {\n",
              "    background-color: var(--disabled-bg-color);\n",
              "    fill: var(--disabled-fill-color);\n",
              "    box-shadow: none;\n",
              "  }\n",
              "\n",
              "  .colab-df-spinner {\n",
              "    border: 2px solid var(--fill-color);\n",
              "    border-color: transparent;\n",
              "    border-bottom-color: var(--fill-color);\n",
              "    animation:\n",
              "      spin 1s steps(1) infinite;\n",
              "  }\n",
              "\n",
              "  @keyframes spin {\n",
              "    0% {\n",
              "      border-color: transparent;\n",
              "      border-bottom-color: var(--fill-color);\n",
              "      border-left-color: var(--fill-color);\n",
              "    }\n",
              "    20% {\n",
              "      border-color: transparent;\n",
              "      border-left-color: var(--fill-color);\n",
              "      border-top-color: var(--fill-color);\n",
              "    }\n",
              "    30% {\n",
              "      border-color: transparent;\n",
              "      border-left-color: var(--fill-color);\n",
              "      border-top-color: var(--fill-color);\n",
              "      border-right-color: var(--fill-color);\n",
              "    }\n",
              "    40% {\n",
              "      border-color: transparent;\n",
              "      border-right-color: var(--fill-color);\n",
              "      border-top-color: var(--fill-color);\n",
              "    }\n",
              "    60% {\n",
              "      border-color: transparent;\n",
              "      border-right-color: var(--fill-color);\n",
              "    }\n",
              "    80% {\n",
              "      border-color: transparent;\n",
              "      border-right-color: var(--fill-color);\n",
              "      border-bottom-color: var(--fill-color);\n",
              "    }\n",
              "    90% {\n",
              "      border-color: transparent;\n",
              "      border-bottom-color: var(--fill-color);\n",
              "    }\n",
              "  }\n",
              "</style>\n",
              "\n",
              "  <script>\n",
              "    async function quickchart(key) {\n",
              "      const quickchartButtonEl =\n",
              "        document.querySelector('#' + key + ' button');\n",
              "      quickchartButtonEl.disabled = true;  // To prevent multiple clicks.\n",
              "      quickchartButtonEl.classList.add('colab-df-spinner');\n",
              "      try {\n",
              "        const charts = await google.colab.kernel.invokeFunction(\n",
              "            'suggestCharts', [key], {});\n",
              "      } catch (error) {\n",
              "        console.error('Error during call to suggestCharts:', error);\n",
              "      }\n",
              "      quickchartButtonEl.classList.remove('colab-df-spinner');\n",
              "      quickchartButtonEl.classList.add('colab-df-quickchart-complete');\n",
              "    }\n",
              "    (() => {\n",
              "      let quickchartButtonEl =\n",
              "        document.querySelector('#df-b06b6791-ac3d-4d6e-8ff9-58afbb83fb2e button');\n",
              "      quickchartButtonEl.style.display =\n",
              "        google.colab.kernel.accessAllowed ? 'block' : 'none';\n",
              "    })();\n",
              "  </script>\n",
              "</div>\n",
              "\n",
              "    </div>\n",
              "  </div>\n"
            ],
            "application/vnd.google.colaboratory.intrinsic+json": {
              "type": "dataframe",
              "summary": "{\n  \"name\": \"umbral\",\n  \"rows\": 4,\n  \"fields\": [\n    {\n      \"column\": \"FPR\",\n      \"properties\": {\n        \"dtype\": \"number\",\n        \"std\": 0.0035590260840104365,\n        \"min\": 0.004,\n        \"max\": 0.011,\n        \"num_unique_values\": 3,\n        \"samples\": [\n          0.006,\n          0.011,\n          0.004\n        ],\n        \"semantic_type\": \"\",\n        \"description\": \"\"\n      }\n    },\n    {\n      \"column\": \"TPR\",\n      \"properties\": {\n        \"dtype\": \"number\",\n        \"std\": 0.0049244289008980565,\n        \"min\": 0.988,\n        \"max\": 0.999,\n        \"num_unique_values\": 3,\n        \"samples\": [\n          0.997,\n          0.999,\n          0.988\n        ],\n        \"semantic_type\": \"\",\n        \"description\": \"\"\n      }\n    },\n    {\n      \"column\": \"Umbral\",\n      \"properties\": {\n        \"dtype\": \"number\",\n        \"std\": 0.03296841923214801,\n        \"min\": 0.438,\n        \"max\": 0.51,\n        \"num_unique_values\": 4,\n        \"samples\": [\n          0.438,\n          0.51,\n          0.484\n        ],\n        \"semantic_type\": \"\",\n        \"description\": \"\"\n      }\n    },\n    {\n      \"column\": \"Distancia\",\n      \"properties\": {\n        \"dtype\": \"number\",\n        \"std\": 0.002588269139140385,\n        \"min\": 0.0067082039324993705,\n        \"max\": 0.012649110640673528,\n        \"num_unique_values\": 4,\n        \"samples\": [\n          0.01104536101718726,\n          0.012649110640673528,\n          0.0067082039324993705\n        ],\n        \"semantic_type\": \"\",\n        \"description\": \"\"\n      }\n    }\n  ]\n}"
            }
          },
          "metadata": {},
          "execution_count": 86
        }
      ]
    },
    {
      "cell_type": "code",
      "source": [
        "umbral2=0.484\n",
        "# en los datos de entrenamiento\n",
        "y_pred_train2= np.where(log_reg.predict_proba(X_train)[:,1] > umbral2, 1, 0)\n",
        "print(\"En los datos de entrenamiento\\n\",classification_report(y_train, y_pred_train2))\n",
        "\n",
        "# en los datos de prueba\n",
        "y_pred_test2= np.where(log_reg.predict_proba(X_test)[:,1] > umbral2, 1, 0)\n",
        "print(\"En los datos de prueba \\n\",classification_report(y_test, y_pred_test2))\n"
      ],
      "metadata": {
        "id": "BxbY4sc8emKk",
        "colab": {
          "base_uri": "https://localhost:8080/"
        },
        "outputId": "1cb9adf1-e8c9-458d-c896-741707fcf7ce"
      },
      "execution_count": null,
      "outputs": [
        {
          "output_type": "stream",
          "name": "stdout",
          "text": [
            "En los datos de entrenamiento\n",
            "               precision    recall  f1-score   support\n",
            "\n",
            "           0       1.00      0.99      1.00       714\n",
            "           1       0.99      1.00      0.99       686\n",
            "\n",
            "    accuracy                           0.99      1400\n",
            "   macro avg       0.99      1.00      0.99      1400\n",
            "weighted avg       1.00      0.99      1.00      1400\n",
            "\n",
            "En los datos de prueba \n",
            "               precision    recall  f1-score   support\n",
            "\n",
            "           0       0.99      0.98      0.99       286\n",
            "           1       0.98      0.99      0.99       314\n",
            "\n",
            "    accuracy                           0.99       600\n",
            "   macro avg       0.99      0.99      0.99       600\n",
            "weighted avg       0.99      0.99      0.99       600\n",
            "\n"
          ]
        }
      ]
    },
    {
      "cell_type": "markdown",
      "source": [
        "Logramos obtener una mejora menor al 1% por lo cual no cambia de manera significativa el desempeño de nuestro modelo."
      ],
      "metadata": {
        "id": "s65R2fvJD9GR"
      }
    },
    {
      "cell_type": "markdown",
      "source": [
        "# Punto 2.3 Solución\n",
        "\n"
      ],
      "metadata": {
        "id": "fpQzMF3depC-"
      }
    },
    {
      "cell_type": "markdown",
      "source": [
        "PUNTO A"
      ],
      "metadata": {
        "id": "n9szMpv2W9Oq"
      }
    },
    {
      "cell_type": "code",
      "source": [
        "model1_Tree = DecisionTreeClassifier(max_depth = 6,           # Profundidad del árbol\n",
        "                                     criterion = \"gini\",      # Función de costo.\n",
        "                                     random_state = 123       # Semilla\n",
        "                                     )\n",
        "\n",
        "model1_Tree.fit(X_train, y_train)"
      ],
      "metadata": {
        "colab": {
          "base_uri": "https://localhost:8080/",
          "height": 74
        },
        "id": "7coTBrHXe0Jp",
        "outputId": "52e141d2-de79-4a7f-85ff-3b237929df87"
      },
      "execution_count": null,
      "outputs": [
        {
          "output_type": "execute_result",
          "data": {
            "text/plain": [
              "DecisionTreeClassifier(max_depth=6, random_state=123)"
            ],
            "text/html": [
              "<style>#sk-container-id-8 {color: black;background-color: white;}#sk-container-id-8 pre{padding: 0;}#sk-container-id-8 div.sk-toggleable {background-color: white;}#sk-container-id-8 label.sk-toggleable__label {cursor: pointer;display: block;width: 100%;margin-bottom: 0;padding: 0.3em;box-sizing: border-box;text-align: center;}#sk-container-id-8 label.sk-toggleable__label-arrow:before {content: \"▸\";float: left;margin-right: 0.25em;color: #696969;}#sk-container-id-8 label.sk-toggleable__label-arrow:hover:before {color: black;}#sk-container-id-8 div.sk-estimator:hover label.sk-toggleable__label-arrow:before {color: black;}#sk-container-id-8 div.sk-toggleable__content {max-height: 0;max-width: 0;overflow: hidden;text-align: left;background-color: #f0f8ff;}#sk-container-id-8 div.sk-toggleable__content pre {margin: 0.2em;color: black;border-radius: 0.25em;background-color: #f0f8ff;}#sk-container-id-8 input.sk-toggleable__control:checked~div.sk-toggleable__content {max-height: 200px;max-width: 100%;overflow: auto;}#sk-container-id-8 input.sk-toggleable__control:checked~label.sk-toggleable__label-arrow:before {content: \"▾\";}#sk-container-id-8 div.sk-estimator input.sk-toggleable__control:checked~label.sk-toggleable__label {background-color: #d4ebff;}#sk-container-id-8 div.sk-label input.sk-toggleable__control:checked~label.sk-toggleable__label {background-color: #d4ebff;}#sk-container-id-8 input.sk-hidden--visually {border: 0;clip: rect(1px 1px 1px 1px);clip: rect(1px, 1px, 1px, 1px);height: 1px;margin: -1px;overflow: hidden;padding: 0;position: absolute;width: 1px;}#sk-container-id-8 div.sk-estimator {font-family: monospace;background-color: #f0f8ff;border: 1px dotted black;border-radius: 0.25em;box-sizing: border-box;margin-bottom: 0.5em;}#sk-container-id-8 div.sk-estimator:hover {background-color: #d4ebff;}#sk-container-id-8 div.sk-parallel-item::after {content: \"\";width: 100%;border-bottom: 1px solid gray;flex-grow: 1;}#sk-container-id-8 div.sk-label:hover label.sk-toggleable__label {background-color: #d4ebff;}#sk-container-id-8 div.sk-serial::before {content: \"\";position: absolute;border-left: 1px solid gray;box-sizing: border-box;top: 0;bottom: 0;left: 50%;z-index: 0;}#sk-container-id-8 div.sk-serial {display: flex;flex-direction: column;align-items: center;background-color: white;padding-right: 0.2em;padding-left: 0.2em;position: relative;}#sk-container-id-8 div.sk-item {position: relative;z-index: 1;}#sk-container-id-8 div.sk-parallel {display: flex;align-items: stretch;justify-content: center;background-color: white;position: relative;}#sk-container-id-8 div.sk-item::before, #sk-container-id-8 div.sk-parallel-item::before {content: \"\";position: absolute;border-left: 1px solid gray;box-sizing: border-box;top: 0;bottom: 0;left: 50%;z-index: -1;}#sk-container-id-8 div.sk-parallel-item {display: flex;flex-direction: column;z-index: 1;position: relative;background-color: white;}#sk-container-id-8 div.sk-parallel-item:first-child::after {align-self: flex-end;width: 50%;}#sk-container-id-8 div.sk-parallel-item:last-child::after {align-self: flex-start;width: 50%;}#sk-container-id-8 div.sk-parallel-item:only-child::after {width: 0;}#sk-container-id-8 div.sk-dashed-wrapped {border: 1px dashed gray;margin: 0 0.4em 0.5em 0.4em;box-sizing: border-box;padding-bottom: 0.4em;background-color: white;}#sk-container-id-8 div.sk-label label {font-family: monospace;font-weight: bold;display: inline-block;line-height: 1.2em;}#sk-container-id-8 div.sk-label-container {text-align: center;}#sk-container-id-8 div.sk-container {/* jupyter's `normalize.less` sets `[hidden] { display: none; }` but bootstrap.min.css set `[hidden] { display: none !important; }` so we also need the `!important` here to be able to override the default hidden behavior on the sphinx rendered scikit-learn.org. See: https://github.com/scikit-learn/scikit-learn/issues/21755 */display: inline-block !important;position: relative;}#sk-container-id-8 div.sk-text-repr-fallback {display: none;}</style><div id=\"sk-container-id-8\" class=\"sk-top-container\"><div class=\"sk-text-repr-fallback\"><pre>DecisionTreeClassifier(max_depth=6, random_state=123)</pre><b>In a Jupyter environment, please rerun this cell to show the HTML representation or trust the notebook. <br />On GitHub, the HTML representation is unable to render, please try loading this page with nbviewer.org.</b></div><div class=\"sk-container\" hidden><div class=\"sk-item\"><div class=\"sk-estimator sk-toggleable\"><input class=\"sk-toggleable__control sk-hidden--visually\" id=\"sk-estimator-id-8\" type=\"checkbox\" checked><label for=\"sk-estimator-id-8\" class=\"sk-toggleable__label sk-toggleable__label-arrow\">DecisionTreeClassifier</label><div class=\"sk-toggleable__content\"><pre>DecisionTreeClassifier(max_depth=6, random_state=123)</pre></div></div></div></div></div>"
            ]
          },
          "metadata": {},
          "execution_count": 89
        }
      ]
    },
    {
      "cell_type": "code",
      "source": [
        "print(f\"Profundidad del árbol: {model1_Tree.get_depth()}\")\n",
        "print(f\"Número de nodos terminales: {model1_Tree.get_n_leaves()}\")\n",
        "# Generamos el árbol\n",
        "dot_data = export_graphviz(model1_Tree,                                 # modelo\n",
        "                           feature_names = None,                        # columnas de entrenamiento\n",
        "                           filled=True,)                                # colores del árbol (relleno)\n",
        "Source(dot_data, format=\"png\")"
      ],
      "metadata": {
        "id": "ZptHXl_nfgG8",
        "outputId": "59890c15-c63a-4320-9492-f27c69e8c131",
        "colab": {
          "base_uri": "https://localhost:8080/",
          "height": 990
        }
      },
      "execution_count": null,
      "outputs": [
        {
          "output_type": "stream",
          "name": "stdout",
          "text": [
            "Profundidad del árbol: 6\n",
            "Número de nodos terminales: 38\n"
          ]
        },
        {
          "output_type": "execute_result",
          "data": {
            "image/svg+xml": "<?xml version=\"1.0\" encoding=\"UTF-8\" standalone=\"no\"?>\n<!DOCTYPE svg PUBLIC \"-//W3C//DTD SVG 1.1//EN\"\n \"http://www.w3.org/Graphics/SVG/1.1/DTD/svg11.dtd\">\n<!-- Generated by graphviz version 2.43.0 (0)\n -->\n<!-- Title: Tree Pages: 1 -->\n<svg width=\"3282pt\" height=\"685pt\"\n viewBox=\"0.00 0.00 3282.00 685.00\" xmlns=\"http://www.w3.org/2000/svg\" xmlns:xlink=\"http://www.w3.org/1999/xlink\">\n<g id=\"graph0\" class=\"graph\" transform=\"scale(1 1) rotate(0) translate(4 681)\">\n<title>Tree</title>\n<polygon fill=\"white\" stroke=\"transparent\" points=\"-4,4 -4,-681 3278,-681 3278,4 -4,4\"/>\n<!-- 0 -->\n<g id=\"node1\" class=\"node\">\n<title>0</title>\n<polygon fill=\"#fefaf7\" stroke=\"black\" points=\"1894.5,-677 1769.5,-677 1769.5,-609 1894.5,-609 1894.5,-677\"/>\n<text text-anchor=\"middle\" x=\"1832\" y=\"-661.8\" font-family=\"Helvetica,sans-Serif\" font-size=\"14.00\">x[13] &lt;= 0.124</text>\n<text text-anchor=\"middle\" x=\"1832\" y=\"-646.8\" font-family=\"Helvetica,sans-Serif\" font-size=\"14.00\">gini = 0.5</text>\n<text text-anchor=\"middle\" x=\"1832\" y=\"-631.8\" font-family=\"Helvetica,sans-Serif\" font-size=\"14.00\">samples = 1400</text>\n<text text-anchor=\"middle\" x=\"1832\" y=\"-616.8\" font-family=\"Helvetica,sans-Serif\" font-size=\"14.00\">value = [714, 686]</text>\n</g>\n<!-- 1 -->\n<g id=\"node2\" class=\"node\">\n<title>1</title>\n<polygon fill=\"#e88f4f\" stroke=\"black\" points=\"1317.5,-573 1200.5,-573 1200.5,-505 1317.5,-505 1317.5,-573\"/>\n<text text-anchor=\"middle\" x=\"1259\" y=\"-557.8\" font-family=\"Helvetica,sans-Serif\" font-size=\"14.00\">x[13] &lt;= &#45;0.468</text>\n<text text-anchor=\"middle\" x=\"1259\" y=\"-542.8\" font-family=\"Helvetica,sans-Serif\" font-size=\"14.00\">gini = 0.177</text>\n<text text-anchor=\"middle\" x=\"1259\" y=\"-527.8\" font-family=\"Helvetica,sans-Serif\" font-size=\"14.00\">samples = 745</text>\n<text text-anchor=\"middle\" x=\"1259\" y=\"-512.8\" font-family=\"Helvetica,sans-Serif\" font-size=\"14.00\">value = [672, 73]</text>\n</g>\n<!-- 0&#45;&gt;1 -->\n<g id=\"edge1\" class=\"edge\">\n<title>0&#45;&gt;1</title>\n<path fill=\"none\" stroke=\"black\" d=\"M1769.31,-630.84C1661.07,-611.57 1439.96,-572.21 1327.69,-552.23\"/>\n<polygon fill=\"black\" stroke=\"black\" points=\"1328.29,-548.78 1317.83,-550.47 1327.06,-555.67 1328.29,-548.78\"/>\n<text text-anchor=\"middle\" x=\"1332.13\" y=\"-567.27\" font-family=\"Helvetica,sans-Serif\" font-size=\"14.00\">True</text>\n</g>\n<!-- 42 -->\n<g id=\"node43\" class=\"node\">\n<title>42</title>\n<polygon fill=\"#47a4e7\" stroke=\"black\" points=\"2092.5,-573 1975.5,-573 1975.5,-505 2092.5,-505 2092.5,-573\"/>\n<text text-anchor=\"middle\" x=\"2034\" y=\"-557.8\" font-family=\"Helvetica,sans-Serif\" font-size=\"14.00\">x[13] &lt;= 0.331</text>\n<text text-anchor=\"middle\" x=\"2034\" y=\"-542.8\" font-family=\"Helvetica,sans-Serif\" font-size=\"14.00\">gini = 0.12</text>\n<text text-anchor=\"middle\" x=\"2034\" y=\"-527.8\" font-family=\"Helvetica,sans-Serif\" font-size=\"14.00\">samples = 655</text>\n<text text-anchor=\"middle\" x=\"2034\" y=\"-512.8\" font-family=\"Helvetica,sans-Serif\" font-size=\"14.00\">value = [42, 613]</text>\n</g>\n<!-- 0&#45;&gt;42 -->\n<g id=\"edge42\" class=\"edge\">\n<title>0&#45;&gt;42</title>\n<path fill=\"none\" stroke=\"black\" d=\"M1894.53,-610.43C1917.24,-598.96 1943,-585.95 1966.15,-574.26\"/>\n<polygon fill=\"black\" stroke=\"black\" points=\"1967.86,-577.32 1975.21,-569.69 1964.71,-571.07 1967.86,-577.32\"/>\n<text text-anchor=\"middle\" x=\"1967.4\" y=\"-589.73\" font-family=\"Helvetica,sans-Serif\" font-size=\"14.00\">False</text>\n</g>\n<!-- 2 -->\n<g id=\"node3\" class=\"node\">\n<title>2</title>\n<polygon fill=\"#e6843d\" stroke=\"black\" points=\"612.5,-469 495.5,-469 495.5,-401 612.5,-401 612.5,-469\"/>\n<text text-anchor=\"middle\" x=\"554\" y=\"-453.8\" font-family=\"Helvetica,sans-Serif\" font-size=\"14.00\">x[11] &lt;= 1.956</text>\n<text text-anchor=\"middle\" x=\"554\" y=\"-438.8\" font-family=\"Helvetica,sans-Serif\" font-size=\"14.00\">gini = 0.039</text>\n<text text-anchor=\"middle\" x=\"554\" y=\"-423.8\" font-family=\"Helvetica,sans-Serif\" font-size=\"14.00\">samples = 509</text>\n<text text-anchor=\"middle\" x=\"554\" y=\"-408.8\" font-family=\"Helvetica,sans-Serif\" font-size=\"14.00\">value = [499, 10]</text>\n</g>\n<!-- 1&#45;&gt;2 -->\n<g id=\"edge2\" class=\"edge\">\n<title>1&#45;&gt;2</title>\n<path fill=\"none\" stroke=\"black\" d=\"M1200.41,-529.52C1070.98,-510.8 761.26,-465.99 622.86,-445.96\"/>\n<polygon fill=\"black\" stroke=\"black\" points=\"623.19,-442.47 612.79,-444.51 622.19,-449.4 623.19,-442.47\"/>\n</g>\n<!-- 17 -->\n<g id=\"node18\" class=\"node\">\n<title>17</title>\n<polygon fill=\"#eeaf81\" stroke=\"black\" points=\"1317.5,-469 1200.5,-469 1200.5,-401 1317.5,-401 1317.5,-469\"/>\n<text text-anchor=\"middle\" x=\"1259\" y=\"-453.8\" font-family=\"Helvetica,sans-Serif\" font-size=\"14.00\">x[0] &lt;= 0.564</text>\n<text text-anchor=\"middle\" x=\"1259\" y=\"-438.8\" font-family=\"Helvetica,sans-Serif\" font-size=\"14.00\">gini = 0.391</text>\n<text text-anchor=\"middle\" x=\"1259\" y=\"-423.8\" font-family=\"Helvetica,sans-Serif\" font-size=\"14.00\">samples = 236</text>\n<text text-anchor=\"middle\" x=\"1259\" y=\"-408.8\" font-family=\"Helvetica,sans-Serif\" font-size=\"14.00\">value = [173, 63]</text>\n</g>\n<!-- 1&#45;&gt;17 -->\n<g id=\"edge17\" class=\"edge\">\n<title>1&#45;&gt;17</title>\n<path fill=\"none\" stroke=\"black\" d=\"M1259,-504.88C1259,-496.78 1259,-487.98 1259,-479.47\"/>\n<polygon fill=\"black\" stroke=\"black\" points=\"1262.5,-479.3 1259,-469.3 1255.5,-479.3 1262.5,-479.3\"/>\n</g>\n<!-- 3 -->\n<g id=\"node4\" class=\"node\">\n<title>3</title>\n<polygon fill=\"#e5823b\" stroke=\"black\" points=\"382,-365 272,-365 272,-297 382,-297 382,-365\"/>\n<text text-anchor=\"middle\" x=\"327\" y=\"-349.8\" font-family=\"Helvetica,sans-Serif\" font-size=\"14.00\">x[12] &lt;= 1.641</text>\n<text text-anchor=\"middle\" x=\"327\" y=\"-334.8\" font-family=\"Helvetica,sans-Serif\" font-size=\"14.00\">gini = 0.016</text>\n<text text-anchor=\"middle\" x=\"327\" y=\"-319.8\" font-family=\"Helvetica,sans-Serif\" font-size=\"14.00\">samples = 486</text>\n<text text-anchor=\"middle\" x=\"327\" y=\"-304.8\" font-family=\"Helvetica,sans-Serif\" font-size=\"14.00\">value = [482, 4]</text>\n</g>\n<!-- 2&#45;&gt;3 -->\n<g id=\"edge3\" class=\"edge\">\n<title>2&#45;&gt;3</title>\n<path fill=\"none\" stroke=\"black\" d=\"M495.25,-407.6C463.56,-393.36 424.39,-375.76 391.82,-361.13\"/>\n<polygon fill=\"black\" stroke=\"black\" points=\"392.94,-357.79 382.38,-356.89 390.07,-364.18 392.94,-357.79\"/>\n</g>\n<!-- 12 -->\n<g id=\"node13\" class=\"node\">\n<title>12</title>\n<polygon fill=\"#eead7f\" stroke=\"black\" points=\"605,-365 503,-365 503,-297 605,-297 605,-365\"/>\n<text text-anchor=\"middle\" x=\"554\" y=\"-349.8\" font-family=\"Helvetica,sans-Serif\" font-size=\"14.00\">x[13] &lt;= &#45;0.88</text>\n<text text-anchor=\"middle\" x=\"554\" y=\"-334.8\" font-family=\"Helvetica,sans-Serif\" font-size=\"14.00\">gini = 0.386</text>\n<text text-anchor=\"middle\" x=\"554\" y=\"-319.8\" font-family=\"Helvetica,sans-Serif\" font-size=\"14.00\">samples = 23</text>\n<text text-anchor=\"middle\" x=\"554\" y=\"-304.8\" font-family=\"Helvetica,sans-Serif\" font-size=\"14.00\">value = [17, 6]</text>\n</g>\n<!-- 2&#45;&gt;12 -->\n<g id=\"edge12\" class=\"edge\">\n<title>2&#45;&gt;12</title>\n<path fill=\"none\" stroke=\"black\" d=\"M554,-400.88C554,-392.78 554,-383.98 554,-375.47\"/>\n<polygon fill=\"black\" stroke=\"black\" points=\"557.5,-375.3 554,-365.3 550.5,-375.3 557.5,-375.3\"/>\n</g>\n<!-- 4 -->\n<g id=\"node5\" class=\"node\">\n<title>4</title>\n<polygon fill=\"#e5823a\" stroke=\"black\" points=\"235,-261 125,-261 125,-193 235,-193 235,-261\"/>\n<text text-anchor=\"middle\" x=\"180\" y=\"-245.8\" font-family=\"Helvetica,sans-Serif\" font-size=\"14.00\">x[11] &lt;= 1.212</text>\n<text text-anchor=\"middle\" x=\"180\" y=\"-230.8\" font-family=\"Helvetica,sans-Serif\" font-size=\"14.00\">gini = 0.008</text>\n<text text-anchor=\"middle\" x=\"180\" y=\"-215.8\" font-family=\"Helvetica,sans-Serif\" font-size=\"14.00\">samples = 475</text>\n<text text-anchor=\"middle\" x=\"180\" y=\"-200.8\" font-family=\"Helvetica,sans-Serif\" font-size=\"14.00\">value = [473, 2]</text>\n</g>\n<!-- 3&#45;&gt;4 -->\n<g id=\"edge4\" class=\"edge\">\n<title>3&#45;&gt;4</title>\n<path fill=\"none\" stroke=\"black\" d=\"M279.27,-296.88C265.47,-287.3 250.27,-276.76 236.01,-266.86\"/>\n<polygon fill=\"black\" stroke=\"black\" points=\"237.95,-263.95 227.74,-261.12 233.96,-269.7 237.95,-263.95\"/>\n</g>\n<!-- 9 -->\n<g id=\"node10\" class=\"node\">\n<title>9</title>\n<polygon fill=\"#eb9d65\" stroke=\"black\" points=\"376,-261 278,-261 278,-193 376,-193 376,-261\"/>\n<text text-anchor=\"middle\" x=\"327\" y=\"-245.8\" font-family=\"Helvetica,sans-Serif\" font-size=\"14.00\">x[0] &lt;= 1.447</text>\n<text text-anchor=\"middle\" x=\"327\" y=\"-230.8\" font-family=\"Helvetica,sans-Serif\" font-size=\"14.00\">gini = 0.298</text>\n<text text-anchor=\"middle\" x=\"327\" y=\"-215.8\" font-family=\"Helvetica,sans-Serif\" font-size=\"14.00\">samples = 11</text>\n<text text-anchor=\"middle\" x=\"327\" y=\"-200.8\" font-family=\"Helvetica,sans-Serif\" font-size=\"14.00\">value = [9, 2]</text>\n</g>\n<!-- 3&#45;&gt;9 -->\n<g id=\"edge9\" class=\"edge\">\n<title>3&#45;&gt;9</title>\n<path fill=\"none\" stroke=\"black\" d=\"M327,-296.88C327,-288.78 327,-279.98 327,-271.47\"/>\n<polygon fill=\"black\" stroke=\"black\" points=\"330.5,-271.3 327,-261.3 323.5,-271.3 330.5,-271.3\"/>\n</g>\n<!-- 5 -->\n<g id=\"node6\" class=\"node\">\n<title>5</title>\n<polygon fill=\"#e58139\" stroke=\"black\" points=\"110,-149.5 0,-149.5 0,-96.5 110,-96.5 110,-149.5\"/>\n<text text-anchor=\"middle\" x=\"55\" y=\"-134.3\" font-family=\"Helvetica,sans-Serif\" font-size=\"14.00\">gini = 0.0</text>\n<text text-anchor=\"middle\" x=\"55\" y=\"-119.3\" font-family=\"Helvetica,sans-Serif\" font-size=\"14.00\">samples = 431</text>\n<text text-anchor=\"middle\" x=\"55\" y=\"-104.3\" font-family=\"Helvetica,sans-Serif\" font-size=\"14.00\">value = [431, 0]</text>\n</g>\n<!-- 4&#45;&gt;5 -->\n<g id=\"edge5\" class=\"edge\">\n<title>4&#45;&gt;5</title>\n<path fill=\"none\" stroke=\"black\" d=\"M139.42,-192.88C124.86,-181.01 108.49,-167.65 94.06,-155.88\"/>\n<polygon fill=\"black\" stroke=\"black\" points=\"96.24,-153.13 86.27,-149.52 91.81,-158.55 96.24,-153.13\"/>\n</g>\n<!-- 6 -->\n<g id=\"node7\" class=\"node\">\n<title>6</title>\n<polygon fill=\"#e68742\" stroke=\"black\" points=\"232,-157 128,-157 128,-89 232,-89 232,-157\"/>\n<text text-anchor=\"middle\" x=\"180\" y=\"-141.8\" font-family=\"Helvetica,sans-Serif\" font-size=\"14.00\">x[11] &lt;= 1.231</text>\n<text text-anchor=\"middle\" x=\"180\" y=\"-126.8\" font-family=\"Helvetica,sans-Serif\" font-size=\"14.00\">gini = 0.087</text>\n<text text-anchor=\"middle\" x=\"180\" y=\"-111.8\" font-family=\"Helvetica,sans-Serif\" font-size=\"14.00\">samples = 44</text>\n<text text-anchor=\"middle\" x=\"180\" y=\"-96.8\" font-family=\"Helvetica,sans-Serif\" font-size=\"14.00\">value = [42, 2]</text>\n</g>\n<!-- 4&#45;&gt;6 -->\n<g id=\"edge6\" class=\"edge\">\n<title>4&#45;&gt;6</title>\n<path fill=\"none\" stroke=\"black\" d=\"M180,-192.88C180,-184.78 180,-175.98 180,-167.47\"/>\n<polygon fill=\"black\" stroke=\"black\" points=\"183.5,-167.3 180,-157.3 176.5,-167.3 183.5,-167.3\"/>\n</g>\n<!-- 7 -->\n<g id=\"node8\" class=\"node\">\n<title>7</title>\n<polygon fill=\"#399de5\" stroke=\"black\" points=\"169.5,-53 74.5,-53 74.5,0 169.5,0 169.5,-53\"/>\n<text text-anchor=\"middle\" x=\"122\" y=\"-37.8\" font-family=\"Helvetica,sans-Serif\" font-size=\"14.00\">gini = 0.0</text>\n<text text-anchor=\"middle\" x=\"122\" y=\"-22.8\" font-family=\"Helvetica,sans-Serif\" font-size=\"14.00\">samples = 1</text>\n<text text-anchor=\"middle\" x=\"122\" y=\"-7.8\" font-family=\"Helvetica,sans-Serif\" font-size=\"14.00\">value = [0, 1]</text>\n</g>\n<!-- 6&#45;&gt;7 -->\n<g id=\"edge7\" class=\"edge\">\n<title>6&#45;&gt;7</title>\n<path fill=\"none\" stroke=\"black\" d=\"M159.71,-88.95C154.32,-80.17 148.49,-70.66 143.06,-61.82\"/>\n<polygon fill=\"black\" stroke=\"black\" points=\"146.01,-59.93 137.8,-53.24 140.04,-63.59 146.01,-59.93\"/>\n</g>\n<!-- 8 -->\n<g id=\"node9\" class=\"node\">\n<title>8</title>\n<polygon fill=\"#e6843e\" stroke=\"black\" points=\"290,-53 188,-53 188,0 290,0 290,-53\"/>\n<text text-anchor=\"middle\" x=\"239\" y=\"-37.8\" font-family=\"Helvetica,sans-Serif\" font-size=\"14.00\">gini = 0.045</text>\n<text text-anchor=\"middle\" x=\"239\" y=\"-22.8\" font-family=\"Helvetica,sans-Serif\" font-size=\"14.00\">samples = 43</text>\n<text text-anchor=\"middle\" x=\"239\" y=\"-7.8\" font-family=\"Helvetica,sans-Serif\" font-size=\"14.00\">value = [42, 1]</text>\n</g>\n<!-- 6&#45;&gt;8 -->\n<g id=\"edge8\" class=\"edge\">\n<title>6&#45;&gt;8</title>\n<path fill=\"none\" stroke=\"black\" d=\"M200.64,-88.95C206.12,-80.17 212.05,-70.66 217.58,-61.82\"/>\n<polygon fill=\"black\" stroke=\"black\" points=\"220.6,-63.57 222.93,-53.24 214.67,-59.87 220.6,-63.57\"/>\n</g>\n<!-- 10 -->\n<g id=\"node11\" class=\"node\">\n<title>10</title>\n<polygon fill=\"#e58139\" stroke=\"black\" points=\"345.5,-149.5 250.5,-149.5 250.5,-96.5 345.5,-96.5 345.5,-149.5\"/>\n<text text-anchor=\"middle\" x=\"298\" y=\"-134.3\" font-family=\"Helvetica,sans-Serif\" font-size=\"14.00\">gini = 0.0</text>\n<text text-anchor=\"middle\" x=\"298\" y=\"-119.3\" font-family=\"Helvetica,sans-Serif\" font-size=\"14.00\">samples = 9</text>\n<text text-anchor=\"middle\" x=\"298\" y=\"-104.3\" font-family=\"Helvetica,sans-Serif\" font-size=\"14.00\">value = [9, 0]</text>\n</g>\n<!-- 9&#45;&gt;10 -->\n<g id=\"edge10\" class=\"edge\">\n<title>9&#45;&gt;10</title>\n<path fill=\"none\" stroke=\"black\" d=\"M317.58,-192.88C314.52,-182.11 311.11,-170.11 308,-159.18\"/>\n<polygon fill=\"black\" stroke=\"black\" points=\"311.36,-158.18 305.26,-149.52 304.62,-160.1 311.36,-158.18\"/>\n</g>\n<!-- 11 -->\n<g id=\"node12\" class=\"node\">\n<title>11</title>\n<polygon fill=\"#399de5\" stroke=\"black\" points=\"458.5,-149.5 363.5,-149.5 363.5,-96.5 458.5,-96.5 458.5,-149.5\"/>\n<text text-anchor=\"middle\" x=\"411\" y=\"-134.3\" font-family=\"Helvetica,sans-Serif\" font-size=\"14.00\">gini = 0.0</text>\n<text text-anchor=\"middle\" x=\"411\" y=\"-119.3\" font-family=\"Helvetica,sans-Serif\" font-size=\"14.00\">samples = 2</text>\n<text text-anchor=\"middle\" x=\"411\" y=\"-104.3\" font-family=\"Helvetica,sans-Serif\" font-size=\"14.00\">value = [0, 2]</text>\n</g>\n<!-- 9&#45;&gt;11 -->\n<g id=\"edge11\" class=\"edge\">\n<title>9&#45;&gt;11</title>\n<path fill=\"none\" stroke=\"black\" d=\"M354.27,-192.88C363.6,-181.56 374.04,-168.88 383.39,-157.52\"/>\n<polygon fill=\"black\" stroke=\"black\" points=\"386.33,-159.46 389.98,-149.52 380.92,-155.01 386.33,-159.46\"/>\n</g>\n<!-- 13 -->\n<g id=\"node14\" class=\"node\">\n<title>13</title>\n<polygon fill=\"#e58139\" stroke=\"black\" points=\"546,-253.5 444,-253.5 444,-200.5 546,-200.5 546,-253.5\"/>\n<text text-anchor=\"middle\" x=\"495\" y=\"-238.3\" font-family=\"Helvetica,sans-Serif\" font-size=\"14.00\">gini = 0.0</text>\n<text text-anchor=\"middle\" x=\"495\" y=\"-223.3\" font-family=\"Helvetica,sans-Serif\" font-size=\"14.00\">samples = 15</text>\n<text text-anchor=\"middle\" x=\"495\" y=\"-208.3\" font-family=\"Helvetica,sans-Serif\" font-size=\"14.00\">value = [15, 0]</text>\n</g>\n<!-- 12&#45;&gt;13 -->\n<g id=\"edge13\" class=\"edge\">\n<title>12&#45;&gt;13</title>\n<path fill=\"none\" stroke=\"black\" d=\"M534.84,-296.88C528.42,-285.78 521.24,-273.37 514.77,-262.18\"/>\n<polygon fill=\"black\" stroke=\"black\" points=\"517.8,-260.42 509.76,-253.52 511.74,-263.93 517.8,-260.42\"/>\n</g>\n<!-- 14 -->\n<g id=\"node15\" class=\"node\">\n<title>14</title>\n<polygon fill=\"#7bbeee\" stroke=\"black\" points=\"660,-261 564,-261 564,-193 660,-193 660,-261\"/>\n<text text-anchor=\"middle\" x=\"612\" y=\"-245.8\" font-family=\"Helvetica,sans-Serif\" font-size=\"14.00\">x[0] &lt;= 0.489</text>\n<text text-anchor=\"middle\" x=\"612\" y=\"-230.8\" font-family=\"Helvetica,sans-Serif\" font-size=\"14.00\">gini = 0.375</text>\n<text text-anchor=\"middle\" x=\"612\" y=\"-215.8\" font-family=\"Helvetica,sans-Serif\" font-size=\"14.00\">samples = 8</text>\n<text text-anchor=\"middle\" x=\"612\" y=\"-200.8\" font-family=\"Helvetica,sans-Serif\" font-size=\"14.00\">value = [2, 6]</text>\n</g>\n<!-- 12&#45;&gt;14 -->\n<g id=\"edge14\" class=\"edge\">\n<title>12&#45;&gt;14</title>\n<path fill=\"none\" stroke=\"black\" d=\"M572.83,-296.88C577.69,-288.33 582.99,-279.01 588.08,-270.07\"/>\n<polygon fill=\"black\" stroke=\"black\" points=\"591.16,-271.72 593.07,-261.3 585.08,-268.26 591.16,-271.72\"/>\n</g>\n<!-- 15 -->\n<g id=\"node16\" class=\"node\">\n<title>15</title>\n<polygon fill=\"#e58139\" stroke=\"black\" points=\"571.5,-149.5 476.5,-149.5 476.5,-96.5 571.5,-96.5 571.5,-149.5\"/>\n<text text-anchor=\"middle\" x=\"524\" y=\"-134.3\" font-family=\"Helvetica,sans-Serif\" font-size=\"14.00\">gini = 0.0</text>\n<text text-anchor=\"middle\" x=\"524\" y=\"-119.3\" font-family=\"Helvetica,sans-Serif\" font-size=\"14.00\">samples = 2</text>\n<text text-anchor=\"middle\" x=\"524\" y=\"-104.3\" font-family=\"Helvetica,sans-Serif\" font-size=\"14.00\">value = [2, 0]</text>\n</g>\n<!-- 14&#45;&gt;15 -->\n<g id=\"edge15\" class=\"edge\">\n<title>14&#45;&gt;15</title>\n<path fill=\"none\" stroke=\"black\" d=\"M583.43,-192.88C573.56,-181.45 562.51,-168.63 552.63,-157.19\"/>\n<polygon fill=\"black\" stroke=\"black\" points=\"555.2,-154.81 546.02,-149.52 549.9,-159.38 555.2,-154.81\"/>\n</g>\n<!-- 16 -->\n<g id=\"node17\" class=\"node\">\n<title>16</title>\n<polygon fill=\"#399de5\" stroke=\"black\" points=\"684.5,-149.5 589.5,-149.5 589.5,-96.5 684.5,-96.5 684.5,-149.5\"/>\n<text text-anchor=\"middle\" x=\"637\" y=\"-134.3\" font-family=\"Helvetica,sans-Serif\" font-size=\"14.00\">gini = 0.0</text>\n<text text-anchor=\"middle\" x=\"637\" y=\"-119.3\" font-family=\"Helvetica,sans-Serif\" font-size=\"14.00\">samples = 6</text>\n<text text-anchor=\"middle\" x=\"637\" y=\"-104.3\" font-family=\"Helvetica,sans-Serif\" font-size=\"14.00\">value = [0, 6]</text>\n</g>\n<!-- 14&#45;&gt;16 -->\n<g id=\"edge16\" class=\"edge\">\n<title>14&#45;&gt;16</title>\n<path fill=\"none\" stroke=\"black\" d=\"M620.12,-192.88C622.73,-182.22 625.64,-170.35 628.29,-159.52\"/>\n<polygon fill=\"black\" stroke=\"black\" points=\"631.76,-160.07 630.75,-149.52 624.97,-158.4 631.76,-160.07\"/>\n</g>\n<!-- 18 -->\n<g id=\"node19\" class=\"node\">\n<title>18</title>\n<polygon fill=\"#e88e4d\" stroke=\"black\" points=\"1122.5,-365 1005.5,-365 1005.5,-297 1122.5,-297 1122.5,-365\"/>\n<text text-anchor=\"middle\" x=\"1064\" y=\"-349.8\" font-family=\"Helvetica,sans-Serif\" font-size=\"14.00\">x[11] &lt;= 1.226</text>\n<text text-anchor=\"middle\" x=\"1064\" y=\"-334.8\" font-family=\"Helvetica,sans-Serif\" font-size=\"14.00\">gini = 0.169</text>\n<text text-anchor=\"middle\" x=\"1064\" y=\"-319.8\" font-family=\"Helvetica,sans-Serif\" font-size=\"14.00\">samples = 161</text>\n<text text-anchor=\"middle\" x=\"1064\" y=\"-304.8\" font-family=\"Helvetica,sans-Serif\" font-size=\"14.00\">value = [146, 15]</text>\n</g>\n<!-- 17&#45;&gt;18 -->\n<g id=\"edge18\" class=\"edge\">\n<title>17&#45;&gt;18</title>\n<path fill=\"none\" stroke=\"black\" d=\"M1200.49,-403.4C1178.9,-392.1 1154.25,-379.21 1131.9,-367.52\"/>\n<polygon fill=\"black\" stroke=\"black\" points=\"1133.29,-364.29 1122.8,-362.76 1130.04,-370.49 1133.29,-364.29\"/>\n</g>\n<!-- 29 -->\n<g id=\"node30\" class=\"node\">\n<title>29</title>\n<polygon fill=\"#a8d4f4\" stroke=\"black\" points=\"1462,-365 1352,-365 1352,-297 1462,-297 1462,-365\"/>\n<text text-anchor=\"middle\" x=\"1407\" y=\"-349.8\" font-family=\"Helvetica,sans-Serif\" font-size=\"14.00\">x[11] &lt;= 0.025</text>\n<text text-anchor=\"middle\" x=\"1407\" y=\"-334.8\" font-family=\"Helvetica,sans-Serif\" font-size=\"14.00\">gini = 0.461</text>\n<text text-anchor=\"middle\" x=\"1407\" y=\"-319.8\" font-family=\"Helvetica,sans-Serif\" font-size=\"14.00\">samples = 75</text>\n<text text-anchor=\"middle\" x=\"1407\" y=\"-304.8\" font-family=\"Helvetica,sans-Serif\" font-size=\"14.00\">value = [27, 48]</text>\n</g>\n<!-- 17&#45;&gt;29 -->\n<g id=\"edge29\" class=\"edge\">\n<title>17&#45;&gt;29</title>\n<path fill=\"none\" stroke=\"black\" d=\"M1307.05,-400.88C1320.95,-391.3 1336.25,-380.76 1350.61,-370.86\"/>\n<polygon fill=\"black\" stroke=\"black\" points=\"1352.69,-373.68 1358.94,-365.12 1348.72,-367.92 1352.69,-373.68\"/>\n</g>\n<!-- 19 -->\n<g id=\"node20\" class=\"node\">\n<title>19</title>\n<polygon fill=\"#e6843d\" stroke=\"black\" points=\"938,-261 828,-261 828,-193 938,-193 938,-261\"/>\n<text text-anchor=\"middle\" x=\"883\" y=\"-245.8\" font-family=\"Helvetica,sans-Serif\" font-size=\"14.00\">x[11] &lt;= 0.653</text>\n<text text-anchor=\"middle\" x=\"883\" y=\"-230.8\" font-family=\"Helvetica,sans-Serif\" font-size=\"14.00\">gini = 0.043</text>\n<text text-anchor=\"middle\" x=\"883\" y=\"-215.8\" font-family=\"Helvetica,sans-Serif\" font-size=\"14.00\">samples = 138</text>\n<text text-anchor=\"middle\" x=\"883\" y=\"-200.8\" font-family=\"Helvetica,sans-Serif\" font-size=\"14.00\">value = [135, 3]</text>\n</g>\n<!-- 18&#45;&gt;19 -->\n<g id=\"edge19\" class=\"edge\">\n<title>18&#45;&gt;19</title>\n<path fill=\"none\" stroke=\"black\" d=\"M1005.23,-296.88C986.61,-286.39 965.93,-274.74 946.96,-264.04\"/>\n<polygon fill=\"black\" stroke=\"black\" points=\"948.52,-260.91 938.09,-259.05 945.09,-267.01 948.52,-260.91\"/>\n</g>\n<!-- 24 -->\n<g id=\"node25\" class=\"node\">\n<title>24</title>\n<polygon fill=\"#eff7fd\" stroke=\"black\" points=\"1119,-261 1009,-261 1009,-193 1119,-193 1119,-261\"/>\n<text text-anchor=\"middle\" x=\"1064\" y=\"-245.8\" font-family=\"Helvetica,sans-Serif\" font-size=\"14.00\">x[12] &lt;= 0.583</text>\n<text text-anchor=\"middle\" x=\"1064\" y=\"-230.8\" font-family=\"Helvetica,sans-Serif\" font-size=\"14.00\">gini = 0.499</text>\n<text text-anchor=\"middle\" x=\"1064\" y=\"-215.8\" font-family=\"Helvetica,sans-Serif\" font-size=\"14.00\">samples = 23</text>\n<text text-anchor=\"middle\" x=\"1064\" y=\"-200.8\" font-family=\"Helvetica,sans-Serif\" font-size=\"14.00\">value = [11, 12]</text>\n</g>\n<!-- 18&#45;&gt;24 -->\n<g id=\"edge24\" class=\"edge\">\n<title>18&#45;&gt;24</title>\n<path fill=\"none\" stroke=\"black\" d=\"M1064,-296.88C1064,-288.78 1064,-279.98 1064,-271.47\"/>\n<polygon fill=\"black\" stroke=\"black\" points=\"1067.5,-271.3 1064,-261.3 1060.5,-271.3 1067.5,-271.3\"/>\n</g>\n<!-- 20 -->\n<g id=\"node21\" class=\"node\">\n<title>20</title>\n<polygon fill=\"#e58139\" stroke=\"black\" points=\"813,-149.5 703,-149.5 703,-96.5 813,-96.5 813,-149.5\"/>\n<text text-anchor=\"middle\" x=\"758\" y=\"-134.3\" font-family=\"Helvetica,sans-Serif\" font-size=\"14.00\">gini = 0.0</text>\n<text text-anchor=\"middle\" x=\"758\" y=\"-119.3\" font-family=\"Helvetica,sans-Serif\" font-size=\"14.00\">samples = 118</text>\n<text text-anchor=\"middle\" x=\"758\" y=\"-104.3\" font-family=\"Helvetica,sans-Serif\" font-size=\"14.00\">value = [118, 0]</text>\n</g>\n<!-- 19&#45;&gt;20 -->\n<g id=\"edge20\" class=\"edge\">\n<title>19&#45;&gt;20</title>\n<path fill=\"none\" stroke=\"black\" d=\"M842.42,-192.88C827.86,-181.01 811.49,-167.65 797.06,-155.88\"/>\n<polygon fill=\"black\" stroke=\"black\" points=\"799.24,-153.13 789.27,-149.52 794.81,-158.55 799.24,-153.13\"/>\n</g>\n<!-- 21 -->\n<g id=\"node22\" class=\"node\">\n<title>21</title>\n<polygon fill=\"#ea975c\" stroke=\"black\" points=\"935,-157 831,-157 831,-89 935,-89 935,-157\"/>\n<text text-anchor=\"middle\" x=\"883\" y=\"-141.8\" font-family=\"Helvetica,sans-Serif\" font-size=\"14.00\">x[13] &lt;= 0.027</text>\n<text text-anchor=\"middle\" x=\"883\" y=\"-126.8\" font-family=\"Helvetica,sans-Serif\" font-size=\"14.00\">gini = 0.255</text>\n<text text-anchor=\"middle\" x=\"883\" y=\"-111.8\" font-family=\"Helvetica,sans-Serif\" font-size=\"14.00\">samples = 20</text>\n<text text-anchor=\"middle\" x=\"883\" y=\"-96.8\" font-family=\"Helvetica,sans-Serif\" font-size=\"14.00\">value = [17, 3]</text>\n</g>\n<!-- 19&#45;&gt;21 -->\n<g id=\"edge21\" class=\"edge\">\n<title>19&#45;&gt;21</title>\n<path fill=\"none\" stroke=\"black\" d=\"M883,-192.88C883,-184.78 883,-175.98 883,-167.47\"/>\n<polygon fill=\"black\" stroke=\"black\" points=\"886.5,-167.3 883,-157.3 879.5,-167.3 886.5,-167.3\"/>\n</g>\n<!-- 22 -->\n<g id=\"node23\" class=\"node\">\n<title>22</title>\n<polygon fill=\"#e78845\" stroke=\"black\" points=\"818,-53 716,-53 716,0 818,0 818,-53\"/>\n<text text-anchor=\"middle\" x=\"767\" y=\"-37.8\" font-family=\"Helvetica,sans-Serif\" font-size=\"14.00\">gini = 0.105</text>\n<text text-anchor=\"middle\" x=\"767\" y=\"-22.8\" font-family=\"Helvetica,sans-Serif\" font-size=\"14.00\">samples = 18</text>\n<text text-anchor=\"middle\" x=\"767\" y=\"-7.8\" font-family=\"Helvetica,sans-Serif\" font-size=\"14.00\">value = [17, 1]</text>\n</g>\n<!-- 21&#45;&gt;22 -->\n<g id=\"edge22\" class=\"edge\">\n<title>21&#45;&gt;22</title>\n<path fill=\"none\" stroke=\"black\" d=\"M842.43,-88.95C830.75,-79.43 818.03,-69.07 806.42,-59.62\"/>\n<polygon fill=\"black\" stroke=\"black\" points=\"808.56,-56.84 798.59,-53.24 804.13,-62.27 808.56,-56.84\"/>\n</g>\n<!-- 23 -->\n<g id=\"node24\" class=\"node\">\n<title>23</title>\n<polygon fill=\"#399de5\" stroke=\"black\" points=\"931.5,-53 836.5,-53 836.5,0 931.5,0 931.5,-53\"/>\n<text text-anchor=\"middle\" x=\"884\" y=\"-37.8\" font-family=\"Helvetica,sans-Serif\" font-size=\"14.00\">gini = 0.0</text>\n<text text-anchor=\"middle\" x=\"884\" y=\"-22.8\" font-family=\"Helvetica,sans-Serif\" font-size=\"14.00\">samples = 2</text>\n<text text-anchor=\"middle\" x=\"884\" y=\"-7.8\" font-family=\"Helvetica,sans-Serif\" font-size=\"14.00\">value = [0, 2]</text>\n</g>\n<!-- 21&#45;&gt;23 -->\n<g id=\"edge23\" class=\"edge\">\n<title>21&#45;&gt;23</title>\n<path fill=\"none\" stroke=\"black\" d=\"M883.35,-88.95C883.44,-80.72 883.53,-71.85 883.62,-63.48\"/>\n<polygon fill=\"black\" stroke=\"black\" points=\"887.12,-63.27 883.73,-53.24 880.12,-63.2 887.12,-63.27\"/>\n</g>\n<!-- 25 -->\n<g id=\"node26\" class=\"node\">\n<title>25</title>\n<polygon fill=\"#e58139\" stroke=\"black\" points=\"1048.5,-149.5 953.5,-149.5 953.5,-96.5 1048.5,-96.5 1048.5,-149.5\"/>\n<text text-anchor=\"middle\" x=\"1001\" y=\"-134.3\" font-family=\"Helvetica,sans-Serif\" font-size=\"14.00\">gini = 0.0</text>\n<text text-anchor=\"middle\" x=\"1001\" y=\"-119.3\" font-family=\"Helvetica,sans-Serif\" font-size=\"14.00\">samples = 7</text>\n<text text-anchor=\"middle\" x=\"1001\" y=\"-104.3\" font-family=\"Helvetica,sans-Serif\" font-size=\"14.00\">value = [7, 0]</text>\n</g>\n<!-- 24&#45;&gt;25 -->\n<g id=\"edge25\" class=\"edge\">\n<title>24&#45;&gt;25</title>\n<path fill=\"none\" stroke=\"black\" d=\"M1043.55,-192.88C1036.68,-181.78 1029.02,-169.37 1022.11,-158.18\"/>\n<polygon fill=\"black\" stroke=\"black\" points=\"1025,-156.19 1016.76,-149.52 1019.04,-159.87 1025,-156.19\"/>\n</g>\n<!-- 26 -->\n<g id=\"node27\" class=\"node\">\n<title>26</title>\n<polygon fill=\"#7bbeee\" stroke=\"black\" points=\"1169,-157 1067,-157 1067,-89 1169,-89 1169,-157\"/>\n<text text-anchor=\"middle\" x=\"1118\" y=\"-141.8\" font-family=\"Helvetica,sans-Serif\" font-size=\"14.00\">x[0] &lt;= &#45;0.971</text>\n<text text-anchor=\"middle\" x=\"1118\" y=\"-126.8\" font-family=\"Helvetica,sans-Serif\" font-size=\"14.00\">gini = 0.375</text>\n<text text-anchor=\"middle\" x=\"1118\" y=\"-111.8\" font-family=\"Helvetica,sans-Serif\" font-size=\"14.00\">samples = 16</text>\n<text text-anchor=\"middle\" x=\"1118\" y=\"-96.8\" font-family=\"Helvetica,sans-Serif\" font-size=\"14.00\">value = [4, 12]</text>\n</g>\n<!-- 24&#45;&gt;26 -->\n<g id=\"edge26\" class=\"edge\">\n<title>24&#45;&gt;26</title>\n<path fill=\"none\" stroke=\"black\" d=\"M1081.53,-192.88C1086.01,-184.42 1090.89,-175.21 1095.58,-166.35\"/>\n<polygon fill=\"black\" stroke=\"black\" points=\"1098.79,-167.77 1100.37,-157.3 1092.6,-164.5 1098.79,-167.77\"/>\n</g>\n<!-- 27 -->\n<g id=\"node28\" class=\"node\">\n<title>27</title>\n<polygon fill=\"#eeab7b\" stroke=\"black\" points=\"1046.5,-53 951.5,-53 951.5,0 1046.5,0 1046.5,-53\"/>\n<text text-anchor=\"middle\" x=\"999\" y=\"-37.8\" font-family=\"Helvetica,sans-Serif\" font-size=\"14.00\">gini = 0.375</text>\n<text text-anchor=\"middle\" x=\"999\" y=\"-22.8\" font-family=\"Helvetica,sans-Serif\" font-size=\"14.00\">samples = 4</text>\n<text text-anchor=\"middle\" x=\"999\" y=\"-7.8\" font-family=\"Helvetica,sans-Serif\" font-size=\"14.00\">value = [3, 1]</text>\n</g>\n<!-- 26&#45;&gt;27 -->\n<g id=\"edge27\" class=\"edge\">\n<title>26&#45;&gt;27</title>\n<path fill=\"none\" stroke=\"black\" d=\"M1076.38,-88.95C1064.4,-79.43 1051.35,-69.07 1039.44,-59.62\"/>\n<polygon fill=\"black\" stroke=\"black\" points=\"1041.42,-56.71 1031.41,-53.24 1037.06,-62.2 1041.42,-56.71\"/>\n</g>\n<!-- 28 -->\n<g id=\"node29\" class=\"node\">\n<title>28</title>\n<polygon fill=\"#4ba6e7\" stroke=\"black\" points=\"1167,-53 1065,-53 1065,0 1167,0 1167,-53\"/>\n<text text-anchor=\"middle\" x=\"1116\" y=\"-37.8\" font-family=\"Helvetica,sans-Serif\" font-size=\"14.00\">gini = 0.153</text>\n<text text-anchor=\"middle\" x=\"1116\" y=\"-22.8\" font-family=\"Helvetica,sans-Serif\" font-size=\"14.00\">samples = 12</text>\n<text text-anchor=\"middle\" x=\"1116\" y=\"-7.8\" font-family=\"Helvetica,sans-Serif\" font-size=\"14.00\">value = [1, 11]</text>\n</g>\n<!-- 26&#45;&gt;28 -->\n<g id=\"edge28\" class=\"edge\">\n<title>26&#45;&gt;28</title>\n<path fill=\"none\" stroke=\"black\" d=\"M1117.3,-88.95C1117.13,-80.72 1116.94,-71.85 1116.76,-63.48\"/>\n<polygon fill=\"black\" stroke=\"black\" points=\"1120.26,-63.16 1116.54,-53.24 1113.26,-63.31 1120.26,-63.16\"/>\n</g>\n<!-- 30 -->\n<g id=\"node31\" class=\"node\">\n<title>30</title>\n<polygon fill=\"#f4c8a9\" stroke=\"black\" points=\"1462,-261 1352,-261 1352,-193 1462,-193 1462,-261\"/>\n<text text-anchor=\"middle\" x=\"1407\" y=\"-245.8\" font-family=\"Helvetica,sans-Serif\" font-size=\"14.00\">x[12] &lt;= &#45;0.083</text>\n<text text-anchor=\"middle\" x=\"1407\" y=\"-230.8\" font-family=\"Helvetica,sans-Serif\" font-size=\"14.00\">gini = 0.461</text>\n<text text-anchor=\"middle\" x=\"1407\" y=\"-215.8\" font-family=\"Helvetica,sans-Serif\" font-size=\"14.00\">samples = 36</text>\n<text text-anchor=\"middle\" x=\"1407\" y=\"-200.8\" font-family=\"Helvetica,sans-Serif\" font-size=\"14.00\">value = [23, 13]</text>\n</g>\n<!-- 29&#45;&gt;30 -->\n<g id=\"edge30\" class=\"edge\">\n<title>29&#45;&gt;30</title>\n<path fill=\"none\" stroke=\"black\" d=\"M1407,-296.88C1407,-288.78 1407,-279.98 1407,-271.47\"/>\n<polygon fill=\"black\" stroke=\"black\" points=\"1410.5,-271.3 1407,-261.3 1403.5,-271.3 1410.5,-271.3\"/>\n</g>\n<!-- 37 -->\n<g id=\"node38\" class=\"node\">\n<title>37</title>\n<polygon fill=\"#50a8e8\" stroke=\"black\" points=\"1645,-261 1537,-261 1537,-193 1645,-193 1645,-261\"/>\n<text text-anchor=\"middle\" x=\"1591\" y=\"-245.8\" font-family=\"Helvetica,sans-Serif\" font-size=\"14.00\">x[13] &lt;= &#45;0.361</text>\n<text text-anchor=\"middle\" x=\"1591\" y=\"-230.8\" font-family=\"Helvetica,sans-Serif\" font-size=\"14.00\">gini = 0.184</text>\n<text text-anchor=\"middle\" x=\"1591\" y=\"-215.8\" font-family=\"Helvetica,sans-Serif\" font-size=\"14.00\">samples = 39</text>\n<text text-anchor=\"middle\" x=\"1591\" y=\"-200.8\" font-family=\"Helvetica,sans-Serif\" font-size=\"14.00\">value = [4, 35]</text>\n</g>\n<!-- 29&#45;&gt;37 -->\n<g id=\"edge37\" class=\"edge\">\n<title>29&#45;&gt;37</title>\n<path fill=\"none\" stroke=\"black\" d=\"M1462.21,-299.4C1482.86,-287.95 1506.48,-274.85 1527.8,-263.03\"/>\n<polygon fill=\"black\" stroke=\"black\" points=\"1529.73,-265.96 1536.78,-258.05 1526.34,-259.84 1529.73,-265.96\"/>\n</g>\n<!-- 31 -->\n<g id=\"node32\" class=\"node\">\n<title>31</title>\n<polygon fill=\"#ea9a61\" stroke=\"black\" points=\"1403,-157 1295,-157 1295,-89 1403,-89 1403,-157\"/>\n<text text-anchor=\"middle\" x=\"1349\" y=\"-141.8\" font-family=\"Helvetica,sans-Serif\" font-size=\"14.00\">x[13] &lt;= &#45;0.101</text>\n<text text-anchor=\"middle\" x=\"1349\" y=\"-126.8\" font-family=\"Helvetica,sans-Serif\" font-size=\"14.00\">gini = 0.278</text>\n<text text-anchor=\"middle\" x=\"1349\" y=\"-111.8\" font-family=\"Helvetica,sans-Serif\" font-size=\"14.00\">samples = 24</text>\n<text text-anchor=\"middle\" x=\"1349\" y=\"-96.8\" font-family=\"Helvetica,sans-Serif\" font-size=\"14.00\">value = [20, 4]</text>\n</g>\n<!-- 30&#45;&gt;31 -->\n<g id=\"edge31\" class=\"edge\">\n<title>30&#45;&gt;31</title>\n<path fill=\"none\" stroke=\"black\" d=\"M1388.17,-192.88C1383.31,-184.33 1378.01,-175.01 1372.92,-166.07\"/>\n<polygon fill=\"black\" stroke=\"black\" points=\"1375.92,-164.26 1367.93,-157.3 1369.84,-167.72 1375.92,-164.26\"/>\n</g>\n<!-- 34 -->\n<g id=\"node35\" class=\"node\">\n<title>34</title>\n<polygon fill=\"#7bbeee\" stroke=\"black\" points=\"1519,-157 1421,-157 1421,-89 1519,-89 1519,-157\"/>\n<text text-anchor=\"middle\" x=\"1470\" y=\"-141.8\" font-family=\"Helvetica,sans-Serif\" font-size=\"14.00\">x[16] &lt;= 0.55</text>\n<text text-anchor=\"middle\" x=\"1470\" y=\"-126.8\" font-family=\"Helvetica,sans-Serif\" font-size=\"14.00\">gini = 0.375</text>\n<text text-anchor=\"middle\" x=\"1470\" y=\"-111.8\" font-family=\"Helvetica,sans-Serif\" font-size=\"14.00\">samples = 12</text>\n<text text-anchor=\"middle\" x=\"1470\" y=\"-96.8\" font-family=\"Helvetica,sans-Serif\" font-size=\"14.00\">value = [3, 9]</text>\n</g>\n<!-- 30&#45;&gt;34 -->\n<g id=\"edge34\" class=\"edge\">\n<title>30&#45;&gt;34</title>\n<path fill=\"none\" stroke=\"black\" d=\"M1427.45,-192.88C1432.74,-184.33 1438.49,-175.01 1444.01,-166.07\"/>\n<polygon fill=\"black\" stroke=\"black\" points=\"1447.16,-167.65 1449.43,-157.3 1441.2,-163.97 1447.16,-167.65\"/>\n</g>\n<!-- 32 -->\n<g id=\"node33\" class=\"node\">\n<title>32</title>\n<polygon fill=\"#e78845\" stroke=\"black\" points=\"1287,-53 1185,-53 1185,0 1287,0 1287,-53\"/>\n<text text-anchor=\"middle\" x=\"1236\" y=\"-37.8\" font-family=\"Helvetica,sans-Serif\" font-size=\"14.00\">gini = 0.105</text>\n<text text-anchor=\"middle\" x=\"1236\" y=\"-22.8\" font-family=\"Helvetica,sans-Serif\" font-size=\"14.00\">samples = 18</text>\n<text text-anchor=\"middle\" x=\"1236\" y=\"-7.8\" font-family=\"Helvetica,sans-Serif\" font-size=\"14.00\">value = [17, 1]</text>\n</g>\n<!-- 31&#45;&gt;32 -->\n<g id=\"edge32\" class=\"edge\">\n<title>31&#45;&gt;32</title>\n<path fill=\"none\" stroke=\"black\" d=\"M1309.48,-88.95C1298.21,-79.53 1285.95,-69.27 1274.73,-59.89\"/>\n<polygon fill=\"black\" stroke=\"black\" points=\"1276.69,-56.97 1266.78,-53.24 1272.2,-62.34 1276.69,-56.97\"/>\n</g>\n<!-- 33 -->\n<g id=\"node34\" class=\"node\">\n<title>33</title>\n<polygon fill=\"#ffffff\" stroke=\"black\" points=\"1400.5,-53 1305.5,-53 1305.5,0 1400.5,0 1400.5,-53\"/>\n<text text-anchor=\"middle\" x=\"1353\" y=\"-37.8\" font-family=\"Helvetica,sans-Serif\" font-size=\"14.00\">gini = 0.5</text>\n<text text-anchor=\"middle\" x=\"1353\" y=\"-22.8\" font-family=\"Helvetica,sans-Serif\" font-size=\"14.00\">samples = 6</text>\n<text text-anchor=\"middle\" x=\"1353\" y=\"-7.8\" font-family=\"Helvetica,sans-Serif\" font-size=\"14.00\">value = [3, 3]</text>\n</g>\n<!-- 31&#45;&gt;33 -->\n<g id=\"edge33\" class=\"edge\">\n<title>31&#45;&gt;33</title>\n<path fill=\"none\" stroke=\"black\" d=\"M1350.4,-88.95C1350.75,-80.72 1351.12,-71.85 1351.48,-63.48\"/>\n<polygon fill=\"black\" stroke=\"black\" points=\"1354.98,-63.38 1351.91,-53.24 1347.99,-63.08 1354.98,-63.38\"/>\n</g>\n<!-- 35 -->\n<g id=\"node36\" class=\"node\">\n<title>35</title>\n<polygon fill=\"#f6d5bd\" stroke=\"black\" points=\"1513.5,-53 1418.5,-53 1418.5,0 1513.5,0 1513.5,-53\"/>\n<text text-anchor=\"middle\" x=\"1466\" y=\"-37.8\" font-family=\"Helvetica,sans-Serif\" font-size=\"14.00\">gini = 0.48</text>\n<text text-anchor=\"middle\" x=\"1466\" y=\"-22.8\" font-family=\"Helvetica,sans-Serif\" font-size=\"14.00\">samples = 5</text>\n<text text-anchor=\"middle\" x=\"1466\" y=\"-7.8\" font-family=\"Helvetica,sans-Serif\" font-size=\"14.00\">value = [3, 2]</text>\n</g>\n<!-- 34&#45;&gt;35 -->\n<g id=\"edge35\" class=\"edge\">\n<title>34&#45;&gt;35</title>\n<path fill=\"none\" stroke=\"black\" d=\"M1468.6,-88.95C1468.25,-80.72 1467.88,-71.85 1467.52,-63.48\"/>\n<polygon fill=\"black\" stroke=\"black\" points=\"1471.01,-63.08 1467.09,-53.24 1464.02,-63.38 1471.01,-63.08\"/>\n</g>\n<!-- 36 -->\n<g id=\"node37\" class=\"node\">\n<title>36</title>\n<polygon fill=\"#399de5\" stroke=\"black\" points=\"1626.5,-53 1531.5,-53 1531.5,0 1626.5,0 1626.5,-53\"/>\n<text text-anchor=\"middle\" x=\"1579\" y=\"-37.8\" font-family=\"Helvetica,sans-Serif\" font-size=\"14.00\">gini = 0.0</text>\n<text text-anchor=\"middle\" x=\"1579\" y=\"-22.8\" font-family=\"Helvetica,sans-Serif\" font-size=\"14.00\">samples = 7</text>\n<text text-anchor=\"middle\" x=\"1579\" y=\"-7.8\" font-family=\"Helvetica,sans-Serif\" font-size=\"14.00\">value = [0, 7]</text>\n</g>\n<!-- 34&#45;&gt;36 -->\n<g id=\"edge36\" class=\"edge\">\n<title>34&#45;&gt;36</title>\n<path fill=\"none\" stroke=\"black\" d=\"M1508.12,-88.95C1518.99,-79.53 1530.82,-69.27 1541.64,-59.89\"/>\n<polygon fill=\"black\" stroke=\"black\" points=\"1544.05,-62.43 1549.31,-53.24 1539.47,-57.14 1544.05,-62.43\"/>\n</g>\n<!-- 38 -->\n<g id=\"node39\" class=\"node\">\n<title>38</title>\n<polygon fill=\"#bddef6\" stroke=\"black\" points=\"1640,-157 1542,-157 1542,-89 1640,-89 1640,-157\"/>\n<text text-anchor=\"middle\" x=\"1591\" y=\"-141.8\" font-family=\"Helvetica,sans-Serif\" font-size=\"14.00\">x[0] &lt;= 0.963</text>\n<text text-anchor=\"middle\" x=\"1591\" y=\"-126.8\" font-family=\"Helvetica,sans-Serif\" font-size=\"14.00\">gini = 0.48</text>\n<text text-anchor=\"middle\" x=\"1591\" y=\"-111.8\" font-family=\"Helvetica,sans-Serif\" font-size=\"14.00\">samples = 10</text>\n<text text-anchor=\"middle\" x=\"1591\" y=\"-96.8\" font-family=\"Helvetica,sans-Serif\" font-size=\"14.00\">value = [4, 6]</text>\n</g>\n<!-- 37&#45;&gt;38 -->\n<g id=\"edge38\" class=\"edge\">\n<title>37&#45;&gt;38</title>\n<path fill=\"none\" stroke=\"black\" d=\"M1591,-192.88C1591,-184.78 1591,-175.98 1591,-167.47\"/>\n<polygon fill=\"black\" stroke=\"black\" points=\"1594.5,-167.3 1591,-157.3 1587.5,-167.3 1594.5,-167.3\"/>\n</g>\n<!-- 41 -->\n<g id=\"node42\" class=\"node\">\n<title>41</title>\n<polygon fill=\"#399de5\" stroke=\"black\" points=\"1760,-149.5 1658,-149.5 1658,-96.5 1760,-96.5 1760,-149.5\"/>\n<text text-anchor=\"middle\" x=\"1709\" y=\"-134.3\" font-family=\"Helvetica,sans-Serif\" font-size=\"14.00\">gini = 0.0</text>\n<text text-anchor=\"middle\" x=\"1709\" y=\"-119.3\" font-family=\"Helvetica,sans-Serif\" font-size=\"14.00\">samples = 29</text>\n<text text-anchor=\"middle\" x=\"1709\" y=\"-104.3\" font-family=\"Helvetica,sans-Serif\" font-size=\"14.00\">value = [0, 29]</text>\n</g>\n<!-- 37&#45;&gt;41 -->\n<g id=\"edge41\" class=\"edge\">\n<title>37&#45;&gt;41</title>\n<path fill=\"none\" stroke=\"black\" d=\"M1629.31,-192.88C1642.92,-181.12 1658.22,-167.89 1671.75,-156.2\"/>\n<polygon fill=\"black\" stroke=\"black\" points=\"1674.2,-158.71 1679.48,-149.52 1669.62,-153.41 1674.2,-158.71\"/>\n</g>\n<!-- 39 -->\n<g id=\"node40\" class=\"node\">\n<title>39</title>\n<polygon fill=\"#eca06a\" stroke=\"black\" points=\"1739.5,-53 1644.5,-53 1644.5,0 1739.5,0 1739.5,-53\"/>\n<text text-anchor=\"middle\" x=\"1692\" y=\"-37.8\" font-family=\"Helvetica,sans-Serif\" font-size=\"14.00\">gini = 0.32</text>\n<text text-anchor=\"middle\" x=\"1692\" y=\"-22.8\" font-family=\"Helvetica,sans-Serif\" font-size=\"14.00\">samples = 5</text>\n<text text-anchor=\"middle\" x=\"1692\" y=\"-7.8\" font-family=\"Helvetica,sans-Serif\" font-size=\"14.00\">value = [4, 1]</text>\n</g>\n<!-- 38&#45;&gt;39 -->\n<g id=\"edge39\" class=\"edge\">\n<title>38&#45;&gt;39</title>\n<path fill=\"none\" stroke=\"black\" d=\"M1626.32,-88.95C1636.3,-79.62 1647.14,-69.47 1657.09,-60.16\"/>\n<polygon fill=\"black\" stroke=\"black\" points=\"1659.58,-62.62 1664.49,-53.24 1654.8,-57.51 1659.58,-62.62\"/>\n</g>\n<!-- 40 -->\n<g id=\"node41\" class=\"node\">\n<title>40</title>\n<polygon fill=\"#399de5\" stroke=\"black\" points=\"1852.5,-53 1757.5,-53 1757.5,0 1852.5,0 1852.5,-53\"/>\n<text text-anchor=\"middle\" x=\"1805\" y=\"-37.8\" font-family=\"Helvetica,sans-Serif\" font-size=\"14.00\">gini = 0.0</text>\n<text text-anchor=\"middle\" x=\"1805\" y=\"-22.8\" font-family=\"Helvetica,sans-Serif\" font-size=\"14.00\">samples = 5</text>\n<text text-anchor=\"middle\" x=\"1805\" y=\"-7.8\" font-family=\"Helvetica,sans-Serif\" font-size=\"14.00\">value = [0, 5]</text>\n</g>\n<!-- 38&#45;&gt;40 -->\n<g id=\"edge40\" class=\"edge\">\n<title>38&#45;&gt;40</title>\n<path fill=\"none\" stroke=\"black\" d=\"M1640.06,-93.34C1643.06,-91.82 1646.06,-90.36 1649,-89 1688.84,-70.58 1702.85,-70.5 1747.79,-52.93\"/>\n<polygon fill=\"black\" stroke=\"black\" points=\"1749.22,-56.13 1757.21,-49.18 1746.63,-49.63 1749.22,-56.13\"/>\n</g>\n<!-- 43 -->\n<g id=\"node44\" class=\"node\">\n<title>43</title>\n<polygon fill=\"#8ec7f0\" stroke=\"black\" points=\"2089,-469 1979,-469 1979,-401 2089,-401 2089,-469\"/>\n<text text-anchor=\"middle\" x=\"2034\" y=\"-453.8\" font-family=\"Helvetica,sans-Serif\" font-size=\"14.00\">x[0] &lt;= &#45;0.129</text>\n<text text-anchor=\"middle\" x=\"2034\" y=\"-438.8\" font-family=\"Helvetica,sans-Serif\" font-size=\"14.00\">gini = 0.42</text>\n<text text-anchor=\"middle\" x=\"2034\" y=\"-423.8\" font-family=\"Helvetica,sans-Serif\" font-size=\"14.00\">samples = 100</text>\n<text text-anchor=\"middle\" x=\"2034\" y=\"-408.8\" font-family=\"Helvetica,sans-Serif\" font-size=\"14.00\">value = [30, 70]</text>\n</g>\n<!-- 42&#45;&gt;43 -->\n<g id=\"edge43\" class=\"edge\">\n<title>42&#45;&gt;43</title>\n<path fill=\"none\" stroke=\"black\" d=\"M2034,-504.88C2034,-496.78 2034,-487.98 2034,-479.47\"/>\n<polygon fill=\"black\" stroke=\"black\" points=\"2037.5,-479.3 2034,-469.3 2030.5,-479.3 2037.5,-479.3\"/>\n</g>\n<!-- 56 -->\n<g id=\"node57\" class=\"node\">\n<title>56</title>\n<polygon fill=\"#3d9fe6\" stroke=\"black\" points=\"2748.5,-469 2631.5,-469 2631.5,-401 2748.5,-401 2748.5,-469\"/>\n<text text-anchor=\"middle\" x=\"2690\" y=\"-453.8\" font-family=\"Helvetica,sans-Serif\" font-size=\"14.00\">x[0] &lt;= &#45;1.412</text>\n<text text-anchor=\"middle\" x=\"2690\" y=\"-438.8\" font-family=\"Helvetica,sans-Serif\" font-size=\"14.00\">gini = 0.042</text>\n<text text-anchor=\"middle\" x=\"2690\" y=\"-423.8\" font-family=\"Helvetica,sans-Serif\" font-size=\"14.00\">samples = 555</text>\n<text text-anchor=\"middle\" x=\"2690\" y=\"-408.8\" font-family=\"Helvetica,sans-Serif\" font-size=\"14.00\">value = [12, 543]</text>\n</g>\n<!-- 42&#45;&gt;56 -->\n<g id=\"edge56\" class=\"edge\">\n<title>42&#45;&gt;56</title>\n<path fill=\"none\" stroke=\"black\" d=\"M2092.5,-528.9C2213.58,-510.08 2491.13,-466.92 2620.83,-446.75\"/>\n<polygon fill=\"black\" stroke=\"black\" points=\"2621.69,-450.16 2631.04,-445.17 2620.62,-443.25 2621.69,-450.16\"/>\n</g>\n<!-- 44 -->\n<g id=\"node45\" class=\"node\">\n<title>44</title>\n<polygon fill=\"#f7dac4\" stroke=\"black\" points=\"2001,-365 1891,-365 1891,-297 2001,-297 2001,-365\"/>\n<text text-anchor=\"middle\" x=\"1946\" y=\"-349.8\" font-family=\"Helvetica,sans-Serif\" font-size=\"14.00\">x[12] &lt;= &#45;0.083</text>\n<text text-anchor=\"middle\" x=\"1946\" y=\"-334.8\" font-family=\"Helvetica,sans-Serif\" font-size=\"14.00\">gini = 0.485</text>\n<text text-anchor=\"middle\" x=\"1946\" y=\"-319.8\" font-family=\"Helvetica,sans-Serif\" font-size=\"14.00\">samples = 46</text>\n<text text-anchor=\"middle\" x=\"1946\" y=\"-304.8\" font-family=\"Helvetica,sans-Serif\" font-size=\"14.00\">value = [27, 19]</text>\n</g>\n<!-- 43&#45;&gt;44 -->\n<g id=\"edge44\" class=\"edge\">\n<title>43&#45;&gt;44</title>\n<path fill=\"none\" stroke=\"black\" d=\"M2005.43,-400.88C1997.74,-391.98 1989.34,-382.24 1981.34,-372.96\"/>\n<polygon fill=\"black\" stroke=\"black\" points=\"1983.91,-370.58 1974.73,-365.3 1978.61,-375.16 1983.91,-370.58\"/>\n</g>\n<!-- 49 -->\n<g id=\"node50\" class=\"node\">\n<title>49</title>\n<polygon fill=\"#45a3e7\" stroke=\"black\" points=\"2175,-365 2067,-365 2067,-297 2175,-297 2175,-365\"/>\n<text text-anchor=\"middle\" x=\"2121\" y=\"-349.8\" font-family=\"Helvetica,sans-Serif\" font-size=\"14.00\">x[12] &lt;= &#45;1.433</text>\n<text text-anchor=\"middle\" x=\"2121\" y=\"-334.8\" font-family=\"Helvetica,sans-Serif\" font-size=\"14.00\">gini = 0.105</text>\n<text text-anchor=\"middle\" x=\"2121\" y=\"-319.8\" font-family=\"Helvetica,sans-Serif\" font-size=\"14.00\">samples = 54</text>\n<text text-anchor=\"middle\" x=\"2121\" y=\"-304.8\" font-family=\"Helvetica,sans-Serif\" font-size=\"14.00\">value = [3, 51]</text>\n</g>\n<!-- 43&#45;&gt;49 -->\n<g id=\"edge49\" class=\"edge\">\n<title>43&#45;&gt;49</title>\n<path fill=\"none\" stroke=\"black\" d=\"M2062.25,-400.88C2069.84,-391.98 2078.15,-382.24 2086.07,-372.96\"/>\n<polygon fill=\"black\" stroke=\"black\" points=\"2088.77,-375.18 2092.6,-365.3 2083.45,-370.64 2088.77,-375.18\"/>\n</g>\n<!-- 45 -->\n<g id=\"node46\" class=\"node\">\n<title>45</title>\n<polygon fill=\"#e58139\" stroke=\"black\" points=\"1877,-253.5 1775,-253.5 1775,-200.5 1877,-200.5 1877,-253.5\"/>\n<text text-anchor=\"middle\" x=\"1826\" y=\"-238.3\" font-family=\"Helvetica,sans-Serif\" font-size=\"14.00\">gini = 0.0</text>\n<text text-anchor=\"middle\" x=\"1826\" y=\"-223.3\" font-family=\"Helvetica,sans-Serif\" font-size=\"14.00\">samples = 25</text>\n<text text-anchor=\"middle\" x=\"1826\" y=\"-208.3\" font-family=\"Helvetica,sans-Serif\" font-size=\"14.00\">value = [25, 0]</text>\n</g>\n<!-- 44&#45;&gt;45 -->\n<g id=\"edge45\" class=\"edge\">\n<title>44&#45;&gt;45</title>\n<path fill=\"none\" stroke=\"black\" d=\"M1907.04,-296.88C1893.2,-285.12 1877.64,-271.89 1863.89,-260.2\"/>\n<polygon fill=\"black\" stroke=\"black\" points=\"1865.91,-257.33 1856.02,-253.52 1861.38,-262.66 1865.91,-257.33\"/>\n</g>\n<!-- 46 -->\n<g id=\"node47\" class=\"node\">\n<title>46</title>\n<polygon fill=\"#4ea7e8\" stroke=\"black\" points=\"1997,-261 1895,-261 1895,-193 1997,-193 1997,-261\"/>\n<text text-anchor=\"middle\" x=\"1946\" y=\"-245.8\" font-family=\"Helvetica,sans-Serif\" font-size=\"14.00\">x[4] &lt;= 1.927</text>\n<text text-anchor=\"middle\" x=\"1946\" y=\"-230.8\" font-family=\"Helvetica,sans-Serif\" font-size=\"14.00\">gini = 0.172</text>\n<text text-anchor=\"middle\" x=\"1946\" y=\"-215.8\" font-family=\"Helvetica,sans-Serif\" font-size=\"14.00\">samples = 21</text>\n<text text-anchor=\"middle\" x=\"1946\" y=\"-200.8\" font-family=\"Helvetica,sans-Serif\" font-size=\"14.00\">value = [2, 19]</text>\n</g>\n<!-- 44&#45;&gt;46 -->\n<g id=\"edge46\" class=\"edge\">\n<title>44&#45;&gt;46</title>\n<path fill=\"none\" stroke=\"black\" d=\"M1946,-296.88C1946,-288.78 1946,-279.98 1946,-271.47\"/>\n<polygon fill=\"black\" stroke=\"black\" points=\"1949.5,-271.3 1946,-261.3 1942.5,-271.3 1949.5,-271.3\"/>\n</g>\n<!-- 47 -->\n<g id=\"node48\" class=\"node\">\n<title>47</title>\n<polygon fill=\"#399de5\" stroke=\"black\" points=\"1880,-149.5 1778,-149.5 1778,-96.5 1880,-96.5 1880,-149.5\"/>\n<text text-anchor=\"middle\" x=\"1829\" y=\"-134.3\" font-family=\"Helvetica,sans-Serif\" font-size=\"14.00\">gini = 0.0</text>\n<text text-anchor=\"middle\" x=\"1829\" y=\"-119.3\" font-family=\"Helvetica,sans-Serif\" font-size=\"14.00\">samples = 19</text>\n<text text-anchor=\"middle\" x=\"1829\" y=\"-104.3\" font-family=\"Helvetica,sans-Serif\" font-size=\"14.00\">value = [0, 19]</text>\n</g>\n<!-- 46&#45;&gt;47 -->\n<g id=\"edge47\" class=\"edge\">\n<title>46&#45;&gt;47</title>\n<path fill=\"none\" stroke=\"black\" d=\"M1908.01,-192.88C1894.52,-181.12 1879.35,-167.89 1865.94,-156.2\"/>\n<polygon fill=\"black\" stroke=\"black\" points=\"1868.11,-153.45 1858.27,-149.52 1863.51,-158.73 1868.11,-153.45\"/>\n</g>\n<!-- 48 -->\n<g id=\"node49\" class=\"node\">\n<title>48</title>\n<polygon fill=\"#e58139\" stroke=\"black\" points=\"1993.5,-149.5 1898.5,-149.5 1898.5,-96.5 1993.5,-96.5 1993.5,-149.5\"/>\n<text text-anchor=\"middle\" x=\"1946\" y=\"-134.3\" font-family=\"Helvetica,sans-Serif\" font-size=\"14.00\">gini = 0.0</text>\n<text text-anchor=\"middle\" x=\"1946\" y=\"-119.3\" font-family=\"Helvetica,sans-Serif\" font-size=\"14.00\">samples = 2</text>\n<text text-anchor=\"middle\" x=\"1946\" y=\"-104.3\" font-family=\"Helvetica,sans-Serif\" font-size=\"14.00\">value = [2, 0]</text>\n</g>\n<!-- 46&#45;&gt;48 -->\n<g id=\"edge48\" class=\"edge\">\n<title>46&#45;&gt;48</title>\n<path fill=\"none\" stroke=\"black\" d=\"M1946,-192.88C1946,-182.33 1946,-170.6 1946,-159.85\"/>\n<polygon fill=\"black\" stroke=\"black\" points=\"1949.5,-159.52 1946,-149.52 1942.5,-159.52 1949.5,-159.52\"/>\n</g>\n<!-- 50 -->\n<g id=\"node51\" class=\"node\">\n<title>50</title>\n<polygon fill=\"#bddef6\" stroke=\"black\" points=\"2168.5,-261 2073.5,-261 2073.5,-193 2168.5,-193 2168.5,-261\"/>\n<text text-anchor=\"middle\" x=\"2121\" y=\"-245.8\" font-family=\"Helvetica,sans-Serif\" font-size=\"14.00\">x[0] &lt;= 0.61</text>\n<text text-anchor=\"middle\" x=\"2121\" y=\"-230.8\" font-family=\"Helvetica,sans-Serif\" font-size=\"14.00\">gini = 0.48</text>\n<text text-anchor=\"middle\" x=\"2121\" y=\"-215.8\" font-family=\"Helvetica,sans-Serif\" font-size=\"14.00\">samples = 5</text>\n<text text-anchor=\"middle\" x=\"2121\" y=\"-200.8\" font-family=\"Helvetica,sans-Serif\" font-size=\"14.00\">value = [2, 3]</text>\n</g>\n<!-- 49&#45;&gt;50 -->\n<g id=\"edge50\" class=\"edge\">\n<title>49&#45;&gt;50</title>\n<path fill=\"none\" stroke=\"black\" d=\"M2121,-296.88C2121,-288.78 2121,-279.98 2121,-271.47\"/>\n<polygon fill=\"black\" stroke=\"black\" points=\"2124.5,-271.3 2121,-261.3 2117.5,-271.3 2124.5,-271.3\"/>\n</g>\n<!-- 53 -->\n<g id=\"node54\" class=\"node\">\n<title>53</title>\n<polygon fill=\"#3d9fe6\" stroke=\"black\" points=\"2336,-261 2234,-261 2234,-193 2336,-193 2336,-261\"/>\n<text text-anchor=\"middle\" x=\"2285\" y=\"-245.8\" font-family=\"Helvetica,sans-Serif\" font-size=\"14.00\">x[15] &lt;= &#45;1.21</text>\n<text text-anchor=\"middle\" x=\"2285\" y=\"-230.8\" font-family=\"Helvetica,sans-Serif\" font-size=\"14.00\">gini = 0.04</text>\n<text text-anchor=\"middle\" x=\"2285\" y=\"-215.8\" font-family=\"Helvetica,sans-Serif\" font-size=\"14.00\">samples = 49</text>\n<text text-anchor=\"middle\" x=\"2285\" y=\"-200.8\" font-family=\"Helvetica,sans-Serif\" font-size=\"14.00\">value = [1, 48]</text>\n</g>\n<!-- 49&#45;&gt;53 -->\n<g id=\"edge53\" class=\"edge\">\n<title>49&#45;&gt;53</title>\n<path fill=\"none\" stroke=\"black\" d=\"M2174.25,-296.88C2190.57,-286.73 2208.64,-275.49 2225.37,-265.09\"/>\n<polygon fill=\"black\" stroke=\"black\" points=\"2227.33,-267.99 2233.97,-259.74 2223.63,-262.04 2227.33,-267.99\"/>\n</g>\n<!-- 51 -->\n<g id=\"node52\" class=\"node\">\n<title>51</title>\n<polygon fill=\"#e58139\" stroke=\"black\" points=\"2106.5,-149.5 2011.5,-149.5 2011.5,-96.5 2106.5,-96.5 2106.5,-149.5\"/>\n<text text-anchor=\"middle\" x=\"2059\" y=\"-134.3\" font-family=\"Helvetica,sans-Serif\" font-size=\"14.00\">gini = 0.0</text>\n<text text-anchor=\"middle\" x=\"2059\" y=\"-119.3\" font-family=\"Helvetica,sans-Serif\" font-size=\"14.00\">samples = 2</text>\n<text text-anchor=\"middle\" x=\"2059\" y=\"-104.3\" font-family=\"Helvetica,sans-Serif\" font-size=\"14.00\">value = [2, 0]</text>\n</g>\n<!-- 50&#45;&gt;51 -->\n<g id=\"edge51\" class=\"edge\">\n<title>50&#45;&gt;51</title>\n<path fill=\"none\" stroke=\"black\" d=\"M2100.87,-192.88C2094.12,-181.78 2086.58,-169.37 2079.78,-158.18\"/>\n<polygon fill=\"black\" stroke=\"black\" points=\"2082.7,-156.25 2074.51,-149.52 2076.72,-159.88 2082.7,-156.25\"/>\n</g>\n<!-- 52 -->\n<g id=\"node53\" class=\"node\">\n<title>52</title>\n<polygon fill=\"#399de5\" stroke=\"black\" points=\"2219.5,-149.5 2124.5,-149.5 2124.5,-96.5 2219.5,-96.5 2219.5,-149.5\"/>\n<text text-anchor=\"middle\" x=\"2172\" y=\"-134.3\" font-family=\"Helvetica,sans-Serif\" font-size=\"14.00\">gini = 0.0</text>\n<text text-anchor=\"middle\" x=\"2172\" y=\"-119.3\" font-family=\"Helvetica,sans-Serif\" font-size=\"14.00\">samples = 3</text>\n<text text-anchor=\"middle\" x=\"2172\" y=\"-104.3\" font-family=\"Helvetica,sans-Serif\" font-size=\"14.00\">value = [0, 3]</text>\n</g>\n<!-- 50&#45;&gt;52 -->\n<g id=\"edge52\" class=\"edge\">\n<title>50&#45;&gt;52</title>\n<path fill=\"none\" stroke=\"black\" d=\"M2137.56,-192.88C2143.06,-181.89 2149.19,-169.62 2154.74,-158.52\"/>\n<polygon fill=\"black\" stroke=\"black\" points=\"2157.9,-160.03 2159.24,-149.52 2151.64,-156.9 2157.9,-160.03\"/>\n</g>\n<!-- 54 -->\n<g id=\"node55\" class=\"node\">\n<title>54</title>\n<polygon fill=\"#e58139\" stroke=\"black\" points=\"2332.5,-149.5 2237.5,-149.5 2237.5,-96.5 2332.5,-96.5 2332.5,-149.5\"/>\n<text text-anchor=\"middle\" x=\"2285\" y=\"-134.3\" font-family=\"Helvetica,sans-Serif\" font-size=\"14.00\">gini = 0.0</text>\n<text text-anchor=\"middle\" x=\"2285\" y=\"-119.3\" font-family=\"Helvetica,sans-Serif\" font-size=\"14.00\">samples = 1</text>\n<text text-anchor=\"middle\" x=\"2285\" y=\"-104.3\" font-family=\"Helvetica,sans-Serif\" font-size=\"14.00\">value = [1, 0]</text>\n</g>\n<!-- 53&#45;&gt;54 -->\n<g id=\"edge54\" class=\"edge\">\n<title>53&#45;&gt;54</title>\n<path fill=\"none\" stroke=\"black\" d=\"M2285,-192.88C2285,-182.33 2285,-170.6 2285,-159.85\"/>\n<polygon fill=\"black\" stroke=\"black\" points=\"2288.5,-159.52 2285,-149.52 2281.5,-159.52 2288.5,-159.52\"/>\n</g>\n<!-- 55 -->\n<g id=\"node56\" class=\"node\">\n<title>55</title>\n<polygon fill=\"#399de5\" stroke=\"black\" points=\"2453,-149.5 2351,-149.5 2351,-96.5 2453,-96.5 2453,-149.5\"/>\n<text text-anchor=\"middle\" x=\"2402\" y=\"-134.3\" font-family=\"Helvetica,sans-Serif\" font-size=\"14.00\">gini = 0.0</text>\n<text text-anchor=\"middle\" x=\"2402\" y=\"-119.3\" font-family=\"Helvetica,sans-Serif\" font-size=\"14.00\">samples = 48</text>\n<text text-anchor=\"middle\" x=\"2402\" y=\"-104.3\" font-family=\"Helvetica,sans-Serif\" font-size=\"14.00\">value = [0, 48]</text>\n</g>\n<!-- 53&#45;&gt;55 -->\n<g id=\"edge55\" class=\"edge\">\n<title>53&#45;&gt;55</title>\n<path fill=\"none\" stroke=\"black\" d=\"M2322.99,-192.88C2336.48,-181.12 2351.65,-167.89 2365.06,-156.2\"/>\n<polygon fill=\"black\" stroke=\"black\" points=\"2367.49,-158.73 2372.73,-149.52 2362.89,-153.45 2367.49,-158.73\"/>\n</g>\n<!-- 57 -->\n<g id=\"node58\" class=\"node\">\n<title>57</title>\n<polygon fill=\"#66b3eb\" stroke=\"black\" points=\"2742,-365 2638,-365 2638,-297 2742,-297 2742,-365\"/>\n<text text-anchor=\"middle\" x=\"2690\" y=\"-349.8\" font-family=\"Helvetica,sans-Serif\" font-size=\"14.00\">x[13] &lt;= 0.468</text>\n<text text-anchor=\"middle\" x=\"2690\" y=\"-334.8\" font-family=\"Helvetica,sans-Serif\" font-size=\"14.00\">gini = 0.3</text>\n<text text-anchor=\"middle\" x=\"2690\" y=\"-319.8\" font-family=\"Helvetica,sans-Serif\" font-size=\"14.00\">samples = 49</text>\n<text text-anchor=\"middle\" x=\"2690\" y=\"-304.8\" font-family=\"Helvetica,sans-Serif\" font-size=\"14.00\">value = [9, 40]</text>\n</g>\n<!-- 56&#45;&gt;57 -->\n<g id=\"edge57\" class=\"edge\">\n<title>56&#45;&gt;57</title>\n<path fill=\"none\" stroke=\"black\" d=\"M2690,-400.88C2690,-392.78 2690,-383.98 2690,-375.47\"/>\n<polygon fill=\"black\" stroke=\"black\" points=\"2693.5,-375.3 2690,-365.3 2686.5,-375.3 2693.5,-375.3\"/>\n</g>\n<!-- 68 -->\n<g id=\"node69\" class=\"node\">\n<title>68</title>\n<polygon fill=\"#3a9ee5\" stroke=\"black\" points=\"3150,-365 3040,-365 3040,-297 3150,-297 3150,-365\"/>\n<text text-anchor=\"middle\" x=\"3095\" y=\"-349.8\" font-family=\"Helvetica,sans-Serif\" font-size=\"14.00\">x[13] &lt;= 0.501</text>\n<text text-anchor=\"middle\" x=\"3095\" y=\"-334.8\" font-family=\"Helvetica,sans-Serif\" font-size=\"14.00\">gini = 0.012</text>\n<text text-anchor=\"middle\" x=\"3095\" y=\"-319.8\" font-family=\"Helvetica,sans-Serif\" font-size=\"14.00\">samples = 506</text>\n<text text-anchor=\"middle\" x=\"3095\" y=\"-304.8\" font-family=\"Helvetica,sans-Serif\" font-size=\"14.00\">value = [3, 503]</text>\n</g>\n<!-- 56&#45;&gt;68 -->\n<g id=\"edge68\" class=\"edge\">\n<title>56&#45;&gt;68</title>\n<path fill=\"none\" stroke=\"black\" d=\"M2748.89,-419.17C2823.64,-400.34 2952.16,-367.97 3029.8,-348.42\"/>\n<polygon fill=\"black\" stroke=\"black\" points=\"3031.1,-351.7 3039.94,-345.87 3029.39,-344.92 3031.1,-351.7\"/>\n</g>\n<!-- 58 -->\n<g id=\"node59\" class=\"node\">\n<title>58</title>\n<polygon fill=\"#e9965a\" stroke=\"black\" points=\"2680,-261 2576,-261 2576,-193 2680,-193 2680,-261\"/>\n<text text-anchor=\"middle\" x=\"2628\" y=\"-245.8\" font-family=\"Helvetica,sans-Serif\" font-size=\"14.00\">x[13] &lt;= 0.363</text>\n<text text-anchor=\"middle\" x=\"2628\" y=\"-230.8\" font-family=\"Helvetica,sans-Serif\" font-size=\"14.00\">gini = 0.245</text>\n<text text-anchor=\"middle\" x=\"2628\" y=\"-215.8\" font-family=\"Helvetica,sans-Serif\" font-size=\"14.00\">samples = 7</text>\n<text text-anchor=\"middle\" x=\"2628\" y=\"-200.8\" font-family=\"Helvetica,sans-Serif\" font-size=\"14.00\">value = [6, 1]</text>\n</g>\n<!-- 57&#45;&gt;58 -->\n<g id=\"edge58\" class=\"edge\">\n<title>57&#45;&gt;58</title>\n<path fill=\"none\" stroke=\"black\" d=\"M2669.87,-296.88C2664.67,-288.33 2659.01,-279.01 2653.57,-270.07\"/>\n<polygon fill=\"black\" stroke=\"black\" points=\"2656.43,-268.03 2648.24,-261.3 2650.44,-271.66 2656.43,-268.03\"/>\n</g>\n<!-- 61 -->\n<g id=\"node62\" class=\"node\">\n<title>61</title>\n<polygon fill=\"#48a5e7\" stroke=\"black\" points=\"2806,-261 2698,-261 2698,-193 2806,-193 2806,-261\"/>\n<text text-anchor=\"middle\" x=\"2752\" y=\"-245.8\" font-family=\"Helvetica,sans-Serif\" font-size=\"14.00\">x[12] &lt;= &#45;1.495</text>\n<text text-anchor=\"middle\" x=\"2752\" y=\"-230.8\" font-family=\"Helvetica,sans-Serif\" font-size=\"14.00\">gini = 0.133</text>\n<text text-anchor=\"middle\" x=\"2752\" y=\"-215.8\" font-family=\"Helvetica,sans-Serif\" font-size=\"14.00\">samples = 42</text>\n<text text-anchor=\"middle\" x=\"2752\" y=\"-200.8\" font-family=\"Helvetica,sans-Serif\" font-size=\"14.00\">value = [3, 39]</text>\n</g>\n<!-- 57&#45;&gt;61 -->\n<g id=\"edge61\" class=\"edge\">\n<title>57&#45;&gt;61</title>\n<path fill=\"none\" stroke=\"black\" d=\"M2710.13,-296.88C2715.33,-288.33 2720.99,-279.01 2726.43,-270.07\"/>\n<polygon fill=\"black\" stroke=\"black\" points=\"2729.56,-271.66 2731.76,-261.3 2723.57,-268.03 2729.56,-271.66\"/>\n</g>\n<!-- 59 -->\n<g id=\"node60\" class=\"node\">\n<title>59</title>\n<polygon fill=\"#399de5\" stroke=\"black\" points=\"2566.5,-149.5 2471.5,-149.5 2471.5,-96.5 2566.5,-96.5 2566.5,-149.5\"/>\n<text text-anchor=\"middle\" x=\"2519\" y=\"-134.3\" font-family=\"Helvetica,sans-Serif\" font-size=\"14.00\">gini = 0.0</text>\n<text text-anchor=\"middle\" x=\"2519\" y=\"-119.3\" font-family=\"Helvetica,sans-Serif\" font-size=\"14.00\">samples = 1</text>\n<text text-anchor=\"middle\" x=\"2519\" y=\"-104.3\" font-family=\"Helvetica,sans-Serif\" font-size=\"14.00\">value = [0, 1]</text>\n</g>\n<!-- 58&#45;&gt;59 -->\n<g id=\"edge59\" class=\"edge\">\n<title>58&#45;&gt;59</title>\n<path fill=\"none\" stroke=\"black\" d=\"M2592.61,-192.88C2580.15,-181.23 2566.17,-168.14 2553.76,-156.53\"/>\n<polygon fill=\"black\" stroke=\"black\" points=\"2555.96,-153.8 2546.27,-149.52 2551.18,-158.91 2555.96,-153.8\"/>\n</g>\n<!-- 60 -->\n<g id=\"node61\" class=\"node\">\n<title>60</title>\n<polygon fill=\"#e58139\" stroke=\"black\" points=\"2679.5,-149.5 2584.5,-149.5 2584.5,-96.5 2679.5,-96.5 2679.5,-149.5\"/>\n<text text-anchor=\"middle\" x=\"2632\" y=\"-134.3\" font-family=\"Helvetica,sans-Serif\" font-size=\"14.00\">gini = 0.0</text>\n<text text-anchor=\"middle\" x=\"2632\" y=\"-119.3\" font-family=\"Helvetica,sans-Serif\" font-size=\"14.00\">samples = 6</text>\n<text text-anchor=\"middle\" x=\"2632\" y=\"-104.3\" font-family=\"Helvetica,sans-Serif\" font-size=\"14.00\">value = [6, 0]</text>\n</g>\n<!-- 58&#45;&gt;60 -->\n<g id=\"edge60\" class=\"edge\">\n<title>58&#45;&gt;60</title>\n<path fill=\"none\" stroke=\"black\" d=\"M2629.3,-192.88C2629.72,-182.22 2630.18,-170.35 2630.61,-159.52\"/>\n<polygon fill=\"black\" stroke=\"black\" points=\"2634.1,-159.65 2631,-149.52 2627.11,-159.38 2634.1,-159.65\"/>\n</g>\n<!-- 62 -->\n<g id=\"node63\" class=\"node\">\n<title>62</title>\n<polygon fill=\"#f2c09c\" stroke=\"black\" points=\"2798.5,-157 2697.5,-157 2697.5,-89 2798.5,-89 2798.5,-157\"/>\n<text text-anchor=\"middle\" x=\"2748\" y=\"-141.8\" font-family=\"Helvetica,sans-Serif\" font-size=\"14.00\">x[2] &lt;= &#45;0.123</text>\n<text text-anchor=\"middle\" x=\"2748\" y=\"-126.8\" font-family=\"Helvetica,sans-Serif\" font-size=\"14.00\">gini = 0.444</text>\n<text text-anchor=\"middle\" x=\"2748\" y=\"-111.8\" font-family=\"Helvetica,sans-Serif\" font-size=\"14.00\">samples = 3</text>\n<text text-anchor=\"middle\" x=\"2748\" y=\"-96.8\" font-family=\"Helvetica,sans-Serif\" font-size=\"14.00\">value = [2, 1]</text>\n</g>\n<!-- 61&#45;&gt;62 -->\n<g id=\"edge62\" class=\"edge\">\n<title>61&#45;&gt;62</title>\n<path fill=\"none\" stroke=\"black\" d=\"M2750.7,-192.88C2750.38,-184.78 2750.04,-175.98 2749.7,-167.47\"/>\n<polygon fill=\"black\" stroke=\"black\" points=\"2753.2,-167.15 2749.31,-157.3 2746.2,-167.43 2753.2,-167.15\"/>\n</g>\n<!-- 65 -->\n<g id=\"node66\" class=\"node\">\n<title>65</title>\n<polygon fill=\"#3ea0e6\" stroke=\"black\" points=\"2925,-157 2817,-157 2817,-89 2925,-89 2925,-157\"/>\n<text text-anchor=\"middle\" x=\"2871\" y=\"-141.8\" font-family=\"Helvetica,sans-Serif\" font-size=\"14.00\">x[14] &lt;= &#45;1.037</text>\n<text text-anchor=\"middle\" x=\"2871\" y=\"-126.8\" font-family=\"Helvetica,sans-Serif\" font-size=\"14.00\">gini = 0.05</text>\n<text text-anchor=\"middle\" x=\"2871\" y=\"-111.8\" font-family=\"Helvetica,sans-Serif\" font-size=\"14.00\">samples = 39</text>\n<text text-anchor=\"middle\" x=\"2871\" y=\"-96.8\" font-family=\"Helvetica,sans-Serif\" font-size=\"14.00\">value = [1, 38]</text>\n</g>\n<!-- 61&#45;&gt;65 -->\n<g id=\"edge65\" class=\"edge\">\n<title>61&#45;&gt;65</title>\n<path fill=\"none\" stroke=\"black\" d=\"M2790.64,-192.88C2801.44,-183.62 2813.3,-173.45 2824.51,-163.85\"/>\n<polygon fill=\"black\" stroke=\"black\" points=\"2826.84,-166.46 2832.15,-157.3 2822.28,-161.15 2826.84,-166.46\"/>\n</g>\n<!-- 63 -->\n<g id=\"node64\" class=\"node\">\n<title>63</title>\n<polygon fill=\"#399de5\" stroke=\"black\" points=\"2682.5,-53 2587.5,-53 2587.5,0 2682.5,0 2682.5,-53\"/>\n<text text-anchor=\"middle\" x=\"2635\" y=\"-37.8\" font-family=\"Helvetica,sans-Serif\" font-size=\"14.00\">gini = 0.0</text>\n<text text-anchor=\"middle\" x=\"2635\" y=\"-22.8\" font-family=\"Helvetica,sans-Serif\" font-size=\"14.00\">samples = 1</text>\n<text text-anchor=\"middle\" x=\"2635\" y=\"-7.8\" font-family=\"Helvetica,sans-Serif\" font-size=\"14.00\">value = [0, 1]</text>\n</g>\n<!-- 62&#45;&gt;63 -->\n<g id=\"edge63\" class=\"edge\">\n<title>62&#45;&gt;63</title>\n<path fill=\"none\" stroke=\"black\" d=\"M2708.48,-88.95C2697.21,-79.53 2684.95,-69.27 2673.73,-59.89\"/>\n<polygon fill=\"black\" stroke=\"black\" points=\"2675.69,-56.97 2665.78,-53.24 2671.2,-62.34 2675.69,-56.97\"/>\n</g>\n<!-- 64 -->\n<g id=\"node65\" class=\"node\">\n<title>64</title>\n<polygon fill=\"#e58139\" stroke=\"black\" points=\"2795.5,-53 2700.5,-53 2700.5,0 2795.5,0 2795.5,-53\"/>\n<text text-anchor=\"middle\" x=\"2748\" y=\"-37.8\" font-family=\"Helvetica,sans-Serif\" font-size=\"14.00\">gini = 0.0</text>\n<text text-anchor=\"middle\" x=\"2748\" y=\"-22.8\" font-family=\"Helvetica,sans-Serif\" font-size=\"14.00\">samples = 2</text>\n<text text-anchor=\"middle\" x=\"2748\" y=\"-7.8\" font-family=\"Helvetica,sans-Serif\" font-size=\"14.00\">value = [2, 0]</text>\n</g>\n<!-- 62&#45;&gt;64 -->\n<g id=\"edge64\" class=\"edge\">\n<title>62&#45;&gt;64</title>\n<path fill=\"none\" stroke=\"black\" d=\"M2748,-88.95C2748,-80.72 2748,-71.85 2748,-63.48\"/>\n<polygon fill=\"black\" stroke=\"black\" points=\"2751.5,-63.24 2748,-53.24 2744.5,-63.24 2751.5,-63.24\"/>\n</g>\n<!-- 66 -->\n<g id=\"node67\" class=\"node\">\n<title>66</title>\n<polygon fill=\"#61b1ea\" stroke=\"black\" points=\"2908.5,-53 2813.5,-53 2813.5,0 2908.5,0 2908.5,-53\"/>\n<text text-anchor=\"middle\" x=\"2861\" y=\"-37.8\" font-family=\"Helvetica,sans-Serif\" font-size=\"14.00\">gini = 0.278</text>\n<text text-anchor=\"middle\" x=\"2861\" y=\"-22.8\" font-family=\"Helvetica,sans-Serif\" font-size=\"14.00\">samples = 6</text>\n<text text-anchor=\"middle\" x=\"2861\" y=\"-7.8\" font-family=\"Helvetica,sans-Serif\" font-size=\"14.00\">value = [1, 5]</text>\n</g>\n<!-- 65&#45;&gt;66 -->\n<g id=\"edge66\" class=\"edge\">\n<title>65&#45;&gt;66</title>\n<path fill=\"none\" stroke=\"black\" d=\"M2867.5,-88.95C2866.62,-80.62 2865.67,-71.65 2864.78,-63.2\"/>\n<polygon fill=\"black\" stroke=\"black\" points=\"2868.26,-62.81 2863.72,-53.24 2861.3,-63.55 2868.26,-62.81\"/>\n</g>\n<!-- 67 -->\n<g id=\"node68\" class=\"node\">\n<title>67</title>\n<polygon fill=\"#399de5\" stroke=\"black\" points=\"3029,-53 2927,-53 2927,0 3029,0 3029,-53\"/>\n<text text-anchor=\"middle\" x=\"2978\" y=\"-37.8\" font-family=\"Helvetica,sans-Serif\" font-size=\"14.00\">gini = 0.0</text>\n<text text-anchor=\"middle\" x=\"2978\" y=\"-22.8\" font-family=\"Helvetica,sans-Serif\" font-size=\"14.00\">samples = 33</text>\n<text text-anchor=\"middle\" x=\"2978\" y=\"-7.8\" font-family=\"Helvetica,sans-Serif\" font-size=\"14.00\">value = [0, 33]</text>\n</g>\n<!-- 65&#45;&gt;67 -->\n<g id=\"edge67\" class=\"edge\">\n<title>65&#45;&gt;67</title>\n<path fill=\"none\" stroke=\"black\" d=\"M2908.42,-88.95C2919.09,-79.53 2930.7,-69.27 2941.32,-59.89\"/>\n<polygon fill=\"black\" stroke=\"black\" points=\"2943.68,-62.48 2948.86,-53.24 2939.05,-57.23 2943.68,-62.48\"/>\n</g>\n<!-- 69 -->\n<g id=\"node70\" class=\"node\">\n<title>69</title>\n<polygon fill=\"#42a1e6\" stroke=\"black\" points=\"3146,-261 3044,-261 3044,-193 3146,-193 3146,-261\"/>\n<text text-anchor=\"middle\" x=\"3095\" y=\"-245.8\" font-family=\"Helvetica,sans-Serif\" font-size=\"14.00\">x[0] &lt;= &#45;0.722</text>\n<text text-anchor=\"middle\" x=\"3095\" y=\"-230.8\" font-family=\"Helvetica,sans-Serif\" font-size=\"14.00\">gini = 0.081</text>\n<text text-anchor=\"middle\" x=\"3095\" y=\"-215.8\" font-family=\"Helvetica,sans-Serif\" font-size=\"14.00\">samples = 71</text>\n<text text-anchor=\"middle\" x=\"3095\" y=\"-200.8\" font-family=\"Helvetica,sans-Serif\" font-size=\"14.00\">value = [3, 68]</text>\n</g>\n<!-- 68&#45;&gt;69 -->\n<g id=\"edge69\" class=\"edge\">\n<title>68&#45;&gt;69</title>\n<path fill=\"none\" stroke=\"black\" d=\"M3095,-296.88C3095,-288.78 3095,-279.98 3095,-271.47\"/>\n<polygon fill=\"black\" stroke=\"black\" points=\"3098.5,-271.3 3095,-261.3 3091.5,-271.3 3098.5,-271.3\"/>\n</g>\n<!-- 74 -->\n<g id=\"node75\" class=\"node\">\n<title>74</title>\n<polygon fill=\"#399de5\" stroke=\"black\" points=\"3274,-253.5 3164,-253.5 3164,-200.5 3274,-200.5 3274,-253.5\"/>\n<text text-anchor=\"middle\" x=\"3219\" y=\"-238.3\" font-family=\"Helvetica,sans-Serif\" font-size=\"14.00\">gini = 0.0</text>\n<text text-anchor=\"middle\" x=\"3219\" y=\"-223.3\" font-family=\"Helvetica,sans-Serif\" font-size=\"14.00\">samples = 435</text>\n<text text-anchor=\"middle\" x=\"3219\" y=\"-208.3\" font-family=\"Helvetica,sans-Serif\" font-size=\"14.00\">value = [0, 435]</text>\n</g>\n<!-- 68&#45;&gt;74 -->\n<g id=\"edge74\" class=\"edge\">\n<title>68&#45;&gt;74</title>\n<path fill=\"none\" stroke=\"black\" d=\"M3135.26,-296.88C3149.7,-285.01 3165.94,-271.65 3180.25,-259.88\"/>\n<polygon fill=\"black\" stroke=\"black\" points=\"3182.48,-262.58 3187.98,-253.52 3178.03,-257.17 3182.48,-262.58\"/>\n</g>\n<!-- 70 -->\n<g id=\"node71\" class=\"node\">\n<title>70</title>\n<polygon fill=\"#7bbeee\" stroke=\"black\" points=\"3149,-157 3041,-157 3041,-89 3149,-89 3149,-157\"/>\n<text text-anchor=\"middle\" x=\"3095\" y=\"-141.8\" font-family=\"Helvetica,sans-Serif\" font-size=\"14.00\">x[12] &lt;= &#45;0.511</text>\n<text text-anchor=\"middle\" x=\"3095\" y=\"-126.8\" font-family=\"Helvetica,sans-Serif\" font-size=\"14.00\">gini = 0.375</text>\n<text text-anchor=\"middle\" x=\"3095\" y=\"-111.8\" font-family=\"Helvetica,sans-Serif\" font-size=\"14.00\">samples = 12</text>\n<text text-anchor=\"middle\" x=\"3095\" y=\"-96.8\" font-family=\"Helvetica,sans-Serif\" font-size=\"14.00\">value = [3, 9]</text>\n</g>\n<!-- 69&#45;&gt;70 -->\n<g id=\"edge70\" class=\"edge\">\n<title>69&#45;&gt;70</title>\n<path fill=\"none\" stroke=\"black\" d=\"M3095,-192.88C3095,-184.78 3095,-175.98 3095,-167.47\"/>\n<polygon fill=\"black\" stroke=\"black\" points=\"3098.5,-167.3 3095,-157.3 3091.5,-167.3 3098.5,-167.3\"/>\n</g>\n<!-- 73 -->\n<g id=\"node74\" class=\"node\">\n<title>73</title>\n<polygon fill=\"#399de5\" stroke=\"black\" points=\"3269,-149.5 3167,-149.5 3167,-96.5 3269,-96.5 3269,-149.5\"/>\n<text text-anchor=\"middle\" x=\"3218\" y=\"-134.3\" font-family=\"Helvetica,sans-Serif\" font-size=\"14.00\">gini = 0.0</text>\n<text text-anchor=\"middle\" x=\"3218\" y=\"-119.3\" font-family=\"Helvetica,sans-Serif\" font-size=\"14.00\">samples = 59</text>\n<text text-anchor=\"middle\" x=\"3218\" y=\"-104.3\" font-family=\"Helvetica,sans-Serif\" font-size=\"14.00\">value = [0, 59]</text>\n</g>\n<!-- 69&#45;&gt;73 -->\n<g id=\"edge73\" class=\"edge\">\n<title>69&#45;&gt;73</title>\n<path fill=\"none\" stroke=\"black\" d=\"M3134.93,-192.88C3149.13,-181.12 3165.07,-167.89 3179.17,-156.2\"/>\n<polygon fill=\"black\" stroke=\"black\" points=\"3181.76,-158.6 3187.23,-149.52 3177.29,-153.21 3181.76,-158.6\"/>\n</g>\n<!-- 71 -->\n<g id=\"node72\" class=\"node\">\n<title>71</title>\n<polygon fill=\"#e58139\" stroke=\"black\" points=\"3142.5,-53 3047.5,-53 3047.5,0 3142.5,0 3142.5,-53\"/>\n<text text-anchor=\"middle\" x=\"3095\" y=\"-37.8\" font-family=\"Helvetica,sans-Serif\" font-size=\"14.00\">gini = 0.0</text>\n<text text-anchor=\"middle\" x=\"3095\" y=\"-22.8\" font-family=\"Helvetica,sans-Serif\" font-size=\"14.00\">samples = 3</text>\n<text text-anchor=\"middle\" x=\"3095\" y=\"-7.8\" font-family=\"Helvetica,sans-Serif\" font-size=\"14.00\">value = [3, 0]</text>\n</g>\n<!-- 70&#45;&gt;71 -->\n<g id=\"edge71\" class=\"edge\">\n<title>70&#45;&gt;71</title>\n<path fill=\"none\" stroke=\"black\" d=\"M3095,-88.95C3095,-80.72 3095,-71.85 3095,-63.48\"/>\n<polygon fill=\"black\" stroke=\"black\" points=\"3098.5,-63.24 3095,-53.24 3091.5,-63.24 3098.5,-63.24\"/>\n</g>\n<!-- 72 -->\n<g id=\"node73\" class=\"node\">\n<title>72</title>\n<polygon fill=\"#399de5\" stroke=\"black\" points=\"3255.5,-53 3160.5,-53 3160.5,0 3255.5,0 3255.5,-53\"/>\n<text text-anchor=\"middle\" x=\"3208\" y=\"-37.8\" font-family=\"Helvetica,sans-Serif\" font-size=\"14.00\">gini = 0.0</text>\n<text text-anchor=\"middle\" x=\"3208\" y=\"-22.8\" font-family=\"Helvetica,sans-Serif\" font-size=\"14.00\">samples = 9</text>\n<text text-anchor=\"middle\" x=\"3208\" y=\"-7.8\" font-family=\"Helvetica,sans-Serif\" font-size=\"14.00\">value = [0, 9]</text>\n</g>\n<!-- 70&#45;&gt;72 -->\n<g id=\"edge72\" class=\"edge\">\n<title>70&#45;&gt;72</title>\n<path fill=\"none\" stroke=\"black\" d=\"M3134.52,-88.95C3145.79,-79.53 3158.05,-69.27 3169.27,-59.89\"/>\n<polygon fill=\"black\" stroke=\"black\" points=\"3171.8,-62.34 3177.22,-53.24 3167.31,-56.97 3171.8,-62.34\"/>\n</g>\n</g>\n</svg>\n",
            "text/plain": [
              "<graphviz.sources.Source at 0x7eb6b912a6b0>"
            ]
          },
          "metadata": {},
          "execution_count": 90
        }
      ]
    },
    {
      "cell_type": "code",
      "source": [
        "y_predict = model1_Tree.predict(X_test)\n",
        "y_predict"
      ],
      "metadata": {
        "colab": {
          "base_uri": "https://localhost:8080/"
        },
        "id": "r6PTLQnpiKK4",
        "outputId": "d9685ea1-da9c-4571-e2f8-29ac88c93c4e"
      },
      "execution_count": null,
      "outputs": [
        {
          "output_type": "execute_result",
          "data": {
            "text/plain": [
              "array([1, 0, 1, 0, 1, 0, 0, 1, 1, 0, 0, 1, 0, 1, 1, 0, 1, 1, 1, 0, 0, 0,\n",
              "       1, 0, 1, 1, 1, 0, 1, 0, 0, 0, 0, 0, 1, 1, 0, 0, 1, 1, 1, 0, 1, 1,\n",
              "       0, 1, 0, 0, 1, 0, 0, 1, 0, 1, 0, 1, 1, 0, 0, 1, 1, 0, 1, 1, 0, 1,\n",
              "       1, 1, 0, 1, 1, 1, 0, 0, 0, 1, 1, 0, 1, 1, 1, 1, 1, 0, 0, 0, 1, 0,\n",
              "       1, 1, 0, 1, 1, 0, 0, 1, 1, 1, 0, 1, 0, 0, 1, 0, 1, 1, 1, 1, 1, 1,\n",
              "       1, 0, 0, 0, 1, 1, 0, 0, 0, 0, 0, 1, 1, 1, 0, 1, 0, 0, 0, 1, 0, 1,\n",
              "       1, 1, 1, 1, 1, 1, 0, 0, 0, 1, 1, 1, 0, 1, 0, 0, 1, 0, 0, 0, 1, 0,\n",
              "       1, 0, 0, 1, 0, 1, 1, 0, 1, 0, 1, 1, 1, 1, 0, 0, 1, 1, 1, 1, 1, 0,\n",
              "       0, 0, 1, 0, 1, 0, 0, 0, 1, 0, 0, 0, 1, 1, 0, 0, 0, 1, 1, 0, 0, 1,\n",
              "       0, 0, 1, 1, 1, 1, 1, 1, 1, 1, 0, 0, 0, 0, 1, 1, 0, 0, 0, 1, 0, 1,\n",
              "       1, 1, 0, 0, 1, 1, 1, 1, 0, 1, 0, 0, 0, 1, 1, 0, 1, 1, 0, 0, 0, 1,\n",
              "       1, 1, 0, 0, 0, 1, 1, 0, 1, 0, 1, 0, 0, 0, 1, 1, 1, 1, 0, 0, 0, 1,\n",
              "       1, 1, 1, 1, 1, 0, 0, 1, 1, 1, 0, 1, 1, 1, 1, 0, 0, 1, 0, 0, 0, 0,\n",
              "       1, 1, 1, 1, 0, 0, 1, 0, 0, 1, 1, 0, 1, 0, 0, 0, 1, 0, 0, 1, 1, 0,\n",
              "       0, 0, 0, 0, 1, 0, 1, 1, 1, 1, 0, 1, 1, 0, 0, 0, 0, 0, 0, 1, 0, 0,\n",
              "       1, 0, 0, 0, 1, 0, 1, 0, 1, 0, 0, 1, 0, 1, 0, 0, 1, 0, 0, 0, 1, 0,\n",
              "       0, 1, 0, 1, 1, 1, 1, 0, 1, 1, 0, 0, 1, 1, 1, 1, 1, 0, 1, 0, 1, 0,\n",
              "       0, 0, 1, 1, 0, 1, 0, 1, 0, 0, 1, 1, 0, 0, 0, 1, 0, 1, 0, 0, 1, 0,\n",
              "       0, 0, 1, 0, 0, 0, 1, 0, 1, 1, 0, 1, 0, 1, 0, 0, 1, 1, 0, 1, 1, 1,\n",
              "       0, 0, 1, 0, 0, 0, 0, 1, 1, 1, 1, 0, 1, 0, 0, 0, 1, 0, 0, 1, 1, 1,\n",
              "       1, 1, 0, 0, 0, 1, 0, 1, 0, 1, 1, 0, 1, 1, 0, 1, 1, 0, 0, 1, 1, 0,\n",
              "       1, 1, 1, 0, 1, 0, 1, 1, 1, 0, 0, 1, 0, 1, 0, 0, 0, 1, 0, 1, 0, 0,\n",
              "       0, 1, 0, 0, 1, 0, 1, 1, 0, 1, 0, 1, 0, 0, 1, 1, 1, 1, 1, 1, 1, 1,\n",
              "       0, 0, 1, 0, 1, 0, 0, 0, 0, 1, 1, 0, 1, 0, 1, 0, 0, 0, 1, 0, 0, 1,\n",
              "       0, 1, 0, 0, 1, 0, 1, 0, 0, 0, 1, 1, 0, 0, 0, 0, 1, 1, 0, 1, 1, 1,\n",
              "       0, 0, 0, 1, 1, 0, 1, 0, 1, 1, 1, 1, 0, 1, 0, 1, 0, 0, 0, 0, 1, 0,\n",
              "       1, 0, 0, 1, 1, 0, 1, 0, 1, 0, 0, 0, 1, 0, 1, 0, 1, 1, 0, 0, 1, 1,\n",
              "       0, 0, 1, 0, 1, 0])"
            ]
          },
          "metadata": {},
          "execution_count": 91
        }
      ]
    },
    {
      "cell_type": "markdown",
      "source": [
        "# PUNTO B"
      ],
      "metadata": {
        "id": "TN8YPS2yXA0F"
      }
    },
    {
      "cell_type": "code",
      "source": [
        "# calculamos la matriz de confusión\n",
        "cm = confusion_matrix(y_test, y_predict)\n",
        "p = sns.heatmap(pd.DataFrame(cm),                   # data.frame\n",
        "                annot=True,                         # colocar números de las cajitas\n",
        "                annot_kws = {'size':20},            # tamaño de la letra\n",
        "                cmap=\"YlOrBr\",                      # color de la letra\n",
        "                fmt='g')                            # para que salgan los número no : notación científica\n",
        "plt.title('Matriz de Confusión', y=1.1)\n",
        "plt.ylabel('Valores Reales')\n",
        "plt.xlabel('Predicciones')\n",
        "print(classification_report(y_test,y_predict))"
      ],
      "metadata": {
        "colab": {
          "base_uri": "https://localhost:8080/",
          "height": 665
        },
        "id": "DaLn5IFsipD1",
        "outputId": "bca2c013-700f-4674-e9ef-7677ace38472"
      },
      "execution_count": null,
      "outputs": [
        {
          "output_type": "stream",
          "name": "stdout",
          "text": [
            "              precision    recall  f1-score   support\n",
            "\n",
            "           0       0.93      0.97      0.95       286\n",
            "           1       0.97      0.93      0.95       314\n",
            "\n",
            "    accuracy                           0.95       600\n",
            "   macro avg       0.95      0.95      0.95       600\n",
            "weighted avg       0.95      0.95      0.95       600\n",
            "\n"
          ]
        },
        {
          "output_type": "display_data",
          "data": {
            "text/plain": [
              "<Figure size 640x480 with 2 Axes>"
            ],
            "image/png": "[encoded data removed]"
          },
          "metadata": {}
        }
      ]
    },
    {
      "cell_type": "markdown",
      "source": [
        "Tenemos un resultado de 95% en accuracy con un valor de 97% en Recall, lo cual nos indica que el modelo genera clasificaciones acertadas."
      ],
      "metadata": {
        "id": "9ADxIO3FXJlj"
      }
    },
    {
      "cell_type": "markdown",
      "source": [
        "PUNTO C"
      ],
      "metadata": {
        "id": "hj6H1L35Xbj0"
      }
    },
    {
      "cell_type": "code",
      "source": [
        "# Validacion cruzada para obtener la profundidad óptima\n",
        "parameters = {\"max_depth\" : range(4,20),                  # probar desde 3 hasta 20\n",
        "              \"min_samples_split\":[5,10,20,100]}\n",
        "\n",
        "arbol_g= GridSearchCV(DecisionTreeClassifier(random_state=123),\n",
        "                      param_grid = parameters,\n",
        "                      scoring=\"precision\",  ## Metrica BAcc\n",
        "                      n_jobs=-1)\n",
        "arbol_g.fit(X=X_train,\n",
        "            y=y_train)\n",
        "\n",
        "# el mejor modelo\n",
        "print (arbol_g.best_score_, arbol_g.best_params_)"
      ],
      "metadata": {
        "colab": {
          "base_uri": "https://localhost:8080/"
        },
        "id": "izXBZe9F8KbM",
        "outputId": "20db46fa-0f4e-4795-c2fe-91bacaa468a6"
      },
      "execution_count": null,
      "outputs": [
        {
          "output_type": "stream",
          "name": "stdout",
          "text": [
            "0.9452150777386548 {'max_depth': 6, 'min_samples_split': 10}\n"
          ]
        }
      ]
    },
    {
      "cell_type": "markdown",
      "source": [
        "Mediante la variacion de hiperparametros encontramos que la profundidad maxima optima es de 6, acompañada de una division de muestras de 10. Esta configuracion nos permite llegar a un accuracy de 94,52%."
      ],
      "metadata": {
        "id": "ex-Ok7N5XfOF"
      }
    },
    {
      "cell_type": "code",
      "source": [
        "clf = DecisionTreeClassifier(random_state = 123)\n",
        "\n",
        "# utilizamos la función clf.cost_complexity_pruning_path\n",
        "path  = clf.cost_complexity_pruning_path(X_train,\n",
        "                                         y_train)\n",
        "ccp_alphas = path.ccp_alphas\n",
        "impurities = path.impurities\n",
        "\n",
        "# imprimimos los alphas\n",
        "print(ccp_alphas)"
      ],
      "metadata": {
        "colab": {
          "base_uri": "https://localhost:8080/"
        },
        "id": "AfOPL7s19V2J",
        "outputId": "99a47d98-d974-4477-9a90-a75a1a138690"
      },
      "execution_count": null,
      "outputs": [
        {
          "output_type": "stream",
          "name": "stdout",
          "text": [
            "[0.         0.0006746  0.00069597 0.00069767 0.00072488 0.00095238\n",
            " 0.00107143 0.00114286 0.00122449 0.00130952 0.00134921 0.00134921\n",
            " 0.00141107 0.0014201  0.00142167 0.00160714 0.00163527 0.00170635\n",
            " 0.00190476 0.00199267 0.00214286 0.00258503 0.00309747 0.00365391\n",
            " 0.00388889 0.00391304 0.00704082 0.00769243 0.01091594 0.01797211\n",
            " 0.34958021]\n"
          ]
        }
      ]
    },
    {
      "cell_type": "code",
      "source": [
        "# generamos los modelos con estos alphas\n",
        "clfs = []\n",
        "accuracyTrain=[]\n",
        "accuracyTest=[]\n",
        "\n",
        "for ccp_alpha in ccp_alphas:\n",
        "    # generar el modelo\n",
        "    clf = DecisionTreeClassifier(random_state=123,ccp_alpha=ccp_alpha)\n",
        "    # entrenar el modelo\n",
        "    clf.fit(X_train,y_train)\n",
        "    # predict de train y test\n",
        "    predTrain = clf.predict(X_train)\n",
        "    predTest  = clf.predict(X_test)\n",
        "    # rendimiento de los modelos\n",
        "    accuracyTrain.append(accuracy_score(y_train,predTrain))\n",
        "    accuracyTest.append(accuracy_score(y_test,predTest))\n",
        "    # guarda los modelos\n",
        "    clfs.append(clf)\n",
        "print(\" El número de nodos en el último árbol es : {} con ccp_alpha: {}\".format(\n",
        "        clfs[-1].tree_.node_count, ccp_alphas[-1]))\n",
        "\n"
      ],
      "metadata": {
        "colab": {
          "base_uri": "https://localhost:8080/"
        },
        "id": "HkJFqEco_oke",
        "outputId": "db3bacb8-c6e9-47df-e647-1ea90ac29a9a"
      },
      "execution_count": null,
      "outputs": [
        {
          "output_type": "stream",
          "name": "stdout",
          "text": [
            " El número de nodos en el último árbol es : 1 con ccp_alpha: 0.3495802141503151\n"
          ]
        }
      ]
    },
    {
      "cell_type": "code",
      "source": [
        "print(ccp_alphas)\n",
        "print(accuracyTrain)\n",
        "print(accuracyTest)"
      ],
      "metadata": {
        "colab": {
          "base_uri": "https://localhost:8080/"
        },
        "id": "v8UtxpaI_6TI",
        "outputId": "1a4b499e-6d4c-40b8-f677-fe0c074678c0"
      },
      "execution_count": null,
      "outputs": [
        {
          "output_type": "stream",
          "name": "stdout",
          "text": [
            "[0.         0.0006746  0.00069597 0.00069767 0.00072488 0.00095238\n",
            " 0.00107143 0.00114286 0.00122449 0.00130952 0.00134921 0.00134921\n",
            " 0.00141107 0.0014201  0.00142167 0.00160714 0.00163527 0.00170635\n",
            " 0.00190476 0.00199267 0.00214286 0.00258503 0.00309747 0.00365391\n",
            " 0.00388889 0.00391304 0.00704082 0.00769243 0.01091594 0.01797211\n",
            " 0.34958021]\n",
            "[1.0, 0.9992857142857143, 0.9985714285714286, 0.9978571428571429, 0.9971428571428571, 0.9964285714285714, 0.9957142857142857, 0.995, 0.9942857142857143, 0.9935714285714285, 0.9914285714285714, 0.9907142857142858, 0.9892857142857143, 0.9871428571428571, 0.9857142857142858, 0.9835714285714285, 0.9828571428571429, 0.9807142857142858, 0.9792857142857143, 0.9771428571428571, 0.9757142857142858, 0.9742857142857143, 0.9714285714285714, 0.9678571428571429, 0.9635714285714285, 0.9585714285714285, 0.9578571428571429, 0.9507142857142857, 0.9328571428571428, 0.9178571428571428, 0.51]\n",
            "[0.9466666666666667, 0.9483333333333334, 0.95, 0.95, 0.95, 0.95, 0.9483333333333334, 0.9483333333333334, 0.9483333333333334, 0.9483333333333334, 0.955, 0.955, 0.955, 0.9533333333333334, 0.9516666666666667, 0.9516666666666667, 0.9516666666666667, 0.9483333333333334, 0.95, 0.95, 0.9416666666666667, 0.9416666666666667, 0.9483333333333334, 0.945, 0.9433333333333334, 0.9433333333333334, 0.94, 0.9383333333333334, 0.9316666666666666, 0.91, 0.4766666666666667]\n"
          ]
        }
      ]
    },
    {
      "cell_type": "code",
      "source": [
        "# gráfica del accuracy en entramiento y prueba versus alpha\n",
        "plt.scatter(ccp_alphas,accuracyTrain)\n",
        "plt.scatter(ccp_alphas,accuracyTest)\n",
        "plt.plot(ccp_alphas,accuracyTrain,label='train_accuracy',drawstyle=\"steps-post\")\n",
        "plt.plot(ccp_alphas,accuracyTest,label='test_accuracy',drawstyle=\"steps-post\")\n",
        "plt.legend()\n",
        "plt.title('Accuracy vs alpha')\n",
        "plt.show()"
      ],
      "metadata": {
        "colab": {
          "base_uri": "https://localhost:8080/",
          "height": 452
        },
        "id": "9s1m4GWO_9w7",
        "outputId": "381cca63-044d-4be1-acdf-e170e735e529"
      },
      "execution_count": null,
      "outputs": [
        {
          "output_type": "display_data",
          "data": {
            "text/plain": [
              "<Figure size 640x480 with 1 Axes>"
            ],
            "image/png": "[encoded data removed]"
          },
          "metadata": {}
        }
      ]
    },
    {
      "cell_type": "code",
      "source": [
        "clfs = clfs[:-1]\n",
        "ccp_alphas = ccp_alphas[:-1]\n",
        "node_counts = [clf.tree_.node_count for clf in clfs]\n",
        "depth = [clf.tree_.max_depth for clf in clfs]\n",
        "plt.scatter(ccp_alphas,node_counts)\n",
        "plt.scatter(ccp_alphas,depth)\n",
        "plt.plot(ccp_alphas,node_counts,label='no of nodes',drawstyle=\"steps-post\")\n",
        "plt.plot(ccp_alphas,depth,label='depth',drawstyle=\"steps-post\")\n",
        "plt.legend()\n",
        "plt.show()"
      ],
      "metadata": {
        "colab": {
          "base_uri": "https://localhost:8080/",
          "height": 430
        },
        "id": "pynOWjBFARB7",
        "outputId": "35a735ff-90bd-4f3f-9b41-19a1a0ea4976"
      },
      "execution_count": null,
      "outputs": [
        {
          "output_type": "display_data",
          "data": {
            "text/plain": [
              "<Figure size 640x480 with 1 Axes>"
            ],
            "image/png": "[encoded data removed]"
          },
          "metadata": {}
        }
      ]
    },
    {
      "cell_type": "code",
      "source": [
        "# Post pruning (cost complexity pruning) por validación cruzada\n",
        "\n",
        "# Valores de ccp_alpha evaluados\n",
        "param_grid = {\"ccp_alpha\":np.linspace(0, 3, 10)}\n",
        "\n",
        "Tree = DecisionTreeClassifier(max_depth         = None,     # continua hasta tener todos los nodos puros\n",
        "                              min_samples_split = 2,        # número mínimo de muestras para hacer un split (defecto=2)\n",
        "                              random_state      = 123)\n",
        "\n",
        "# Búsqueda por validación cruzada\n",
        "grid = GridSearchCV(estimator = Tree,                       # modelo de árboles\n",
        "                    param_grid = param_grid,                # parámetro ccp\n",
        "                    scoring    = 'accuracy',                # métrica\n",
        "                    cv         = 10,                        # número de folds\n",
        "                    return_train_score = True               # para que muestre resultados sonre el conjunto de entrenamiento\n",
        "                    )\n",
        "\n",
        "grid.fit(X_train, y_train)\n",
        "\n",
        "fig, ax = plt.subplots(figsize=(6, 3.84))\n",
        "scores = pd.DataFrame(grid.cv_results_)\n",
        "scores.plot(x='param_ccp_alpha', y='mean_train_score', yerr='std_train_score', ax=ax)\n",
        "scores.plot(x='param_ccp_alpha', y='mean_test_score', yerr='std_test_score', ax=ax)\n",
        "ax.set_title(\"Error de validacion cruzada vs hiperparámetro ccp_alpha\");"
      ],
      "metadata": {
        "colab": {
          "base_uri": "https://localhost:8080/",
          "height": 398
        },
        "id": "vA8L6Vh2AS5X",
        "outputId": "0377a1b5-4140-41d3-a909-b7c371d0b55e"
      },
      "execution_count": null,
      "outputs": [
        {
          "output_type": "display_data",
          "data": {
            "text/plain": [
              "<Figure size 600x384 with 1 Axes>"
            ],
            "image/png": "[encoded data removed]"
          },
          "metadata": {}
        }
      ]
    },
    {
      "cell_type": "code",
      "source": [
        " #Estructura del árbol final\n",
        "modelo_final = grid.best_estimator_\n",
        "print(f\"Profundidad del árbol: {modelo_final.get_depth()}\")\n",
        "print(f\"Número de nodos terminales: {modelo_final.get_n_leaves()}\")"
      ],
      "metadata": {
        "colab": {
          "base_uri": "https://localhost:8080/"
        },
        "id": "uWxW7I5mBLO6",
        "outputId": "c17303cf-5cf7-4a7d-ad85-f143fdd819dd"
      },
      "execution_count": null,
      "outputs": [
        {
          "output_type": "stream",
          "name": "stdout",
          "text": [
            "Profundidad del árbol: 8\n",
            "Número de nodos terminales: 49\n"
          ]
        }
      ]
    },
    {
      "cell_type": "code",
      "source": [
        "# Error de test del modelo final\n",
        "predicciones = modelo_final.predict(X_test)\n",
        "accuracy = accuracy_score(y_true    = y_test,\n",
        "                          y_pred    = predicciones,\n",
        "                          normalize = True\n",
        "                          )\n",
        "print(f\"El accuracy de test es: {100 * accuracy} %\")"
      ],
      "metadata": {
        "colab": {
          "base_uri": "https://localhost:8080/"
        },
        "id": "LebDy3zwBSPT",
        "outputId": "ef04965f-146f-4fc2-a6ac-6311a6a876dc"
      },
      "execution_count": null,
      "outputs": [
        {
          "output_type": "stream",
          "name": "stdout",
          "text": [
            "El accuracy de test es: 94.66666666666667 %\n"
          ]
        }
      ]
    },
    {
      "cell_type": "markdown",
      "metadata": {
        "id": "8Rx8CkZ7oZ_k"
      },
      "source": [
        "# <FONT COLOR=\"green\"> ** Conclusiones** </FONT>\n",
        "\n",
        "Reporte algunas conclusiones sobre el desarrollo del trabajo."
      ]
    },
    {
      "cell_type": "markdown",
      "source": [
        "Como principales conclusiones tenemos:\n",
        "\n",
        "\n",
        "\n",
        "*  El modelo de regresión logística demostró ser el más eficaz en la clasificación del conjunto de datos empleado en esta actividad, alcanzando una precisión del 99%, en contraste con los modelos de árboles de decisión y KNN, los cuales obtuvieron precisión del 94.5% y 92%, respectivamente.\n",
        "*  Mediante EDA pudimos encontrar algunas falencias en los datos y corregirlas para lograr mejores implementaciones en los modelos.\n",
        "*   Podemos notar que aunque utilizamos metodos como la ccp y el gridSearch, no logramos mejoras radicales en nuestros modelos. estas no superaban el 1.5%, por lo cual podemos deducir que la mejor opción es optar por el modelo con un mejor desempeño inicial.\n",
        "*   Herramientas como la curva ROC y el AUC nos permiten mostrar graficamente el desempeño de nuestro modelo y pueden ser de utilidad a la hora de decidirnos por un modelo en particular.\n",
        "\n",
        "\n",
        "\n",
        "\n"
      ],
      "metadata": {
        "id": "ADxyiI1xN8CR"
      }
    },
    {
      "cell_type": "markdown",
      "metadata": {
        "id": "0Xkgv3kDolqn"
      },
      "source": [
        "# <FONT COLOR=\"green\"> ** Bibliografía** </FONT>\n",
        "\n",
        "Reporte 2 referencias de consulta para realizar el trabajo\n",
        "\n",
        "[1] Kulkarni, V. Y., & Sinha, P. K. (2012). Pruning of Random Forest classifiers: A survey and future directions. In 2012 International Conference on Data Science & Engineering (ICDSE) (pp. 64-68). Cochin, India. doi: 10.1109/ICDSE.2012.6282329.\n",
        "\n",
        "[2] Bobadilla, J. (2021). Machine learning y deep learning: usando Python, Scikit y Keras. Ediciones de la U.\n",
        "\n"
      ]
    }
  ],
  "metadata": {
    "colab": {
      "provenance": []
    },
    "kernelspec": {
      "display_name": "Python 3",
      "name": "python3"
    },
    "language_info": {
      "name": "python"
    }
  },
  "nbformat": 4,
  "nbformat_minor": 0
}